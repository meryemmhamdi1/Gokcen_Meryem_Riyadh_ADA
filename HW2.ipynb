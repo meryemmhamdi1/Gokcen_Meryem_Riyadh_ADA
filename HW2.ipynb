{
 "cells": [
  {
   "cell_type": "code",
   "execution_count": 103,
   "metadata": {
    "collapsed": true
   },
   "outputs": [],
   "source": [
    "import scipy.stats as stats\n",
    "from bs4 import BeautifulSoup\n",
    "import requests\n",
    "import pandas as pd\n",
    "%matplotlib inline  \n",
    "import seaborn as sns\n",
    "import matplotlib.pyplot as plt"
   ]
  },
  {
   "cell_type": "code",
   "execution_count": 2,
   "metadata": {
    "collapsed": false
   },
   "outputs": [
    {
     "data": {
      "text/plain": [
       "200"
      ]
     },
     "execution_count": 2,
     "metadata": {},
     "output_type": "execute_result"
    }
   ],
   "source": [
    "resp = requests.get('http://isa.epfl.ch/imoniteur_ISAP/!GEDPUBLICREPORTS.filter?ww_i_reportModel=133685247')\n",
    "resp.status_code"
   ]
  },
  {
   "cell_type": "code",
   "execution_count": 3,
   "metadata": {
    "collapsed": false
   },
   "outputs": [
    {
     "name": "stdout",
     "output_type": "stream",
     "text": [
      "Year Options:\n",
      "[('355925344', 2016),\n",
      " ('213638028', 2015),\n",
      " ('213637922', 2014),\n",
      " ('213637754', 2013),\n",
      " ('123456101', 2012),\n",
      " ('123455150', 2011),\n",
      " ('39486325', 2010),\n",
      " ('978195', 2009),\n",
      " ('978187', 2008),\n",
      " ('978181', 2007)]\n",
      "Semester Options:\n",
      "[('249108', 'Bachelor semestre 1'),\n",
      " ('249114', 'Bachelor semestre 2'),\n",
      " ('942155', 'Bachelor semestre 3'),\n",
      " ('942163', 'Bachelor semestre 4'),\n",
      " ('942120', 'Bachelor semestre 5'),\n",
      " ('2226768', 'Bachelor semestre 5b'),\n",
      " ('942175', 'Bachelor semestre 6'),\n",
      " ('2226785', 'Bachelor semestre 6b'),\n",
      " ('2230106', 'Master semestre 1'),\n",
      " ('942192', 'Master semestre 2'),\n",
      " ('2230128', 'Master semestre 3'),\n",
      " ('2230140', 'Master semestre 4'),\n",
      " ('2335667', 'Mineur semestre 1'),\n",
      " ('2335676', 'Mineur semestre 2'),\n",
      " ('2063602308', 'Mise à niveau'),\n",
      " ('249127', 'Projet Master automne'),\n",
      " ('3781783', 'Projet Master printemps'),\n",
      " ('953159', 'Semestre automne'),\n",
      " ('2754553', 'Semestre printemps'),\n",
      " ('953137', 'Stage automne 3ème année'),\n",
      " ('2226616', 'Stage automne 4ème année'),\n",
      " ('983606', 'Stage printemps 3ème année'),\n",
      " ('2226626', 'Stage printemps 4ème année'),\n",
      " ('2227132', 'Stage printemps master')]\n"
     ]
    }
   ],
   "source": [
    "from bs4 import BeautifulSoup\n",
    "from pprint import pprint as pp\n",
    "intro_page_soup = BeautifulSoup(resp.text, 'html.parser')\n",
    "\n",
    "# We examined the html page that includes the form by doing some requests and inspecting the query\n",
    "# Parameters using Postman and google chrome's debugger, and we realized that we only need \n",
    "# ww_x_PERIODE_ACAD, ww_x_PERIODE_PEDAGO\n",
    "\n",
    "\n",
    "year_options_soups = intro_page_soup.find('select', {'name': 'ww_x_PERIODE_ACAD'}).find_all('option')\n",
    "year_options = [\n",
    "    (option['value'], int(option.text.split('-')[0])) for option in year_options_soups if option.text\n",
    "]\n",
    "\n",
    "semester_options_soups = intro_page_soup.find('select', {'name': 'ww_x_PERIODE_PEDAGO'}).find_all('option')\n",
    "semester_options = [\n",
    "    (option['value'], option.text) for option in semester_options_soups if option.text\n",
    "]\n",
    "\n",
    "print(\"Year Options:\")\n",
    "pp(year_options)\n",
    "\n",
    "print(\"Semester Options:\")\n",
    "pp(semester_options)"
   ]
  },
  {
   "cell_type": "code",
   "execution_count": 4,
   "metadata": {
    "collapsed": true
   },
   "outputs": [],
   "source": [
    "\n",
    "base_payload = {\n",
    "    'ww_x_GPS': -1,\n",
    "    'ww_i_reportModel': 133685247,\n",
    "    'ww_i_reportModelXsl': 133685270,\n",
    "    'ww_x_UNITE_ACAD': 249847, #ID of Informatique Department\n",
    "    'ww_x_PERIODE_ACAD': 213637754, # we will change this (Using YEARS options)\n",
    "    'ww_x_PERIODE_PEDAGO': 249108, #we will change this (Using SEMESTERS options)\n",
    "    'ww_x_HIVERETE': 'null' #? well this was there - better not touch - works fine like this..\n",
    "}"
   ]
  },
  {
   "cell_type": "code",
   "execution_count": 5,
   "metadata": {
    "collapsed": false
   },
   "outputs": [
    {
     "name": "stdout",
     "output_type": "stream",
     "text": [
      "Semester 1 2007 done\n",
      "Semester 1 2008 done\n",
      "Semester 1 2013 done\n",
      "Semester 1 2010 done\n",
      "Semester 1 2011 done\n",
      "Semester 1 2009 done\n",
      "Semester 1 2014 done\n",
      "Semester 1 2012 done\n",
      "Semester 1 2015 done\n",
      "Semester 1 2016 done\n",
      "Semester 5 2016 done\n",
      "Semester 5 2015 done\n",
      "Semester 5 2013 done\n",
      "Semester 5 2010 done\n",
      "Semester 5 2012 done\n",
      "Semester 5 2007 done\n",
      "Semester 5 2011 done\n",
      "Semester 5 2008 done\n",
      "Semester 6 2016 done\n",
      "Semester 5 2014 done\n",
      "Semester 5 2009 done\n",
      "Semester 6 2015 done\n",
      "Semester 6 2014 done\n",
      "Semester 6 2011 done\n",
      "Semester 6 2010 done\n",
      "Semester 6 2007 done\n",
      "Semester 6 2008 done\n",
      "Semester 6 2009 done\n",
      "Semester 6 2012 done\n",
      "Semester 6 2013 done\n",
      "Finished\n"
     ]
    },
    {
     "data": {
      "text/plain": [
       "Index(['Civilité', 'Nom Prénom', 'Statut', 'No Sciper', 'Spécialisation',\n",
       "       'Semester 6', 'Semester 5', 'Semester 1'],\n",
       "      dtype='object')"
      ]
     },
     "execution_count": 5,
     "metadata": {},
     "output_type": "execute_result"
    }
   ],
   "source": [
    "import pandas as pd\n",
    "import concurrent.futures\n",
    "import itertools\n",
    "\n",
    "\n",
    "bachelors_final_table = None\n",
    "\n",
    "def grab_table(semester_tuple, year_tuple):\n",
    "    year_value,year_int = year_tuple\n",
    "    semester_value, semester_col = semester_tuple\n",
    "    payload = dict(base_payload)\n",
    "    payload['ww_x_PERIODE_ACAD'] = year_value\n",
    "    payload['ww_x_PERIODE_PEDAGO'] = semester_value \n",
    "    resp = requests.get('http://isa.epfl.ch/imoniteur_ISAP/!GEDPUBLICREPORTS.html', params = payload)\n",
    "    try:\n",
    "        table = pd.read_html(resp.text, header=1)[0][['Civilité', 'Nom Prénom', 'Statut', 'No Sciper', 'Spécialisation']]\n",
    "    except:\n",
    "        return None\n",
    "    table[semester_col] = year_int\n",
    "    table['No Sciper'] = table['No Sciper'].astype(str)\n",
    "    table.set_index(['No Sciper'], inplace=True, drop=False)\n",
    "    print(semester_col, year_int,\"done\")\n",
    "    return table\n",
    "    \n",
    "semester_tuples = [('249108', 'Semester 1'), ('942120', 'Semester 5'),('942175', 'Semester 6')]\n",
    "year_tuples = year_options\n",
    "\n",
    "#frames = map(lambda x: grab_table(*x), itertools.product(semester_tuples, year_tuples))\n",
    "with concurrent.futures.ThreadPoolExecutor(max_workers=10) as executor:\n",
    "    frames = executor.map(lambda x: grab_table(*x), itertools.product(semester_tuples, year_tuples))\n",
    "    \n",
    "print(\"Finished\")\n",
    "frames = filter(lambda x : x is not None, frames)\n",
    "for frame in frames:\n",
    "    if bachelors_final_table is None:\n",
    "        bachelors_final_table = frame\n",
    "    else:\n",
    "        bachelors_final_table = pd.merge(frame, bachelors_final_table, how='outer')\n",
    "\n",
    "bachelors_final_table.columns"
   ]
  },
  {
   "cell_type": "code",
   "execution_count": 6,
   "metadata": {
    "collapsed": false
   },
   "outputs": [
    {
     "name": "stdout",
     "output_type": "stream",
     "text": [
      "                    No Sciper  duration    gender\n",
      "No Sciper                                        \n",
      "147008    No Sciper    147008      36.0  Monsieur\n",
      "169569    No Sciper    169569      36.0  Monsieur\n",
      "169731    No Sciper    169731      48.0  Monsieur\n",
      "169795    No Sciper    169795      54.0  Monsieur\n",
      "171195    No Sciper    171195      36.0  Monsieur\n",
      "         duration\n",
      "count  397.000000\n",
      "mean    42.725441\n",
      "std      9.372089\n",
      "min     36.000000\n",
      "25%     36.000000\n",
      "50%     36.000000\n",
      "75%     48.000000\n",
      "max     84.000000\n"
     ]
    }
   ],
   "source": [
    "def get_merged_(group):\n",
    "    #Drop the groups (enrollment record of a single person) which doesn't include Semester 6 and Semester 1\n",
    "    if len(group) > 1 and len(group.dropna(subset=['Semester 6'])) > 0 and len(group.dropna(subset=['Semester 1'])) > 0:\n",
    "        ending = max(group[['Semester 6']].max(axis=0))\n",
    "        starting = min(group[['Semester 1']].min(axis=0))\n",
    "        \n",
    "        semester_5_year = max(group[['Semester 5']].max(axis=0))\n",
    "        \n",
    "        extra = 6 if semester_5_year > ending else 0 \n",
    "            \n",
    "        #semester_5_year = max(group[['Semester 1','Semester 5','Semester 6']].max(axis=0))\n",
    "        \n",
    "        return pd.DataFrame({\n",
    "            \"No Sciper\": group.iloc[0]['No Sciper'],\n",
    "            \"duration\": (ending-starting+1)*12 + extra, #months\n",
    "            \"gender\": group.iloc[0]['Civilité']\n",
    "        }, index=['No Sciper'])\n",
    "    return pd.DataFrame([])\n",
    "\n",
    "grouped = bachelors_final_table.groupby('No Sciper')\n",
    "filtered = grouped.apply(get_merged_)\n",
    "\n",
    "print(filtered.head())\n",
    "print(filtered.describe())"
   ]
  },
  {
   "cell_type": "code",
   "execution_count": 7,
   "metadata": {
    "collapsed": false
   },
   "outputs": [
    {
     "data": {
      "text/html": [
       "<div>\n",
       "<table border=\"1\" class=\"dataframe\">\n",
       "  <thead>\n",
       "    <tr style=\"text-align: right;\">\n",
       "      <th></th>\n",
       "      <th></th>\n",
       "      <th>duration</th>\n",
       "    </tr>\n",
       "    <tr>\n",
       "      <th>gender</th>\n",
       "      <th></th>\n",
       "      <th></th>\n",
       "    </tr>\n",
       "  </thead>\n",
       "  <tbody>\n",
       "    <tr>\n",
       "      <th rowspan=\"8\" valign=\"top\">Madame</th>\n",
       "      <th>count</th>\n",
       "      <td>29.000000</td>\n",
       "    </tr>\n",
       "    <tr>\n",
       "      <th>mean</th>\n",
       "      <td>40.758621</td>\n",
       "    </tr>\n",
       "    <tr>\n",
       "      <th>std</th>\n",
       "      <td>8.078433</td>\n",
       "    </tr>\n",
       "    <tr>\n",
       "      <th>min</th>\n",
       "      <td>36.000000</td>\n",
       "    </tr>\n",
       "    <tr>\n",
       "      <th>25%</th>\n",
       "      <td>36.000000</td>\n",
       "    </tr>\n",
       "    <tr>\n",
       "      <th>50%</th>\n",
       "      <td>36.000000</td>\n",
       "    </tr>\n",
       "    <tr>\n",
       "      <th>75%</th>\n",
       "      <td>48.000000</td>\n",
       "    </tr>\n",
       "    <tr>\n",
       "      <th>max</th>\n",
       "      <td>66.000000</td>\n",
       "    </tr>\n",
       "    <tr>\n",
       "      <th rowspan=\"8\" valign=\"top\">Monsieur</th>\n",
       "      <th>count</th>\n",
       "      <td>368.000000</td>\n",
       "    </tr>\n",
       "    <tr>\n",
       "      <th>mean</th>\n",
       "      <td>42.880435</td>\n",
       "    </tr>\n",
       "    <tr>\n",
       "      <th>std</th>\n",
       "      <td>9.458750</td>\n",
       "    </tr>\n",
       "    <tr>\n",
       "      <th>min</th>\n",
       "      <td>36.000000</td>\n",
       "    </tr>\n",
       "    <tr>\n",
       "      <th>25%</th>\n",
       "      <td>36.000000</td>\n",
       "    </tr>\n",
       "    <tr>\n",
       "      <th>50%</th>\n",
       "      <td>36.000000</td>\n",
       "    </tr>\n",
       "    <tr>\n",
       "      <th>75%</th>\n",
       "      <td>48.000000</td>\n",
       "    </tr>\n",
       "    <tr>\n",
       "      <th>max</th>\n",
       "      <td>84.000000</td>\n",
       "    </tr>\n",
       "  </tbody>\n",
       "</table>\n",
       "</div>"
      ],
      "text/plain": [
       "                  duration\n",
       "gender                    \n",
       "Madame   count   29.000000\n",
       "         mean    40.758621\n",
       "         std      8.078433\n",
       "         min     36.000000\n",
       "         25%     36.000000\n",
       "         50%     36.000000\n",
       "         75%     48.000000\n",
       "         max     66.000000\n",
       "Monsieur count  368.000000\n",
       "         mean    42.880435\n",
       "         std      9.458750\n",
       "         min     36.000000\n",
       "         25%     36.000000\n",
       "         50%     36.000000\n",
       "         75%     48.000000\n",
       "         max     84.000000"
      ]
     },
     "execution_count": 7,
     "metadata": {},
     "output_type": "execute_result"
    }
   ],
   "source": [
    "filtered.groupby('gender').apply(lambda x: x.describe())\n"
   ]
  },
  {
   "cell_type": "code",
   "execution_count": 110,
   "metadata": {
    "collapsed": false
   },
   "outputs": [
    {
     "data": {
      "image/png": "[encoded data removed]",
      "text/plain": [
       "<matplotlib.figure.Figure at 0x1269a84a8>"
      ]
     },
     "metadata": {},
     "output_type": "display_data"
    }
   ],
   "source": [
    "filtered.hist(column='duration', figsize=(15,8), color = 'blue')\n",
    "plt.title('bacholer student duration distribution', fontsize=18)\n",
    "plt.xlabel('duration in months', fontsize=18)\n",
    "plt.ylabel('Frequency', fontsize=18)\n",
    "plt.tick_params(axis='x', labelsize=18)\n",
    "plt.tick_params(axis='y', labelsize=18)"
   ]
  },
  {
   "cell_type": "code",
   "execution_count": null,
   "metadata": {
    "collapsed": true
   },
   "outputs": [],
   "source": [
    "madames_durations = filtered[filtered['gender'] == 'Madame']['duration']\n",
    "monsieur_durations = filtered[filtered['gender'] == 'Monsieur']['duration']"
   ]
  },
  {
   "cell_type": "code",
   "execution_count": 111,
   "metadata": {
    "collapsed": false
   },
   "outputs": [
    {
     "data": {
      "image/png": "[encoded data removed]",
      "text/plain": [
       "<matplotlib.figure.Figure at 0x12700a240>"
      ]
     },
     "metadata": {},
     "output_type": "display_data"
    }
   ],
   "source": [
    "madames_durations.hist(figsize=(15,8), color = 'blue')\n",
    "plt.title('females bachelor student duration distribution', fontsize=18)\n",
    "plt.xlabel('duration in months', fontsize=18)\n",
    "plt.ylabel('Frequency', fontsize=18)\n",
    "plt.tick_params(axis='x', labelsize=18)\n",
    "plt.tick_params(axis='y', labelsize=18)"
   ]
  },
  {
   "cell_type": "code",
   "execution_count": 113,
   "metadata": {
    "collapsed": false
   },
   "outputs": [
    {
     "data": {
      "image/png": "[encoded data removed]",
      "text/plain": [
       "<matplotlib.figure.Figure at 0x1273d5198>"
      ]
     },
     "metadata": {},
     "output_type": "display_data"
    }
   ],
   "source": [
    "monsieur_durations.hist(figsize=(15,8), color = 'blue')\n",
    "plt.title('males bachelor student duration distribution', fontsize=18)\n",
    "plt.xlabel('duration in months', fontsize=18)\n",
    "plt.ylabel('Frequency', fontsize=18)\n",
    "plt.tick_params(axis='x', labelsize=18)\n",
    "plt.tick_params(axis='y', labelsize=18)"
   ]
  },
  {
   "cell_type": "code",
   "execution_count": 120,
   "metadata": {
    "collapsed": false
   },
   "outputs": [
    {
     "data": {
      "image/png": "[encoded data removed]",
      "text/plain": [
       "<matplotlib.figure.Figure at 0x1288eb7f0>"
      ]
     },
     "metadata": {},
     "output_type": "display_data"
    }
   ],
   "source": [
    "filtered.groupby('gender').duration.mean().plot(kind='bar', color='blue',figsize=(15,8))\n",
    "plt.title('females and males bachelor student duration mean', fontsize=18)\n",
    "plt.xlabel('gender', fontsize=18)\n",
    "plt.ylabel('duration mean', fontsize=18)\n",
    "plt.tick_params(axis='x', labelsize=18)\n",
    "plt.tick_params(axis='y', labelsize=18)"
   ]
  },
  {
   "cell_type": "code",
   "execution_count": 122,
   "metadata": {
    "collapsed": false
   },
   "outputs": [
    {
     "data": {
      "text/plain": [
       "Ttest_indResult(statistic=-1.174373961635091, pvalue=0.2409527870885366)"
      ]
     },
     "execution_count": 122,
     "metadata": {},
     "output_type": "execute_result"
    }
   ],
   "source": [
    "import scipy\n",
    "import scipy.stats as stats\n",
    "\n",
    "stats.ttest_ind(madames_durations, monsieur_durations)"
   ]
  },
  {
   "cell_type": "code",
   "execution_count": null,
   "metadata": {
    "collapsed": false
   },
   "outputs": [],
   "source": []
  },
  {
   "cell_type": "code",
   "execution_count": null,
   "metadata": {
    "collapsed": true
   },
   "outputs": [],
   "source": []
  },
  {
   "cell_type": "code",
   "execution_count": null,
   "metadata": {
    "collapsed": true
   },
   "outputs": [],
   "source": []
  },
  {
   "cell_type": "code",
   "execution_count": null,
   "metadata": {
    "collapsed": true
   },
   "outputs": [],
   "source": []
  },
  {
   "cell_type": "code",
   "execution_count": null,
   "metadata": {
    "collapsed": true
   },
   "outputs": [],
   "source": []
  },
  {
   "cell_type": "code",
   "execution_count": 9,
   "metadata": {
    "collapsed": false
   },
   "outputs": [
    {
     "name": "stdout",
     "output_type": "stream",
     "text": [
      "Master semestre 1 2010 done\n",
      "Master semestre 1 2013 done\n",
      "Master semestre 1 2009 done\n",
      "Master semestre 1 2008 done\n",
      "Master semestre 1 2007 done\n",
      "Master semestre 2 2016 done\n",
      "Master semestre 1 2012 done\n",
      "Master semestre 1 2014 done\n",
      "Master semestre 1 2011 done\n",
      "Master semestre 1 2015 done\n",
      "Master semestre 1 2016 done\n",
      "Master semestre 2 2008 done\n",
      "Master semestre 2 2009 done\n",
      "Master semestre 2 2012 done\n",
      "Master semestre 2 2011 done\n",
      "Master semestre 2 2007 done\n",
      "Master semestre 2 2010 done\n",
      "Master semestre 2 2014 done\n",
      "Master semestre 3 2016 done\n",
      "Master semestre 2 2013 done\n",
      "Master semestre 2 2015 done\n",
      "Master semestre 3 2010 done\n",
      "Master semestre 3 2012 done\n",
      "Master semestre 3 2011 done\n",
      "Master semestre 3 2009 done\n",
      "Master semestre 3 2008 done\n",
      "Master semestre 3 2007 done\n",
      "Master semestre 3 2013 done\n",
      "Master semestre 3 2014 done\n",
      "Master semestre 3 2015 done\n",
      "Projet Master automne 2015 done\n",
      "Projet Master automne 2011 done\n",
      "Projet Master automne 2014 done\n",
      "Projet Master automne 2012 done\n",
      "Projet Master automne 2013 done\n",
      "Projet Master automne 2008 done\n",
      "Projet Master automne 2007 done\n",
      "Projet Master automne 2010 done\n",
      "Projet Master automne 2009 done\n",
      "Projet Master automne 2016 done\n",
      "Projet Master printemps 2012 done\n",
      "Projet Master printemps 2013 done\n",
      "Projet Master printemps 2010 done\n",
      "Projet Master printemps 2009 done\n",
      "Projet Master printemps 2007 done\n",
      "Projet Master printemps 2011 done\n",
      "Projet Master printemps 2008 done\n",
      "Finished\n"
     ]
    },
    {
     "data": {
      "text/plain": [
       "Index(['Civilité', 'Nom Prénom', 'Statut', 'No Sciper', 'Spécialisation',\n",
       "       'Projet Master printemps', 'Projet Master automne', 'Master semestre 3',\n",
       "       'Master semestre 2', 'Master semestre 1'],\n",
       "      dtype='object')"
      ]
     },
     "execution_count": 9,
     "metadata": {},
     "output_type": "execute_result"
    }
   ],
   "source": [
    "\n",
    "master_semesters = [\n",
    "    ('2230106', 'Master semestre 1'),\n",
    "    ('942192', 'Master semestre 2'),\n",
    "    ('2230128', 'Master semestre 3'),\n",
    "    ('2230140', 'Master semestre 4'),\n",
    "    ('249127', 'Projet Master automne'),\n",
    "    ('3781783', 'Projet Master printemps'),\n",
    "]\n",
    "\n",
    "masters_final_table = None\n",
    "\n",
    "#frames = map(lambda x: grab_table(*x), itertools.product(master_semesters, year_tuples))\n",
    "with concurrent.futures.ThreadPoolExecutor(max_workers=10) as executor:\n",
    "    master_frames = executor.map(lambda x: grab_table(*x), itertools.product(master_semesters, year_tuples))\n",
    "print(\"Finished\")\n",
    "master_frames = filter(lambda x : x is not None, master_frames)\n",
    "for frame in master_frames:\n",
    "    if masters_final_table is None:\n",
    "        masters_final_table = frame\n",
    "    else:\n",
    "        #bachelors_final_table = pd.merge(table[['No Sciper', semester_col]], bachelors_final_table, left_on='No Sciper', right_on='No Sciper', how='outer')\n",
    "        masters_final_table = pd.merge(frame, masters_final_table, how='outer')\n",
    "\n",
    "masters_final_table.columns"
   ]
  },
  {
   "cell_type": "code",
   "execution_count": 10,
   "metadata": {
    "collapsed": false
   },
   "outputs": [
    {
     "data": {
      "text/html": [
       "<div>\n",
       "<table border=\"1\" class=\"dataframe\">\n",
       "  <thead>\n",
       "    <tr style=\"text-align: right;\">\n",
       "      <th></th>\n",
       "      <th></th>\n",
       "      <th>No Sciper</th>\n",
       "      <th>duration</th>\n",
       "      <th>gender</th>\n",
       "      <th>project_time</th>\n",
       "      <th>specialization</th>\n",
       "      <th>start_year</th>\n",
       "      <th>total_duration</th>\n",
       "    </tr>\n",
       "    <tr>\n",
       "      <th>No Sciper</th>\n",
       "      <th></th>\n",
       "      <th></th>\n",
       "      <th></th>\n",
       "      <th></th>\n",
       "      <th></th>\n",
       "      <th></th>\n",
       "      <th></th>\n",
       "      <th></th>\n",
       "    </tr>\n",
       "  </thead>\n",
       "  <tbody>\n",
       "    <tr>\n",
       "      <th>146330</th>\n",
       "      <th>No Sciper</th>\n",
       "      <td>146330</td>\n",
       "      <td>18.0</td>\n",
       "      <td>Monsieur</td>\n",
       "      <td>6.0</td>\n",
       "      <td>None</td>\n",
       "      <td>2007.0</td>\n",
       "      <td>24.0</td>\n",
       "    </tr>\n",
       "    <tr>\n",
       "      <th>146742</th>\n",
       "      <th>No Sciper</th>\n",
       "      <td>146742</td>\n",
       "      <td>30.0</td>\n",
       "      <td>Monsieur</td>\n",
       "      <td>12.0</td>\n",
       "      <td>Signals, Images and Interfaces</td>\n",
       "      <td>2008.0</td>\n",
       "      <td>42.0</td>\n",
       "    </tr>\n",
       "    <tr>\n",
       "      <th>146929</th>\n",
       "      <th>No Sciper</th>\n",
       "      <td>146929</td>\n",
       "      <td>12.0</td>\n",
       "      <td>Monsieur</td>\n",
       "      <td>6.0</td>\n",
       "      <td>None</td>\n",
       "      <td>2007.0</td>\n",
       "      <td>18.0</td>\n",
       "    </tr>\n",
       "    <tr>\n",
       "      <th>147008</th>\n",
       "      <th>No Sciper</th>\n",
       "      <td>147008</td>\n",
       "      <td>24.0</td>\n",
       "      <td>Monsieur</td>\n",
       "      <td>6.0</td>\n",
       "      <td>Signals, Images and Interfaces</td>\n",
       "      <td>2011.0</td>\n",
       "      <td>30.0</td>\n",
       "    </tr>\n",
       "    <tr>\n",
       "      <th>152232</th>\n",
       "      <th>No Sciper</th>\n",
       "      <td>152232</td>\n",
       "      <td>18.0</td>\n",
       "      <td>Monsieur</td>\n",
       "      <td>6.0</td>\n",
       "      <td>None</td>\n",
       "      <td>2007.0</td>\n",
       "      <td>24.0</td>\n",
       "    </tr>\n",
       "  </tbody>\n",
       "</table>\n",
       "</div>"
      ],
      "text/plain": [
       "                    No Sciper  duration    gender  project_time  \\\n",
       "No Sciper                                                         \n",
       "146330    No Sciper    146330      18.0  Monsieur           6.0   \n",
       "146742    No Sciper    146742      30.0  Monsieur          12.0   \n",
       "146929    No Sciper    146929      12.0  Monsieur           6.0   \n",
       "147008    No Sciper    147008      24.0  Monsieur           6.0   \n",
       "152232    No Sciper    152232      18.0  Monsieur           6.0   \n",
       "\n",
       "                                     specialization  start_year  \\\n",
       "No Sciper                                                         \n",
       "146330    No Sciper                            None      2007.0   \n",
       "146742    No Sciper  Signals, Images and Interfaces      2008.0   \n",
       "146929    No Sciper                            None      2007.0   \n",
       "147008    No Sciper  Signals, Images and Interfaces      2011.0   \n",
       "152232    No Sciper                            None      2007.0   \n",
       "\n",
       "                     total_duration  \n",
       "No Sciper                            \n",
       "146330    No Sciper            24.0  \n",
       "146742    No Sciper            42.0  \n",
       "146929    No Sciper            18.0  \n",
       "147008    No Sciper            30.0  \n",
       "152232    No Sciper            24.0  "
      ]
     },
     "execution_count": 10,
     "metadata": {},
     "output_type": "execute_result"
    }
   ],
   "source": [
    "from pprint import pprint as pp\n",
    "\n",
    "def masters_get_merged_(group):\n",
    "    \n",
    "    \n",
    "    # To not count the students that only have entries in 'Project', we first temporarly have the table with MA1, MA2 and MA3\n",
    "    # columns\n",
    "    ma1_ma2_ma3 = group[['No Sciper', 'Master semestre 1', 'Master semestre 2', 'Master semestre 3']]\n",
    "    ma1_ma2_ma3 = ma1_ma2_ma3.dropna(subset=['Master semestre 1', 'Master semestre 2', 'Master semestre 3'], how='all')\n",
    "    project_entries = group[['No Sciper','Projet Master printemps', 'Projet Master automne']]\n",
    "    project_entries = project_entries.dropna(subset=['Projet Master printemps', 'Projet Master automne'], how='all')\n",
    "    project_entries = project_entries.drop_duplicates(subset=['Projet Master printemps', 'Projet Master automne'])\n",
    "    spec_table = group[['Spécialisation']].dropna(subset=['Spécialisation'])\n",
    "    \n",
    "    if len(spec_table) > 0:\n",
    "        spec = spec_table.iloc[-1]['Spécialisation']\n",
    "    else:\n",
    "        spec = None\n",
    "    \n",
    "    \n",
    "    #Drop the groups (enrollment record of a single person) which doesn't include Master Semester 1\n",
    "    if len(group.dropna(subset=['Master semestre 1'])) > 0 and len(ma1_ma2_ma3) > 1:\n",
    "        \n",
    "        #ending = max(group[['Master semestre 2','Master semestre 3','Projet Master automne', 'Projet Master printemps']].max(axis=0))\n",
    "        \n",
    "        starting = min(group[['Master semestre 1', 'Master semestre 2']].min(axis=0))\n",
    "        \n",
    "        duration = len(ma1_ma2_ma3)\n",
    "        \n",
    "        project_time = max(6,len(project_entries)*6)\n",
    "        #pp(ma1_ma2_ma3)\n",
    "        #print(starting,ending)\n",
    "        #return group\n",
    "        \n",
    "        ma1_ma2_ma3 = ma1_ma2_ma3.dropna(subset=['Master semestre 1', 'Master semestre 2', 'Master semestre 3'], how='all')\n",
    "        \n",
    "        return pd.DataFrame({\n",
    "            \"No Sciper\": group.iloc[0]['No Sciper'],\n",
    "            \"duration\": duration*6,\n",
    "            'project_time': project_time,\n",
    "            'start_year': starting,\n",
    "            'total_duration': project_time+duration*6,\n",
    "            \"gender\": group.iloc[0]['Civilité'],\n",
    "            'specialization': spec\n",
    "        }, index=['No Sciper'])\n",
    "    return pd.DataFrame([])\n",
    "\n",
    "masters_grouped = masters_final_table.groupby('No Sciper')\n",
    "masters_filtered = masters_grouped.apply(masters_get_merged_)\n",
    "\n",
    "masters_filtered.describe()\n",
    "\n",
    "## TODOO...\n",
    "\n",
    "#138088\n",
    "#masters_final_table[masters_final_table['No Sciper'] == '146742']\n",
    "masters_filtered.head()\n",
    "#masters_filtered[masters_filtered['project_time'] == 12]"
   ]
  },
  {
   "cell_type": "code",
   "execution_count": 11,
   "metadata": {
    "collapsed": true
   },
   "outputs": [],
   "source": [
    "aa=masters_filtered"
   ]
  },
  {
   "cell_type": "code",
   "execution_count": 12,
   "metadata": {
    "collapsed": false
   },
   "outputs": [
    {
     "data": {
      "text/plain": [
       "764"
      ]
     },
     "execution_count": 12,
     "metadata": {},
     "output_type": "execute_result"
    }
   ],
   "source": [
    "len(aa)"
   ]
  },
  {
   "cell_type": "code",
   "execution_count": 19,
   "metadata": {
    "collapsed": false
   },
   "outputs": [
    {
     "data": {
      "text/plain": [
       "array([None, 'Signals, Images and Interfaces', 'Internet computing',\n",
       "       'Biocomputing', 'Foundations of Software',\n",
       "       'Computer Engineering - SP', 'Service science', 'Software Systems',\n",
       "       'Information Security - SP', 'Data Analytics',\n",
       "       'Internet Information Systems', 'Computer Science Theory'], dtype=object)"
      ]
     },
     "execution_count": 19,
     "metadata": {},
     "output_type": "execute_result"
    }
   ],
   "source": [
    "aa['specialization'].unique()"
   ]
  },
  {
   "cell_type": "code",
   "execution_count": 38,
   "metadata": {
    "collapsed": false
   },
   "outputs": [],
   "source": [
    "df_Signals=aa[aa['specialization']=='Signals, Images and Interfaces']\n",
    "df_Internetcomputing=aa[aa['specialization']=='Internet computing']\n",
    "df_Biocomputing=aa[aa['specialization']=='Biocomputing']\n",
    "df_FoundationsofSoftware=aa[aa['specialization']=='Foundations of Software']\n",
    "df_ComputerEngineering=aa[aa['specialization']=='Computer Engineering - SP']\n",
    "df_Servicescience=aa[aa['specialization']=='Service science']\n",
    "df_SoftwareSystems=aa[aa['specialization']=='Software Systems']\n",
    "df_InformationSecurity=aa[aa['specialization']=='Information Security - SP']\n",
    "df_DataAnalytics=aa[aa['specialization']=='Data Analytics']\n",
    "df_InternetInformationSystems=aa[aa['specialization']=='Internet Information Systems']\n",
    "df_ComputerScienceTheory=aa[aa['specialization']=='Computer Science Theory']"
   ]
  },
  {
   "cell_type": "code",
   "execution_count": 51,
   "metadata": {
    "collapsed": false
   },
   "outputs": [],
   "source": [
    "general_dur = aa['total_duration']\n",
    "df_Signals_dur = df_Signals['total_duration']\n",
    "df_Internetcomputing_dur = df_Internetcomputing['total_duration']\n",
    "df_Biocomputing_dur = df_Biocomputing['total_duration']\n",
    "df_FoundationsofSoftware_dur = df_FoundationsofSoftware['total_duration']\n",
    "df_ComputerEngineering_dur = df_ComputerEngineering['total_duration']\n",
    "df_Servicescience_dur = df_Servicescience['total_duration']\n",
    "df_SoftwareSystems_dur = df_SoftwareSystems['total_duration']\n",
    "df_InformationSecurity_dur = df_InformationSecurity['total_duration']\n",
    "df_DataAnalytics_dur = df_DataAnalytics['total_duration']\n",
    "df_InternetInformationSystems_dur = df_InternetInformationSystems['total_duration']\n",
    "df_ComputerScienceTheory_dur = df_ComputerScienceTheory['total_duration']"
   ]
  },
  {
   "cell_type": "code",
   "execution_count": 91,
   "metadata": {
    "collapsed": false
   },
   "outputs": [
    {
     "data": {
      "text/plain": [
       "<matplotlib.axes._subplots.AxesSubplot at 0x122c026d8>"
      ]
     },
     "execution_count": 91,
     "metadata": {},
     "output_type": "execute_result"
    },
    {
     "data": {
      "image/png": "[encoded data removed]",
      "text/plain": [
       "<matplotlib.figure.Figure at 0x12311d780>"
      ]
     },
     "metadata": {},
     "output_type": "display_data"
    }
   ],
   "source": [
    "sns.boxplot(aa.total_duration, showfliers=False, color = 'blue')\n"
   ]
  },
  {
   "cell_type": "code",
   "execution_count": 121,
   "metadata": {
    "collapsed": false
   },
   "outputs": [
    {
     "data": {
      "image/png": "[encoded data removed]",
      "text/plain": [
       "<matplotlib.figure.Figure at 0x1285a00b8>"
      ]
     },
     "metadata": {},
     "output_type": "display_data"
    }
   ],
   "source": [
    "aa.hist(column='total_duration',figsize=(15,8), color = 'blue')\n",
    "plt.title('master student duration distribution', fontsize=18)\n",
    "plt.xlabel('duration in months', fontsize=18)\n",
    "plt.ylabel('Frequency', fontsize=18)\n",
    "plt.tick_params(axis='x', labelsize=18)\n",
    "plt.tick_params(axis='y', labelsize=18)"
   ]
  },
  {
   "cell_type": "code",
   "execution_count": 81,
   "metadata": {
    "collapsed": false
   },
   "outputs": [
    {
     "data": {
      "text/html": [
       "<div>\n",
       "<table border=\"1\" class=\"dataframe\">\n",
       "  <thead>\n",
       "    <tr style=\"text-align: right;\">\n",
       "      <th></th>\n",
       "      <th>No Sciper</th>\n",
       "      <th>duration</th>\n",
       "      <th>gender</th>\n",
       "      <th>project_time</th>\n",
       "      <th>specialization</th>\n",
       "      <th>start_year</th>\n",
       "      <th>total_duration</th>\n",
       "    </tr>\n",
       "  </thead>\n",
       "  <tbody>\n",
       "    <tr>\n",
       "      <th>0</th>\n",
       "      <td>146330</td>\n",
       "      <td>18.0</td>\n",
       "      <td>Monsieur</td>\n",
       "      <td>6.0</td>\n",
       "      <td>None</td>\n",
       "      <td>2007.0</td>\n",
       "      <td>24.0</td>\n",
       "    </tr>\n",
       "    <tr>\n",
       "      <th>1</th>\n",
       "      <td>146742</td>\n",
       "      <td>30.0</td>\n",
       "      <td>Monsieur</td>\n",
       "      <td>12.0</td>\n",
       "      <td>Signals, Images and Interfaces</td>\n",
       "      <td>2008.0</td>\n",
       "      <td>42.0</td>\n",
       "    </tr>\n",
       "    <tr>\n",
       "      <th>2</th>\n",
       "      <td>146929</td>\n",
       "      <td>12.0</td>\n",
       "      <td>Monsieur</td>\n",
       "      <td>6.0</td>\n",
       "      <td>None</td>\n",
       "      <td>2007.0</td>\n",
       "      <td>18.0</td>\n",
       "    </tr>\n",
       "    <tr>\n",
       "      <th>3</th>\n",
       "      <td>147008</td>\n",
       "      <td>24.0</td>\n",
       "      <td>Monsieur</td>\n",
       "      <td>6.0</td>\n",
       "      <td>Signals, Images and Interfaces</td>\n",
       "      <td>2011.0</td>\n",
       "      <td>30.0</td>\n",
       "    </tr>\n",
       "    <tr>\n",
       "      <th>4</th>\n",
       "      <td>152232</td>\n",
       "      <td>18.0</td>\n",
       "      <td>Monsieur</td>\n",
       "      <td>6.0</td>\n",
       "      <td>None</td>\n",
       "      <td>2007.0</td>\n",
       "      <td>24.0</td>\n",
       "    </tr>\n",
       "    <tr>\n",
       "      <th>5</th>\n",
       "      <td>153066</td>\n",
       "      <td>36.0</td>\n",
       "      <td>Monsieur</td>\n",
       "      <td>6.0</td>\n",
       "      <td>Internet computing</td>\n",
       "      <td>2007.0</td>\n",
       "      <td>42.0</td>\n",
       "    </tr>\n",
       "    <tr>\n",
       "      <th>6</th>\n",
       "      <td>153746</td>\n",
       "      <td>18.0</td>\n",
       "      <td>Monsieur</td>\n",
       "      <td>6.0</td>\n",
       "      <td>None</td>\n",
       "      <td>2007.0</td>\n",
       "      <td>24.0</td>\n",
       "    </tr>\n",
       "    <tr>\n",
       "      <th>7</th>\n",
       "      <td>153762</td>\n",
       "      <td>24.0</td>\n",
       "      <td>Monsieur</td>\n",
       "      <td>6.0</td>\n",
       "      <td>None</td>\n",
       "      <td>2008.0</td>\n",
       "      <td>30.0</td>\n",
       "    </tr>\n",
       "    <tr>\n",
       "      <th>8</th>\n",
       "      <td>154080</td>\n",
       "      <td>30.0</td>\n",
       "      <td>Monsieur</td>\n",
       "      <td>6.0</td>\n",
       "      <td>Internet computing</td>\n",
       "      <td>2007.0</td>\n",
       "      <td>36.0</td>\n",
       "    </tr>\n",
       "    <tr>\n",
       "      <th>9</th>\n",
       "      <td>154573</td>\n",
       "      <td>30.0</td>\n",
       "      <td>Madame</td>\n",
       "      <td>6.0</td>\n",
       "      <td>Biocomputing</td>\n",
       "      <td>2007.0</td>\n",
       "      <td>36.0</td>\n",
       "    </tr>\n",
       "    <tr>\n",
       "      <th>10</th>\n",
       "      <td>154643</td>\n",
       "      <td>12.0</td>\n",
       "      <td>Monsieur</td>\n",
       "      <td>6.0</td>\n",
       "      <td>None</td>\n",
       "      <td>2007.0</td>\n",
       "      <td>18.0</td>\n",
       "    </tr>\n",
       "    <tr>\n",
       "      <th>11</th>\n",
       "      <td>154706</td>\n",
       "      <td>18.0</td>\n",
       "      <td>Monsieur</td>\n",
       "      <td>6.0</td>\n",
       "      <td>None</td>\n",
       "      <td>2007.0</td>\n",
       "      <td>24.0</td>\n",
       "    </tr>\n",
       "    <tr>\n",
       "      <th>12</th>\n",
       "      <td>155018</td>\n",
       "      <td>12.0</td>\n",
       "      <td>Monsieur</td>\n",
       "      <td>6.0</td>\n",
       "      <td>None</td>\n",
       "      <td>2007.0</td>\n",
       "      <td>18.0</td>\n",
       "    </tr>\n",
       "    <tr>\n",
       "      <th>13</th>\n",
       "      <td>155097</td>\n",
       "      <td>18.0</td>\n",
       "      <td>Monsieur</td>\n",
       "      <td>6.0</td>\n",
       "      <td>None</td>\n",
       "      <td>2007.0</td>\n",
       "      <td>24.0</td>\n",
       "    </tr>\n",
       "    <tr>\n",
       "      <th>14</th>\n",
       "      <td>159516</td>\n",
       "      <td>18.0</td>\n",
       "      <td>Monsieur</td>\n",
       "      <td>6.0</td>\n",
       "      <td>None</td>\n",
       "      <td>2008.0</td>\n",
       "      <td>24.0</td>\n",
       "    </tr>\n",
       "    <tr>\n",
       "      <th>15</th>\n",
       "      <td>159998</td>\n",
       "      <td>18.0</td>\n",
       "      <td>Madame</td>\n",
       "      <td>6.0</td>\n",
       "      <td>Signals, Images and Interfaces</td>\n",
       "      <td>2008.0</td>\n",
       "      <td>24.0</td>\n",
       "    </tr>\n",
       "    <tr>\n",
       "      <th>16</th>\n",
       "      <td>160148</td>\n",
       "      <td>18.0</td>\n",
       "      <td>Madame</td>\n",
       "      <td>6.0</td>\n",
       "      <td>None</td>\n",
       "      <td>2007.0</td>\n",
       "      <td>24.0</td>\n",
       "    </tr>\n",
       "    <tr>\n",
       "      <th>17</th>\n",
       "      <td>160213</td>\n",
       "      <td>18.0</td>\n",
       "      <td>Monsieur</td>\n",
       "      <td>12.0</td>\n",
       "      <td>None</td>\n",
       "      <td>2007.0</td>\n",
       "      <td>30.0</td>\n",
       "    </tr>\n",
       "    <tr>\n",
       "      <th>18</th>\n",
       "      <td>160225</td>\n",
       "      <td>18.0</td>\n",
       "      <td>Monsieur</td>\n",
       "      <td>6.0</td>\n",
       "      <td>None</td>\n",
       "      <td>2007.0</td>\n",
       "      <td>24.0</td>\n",
       "    </tr>\n",
       "    <tr>\n",
       "      <th>19</th>\n",
       "      <td>160254</td>\n",
       "      <td>18.0</td>\n",
       "      <td>Monsieur</td>\n",
       "      <td>6.0</td>\n",
       "      <td>Internet computing</td>\n",
       "      <td>2007.0</td>\n",
       "      <td>24.0</td>\n",
       "    </tr>\n",
       "    <tr>\n",
       "      <th>20</th>\n",
       "      <td>160492</td>\n",
       "      <td>12.0</td>\n",
       "      <td>Monsieur</td>\n",
       "      <td>6.0</td>\n",
       "      <td>None</td>\n",
       "      <td>2007.0</td>\n",
       "      <td>18.0</td>\n",
       "    </tr>\n",
       "    <tr>\n",
       "      <th>21</th>\n",
       "      <td>160578</td>\n",
       "      <td>18.0</td>\n",
       "      <td>Monsieur</td>\n",
       "      <td>6.0</td>\n",
       "      <td>None</td>\n",
       "      <td>2007.0</td>\n",
       "      <td>24.0</td>\n",
       "    </tr>\n",
       "    <tr>\n",
       "      <th>22</th>\n",
       "      <td>160718</td>\n",
       "      <td>18.0</td>\n",
       "      <td>Monsieur</td>\n",
       "      <td>6.0</td>\n",
       "      <td>Foundations of Software</td>\n",
       "      <td>2007.0</td>\n",
       "      <td>24.0</td>\n",
       "    </tr>\n",
       "    <tr>\n",
       "      <th>23</th>\n",
       "      <td>160893</td>\n",
       "      <td>18.0</td>\n",
       "      <td>Monsieur</td>\n",
       "      <td>6.0</td>\n",
       "      <td>None</td>\n",
       "      <td>2007.0</td>\n",
       "      <td>24.0</td>\n",
       "    </tr>\n",
       "    <tr>\n",
       "      <th>24</th>\n",
       "      <td>160991</td>\n",
       "      <td>18.0</td>\n",
       "      <td>Monsieur</td>\n",
       "      <td>6.0</td>\n",
       "      <td>Internet computing</td>\n",
       "      <td>2007.0</td>\n",
       "      <td>24.0</td>\n",
       "    </tr>\n",
       "    <tr>\n",
       "      <th>25</th>\n",
       "      <td>161024</td>\n",
       "      <td>12.0</td>\n",
       "      <td>Madame</td>\n",
       "      <td>6.0</td>\n",
       "      <td>None</td>\n",
       "      <td>2007.0</td>\n",
       "      <td>18.0</td>\n",
       "    </tr>\n",
       "    <tr>\n",
       "      <th>26</th>\n",
       "      <td>161091</td>\n",
       "      <td>24.0</td>\n",
       "      <td>Madame</td>\n",
       "      <td>6.0</td>\n",
       "      <td>None</td>\n",
       "      <td>2008.0</td>\n",
       "      <td>30.0</td>\n",
       "    </tr>\n",
       "    <tr>\n",
       "      <th>27</th>\n",
       "      <td>161127</td>\n",
       "      <td>18.0</td>\n",
       "      <td>Monsieur</td>\n",
       "      <td>6.0</td>\n",
       "      <td>None</td>\n",
       "      <td>2008.0</td>\n",
       "      <td>24.0</td>\n",
       "    </tr>\n",
       "    <tr>\n",
       "      <th>28</th>\n",
       "      <td>161138</td>\n",
       "      <td>12.0</td>\n",
       "      <td>Monsieur</td>\n",
       "      <td>6.0</td>\n",
       "      <td>None</td>\n",
       "      <td>2007.0</td>\n",
       "      <td>18.0</td>\n",
       "    </tr>\n",
       "    <tr>\n",
       "      <th>29</th>\n",
       "      <td>161220</td>\n",
       "      <td>18.0</td>\n",
       "      <td>Monsieur</td>\n",
       "      <td>6.0</td>\n",
       "      <td>None</td>\n",
       "      <td>2009.0</td>\n",
       "      <td>24.0</td>\n",
       "    </tr>\n",
       "    <tr>\n",
       "      <th>...</th>\n",
       "      <td>...</td>\n",
       "      <td>...</td>\n",
       "      <td>...</td>\n",
       "      <td>...</td>\n",
       "      <td>...</td>\n",
       "      <td>...</td>\n",
       "      <td>...</td>\n",
       "    </tr>\n",
       "    <tr>\n",
       "      <th>734</th>\n",
       "      <td>255137</td>\n",
       "      <td>12.0</td>\n",
       "      <td>Monsieur</td>\n",
       "      <td>6.0</td>\n",
       "      <td>None</td>\n",
       "      <td>2015.0</td>\n",
       "      <td>18.0</td>\n",
       "    </tr>\n",
       "    <tr>\n",
       "      <th>735</th>\n",
       "      <td>255163</td>\n",
       "      <td>12.0</td>\n",
       "      <td>Monsieur</td>\n",
       "      <td>6.0</td>\n",
       "      <td>None</td>\n",
       "      <td>2015.0</td>\n",
       "      <td>18.0</td>\n",
       "    </tr>\n",
       "    <tr>\n",
       "      <th>736</th>\n",
       "      <td>255203</td>\n",
       "      <td>12.0</td>\n",
       "      <td>Monsieur</td>\n",
       "      <td>6.0</td>\n",
       "      <td>None</td>\n",
       "      <td>2015.0</td>\n",
       "      <td>18.0</td>\n",
       "    </tr>\n",
       "    <tr>\n",
       "      <th>737</th>\n",
       "      <td>255255</td>\n",
       "      <td>18.0</td>\n",
       "      <td>Monsieur</td>\n",
       "      <td>6.0</td>\n",
       "      <td>None</td>\n",
       "      <td>2015.0</td>\n",
       "      <td>24.0</td>\n",
       "    </tr>\n",
       "    <tr>\n",
       "      <th>738</th>\n",
       "      <td>255474</td>\n",
       "      <td>12.0</td>\n",
       "      <td>Madame</td>\n",
       "      <td>6.0</td>\n",
       "      <td>None</td>\n",
       "      <td>2015.0</td>\n",
       "      <td>18.0</td>\n",
       "    </tr>\n",
       "    <tr>\n",
       "      <th>739</th>\n",
       "      <td>255700</td>\n",
       "      <td>18.0</td>\n",
       "      <td>Madame</td>\n",
       "      <td>6.0</td>\n",
       "      <td>None</td>\n",
       "      <td>2015.0</td>\n",
       "      <td>24.0</td>\n",
       "    </tr>\n",
       "    <tr>\n",
       "      <th>740</th>\n",
       "      <td>255737</td>\n",
       "      <td>18.0</td>\n",
       "      <td>Monsieur</td>\n",
       "      <td>6.0</td>\n",
       "      <td>None</td>\n",
       "      <td>2015.0</td>\n",
       "      <td>24.0</td>\n",
       "    </tr>\n",
       "    <tr>\n",
       "      <th>741</th>\n",
       "      <td>255879</td>\n",
       "      <td>12.0</td>\n",
       "      <td>Monsieur</td>\n",
       "      <td>6.0</td>\n",
       "      <td>Information Security - SP</td>\n",
       "      <td>2015.0</td>\n",
       "      <td>18.0</td>\n",
       "    </tr>\n",
       "    <tr>\n",
       "      <th>742</th>\n",
       "      <td>256143</td>\n",
       "      <td>18.0</td>\n",
       "      <td>Monsieur</td>\n",
       "      <td>6.0</td>\n",
       "      <td>None</td>\n",
       "      <td>2015.0</td>\n",
       "      <td>24.0</td>\n",
       "    </tr>\n",
       "    <tr>\n",
       "      <th>743</th>\n",
       "      <td>256231</td>\n",
       "      <td>12.0</td>\n",
       "      <td>Monsieur</td>\n",
       "      <td>6.0</td>\n",
       "      <td>None</td>\n",
       "      <td>2015.0</td>\n",
       "      <td>18.0</td>\n",
       "    </tr>\n",
       "    <tr>\n",
       "      <th>744</th>\n",
       "      <td>256553</td>\n",
       "      <td>12.0</td>\n",
       "      <td>Monsieur</td>\n",
       "      <td>6.0</td>\n",
       "      <td>Data Analytics</td>\n",
       "      <td>2015.0</td>\n",
       "      <td>18.0</td>\n",
       "    </tr>\n",
       "    <tr>\n",
       "      <th>745</th>\n",
       "      <td>256590</td>\n",
       "      <td>18.0</td>\n",
       "      <td>Monsieur</td>\n",
       "      <td>6.0</td>\n",
       "      <td>None</td>\n",
       "      <td>2015.0</td>\n",
       "      <td>24.0</td>\n",
       "    </tr>\n",
       "    <tr>\n",
       "      <th>746</th>\n",
       "      <td>256612</td>\n",
       "      <td>18.0</td>\n",
       "      <td>Monsieur</td>\n",
       "      <td>6.0</td>\n",
       "      <td>None</td>\n",
       "      <td>2015.0</td>\n",
       "      <td>24.0</td>\n",
       "    </tr>\n",
       "    <tr>\n",
       "      <th>747</th>\n",
       "      <td>256686</td>\n",
       "      <td>18.0</td>\n",
       "      <td>Monsieur</td>\n",
       "      <td>6.0</td>\n",
       "      <td>Internet computing</td>\n",
       "      <td>2015.0</td>\n",
       "      <td>24.0</td>\n",
       "    </tr>\n",
       "    <tr>\n",
       "      <th>748</th>\n",
       "      <td>256710</td>\n",
       "      <td>12.0</td>\n",
       "      <td>Monsieur</td>\n",
       "      <td>6.0</td>\n",
       "      <td>None</td>\n",
       "      <td>2015.0</td>\n",
       "      <td>18.0</td>\n",
       "    </tr>\n",
       "    <tr>\n",
       "      <th>749</th>\n",
       "      <td>256722</td>\n",
       "      <td>12.0</td>\n",
       "      <td>Monsieur</td>\n",
       "      <td>6.0</td>\n",
       "      <td>None</td>\n",
       "      <td>2015.0</td>\n",
       "      <td>18.0</td>\n",
       "    </tr>\n",
       "    <tr>\n",
       "      <th>750</th>\n",
       "      <td>256846</td>\n",
       "      <td>12.0</td>\n",
       "      <td>Monsieur</td>\n",
       "      <td>6.0</td>\n",
       "      <td>None</td>\n",
       "      <td>2015.0</td>\n",
       "      <td>18.0</td>\n",
       "    </tr>\n",
       "    <tr>\n",
       "      <th>751</th>\n",
       "      <td>256870</td>\n",
       "      <td>18.0</td>\n",
       "      <td>Madame</td>\n",
       "      <td>6.0</td>\n",
       "      <td>None</td>\n",
       "      <td>2015.0</td>\n",
       "      <td>24.0</td>\n",
       "    </tr>\n",
       "    <tr>\n",
       "      <th>752</th>\n",
       "      <td>257819</td>\n",
       "      <td>12.0</td>\n",
       "      <td>Monsieur</td>\n",
       "      <td>6.0</td>\n",
       "      <td>Software Systems</td>\n",
       "      <td>2015.0</td>\n",
       "      <td>18.0</td>\n",
       "    </tr>\n",
       "    <tr>\n",
       "      <th>753</th>\n",
       "      <td>257825</td>\n",
       "      <td>12.0</td>\n",
       "      <td>Monsieur</td>\n",
       "      <td>6.0</td>\n",
       "      <td>None</td>\n",
       "      <td>2015.0</td>\n",
       "      <td>18.0</td>\n",
       "    </tr>\n",
       "    <tr>\n",
       "      <th>754</th>\n",
       "      <td>259719</td>\n",
       "      <td>18.0</td>\n",
       "      <td>Madame</td>\n",
       "      <td>6.0</td>\n",
       "      <td>None</td>\n",
       "      <td>2015.0</td>\n",
       "      <td>24.0</td>\n",
       "    </tr>\n",
       "    <tr>\n",
       "      <th>755</th>\n",
       "      <td>259745</td>\n",
       "      <td>18.0</td>\n",
       "      <td>Madame</td>\n",
       "      <td>6.0</td>\n",
       "      <td>None</td>\n",
       "      <td>2015.0</td>\n",
       "      <td>24.0</td>\n",
       "    </tr>\n",
       "    <tr>\n",
       "      <th>756</th>\n",
       "      <td>259766</td>\n",
       "      <td>12.0</td>\n",
       "      <td>Monsieur</td>\n",
       "      <td>6.0</td>\n",
       "      <td>None</td>\n",
       "      <td>2015.0</td>\n",
       "      <td>18.0</td>\n",
       "    </tr>\n",
       "    <tr>\n",
       "      <th>757</th>\n",
       "      <td>259910</td>\n",
       "      <td>12.0</td>\n",
       "      <td>Monsieur</td>\n",
       "      <td>6.0</td>\n",
       "      <td>None</td>\n",
       "      <td>2015.0</td>\n",
       "      <td>18.0</td>\n",
       "    </tr>\n",
       "    <tr>\n",
       "      <th>758</th>\n",
       "      <td>260636</td>\n",
       "      <td>12.0</td>\n",
       "      <td>Monsieur</td>\n",
       "      <td>6.0</td>\n",
       "      <td>None</td>\n",
       "      <td>2015.0</td>\n",
       "      <td>18.0</td>\n",
       "    </tr>\n",
       "    <tr>\n",
       "      <th>759</th>\n",
       "      <td>260806</td>\n",
       "      <td>12.0</td>\n",
       "      <td>Monsieur</td>\n",
       "      <td>6.0</td>\n",
       "      <td>Software Systems</td>\n",
       "      <td>2015.0</td>\n",
       "      <td>18.0</td>\n",
       "    </tr>\n",
       "    <tr>\n",
       "      <th>760</th>\n",
       "      <td>260811</td>\n",
       "      <td>12.0</td>\n",
       "      <td>Monsieur</td>\n",
       "      <td>6.0</td>\n",
       "      <td>None</td>\n",
       "      <td>2015.0</td>\n",
       "      <td>18.0</td>\n",
       "    </tr>\n",
       "    <tr>\n",
       "      <th>761</th>\n",
       "      <td>260968</td>\n",
       "      <td>12.0</td>\n",
       "      <td>Madame</td>\n",
       "      <td>6.0</td>\n",
       "      <td>None</td>\n",
       "      <td>2015.0</td>\n",
       "      <td>18.0</td>\n",
       "    </tr>\n",
       "    <tr>\n",
       "      <th>762</th>\n",
       "      <td>261006</td>\n",
       "      <td>18.0</td>\n",
       "      <td>Madame</td>\n",
       "      <td>6.0</td>\n",
       "      <td>Software Systems</td>\n",
       "      <td>2015.0</td>\n",
       "      <td>24.0</td>\n",
       "    </tr>\n",
       "    <tr>\n",
       "      <th>763</th>\n",
       "      <td>261146</td>\n",
       "      <td>12.0</td>\n",
       "      <td>Monsieur</td>\n",
       "      <td>6.0</td>\n",
       "      <td>None</td>\n",
       "      <td>2015.0</td>\n",
       "      <td>18.0</td>\n",
       "    </tr>\n",
       "  </tbody>\n",
       "</table>\n",
       "<p>764 rows × 7 columns</p>\n",
       "</div>"
      ],
      "text/plain": [
       "    No Sciper  duration    gender  project_time  \\\n",
       "0      146330      18.0  Monsieur           6.0   \n",
       "1      146742      30.0  Monsieur          12.0   \n",
       "2      146929      12.0  Monsieur           6.0   \n",
       "3      147008      24.0  Monsieur           6.0   \n",
       "4      152232      18.0  Monsieur           6.0   \n",
       "5      153066      36.0  Monsieur           6.0   \n",
       "6      153746      18.0  Monsieur           6.0   \n",
       "7      153762      24.0  Monsieur           6.0   \n",
       "8      154080      30.0  Monsieur           6.0   \n",
       "9      154573      30.0    Madame           6.0   \n",
       "10     154643      12.0  Monsieur           6.0   \n",
       "11     154706      18.0  Monsieur           6.0   \n",
       "12     155018      12.0  Monsieur           6.0   \n",
       "13     155097      18.0  Monsieur           6.0   \n",
       "14     159516      18.0  Monsieur           6.0   \n",
       "15     159998      18.0    Madame           6.0   \n",
       "16     160148      18.0    Madame           6.0   \n",
       "17     160213      18.0  Monsieur          12.0   \n",
       "18     160225      18.0  Monsieur           6.0   \n",
       "19     160254      18.0  Monsieur           6.0   \n",
       "20     160492      12.0  Monsieur           6.0   \n",
       "21     160578      18.0  Monsieur           6.0   \n",
       "22     160718      18.0  Monsieur           6.0   \n",
       "23     160893      18.0  Monsieur           6.0   \n",
       "24     160991      18.0  Monsieur           6.0   \n",
       "25     161024      12.0    Madame           6.0   \n",
       "26     161091      24.0    Madame           6.0   \n",
       "27     161127      18.0  Monsieur           6.0   \n",
       "28     161138      12.0  Monsieur           6.0   \n",
       "29     161220      18.0  Monsieur           6.0   \n",
       "..        ...       ...       ...           ...   \n",
       "734    255137      12.0  Monsieur           6.0   \n",
       "735    255163      12.0  Monsieur           6.0   \n",
       "736    255203      12.0  Monsieur           6.0   \n",
       "737    255255      18.0  Monsieur           6.0   \n",
       "738    255474      12.0    Madame           6.0   \n",
       "739    255700      18.0    Madame           6.0   \n",
       "740    255737      18.0  Monsieur           6.0   \n",
       "741    255879      12.0  Monsieur           6.0   \n",
       "742    256143      18.0  Monsieur           6.0   \n",
       "743    256231      12.0  Monsieur           6.0   \n",
       "744    256553      12.0  Monsieur           6.0   \n",
       "745    256590      18.0  Monsieur           6.0   \n",
       "746    256612      18.0  Monsieur           6.0   \n",
       "747    256686      18.0  Monsieur           6.0   \n",
       "748    256710      12.0  Monsieur           6.0   \n",
       "749    256722      12.0  Monsieur           6.0   \n",
       "750    256846      12.0  Monsieur           6.0   \n",
       "751    256870      18.0    Madame           6.0   \n",
       "752    257819      12.0  Monsieur           6.0   \n",
       "753    257825      12.0  Monsieur           6.0   \n",
       "754    259719      18.0    Madame           6.0   \n",
       "755    259745      18.0    Madame           6.0   \n",
       "756    259766      12.0  Monsieur           6.0   \n",
       "757    259910      12.0  Monsieur           6.0   \n",
       "758    260636      12.0  Monsieur           6.0   \n",
       "759    260806      12.0  Monsieur           6.0   \n",
       "760    260811      12.0  Monsieur           6.0   \n",
       "761    260968      12.0    Madame           6.0   \n",
       "762    261006      18.0    Madame           6.0   \n",
       "763    261146      12.0  Monsieur           6.0   \n",
       "\n",
       "                     specialization  start_year  total_duration  \n",
       "0                              None      2007.0            24.0  \n",
       "1    Signals, Images and Interfaces      2008.0            42.0  \n",
       "2                              None      2007.0            18.0  \n",
       "3    Signals, Images and Interfaces      2011.0            30.0  \n",
       "4                              None      2007.0            24.0  \n",
       "5                Internet computing      2007.0            42.0  \n",
       "6                              None      2007.0            24.0  \n",
       "7                              None      2008.0            30.0  \n",
       "8                Internet computing      2007.0            36.0  \n",
       "9                      Biocomputing      2007.0            36.0  \n",
       "10                             None      2007.0            18.0  \n",
       "11                             None      2007.0            24.0  \n",
       "12                             None      2007.0            18.0  \n",
       "13                             None      2007.0            24.0  \n",
       "14                             None      2008.0            24.0  \n",
       "15   Signals, Images and Interfaces      2008.0            24.0  \n",
       "16                             None      2007.0            24.0  \n",
       "17                             None      2007.0            30.0  \n",
       "18                             None      2007.0            24.0  \n",
       "19               Internet computing      2007.0            24.0  \n",
       "20                             None      2007.0            18.0  \n",
       "21                             None      2007.0            24.0  \n",
       "22          Foundations of Software      2007.0            24.0  \n",
       "23                             None      2007.0            24.0  \n",
       "24               Internet computing      2007.0            24.0  \n",
       "25                             None      2007.0            18.0  \n",
       "26                             None      2008.0            30.0  \n",
       "27                             None      2008.0            24.0  \n",
       "28                             None      2007.0            18.0  \n",
       "29                             None      2009.0            24.0  \n",
       "..                              ...         ...             ...  \n",
       "734                            None      2015.0            18.0  \n",
       "735                            None      2015.0            18.0  \n",
       "736                            None      2015.0            18.0  \n",
       "737                            None      2015.0            24.0  \n",
       "738                            None      2015.0            18.0  \n",
       "739                            None      2015.0            24.0  \n",
       "740                            None      2015.0            24.0  \n",
       "741       Information Security - SP      2015.0            18.0  \n",
       "742                            None      2015.0            24.0  \n",
       "743                            None      2015.0            18.0  \n",
       "744                  Data Analytics      2015.0            18.0  \n",
       "745                            None      2015.0            24.0  \n",
       "746                            None      2015.0            24.0  \n",
       "747              Internet computing      2015.0            24.0  \n",
       "748                            None      2015.0            18.0  \n",
       "749                            None      2015.0            18.0  \n",
       "750                            None      2015.0            18.0  \n",
       "751                            None      2015.0            24.0  \n",
       "752                Software Systems      2015.0            18.0  \n",
       "753                            None      2015.0            18.0  \n",
       "754                            None      2015.0            24.0  \n",
       "755                            None      2015.0            24.0  \n",
       "756                            None      2015.0            18.0  \n",
       "757                            None      2015.0            18.0  \n",
       "758                            None      2015.0            18.0  \n",
       "759                Software Systems      2015.0            18.0  \n",
       "760                            None      2015.0            18.0  \n",
       "761                            None      2015.0            18.0  \n",
       "762                Software Systems      2015.0            24.0  \n",
       "763                            None      2015.0            18.0  \n",
       "\n",
       "[764 rows x 7 columns]"
      ]
     },
     "execution_count": 81,
     "metadata": {},
     "output_type": "execute_result"
    }
   ],
   "source": [
    "aa1=aa.reset_index(drop=True)\n",
    "aa1"
   ]
  },
  {
   "cell_type": "code",
   "execution_count": 52,
   "metadata": {
    "collapsed": false
   },
   "outputs": [
    {
     "data": {
      "text/plain": [
       "24.801047120418847"
      ]
     },
     "execution_count": 52,
     "metadata": {},
     "output_type": "execute_result"
    }
   ],
   "source": [
    "general_dur.mean()"
   ]
  },
  {
   "cell_type": "code",
   "execution_count": 53,
   "metadata": {
    "collapsed": false
   },
   "outputs": [
    {
     "data": {
      "text/plain": [
       "Ttest_indResult(statistic=-4.2163948214600699, pvalue=2.7680174474771483e-05)"
      ]
     },
     "execution_count": 53,
     "metadata": {},
     "output_type": "execute_result"
    }
   ],
   "source": [
    "stats.ttest_ind(general_dur, df_Signals_dur)"
   ]
  },
  {
   "cell_type": "code",
   "execution_count": 54,
   "metadata": {
    "collapsed": false
   },
   "outputs": [
    {
     "data": {
      "text/plain": [
       "Ttest_indResult(statistic=-4.555324209320645, pvalue=5.9934131304556089e-06)"
      ]
     },
     "execution_count": 54,
     "metadata": {},
     "output_type": "execute_result"
    }
   ],
   "source": [
    "stats.ttest_ind(general_dur, df_Internetcomputing_dur)"
   ]
  },
  {
   "cell_type": "code",
   "execution_count": 55,
   "metadata": {
    "collapsed": false
   },
   "outputs": [
    {
     "data": {
      "text/plain": [
       "Ttest_indResult(statistic=-1.7257839794652425, pvalue=0.084789554599280018)"
      ]
     },
     "execution_count": 55,
     "metadata": {},
     "output_type": "execute_result"
    }
   ],
   "source": [
    "stats.ttest_ind(general_dur, df_Biocomputing_dur)"
   ]
  },
  {
   "cell_type": "code",
   "execution_count": 56,
   "metadata": {
    "collapsed": false
   },
   "outputs": [
    {
     "data": {
      "text/plain": [
       "Ttest_indResult(statistic=-4.5489075810562758, pvalue=6.2036451290649428e-06)"
      ]
     },
     "execution_count": 56,
     "metadata": {},
     "output_type": "execute_result"
    }
   ],
   "source": [
    "stats.ttest_ind(general_dur, df_FoundationsofSoftware_dur)"
   ]
  },
  {
   "cell_type": "code",
   "execution_count": 57,
   "metadata": {
    "collapsed": false
   },
   "outputs": [
    {
     "data": {
      "text/plain": [
       "Ttest_indResult(statistic=-0.7385280910631068, pvalue=0.46041518867225095)"
      ]
     },
     "execution_count": 57,
     "metadata": {},
     "output_type": "execute_result"
    }
   ],
   "source": [
    "stats.ttest_ind(general_dur, df_ComputerEngineering_dur)"
   ]
  },
  {
   "cell_type": "code",
   "execution_count": 70,
   "metadata": {
    "collapsed": false
   },
   "outputs": [
    {
     "data": {
      "text/plain": [
       "Ttest_indResult(statistic=-1.1614806511556102, pvalue=0.30906179289773106)"
      ]
     },
     "execution_count": 70,
     "metadata": {},
     "output_type": "execute_result"
    }
   ],
   "source": [
    "stats.ttest_ind(general_dur, df_Servicescience_dur)"
   ]
  },
  {
   "cell_type": "code",
   "execution_count": 59,
   "metadata": {
    "collapsed": false
   },
   "outputs": [
    {
     "data": {
      "text/plain": [
       "Ttest_indResult(statistic=0.30528282176362936, pvalue=0.76023230943792064)"
      ]
     },
     "execution_count": 59,
     "metadata": {},
     "output_type": "execute_result"
    }
   ],
   "source": [
    "stats.ttest_ind(general_dur, df_SoftwareSystems_dur)"
   ]
  },
  {
   "cell_type": "code",
   "execution_count": 60,
   "metadata": {
    "collapsed": false
   },
   "outputs": [
    {
     "data": {
      "text/plain": [
       "Ttest_indResult(statistic=1.4793014650653615, pvalue=0.13946927216856539)"
      ]
     },
     "execution_count": 60,
     "metadata": {},
     "output_type": "execute_result"
    }
   ],
   "source": [
    "stats.ttest_ind(general_dur, df_InformationSecurity_dur)"
   ]
  },
  {
   "cell_type": "code",
   "execution_count": 67,
   "metadata": {
    "collapsed": false
   },
   "outputs": [
    {
     "data": {
      "text/plain": [
       "Ttest_indResult(statistic=2.0830598126568272, pvalue=0.037576457618531275)"
      ]
     },
     "execution_count": 67,
     "metadata": {},
     "output_type": "execute_result"
    }
   ],
   "source": [
    "stats.ttest_ind(general_dur, df_DataAnalytics_dur)"
   ]
  },
  {
   "cell_type": "code",
   "execution_count": 62,
   "metadata": {
    "collapsed": false
   },
   "outputs": [
    {
     "name": "stderr",
     "output_type": "stream",
     "text": [
      "/Users/Ray/anaconda/lib/python3.5/site-packages/numpy/core/_methods.py:82: RuntimeWarning: Degrees of freedom <= 0 for slice\n",
      "  warnings.warn(\"Degrees of freedom <= 0 for slice\", RuntimeWarning)\n"
     ]
    },
    {
     "data": {
      "text/plain": [
       "Ttest_indResult(statistic=nan, pvalue=nan)"
      ]
     },
     "execution_count": 62,
     "metadata": {},
     "output_type": "execute_result"
    }
   ],
   "source": [
    "stats.ttest_ind(general_dur, df_InternetInformationSystems_dur)"
   ]
  },
  {
   "cell_type": "code",
   "execution_count": 63,
   "metadata": {
    "collapsed": false
   },
   "outputs": [
    {
     "name": "stderr",
     "output_type": "stream",
     "text": [
      "/Users/Ray/anaconda/lib/python3.5/site-packages/numpy/core/_methods.py:82: RuntimeWarning: Degrees of freedom <= 0 for slice\n",
      "  warnings.warn(\"Degrees of freedom <= 0 for slice\", RuntimeWarning)\n"
     ]
    },
    {
     "data": {
      "text/plain": [
       "Ttest_indResult(statistic=nan, pvalue=nan)"
      ]
     },
     "execution_count": 63,
     "metadata": {},
     "output_type": "execute_result"
    }
   ],
   "source": [
    "stats.ttest_ind(general_dur, df_ComputerScienceTheory_dur)"
   ]
  },
  {
   "cell_type": "code",
   "execution_count": null,
   "metadata": {
    "collapsed": true
   },
   "outputs": [],
   "source": []
  },
  {
   "cell_type": "code",
   "execution_count": null,
   "metadata": {
    "collapsed": true
   },
   "outputs": [],
   "source": []
  },
  {
   "cell_type": "code",
   "execution_count": null,
   "metadata": {
    "collapsed": true
   },
   "outputs": [],
   "source": []
  },
  {
   "cell_type": "code",
   "execution_count": null,
   "metadata": {
    "collapsed": true
   },
   "outputs": [],
   "source": []
  },
  {
   "cell_type": "code",
   "execution_count": null,
   "metadata": {
    "collapsed": true
   },
   "outputs": [],
   "source": []
  },
  {
   "cell_type": "code",
   "execution_count": null,
   "metadata": {
    "collapsed": true
   },
   "outputs": [],
   "source": []
  }
 ],
 "metadata": {
  "anaconda-cloud": {},
  "kernelspec": {
   "display_name": "Python [Root]",
   "language": "python",
   "name": "Python [Root]"
  },
  "language_info": {
   "codemirror_mode": {
    "name": "ipython",
    "version": 3
   },
   "file_extension": ".py",
   "mimetype": "text/x-python",
   "name": "python",
   "nbconvert_exporter": "python",
   "pygments_lexer": "ipython3",
   "version": "3.5.2"
  }
 },
 "nbformat": 4,
 "nbformat_minor": 0
}
