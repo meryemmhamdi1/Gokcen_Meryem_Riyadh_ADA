{
 "cells": [
  {
   "cell_type": "code",
   "execution_count": 54,
   "metadata": {
    "collapsed": false
   },
   "outputs": [],
   "source": [
    "import pandas as pd\n",
    "from pprint import pprint as pp\n",
    "from sklearn import preprocessing\n",
    "import matplotlib.pyplot as plt\n",
    "from sklearn.model_selection import train_test_split\n",
    "import matplotlib.pyplot as plt\n",
    "%matplotlib inline\n",
    "from __future__ import division"
   ]
  },
  {
   "cell_type": "markdown",
   "metadata": {},
   "source": [
    "# 1. Exploratory Data Analysis"
   ]
  },
  {
   "cell_type": "markdown",
   "metadata": {},
   "source": [
    "## 1.1. Data Cleaning and Pre-Processing"
   ]
  },
  {
   "cell_type": "code",
   "execution_count": 2,
   "metadata": {
    "collapsed": false
   },
   "outputs": [
    {
     "data": {
      "text/html": [
       "<div>\n",
       "<table border=\"1\" class=\"dataframe\">\n",
       "  <thead>\n",
       "    <tr style=\"text-align: right;\">\n",
       "      <th></th>\n",
       "      <th>playerShort</th>\n",
       "      <th>player</th>\n",
       "      <th>club</th>\n",
       "      <th>leagueCountry</th>\n",
       "      <th>birthday</th>\n",
       "      <th>height</th>\n",
       "      <th>weight</th>\n",
       "      <th>position</th>\n",
       "      <th>games</th>\n",
       "      <th>victories</th>\n",
       "      <th>...</th>\n",
       "      <th>rater2</th>\n",
       "      <th>refNum</th>\n",
       "      <th>refCountry</th>\n",
       "      <th>Alpha_3</th>\n",
       "      <th>meanIAT</th>\n",
       "      <th>nIAT</th>\n",
       "      <th>seIAT</th>\n",
       "      <th>meanExp</th>\n",
       "      <th>nExp</th>\n",
       "      <th>seExp</th>\n",
       "    </tr>\n",
       "  </thead>\n",
       "  <tbody>\n",
       "    <tr>\n",
       "      <th>0</th>\n",
       "      <td>lucas-wilchez</td>\n",
       "      <td>Lucas Wilchez</td>\n",
       "      <td>Real Zaragoza</td>\n",
       "      <td>Spain</td>\n",
       "      <td>31.08.1983</td>\n",
       "      <td>177.0</td>\n",
       "      <td>72.0</td>\n",
       "      <td>Attacking Midfielder</td>\n",
       "      <td>1</td>\n",
       "      <td>0</td>\n",
       "      <td>...</td>\n",
       "      <td>0.50</td>\n",
       "      <td>1</td>\n",
       "      <td>1</td>\n",
       "      <td>GRC</td>\n",
       "      <td>0.326391</td>\n",
       "      <td>712.0</td>\n",
       "      <td>0.000564</td>\n",
       "      <td>0.396000</td>\n",
       "      <td>750.0</td>\n",
       "      <td>0.002696</td>\n",
       "    </tr>\n",
       "    <tr>\n",
       "      <th>1</th>\n",
       "      <td>john-utaka</td>\n",
       "      <td>John Utaka</td>\n",
       "      <td>Montpellier HSC</td>\n",
       "      <td>France</td>\n",
       "      <td>08.01.1982</td>\n",
       "      <td>179.0</td>\n",
       "      <td>82.0</td>\n",
       "      <td>Right Winger</td>\n",
       "      <td>1</td>\n",
       "      <td>0</td>\n",
       "      <td>...</td>\n",
       "      <td>0.75</td>\n",
       "      <td>2</td>\n",
       "      <td>2</td>\n",
       "      <td>ZMB</td>\n",
       "      <td>0.203375</td>\n",
       "      <td>40.0</td>\n",
       "      <td>0.010875</td>\n",
       "      <td>-0.204082</td>\n",
       "      <td>49.0</td>\n",
       "      <td>0.061504</td>\n",
       "    </tr>\n",
       "    <tr>\n",
       "      <th>2</th>\n",
       "      <td>abdon-prats</td>\n",
       "      <td>Abdón Prats</td>\n",
       "      <td>RCD Mallorca</td>\n",
       "      <td>Spain</td>\n",
       "      <td>17.12.1992</td>\n",
       "      <td>181.0</td>\n",
       "      <td>79.0</td>\n",
       "      <td>NaN</td>\n",
       "      <td>1</td>\n",
       "      <td>0</td>\n",
       "      <td>...</td>\n",
       "      <td>NaN</td>\n",
       "      <td>3</td>\n",
       "      <td>3</td>\n",
       "      <td>ESP</td>\n",
       "      <td>0.369894</td>\n",
       "      <td>1785.0</td>\n",
       "      <td>0.000229</td>\n",
       "      <td>0.588297</td>\n",
       "      <td>1897.0</td>\n",
       "      <td>0.001002</td>\n",
       "    </tr>\n",
       "    <tr>\n",
       "      <th>3</th>\n",
       "      <td>pablo-mari</td>\n",
       "      <td>Pablo Marí</td>\n",
       "      <td>RCD Mallorca</td>\n",
       "      <td>Spain</td>\n",
       "      <td>31.08.1993</td>\n",
       "      <td>191.0</td>\n",
       "      <td>87.0</td>\n",
       "      <td>Center Back</td>\n",
       "      <td>1</td>\n",
       "      <td>1</td>\n",
       "      <td>...</td>\n",
       "      <td>NaN</td>\n",
       "      <td>3</td>\n",
       "      <td>3</td>\n",
       "      <td>ESP</td>\n",
       "      <td>0.369894</td>\n",
       "      <td>1785.0</td>\n",
       "      <td>0.000229</td>\n",
       "      <td>0.588297</td>\n",
       "      <td>1897.0</td>\n",
       "      <td>0.001002</td>\n",
       "    </tr>\n",
       "    <tr>\n",
       "      <th>4</th>\n",
       "      <td>ruben-pena</td>\n",
       "      <td>Rubén Peña</td>\n",
       "      <td>Real Valladolid</td>\n",
       "      <td>Spain</td>\n",
       "      <td>18.07.1991</td>\n",
       "      <td>172.0</td>\n",
       "      <td>70.0</td>\n",
       "      <td>Right Midfielder</td>\n",
       "      <td>1</td>\n",
       "      <td>1</td>\n",
       "      <td>...</td>\n",
       "      <td>NaN</td>\n",
       "      <td>3</td>\n",
       "      <td>3</td>\n",
       "      <td>ESP</td>\n",
       "      <td>0.369894</td>\n",
       "      <td>1785.0</td>\n",
       "      <td>0.000229</td>\n",
       "      <td>0.588297</td>\n",
       "      <td>1897.0</td>\n",
       "      <td>0.001002</td>\n",
       "    </tr>\n",
       "  </tbody>\n",
       "</table>\n",
       "<p>5 rows × 28 columns</p>\n",
       "</div>"
      ],
      "text/plain": [
       "     playerShort         player             club leagueCountry    birthday  \\\n",
       "0  lucas-wilchez  Lucas Wilchez    Real Zaragoza         Spain  31.08.1983   \n",
       "1     john-utaka     John Utaka  Montpellier HSC        France  08.01.1982   \n",
       "2    abdon-prats    Abdón Prats     RCD Mallorca         Spain  17.12.1992   \n",
       "3     pablo-mari     Pablo Marí     RCD Mallorca         Spain  31.08.1993   \n",
       "4     ruben-pena     Rubén Peña  Real Valladolid         Spain  18.07.1991   \n",
       "\n",
       "   height  weight              position  games  victories    ...     rater2  \\\n",
       "0   177.0    72.0  Attacking Midfielder      1          0    ...       0.50   \n",
       "1   179.0    82.0          Right Winger      1          0    ...       0.75   \n",
       "2   181.0    79.0                   NaN      1          0    ...        NaN   \n",
       "3   191.0    87.0           Center Back      1          1    ...        NaN   \n",
       "4   172.0    70.0      Right Midfielder      1          1    ...        NaN   \n",
       "\n",
       "   refNum  refCountry  Alpha_3   meanIAT    nIAT     seIAT   meanExp    nExp  \\\n",
       "0       1           1      GRC  0.326391   712.0  0.000564  0.396000   750.0   \n",
       "1       2           2      ZMB  0.203375    40.0  0.010875 -0.204082    49.0   \n",
       "2       3           3      ESP  0.369894  1785.0  0.000229  0.588297  1897.0   \n",
       "3       3           3      ESP  0.369894  1785.0  0.000229  0.588297  1897.0   \n",
       "4       3           3      ESP  0.369894  1785.0  0.000229  0.588297  1897.0   \n",
       "\n",
       "      seExp  \n",
       "0  0.002696  \n",
       "1  0.061504  \n",
       "2  0.001002  \n",
       "3  0.001002  \n",
       "4  0.001002  \n",
       "\n",
       "[5 rows x 28 columns]"
      ]
     },
     "execution_count": 2,
     "metadata": {},
     "output_type": "execute_result"
    }
   ],
   "source": [
    "crowdstorming_df = pd.read_csv('Data/CrowdstormingDataJuly1st.csv')\n",
    "crowdstorming_df.head()"
   ]
  },
  {
   "cell_type": "code",
   "execution_count": 3,
   "metadata": {
    "collapsed": false
   },
   "outputs": [
    {
     "data": {
      "text/plain": [
       "(146028, 28)"
      ]
     },
     "execution_count": 3,
     "metadata": {},
     "output_type": "execute_result"
    }
   ],
   "source": [
    "crowdstorming_df.shape"
   ]
  },
  {
   "cell_type": "code",
   "execution_count": 4,
   "metadata": {
    "collapsed": false
   },
   "outputs": [
    {
     "data": {
      "text/plain": [
       "playerShort      False\n",
       "player           False\n",
       "club             False\n",
       "leagueCountry    False\n",
       "birthday         False\n",
       "height            True\n",
       "weight            True\n",
       "position          True\n",
       "games            False\n",
       "victories        False\n",
       "ties             False\n",
       "defeats          False\n",
       "goals            False\n",
       "yellowCards      False\n",
       "yellowReds       False\n",
       "redCards         False\n",
       "photoID           True\n",
       "rater1            True\n",
       "rater2            True\n",
       "refNum           False\n",
       "refCountry       False\n",
       "Alpha_3           True\n",
       "meanIAT           True\n",
       "nIAT              True\n",
       "seIAT             True\n",
       "meanExp           True\n",
       "nExp              True\n",
       "seExp             True\n",
       "dtype: bool"
      ]
     },
     "execution_count": 4,
     "metadata": {},
     "output_type": "execute_result"
    }
   ],
   "source": [
    "#crowdstorming_df.describe()\n",
    "crowdstorming_df.isnull().any()"
   ]
  },
  {
   "cell_type": "markdown",
   "metadata": {},
   "source": [
    "From the description, we can conclude the following:\n",
    "* There are missing values on rater1, rater2 and photoID and since our goal is to build a classifier based on those labels we decided to drop rows with nan values for those columns. \n",
    "* There are missing values in height, weight. A tentative solution is to replace those values by average heights and weights of people who belong to the same leagueCountry or people with same position (for e.g: goalkeeper is usually taller), but it is safe to do it and we don't have a lot of missing values. So, we decided to drop them.\n",
    "* There are missing values for Alpha_3, meanIAT, nIAT, seIAT, meanExp, nExp, seExp. Those we also decided to drop."
   ]
  },
  {
   "cell_type": "code",
   "execution_count": 5,
   "metadata": {
    "collapsed": false
   },
   "outputs": [],
   "source": [
    "crowdstorming_df = crowdstorming_df.dropna()"
   ]
  },
  {
   "cell_type": "markdown",
   "metadata": {},
   "source": [
    "## 1.2. Aggregating player-referee information by player"
   ]
  },
  {
   "cell_type": "code",
   "execution_count": 6,
   "metadata": {
    "collapsed": true
   },
   "outputs": [],
   "source": [
    "f = {'club':'first',\n",
    "     'leagueCountry':'first',\n",
    "     'birthday':'first',\n",
    "     'height':'first', \n",
    "     'weight':'first',\n",
    "     'games': 'sum', \n",
    "     'victories':'sum',\n",
    "     'ties': 'sum',\n",
    "     'defeats': 'sum', \n",
    "     'goals': 'sum', \n",
    "     'yellowCards': 'sum', \n",
    "     'yellowReds': 'sum', \n",
    "     'redCards': 'sum',\n",
    "     'photoID':'first',\n",
    "     'position':'first',\n",
    "     'refNum':'first',\n",
    "     'refCountry':'first',\n",
    "     'Alpha_3':'first',\n",
    "     'meanIAT':'mean',\n",
    "     'nIAT':'mean', \n",
    "     'seIAT':'mean',\n",
    "     'meanExp': 'mean',\n",
    "     'nExp':'mean', \n",
    "     'seExp':'mean',\n",
    "     'rater1':'mean',\n",
    "     'rater2':'mean'\n",
    "    }\n",
    "crowdstorming_df_player_agg = crowdstorming_df.groupby(['playerShort']).agg(f)"
   ]
  },
  {
   "cell_type": "markdown",
   "metadata": {},
   "source": [
    "## 1.3. Encoding Categorical to Numerical Values"
   ]
  },
  {
   "cell_type": "markdown",
   "metadata": {},
   "source": [
    "Since we want to use RandomForest Classifier, we need to convert all columns with categorical values into numerical values. Let's check for the categorical features:"
   ]
  },
  {
   "cell_type": "code",
   "execution_count": 7,
   "metadata": {
    "collapsed": false
   },
   "outputs": [
    {
     "data": {
      "text/plain": [
       "weight           float64\n",
       "nExp             float64\n",
       "height           float64\n",
       "meanExp          float64\n",
       "rater2           float64\n",
       "yellowReds         int64\n",
       "leagueCountry     object\n",
       "rater1           float64\n",
       "club              object\n",
       "victories          int64\n",
       "seExp            float64\n",
       "Alpha_3           object\n",
       "yellowCards        int64\n",
       "photoID           object\n",
       "nIAT             float64\n",
       "birthday          object\n",
       "goals              int64\n",
       "ties               int64\n",
       "defeats            int64\n",
       "meanIAT          float64\n",
       "refCountry         int64\n",
       "refNum             int64\n",
       "seIAT            float64\n",
       "games              int64\n",
       "position          object\n",
       "redCards           int64\n",
       "dtype: object"
      ]
     },
     "execution_count": 7,
     "metadata": {},
     "output_type": "execute_result"
    }
   ],
   "source": [
    "crowdstorming_df_player_agg.dtypes"
   ]
  },
  {
   "cell_type": "markdown",
   "metadata": {},
   "source": [
    "From the description above, the set of categorical features include:\n",
    "* club\n",
    "* leagueCountry\n",
    "* birthday \n",
    "* position \n",
    "* Alpha_3"
   ]
  },
  {
   "cell_type": "code",
   "execution_count": 8,
   "metadata": {
    "collapsed": false
   },
   "outputs": [],
   "source": [
    "le = preprocessing.LabelEncoder()\n",
    "\n",
    "crowdstorming_df_num = crowdstorming_df_player_agg \n",
    "\n",
    "# Converting club String to numerical representation\n",
    "le.fit(list(set(crowdstorming_df_player_agg['club'])))\n",
    "crowdstorming_df_num['club'] = le.transform(crowdstorming_df_player_agg['club']) \n",
    "\n",
    "\n",
    "# Converting leagueCountry String to numerical representation\n",
    "le.fit(list(set(crowdstorming_df_player_agg['leagueCountry'])))\n",
    "crowdstorming_df_num['leagueCountry'] = le.transform(crowdstorming_df_player_agg['leagueCountry']) \n",
    "\n",
    "# Converting birthday String to numerical representation\n",
    "le.fit(list(set(crowdstorming_df_player_agg['birthday'])))\n",
    "crowdstorming_df_num['birthday'] = le.transform(crowdstorming_df_player_agg['birthday']) \n",
    "\n",
    "\n",
    "# Converting position String to numerical representation\n",
    "le.fit(list(set(crowdstorming_df_player_agg['position'])))\n",
    "crowdstorming_df_num['position'] = le.transform(crowdstorming_df_player_agg['position']) \n",
    "\n",
    "# Converting position String to numerical representation\n",
    "le.fit(list(set(crowdstorming_df_player_agg['Alpha_3'])))\n",
    "crowdstorming_df_num['Alpha_3'] = le.transform(crowdstorming_df_player_agg['Alpha_3']) "
   ]
  },
  {
   "cell_type": "markdown",
   "metadata": {},
   "source": [
    "## 1.4. Binary & Multi-Class Classification Labels"
   ]
  },
  {
   "cell_type": "markdown",
   "metadata": {},
   "source": [
    "### a. Inconsistent Labels:"
   ]
  },
  {
   "cell_type": "code",
   "execution_count": 27,
   "metadata": {
    "collapsed": false
   },
   "outputs": [
    {
     "name": "stdout",
     "output_type": "stream",
     "text": [
      "set([0.0, 0.25, 0.5, 0.75, 1.0])\n",
      "set([0.0, 0.25, 0.5, 0.75, 1.0])\n"
     ]
    }
   ],
   "source": [
    "pp(set(crowdstorming_df_num['rater1']))\n",
    "pp(set(crowdstorming_df_num['rater2']))"
   ]
  },
  {
   "cell_type": "markdown",
   "metadata": {
    "collapsed": true
   },
   "source": [
    "So, there are 5 different rating values. In this supervised task, we have two target variables (rater1 and rater2). Instead of randomly picking one of the two, let us start by looking at the differences between rater1 and rater2 by calculating:\n",
    "* The number of players for which rater1 and rater2 have at least 0.5 difference\n",
    "* The number of players for which rater1 and rater2 have at least 0.25 difference\n",
    "* The number of players for which rater1 and rater2 are similar"
   ]
  },
  {
   "cell_type": "code",
   "execution_count": 30,
   "metadata": {
    "collapsed": false,
    "scrolled": true
   },
   "outputs": [
    {
     "data": {
      "text/plain": [
       "0.5"
      ]
     },
     "execution_count": 30,
     "metadata": {},
     "output_type": "execute_result"
    }
   ],
   "source": [
    "(abs(crowdstorming_df_num['rater1'] - crowdstorming_df_num['rater2'])).max()"
   ]
  },
  {
   "cell_type": "code",
   "execution_count": 53,
   "metadata": {
    "collapsed": false
   },
   "outputs": [
    {
     "name": "stdout",
     "output_type": "stream",
     "text": [
      "'Number of ratings for which rater1 and rater2 agree: 1071'\n",
      "'Percentage of ratings for which rater1 and rater2 agree over all ratings: 0.754756871036'\n"
     ]
    }
   ],
   "source": [
    "count = 0\n",
    "for i in range(0,len(crowdstorming_df_num)):\n",
    "    if abs(crowdstorming_df_num.iloc[i]['rater1'] - crowdstorming_df_num.iloc[i]['rater2']) == 0:\n",
    "        count+=1\n",
    "pp(\"Number of ratings for which rater1 and rater2 agree: \"+str(count))\n",
    "pp(\"Percentage of ratings for which rater1 and rater2 agree over all ratings: \"+ str(count/len(crowdstorming_df_num)))"
   ]
  },
  {
   "cell_type": "code",
   "execution_count": 36,
   "metadata": {
    "collapsed": false
   },
   "outputs": [
    {
     "name": "stdout",
     "output_type": "stream",
     "text": [
      "Number of ratings for which difference between rater1 and rater2 is 0.25: 346\n"
     ]
    }
   ],
   "source": [
    "# Number of ratings for which difference between rater1 and rater2 is 0.25\n",
    "count = 0\n",
    "for i in range(0,len(crowdstorming_df_num)):\n",
    "    if abs(crowdstorming_df_num.iloc[i]['rater1'] - crowdstorming_df_num.iloc[i]['rater2']) == 0.25:\n",
    "        count+=1\n",
    "print \"Number of ratings for which difference between rater1 and rater2 is 0.25: \"+str(count)"
   ]
  },
  {
   "cell_type": "code",
   "execution_count": 37,
   "metadata": {
    "collapsed": false
   },
   "outputs": [
    {
     "name": "stdout",
     "output_type": "stream",
     "text": [
      "Number of ratings for which difference between rater1 and rater2 is 0.5: 2\n"
     ]
    }
   ],
   "source": [
    "# Number of ratings for which difference between rater1 and rater2 is 0.25\n",
    "count = 0\n",
    "for i in range(0,len(crowdstorming_df_num)):\n",
    "    if abs(crowdstorming_df_num.iloc[i]['rater1'] - crowdstorming_df_num.iloc[i]['rater2']) == 0.5:\n",
    "        count+=1\n",
    "print \"Number of ratings for which difference between rater1 and rater2 is 0.5: \"+str(count)"
   ]
  },
  {
   "cell_type": "code",
   "execution_count": 48,
   "metadata": {
    "collapsed": false
   },
   "outputs": [
    {
     "name": "stdout",
     "output_type": "stream",
     "text": [
      "0.00    574\n",
      "0.25    493\n",
      "0.50    151\n",
      "0.75    115\n",
      "1.00     86\n",
      "Name: rater1, dtype: int64\n",
      "0.25    625\n",
      "0.00    410\n",
      "0.50    159\n",
      "0.75    117\n",
      "1.00    108\n",
      "Name: rater2, dtype: int64\n"
     ]
    }
   ],
   "source": [
    "pp(crowdstorming_df_num['rater1'].value_counts())\n",
    "pp(crowdstorming_df_num['rater2'].value_counts())"
   ]
  },
  {
   "cell_type": "markdown",
   "metadata": {},
   "source": [
    "Based on this analysis, we can see inconsistent labelling for less than 25% of the cases. We have decided to drop players for which difference in rating between the two raters is more than 0.5 (since there are only 2). For the ones for which the difference is 0.25, we try with two different approaches:\n",
    "* Taking the average: this can be problematic depending on the number of classes we want to use (if a player has 0.25 from rater1 and 0.5 from rater2, then taking the average will lead to rater1 dominating a binary classification)\n",
    "* Keeping the two vectors for raters and training them separately to compare the results."
   ]
  },
  {
   "cell_type": "code",
   "execution_count": 9,
   "metadata": {
    "collapsed": false
   },
   "outputs": [],
   "source": [
    "# Averaging over rater1 and rater2: \n",
    "crowdstorming_df_num['meanRating'] = (crowdstorming_df_num['rater1'] + crowdstorming_df_num['rater2'])/2\n",
    "# Create Categories for Binary Classification\n",
    "def binaryColor(x):\n",
    "    if x < 0.5: \n",
    "        return 0\n",
    "    else: \n",
    "        return 1\n",
    "crowdstorming_df_num['BinaryColorClass'] = crowdstorming_df_num['meanRating'].apply(binaryColor) \n",
    "\n",
    "# Create Categories for Multi Classification\n",
    "def multiColor(x):\n",
    "    if x < 0.25: \n",
    "        return 0\n",
    "    elif 0.25 <= x <0.5: \n",
    "        return 1\n",
    "    elif 0.5 <= x < 0.75:\n",
    "        return 2\n",
    "    elif 0.75 <= x <= 1:\n",
    "        return 3\n",
    "crowdstorming_df_num['MultiColorClass'] = crowdstorming_df_num['meanRating'].apply(multiColor) "
   ]
  },
  {
   "cell_type": "code",
   "execution_count": 67,
   "metadata": {
    "collapsed": false
   },
   "outputs": [],
   "source": [
    "features_player = ['weight', 'nExp', 'height', 'meanExp', 'yellowReds',\n",
    "       'leagueCountry', 'club', 'victories', 'seExp', 'Alpha_3',\n",
    "       'yellowCards', 'nIAT', 'birthday', 'goals', 'ties',\n",
    "       'defeats','games','position', 'redCards']\n",
    "features_referee = ['meanIAT', 'refCountry', 'refNum', 'seIAT']\n",
    "X = crowdstorming_df_num [features_player]\n",
    "y_binary = crowdstorming_df_num ['BinaryColorClass']\n",
    "y_multi = crowdstorming_df_num ['MultiColorClass']"
   ]
  },
  {
   "cell_type": "markdown",
   "metadata": {},
   "source": [
    "#### b. Unbalanced Classes:"
   ]
  },
  {
   "cell_type": "markdown",
   "metadata": {},
   "source": [
    "Let us look at the skew in the number of classes: "
   ]
  },
  {
   "cell_type": "code",
   "execution_count": 56,
   "metadata": {
    "collapsed": false
   },
   "outputs": [
    {
     "data": {
      "text/plain": [
       "<matplotlib.axes._subplots.AxesSubplot at 0x7fb2b86eaad0>"
      ]
     },
     "execution_count": 56,
     "metadata": {},
     "output_type": "execute_result"
    },
    {
     "data": {
      "image/png": "[encoded data removed]",
      "text/plain": [
       "<matplotlib.figure.Figure at 0x7fb2d2547750>"
      ]
     },
     "metadata": {},
     "output_type": "display_data"
    }
   ],
   "source": [
    "crowdstorming_df_num['BinaryColorClass'].hist()"
   ]
  },
  {
   "cell_type": "code",
   "execution_count": 60,
   "metadata": {
    "collapsed": false
   },
   "outputs": [
    {
     "data": {
      "text/plain": [
       "0    1089\n",
       "1     330\n",
       "Name: BinaryColorClass, dtype: int64"
      ]
     },
     "execution_count": 60,
     "metadata": {},
     "output_type": "execute_result"
    }
   ],
   "source": [
    "crowdstorming_df_num['BinaryColorClass'].value_counts()"
   ]
  },
  {
   "cell_type": "code",
   "execution_count": 57,
   "metadata": {
    "collapsed": false
   },
   "outputs": [
    {
     "data": {
      "text/plain": [
       "<matplotlib.axes._subplots.AxesSubplot at 0x7fb2b8693d10>"
      ]
     },
     "execution_count": 57,
     "metadata": {},
     "output_type": "execute_result"
    },
    {
     "data": {
      "image/png": "[encoded data removed]",
      "text/plain": [
       "<matplotlib.figure.Figure at 0x7fb2b8676ed0>"
      ]
     },
     "metadata": {},
     "output_type": "display_data"
    }
   ],
   "source": [
    "crowdstorming_df_num['MultiColorClass'].hist()"
   ]
  },
  {
   "cell_type": "code",
   "execution_count": 61,
   "metadata": {
    "collapsed": false
   },
   "outputs": [
    {
     "data": {
      "text/plain": [
       "0    596\n",
       "1    493\n",
       "3    199\n",
       "2    131\n",
       "Name: MultiColorClass, dtype: int64"
      ]
     },
     "execution_count": 61,
     "metadata": {},
     "output_type": "execute_result"
    }
   ],
   "source": [
    "crowdstorming_df_num['MultiColorClass'].value_counts()"
   ]
  },
  {
   "cell_type": "markdown",
   "metadata": {},
   "source": [
    "Based on this analysis, the classes we assigned turns out to be unbalanced . To mitigate this issue, there are two different strategies we can opt for: \n",
    "* Using different metrics, especially area under curve.\n",
    "* Rebalancing the sample using weights passed to the model parameters."
   ]
  },
  {
   "cell_type": "code",
   "execution_count": 66,
   "metadata": {
    "collapsed": false
   },
   "outputs": [],
   "source": [
    "def weight_sample(labels):\n",
    "    \n",
    "    weight_class = labels.value_counts()/len(labels)\n",
    "    \n",
    "    sample_weights = []\n",
    "    for i in labels:\n",
    "        sample_weights += [weight_class[i]]\n",
    "        \n",
    "    return np.array(sample_weights)"
   ]
  },
  {
   "cell_type": "markdown",
   "metadata": {},
   "source": [
    "# 3. Supervised Learning using Random Forest"
   ]
  },
  {
   "cell_type": "markdown",
   "metadata": {},
   "source": [
    "## 3.1. Binary Classification"
   ]
  },
  {
   "cell_type": "markdown",
   "metadata": {},
   "source": [
    "### Splitting data into train and test"
   ]
  },
  {
   "cell_type": "code",
   "execution_count": 70,
   "metadata": {
    "collapsed": false
   },
   "outputs": [],
   "source": [
    "X_train, X_test, y_train_binary, y_test_binary = train_test_split(X,y_binary, test_size=0.3)"
   ]
  },
  {
   "cell_type": "code",
   "execution_count": 74,
   "metadata": {
    "collapsed": false
   },
   "outputs": [],
   "source": [
    "sample_weights_binary = weight_sample(y_train_binary)"
   ]
  },
  {
   "cell_type": "code",
   "execution_count": 75,
   "metadata": {
    "collapsed": false
   },
   "outputs": [],
   "source": [
    "# Fit a random forest to the training data for binary classification, using 100 trees\n",
    "from sklearn.ensemble import RandomForestClassifier\n",
    "forest = RandomForestClassifier(class_weight='balanced')\n",
    "\n",
    "forest_binary = forest.fit(X_train, y_train_binary, sample_weight= sample_weights_binary)"
   ]
  },
  {
   "cell_type": "markdown",
   "metadata": {},
   "source": [
    "Let's calculate the accuracy score for train binary classification "
   ]
  },
  {
   "cell_type": "code",
   "execution_count": 76,
   "metadata": {
    "collapsed": false
   },
   "outputs": [
    {
     "name": "stdout",
     "output_type": "stream",
     "text": [
      "0.980866062437\n"
     ]
    }
   ],
   "source": [
    "from sklearn import metrics\n",
    "result_binary_train = forest_binary.predict(X_train)\n",
    "print(metrics.accuracy_score(y_train_binary, result_binary_train))"
   ]
  },
  {
   "cell_type": "code",
   "execution_count": 77,
   "metadata": {
    "collapsed": false
   },
   "outputs": [
    {
     "name": "stdout",
     "output_type": "stream",
     "text": [
      "0.955082742317\n"
     ]
    }
   ],
   "source": [
    "from sklearn import metrics\n",
    "result_binary_train = forest_binary.predict(X_train)\n",
    "print(metrics.f1_score(y_train_binary, result_binary_train))"
   ]
  },
  {
   "cell_type": "markdown",
   "metadata": {},
   "source": [
    "Let's calculate the accuracy score for test binary classification"
   ]
  },
  {
   "cell_type": "code",
   "execution_count": 78,
   "metadata": {
    "collapsed": false
   },
   "outputs": [
    {
     "name": "stdout",
     "output_type": "stream",
     "text": [
      "0.765258215962\n"
     ]
    }
   ],
   "source": [
    "from sklearn import metrics\n",
    "result_binary_test = forest_binary.predict(X_test)\n",
    "print(metrics.accuracy_score(y_test_binary, result_binary_test))"
   ]
  },
  {
   "cell_type": "code",
   "execution_count": null,
   "metadata": {
    "collapsed": false
   },
   "outputs": [],
   "source": [
    "from sklearn import metrics\n",
    "result_binary_test = forest_binary.predict(X_test)\n",
    "print(metrics.f1_score(y_test_binary, result_binary_test))"
   ]
  },
  {
   "cell_type": "code",
   "execution_count": null,
   "metadata": {
    "collapsed": false
   },
   "outputs": [],
   "source": [
    "from sklearn import metrics\n",
    "result_binary_test = forest_binary.predict(X_test)\n",
    "print(metrics.precision_score(y_test_binary, result_binary_test))"
   ]
  },
  {
   "cell_type": "code",
   "execution_count": null,
   "metadata": {
    "collapsed": true
   },
   "outputs": [],
   "source": [
    "from __future__ import division\n",
    "def area_under_curve (y_train,y_pred):\n",
    "    N = len(y_train) \n",
    "    pos_train = 0\n",
    "    neg_train = 0\n",
    "    for i in range(1,N):\n",
    "        if y_train[i] == 0: \n",
    "            neg_train = neg_train + 1\n",
    "    \n",
    "    pos_train = N - neg_train\n",
    "    pos_pred = 0\n",
    "    neg_pred = 0\n",
    "    for j in range(1,N):\n",
    "        if y_pred[i]==1:\n",
    "            neg_pred = neg_pred + 1\n",
    "        else:\n",
    "            pos_pred = pos_pred + 1\n",
    "    balanced_error_rate = (1/2) * ((pos_train/(pos_train+pos_pred)) + (neg_train/(neg_train+neg_pred)))\n",
    "    return 1-balanced_error_rate"
   ]
  },
  {
   "cell_type": "code",
   "execution_count": null,
   "metadata": {
    "collapsed": false
   },
   "outputs": [],
   "source": [
    "area_under_curve (y_test_binary, result_binary_test)"
   ]
  },
  {
   "cell_type": "markdown",
   "metadata": {},
   "source": [
    "### K-Fold Cross Validation"
   ]
  },
  {
   "cell_type": "code",
   "execution_count": null,
   "metadata": {
    "collapsed": false
   },
   "outputs": [],
   "source": [
    "from sklearn.cross_validation import cross_val_score\n",
    "forest_binary = forest.fit(X_train, y_train_binary) #, sample_weight= sample_weights)\n",
    "scores_binary = cross_val_score(forest_binary,  X, y_binary, cv=10, scoring='accuracy')\n",
    "scores_binary.mean()"
   ]
  },
  {
   "cell_type": "markdown",
   "metadata": {},
   "source": [
    "## Choosing the parameters of the model"
   ]
  },
  {
   "cell_type": "code",
   "execution_count": null,
   "metadata": {
    "collapsed": false
   },
   "outputs": [],
   "source": [
    "results=[]\n",
    "n_estimator_options=[10,30,50,100,200,500,1000,2000]\n",
    "\n",
    "for trees in n_estimator_options:\n",
    "    model = RandomForestClassifier(n_estimators=trees)\n",
    "    scores_binary = cross_val_score(model,  X, y_binary, cv=10, scoring='accuracy')\n",
    "    print(trees,'trees')\n",
    "    print('score', scores_binary.mean())\n",
    "    results.append(scores_binary.mean())\n",
    "pd.Series(results, n_estimator_options).plot()"
   ]
  },
  {
   "cell_type": "code",
   "execution_count": null,
   "metadata": {
    "collapsed": false
   },
   "outputs": [],
   "source": [
    "results=[]\n",
    "min_samples_leaf_options=[1,2,3,4,5,6,7,8,9,10]\n",
    "\n",
    "for min_samples in min_samples_leaf_options:\n",
    "    model = RandomForestClassifier(min_samples_leaf=min_samples)\n",
    "    scores_binary = cross_val_score(model,  X, y_binary, cv=10, scoring='accuracy')\n",
    "    print(min_samples,'min_samples')\n",
    "    print('score', scores_binary.mean())\n",
    "    results.append(scores_binary.mean())\n",
    "pd.Series(results, min_samples_leaf_options).plot()"
   ]
  },
  {
   "cell_type": "code",
   "execution_count": null,
   "metadata": {
    "collapsed": false
   },
   "outputs": [],
   "source": [
    "model = RandomForestClassifier(n_estimators=1000, min_samples_leaf=6)\n",
    "forest_binary = model.fit(X_train, y_train_binary) #, sample_weight= sample_weights)\n",
    "scores_binary = cross_val_score(forest_binary,  X, y_binary, cv=10, scoring='accuracy')\n",
    "scores_binary.mean()"
   ]
  },
  {
   "cell_type": "code",
   "execution_count": null,
   "metadata": {
    "collapsed": false
   },
   "outputs": [],
   "source": [
    "feature_importance= pd.Series(model.feature_importances_,index=X.columns)\n",
    "feature_importance.sort()\n",
    "feature_importance.plot(kind='barh')"
   ]
  },
  {
   "cell_type": "code",
   "execution_count": null,
   "metadata": {
    "collapsed": true
   },
   "outputs": [],
   "source": []
  },
  {
   "cell_type": "markdown",
   "metadata": {},
   "source": [
    "## Bonus Part"
   ]
  },
  {
   "cell_type": "code",
   "execution_count": 62,
   "metadata": {
    "collapsed": true
   },
   "outputs": [],
   "source": [
    "from sklearn.model_selection import cross_val_score, train_test_split, cross_val_predict, learning_curve\n",
    "import numpy as np"
   ]
  },
  {
   "cell_type": "code",
   "execution_count": 63,
   "metadata": {
    "collapsed": false
   },
   "outputs": [],
   "source": [
    "def plot_learning_curve(estimator,X,Y,cv=20):\n",
    "    plt.figure()\n",
    "    plt.xlabel(\"Training examples\")\n",
    "    plt.ylabel(\"Score\")\n",
    "    train_sizes, train_scores, test_scores = learning_curve(estimator, X, Y, cv=cv, train_sizes=np.linspace(0.2,1,20),scoring=\"f1\")\n",
    "    train_scores_mean = np.mean(train_scores, axis=1)\n",
    "    train_scores_std = np.std(train_scores, axis=1)\n",
    "    test_scores_mean = np.mean(test_scores, axis=1)\n",
    "    test_scores_std = np.std(test_scores, axis=1)\n",
    "    plt.grid()\n",
    "\n",
    "    plt.fill_between(train_sizes, train_scores_mean - train_scores_std,\n",
    "                    train_scores_mean + train_scores_std, alpha=0.1, color=\"b\")\n",
    "    plt.fill_between(train_sizes, test_scores_mean - test_scores_std,\n",
    "                    test_scores_mean + test_scores_std, alpha=0.1, color=\"r\")\n",
    "    plt.plot(train_sizes, train_scores_mean, 'o-', color=\"b\",\n",
    "            label=\"Training score\")\n",
    "    plt.plot(train_sizes, test_scores_mean, 'o-', color=\"r\",\n",
    "            label=\"Cross-validation score\")\n",
    "    plt.legend(loc=\"best\")\n",
    "    plt.show()"
   ]
  },
  {
   "cell_type": "code",
   "execution_count": 64,
   "metadata": {
    "collapsed": false,
    "scrolled": true
   },
   "outputs": [
    {
     "ename": "NameError",
     "evalue": "name 'RandomForestClassifier' is not defined",
     "output_type": "error",
     "traceback": [
      "\u001b[1;31m---------------------------------------------------------------------------\u001b[0m",
      "\u001b[1;31mNameError\u001b[0m                                 Traceback (most recent call last)",
      "\u001b[1;32m<ipython-input-64-a09082b52d53>\u001b[0m in \u001b[0;36m<module>\u001b[1;34m()\u001b[0m\n\u001b[1;32m----> 1\u001b[1;33m \u001b[0mestimator\u001b[0m \u001b[1;33m=\u001b[0m \u001b[0mRandomForestClassifier\u001b[0m\u001b[1;33m(\u001b[0m\u001b[1;33m)\u001b[0m\u001b[1;33m\u001b[0m\u001b[0m\n\u001b[0m\u001b[0;32m      2\u001b[0m \u001b[1;33m\u001b[0m\u001b[0m\n\u001b[0;32m      3\u001b[0m \u001b[0mplot_learning_curve\u001b[0m\u001b[1;33m(\u001b[0m\u001b[0mestimator\u001b[0m\u001b[1;33m,\u001b[0m\u001b[0mX\u001b[0m\u001b[1;33m,\u001b[0m\u001b[0my_binary\u001b[0m\u001b[1;33m)\u001b[0m\u001b[1;33m\u001b[0m\u001b[0m\n",
      "\u001b[1;31mNameError\u001b[0m: name 'RandomForestClassifier' is not defined"
     ]
    }
   ],
   "source": [
    "estimator = RandomForestClassifier()    \n",
    "\n",
    "plot_learning_curve(estimator,X,y_binary)   \n"
   ]
  },
  {
   "cell_type": "code",
   "execution_count": null,
   "metadata": {
    "collapsed": false
   },
   "outputs": [],
   "source": [
    "estimator = RandomForestClassifier(n_estimators = 6, max_features = 10)    \n",
    "plot_learning_curve(estimator,X,y_binary)   "
   ]
  },
  {
   "cell_type": "code",
   "execution_count": null,
   "metadata": {
    "collapsed": false,
    "scrolled": false
   },
   "outputs": [],
   "source": [
    "estimator = RandomForestClassifier(max_depth = )    \n",
    "plot_learning_curve(estimator,X,y_binary)   "
   ]
  },
  {
   "cell_type": "code",
   "execution_count": null,
   "metadata": {
    "collapsed": false
   },
   "outputs": [],
   "source": [
    "estimator = RandomForestClassifier(n_estimators=50)    \n",
    "plot_learning_curve(estimator,X,y_binary)  "
   ]
  },
  {
   "cell_type": "code",
   "execution_count": null,
   "metadata": {
    "collapsed": false
   },
   "outputs": [],
   "source": [
    "estimator = RandomForestClassifier(n_estimators=2)    \n",
    "plot_learning_curve(estimator,X,y_binary)   "
   ]
  },
  {
   "cell_type": "code",
   "execution_count": null,
   "metadata": {
    "collapsed": true
   },
   "outputs": [],
   "source": []
  },
  {
   "cell_type": "code",
   "execution_count": null,
   "metadata": {
    "collapsed": true
   },
   "outputs": [],
   "source": []
  },
  {
   "cell_type": "code",
   "execution_count": null,
   "metadata": {
    "collapsed": true
   },
   "outputs": [],
   "source": []
  },
  {
   "cell_type": "code",
   "execution_count": null,
   "metadata": {
    "collapsed": true
   },
   "outputs": [],
   "source": []
  },
  {
   "cell_type": "markdown",
   "metadata": {
    "collapsed": true
   },
   "source": [
    "# 3.2. Multi-Class Classification"
   ]
  },
  {
   "cell_type": "markdown",
   "metadata": {},
   "source": [
    "### Splitting data into train and test"
   ]
  },
  {
   "cell_type": "code",
   "execution_count": null,
   "metadata": {
    "collapsed": true
   },
   "outputs": [],
   "source": [
    "from sklearn.model_selection import train_test_split\n",
    "X_train, X_test, y_train_multi, y_test_multi = train_test_split(X,y_multi, test_size=0.3)"
   ]
  },
  {
   "cell_type": "code",
   "execution_count": null,
   "metadata": {
    "collapsed": false
   },
   "outputs": [],
   "source": [
    "# Fit a random forest to the training data for multi-class classification, using 100 trees\n",
    "from sklearn.ensemble import RandomForestClassifier\n",
    "forest = RandomForestClassifier( n_estimators = 10 )\n",
    "\n",
    "forest_multi = forest.fit(X_train, y_train_multi)"
   ]
  },
  {
   "cell_type": "markdown",
   "metadata": {
    "collapsed": true
   },
   "source": [
    "### Calculating the accuracy of the model"
   ]
  },
  {
   "cell_type": "code",
   "execution_count": null,
   "metadata": {
    "collapsed": false
   },
   "outputs": [],
   "source": [
    "from sklearn import metrics\n",
    "result_multi_train = forest_multi.predict(X_train)\n",
    "print(metrics.accuracy_score(y_train_multi, result_multi_train))"
   ]
  },
  {
   "cell_type": "code",
   "execution_count": null,
   "metadata": {
    "collapsed": false
   },
   "outputs": [],
   "source": [
    "from sklearn import metrics\n",
    "result_multi_test = forest_multi.predict(X_test)\n",
    "print(metrics.accuracy_score(y_test_multi, result_multi_test))"
   ]
  },
  {
   "cell_type": "code",
   "execution_count": null,
   "metadata": {
    "collapsed": false
   },
   "outputs": [],
   "source": [
    "area_under_curve (y_test_multi, result_multi_test)"
   ]
  },
  {
   "cell_type": "markdown",
   "metadata": {},
   "source": [
    "# 4. Unsupervised Learning"
   ]
  },
  {
   "cell_type": "code",
   "execution_count": null,
   "metadata": {
    "collapsed": false
   },
   "outputs": [],
   "source": [
    "import pandas as pd\n",
    "import numpy as np\n",
    " \n",
    "crowdstorming_df['skin'] = crowdstorming_df[['rater1', 'rater2']].mean(axis=1)\n",
    "crowdstorming_df = crowdstorming_df.drop(['rater1', 'rater2'], axis=1)"
   ]
  },
  {
   "cell_type": "code",
   "execution_count": null,
   "metadata": {
    "collapsed": false
   },
   "outputs": [],
   "source": [
    "#df.fillna(df.mean()).dropna(axis=1, how='all')\n",
    "for _col_name_ in ['height', 'weight','meanIAT','nIAT','seIAT']:\n",
    "    crowdstorming_df[_col_name_] = crowdstorming_df[_col_name_].fillna(crowdstorming_df[_col_name_].mean())"
   ]
  },
  {
   "cell_type": "code",
   "execution_count": null,
   "metadata": {
    "collapsed": true
   },
   "outputs": [],
   "source": [
    "f = {\n",
    "    #'club':'first',\n",
    "    #'birthday':'first',\n",
    "    'height':'first', \n",
    "    'weight':'first',\n",
    "    'games': 'sum', \n",
    "    'victories':'sum',\n",
    "    'ties': 'sum',\n",
    "    'defeats': 'sum', \n",
    "    'goals': 'sum', \n",
    "    'yellowCards': 'sum', \n",
    "    'yellowReds': 'sum', \n",
    "    'redCards': 'sum',\n",
    "    #'position':'first',\n",
    "    #'refNum':'first',\n",
    "    #'refCountry':'first',\n",
    "    'meanIAT':'mean',\n",
    "    'nIAT':'mean', \n",
    "    'seIAT':'mean',\n",
    "    'meanExp': 'mean',\n",
    "    'nExp':'mean', \n",
    "    'seExp':'mean',\n",
    "    #'rater1':'mean',\n",
    "    #'rater2':'mean'\n",
    "    #'skin':'mean',\n",
    "    'leagueCountry':'first'\n",
    "}\n",
    "\n",
    "#df_aggr = df.groupby(['playerShort']).agg(f)\n",
    "df_grouped = crowdstorming_df.groupby(['playerShort'])\n",
    "\n",
    "df_skin = df_grouped.agg({'skin': 'mean'})\n",
    "df_skin['actual_skin'] = np.where(df_skin['skin'] > 0.5, 1,0)"
   ]
  },
  {
   "cell_type": "code",
   "execution_count": null,
   "metadata": {
    "collapsed": true
   },
   "outputs": [],
   "source": [
    "from sklearn.preprocessing import StandardScaler\n",
    "from sklearn.cluster import KMeans\n",
    "from sklearn.metrics import silhouette_score\n",
    "\n",
    "\n",
    "scale = StandardScaler()\n",
    "\n",
    "def sil_score(df_aggr):\n",
    "    df_aggr_scaled = scale.fit_transform(df_aggr.as_matrix())\n",
    "    kmeans_model = KMeans(n_clusters=2, random_state=0).fit(df_aggr_scaled)\n",
    "    labels = kmeans_model.labels_\n",
    "    return labels, silhouette_score(df_aggr_scaled, labels)"
   ]
  },
  {
   "cell_type": "code",
   "execution_count": null,
   "metadata": {
    "collapsed": false
   },
   "outputs": [],
   "source": [
    "for i in reversed(range(1,len(f.items()))):\n",
    "    combination = dict(list(f.items())[:i])\n",
    "    _df_aggregated = df_grouped.agg(dict(combination))\n",
    "    _df_aggregated = pd.get_dummies(_df_aggregated)\n",
    "    \n",
    "    labeled, score = sil_score(_df_aggregated)\n",
    "    cluster_0 = df_skin[labeled == 0]\n",
    "    cluster_1 = df_skin[labeled == 1]\n",
    "    \n",
    "    print(\"FIRST CLUSTER: \", cluster_0['skin'].mean(),len(cluster_0))\n",
    "    print(\"SCND  CLUSTER: \", cluster_1['skin'].mean(),len(cluster_1))\n",
    "    \n",
    "    cluster_0_whites = len(cluster_0[cluster_0['skin'] > 0.5])\n",
    "    cluster_0_blacks = len(cluster_0[cluster_0['skin'] <= 0.5])\n",
    "    \n",
    "    cluster_1_whites = len(cluster_1[cluster_1['skin'] > 0.5])\n",
    "    cluster_1_blacks = len(cluster_1[cluster_1['skin'] <= 0.5])\n",
    "    \n",
    "    print(\"CLUSTER 0: %d/%d = %%%d\" % (cluster_0_whites, len(cluster_0), int(cluster_0_whites/len(cluster_0)*100)))\n",
    "    print(\"CLUSTER 1: %d/%d = %%%d\" % (cluster_1_whites, len(cluster_1), int(cluster_1_whites/len(cluster_1)*100)))\n",
    "\n",
    "    \n",
    "    print(score,_df_aggregated.columns)\n",
    "    print(score)"
   ]
  },
  {
   "cell_type": "code",
   "execution_count": null,
   "metadata": {
    "collapsed": false
   },
   "outputs": [],
   "source": [
    "df_skin"
   ]
  },
  {
   "cell_type": "code",
   "execution_count": null,
   "metadata": {
    "collapsed": true
   },
   "outputs": [],
   "source": []
  },
  {
   "cell_type": "code",
   "execution_count": null,
   "metadata": {
    "collapsed": true
   },
   "outputs": [],
   "source": []
  }
 ],
 "metadata": {
  "kernelspec": {
   "display_name": "Python 2",
   "language": "python",
   "name": "python2"
  },
  "language_info": {
   "codemirror_mode": {
    "name": "ipython",
    "version": 2
   },
   "file_extension": ".py",
   "mimetype": "text/x-python",
   "name": "python",
   "nbconvert_exporter": "python",
   "pygments_lexer": "ipython2",
   "version": "2.7.12"
  }
 },
 "nbformat": 4,
 "nbformat_minor": 0
}
