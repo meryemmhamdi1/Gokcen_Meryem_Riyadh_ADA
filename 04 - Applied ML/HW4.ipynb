{
 "cells": [
  {
   "cell_type": "code",
   "execution_count": 1,
   "metadata": {
    "collapsed": false
   },
   "outputs": [
    {
     "name": "stderr",
     "output_type": "stream",
     "text": [
      "/home/meryem/miniconda2/lib/python2.7/site-packages/sklearn/cross_validation.py:44: DeprecationWarning: This module was deprecated in version 0.18 in favor of the model_selection module into which all the refactored classes and functions are moved. Also note that the interface of the new CV iterators are different from that of this module. This module will be removed in 0.20.\n",
      "  \"This module will be removed in 0.20.\", DeprecationWarning)\n"
     ]
    }
   ],
   "source": [
    "import pandas as pd\n",
    "from pprint import pprint as pp\n",
    "from sklearn import preprocessing\n",
    "import matplotlib.pyplot as plt\n",
    "from sklearn.model_selection import train_test_split\n",
    "import matplotlib.pyplot as plt\n",
    "%matplotlib inline\n",
    "import numpy as np\n",
    "from sklearn import metrics\n",
    "import warnings\n",
    "from sklearn.cross_validation import cross_val_score\n",
    "warnings.filterwarnings('ignore')"
   ]
  },
  {
   "cell_type": "markdown",
   "metadata": {},
   "source": [
    "# 1. Exploratory Data Analysis"
   ]
  },
  {
   "cell_type": "markdown",
   "metadata": {},
   "source": [
    "## 1.1. Data Cleaning and Pre-Processing"
   ]
  },
  {
   "cell_type": "code",
   "execution_count": 2,
   "metadata": {
    "collapsed": false
   },
   "outputs": [
    {
     "data": {
      "text/html": [
       "<div>\n",
       "<table border=\"1\" class=\"dataframe\">\n",
       "  <thead>\n",
       "    <tr style=\"text-align: right;\">\n",
       "      <th></th>\n",
       "      <th>playerShort</th>\n",
       "      <th>player</th>\n",
       "      <th>club</th>\n",
       "      <th>leagueCountry</th>\n",
       "      <th>birthday</th>\n",
       "      <th>height</th>\n",
       "      <th>weight</th>\n",
       "      <th>position</th>\n",
       "      <th>games</th>\n",
       "      <th>victories</th>\n",
       "      <th>...</th>\n",
       "      <th>rater2</th>\n",
       "      <th>refNum</th>\n",
       "      <th>refCountry</th>\n",
       "      <th>Alpha_3</th>\n",
       "      <th>meanIAT</th>\n",
       "      <th>nIAT</th>\n",
       "      <th>seIAT</th>\n",
       "      <th>meanExp</th>\n",
       "      <th>nExp</th>\n",
       "      <th>seExp</th>\n",
       "    </tr>\n",
       "  </thead>\n",
       "  <tbody>\n",
       "    <tr>\n",
       "      <th>0</th>\n",
       "      <td>lucas-wilchez</td>\n",
       "      <td>Lucas Wilchez</td>\n",
       "      <td>Real Zaragoza</td>\n",
       "      <td>Spain</td>\n",
       "      <td>31.08.1983</td>\n",
       "      <td>177.0</td>\n",
       "      <td>72.0</td>\n",
       "      <td>Attacking Midfielder</td>\n",
       "      <td>1</td>\n",
       "      <td>0</td>\n",
       "      <td>...</td>\n",
       "      <td>0.50</td>\n",
       "      <td>1</td>\n",
       "      <td>1</td>\n",
       "      <td>GRC</td>\n",
       "      <td>0.326391</td>\n",
       "      <td>712.0</td>\n",
       "      <td>0.000564</td>\n",
       "      <td>0.396000</td>\n",
       "      <td>750.0</td>\n",
       "      <td>0.002696</td>\n",
       "    </tr>\n",
       "    <tr>\n",
       "      <th>1</th>\n",
       "      <td>john-utaka</td>\n",
       "      <td>John Utaka</td>\n",
       "      <td>Montpellier HSC</td>\n",
       "      <td>France</td>\n",
       "      <td>08.01.1982</td>\n",
       "      <td>179.0</td>\n",
       "      <td>82.0</td>\n",
       "      <td>Right Winger</td>\n",
       "      <td>1</td>\n",
       "      <td>0</td>\n",
       "      <td>...</td>\n",
       "      <td>0.75</td>\n",
       "      <td>2</td>\n",
       "      <td>2</td>\n",
       "      <td>ZMB</td>\n",
       "      <td>0.203375</td>\n",
       "      <td>40.0</td>\n",
       "      <td>0.010875</td>\n",
       "      <td>-0.204082</td>\n",
       "      <td>49.0</td>\n",
       "      <td>0.061504</td>\n",
       "    </tr>\n",
       "    <tr>\n",
       "      <th>2</th>\n",
       "      <td>abdon-prats</td>\n",
       "      <td>Abdón Prats</td>\n",
       "      <td>RCD Mallorca</td>\n",
       "      <td>Spain</td>\n",
       "      <td>17.12.1992</td>\n",
       "      <td>181.0</td>\n",
       "      <td>79.0</td>\n",
       "      <td>NaN</td>\n",
       "      <td>1</td>\n",
       "      <td>0</td>\n",
       "      <td>...</td>\n",
       "      <td>NaN</td>\n",
       "      <td>3</td>\n",
       "      <td>3</td>\n",
       "      <td>ESP</td>\n",
       "      <td>0.369894</td>\n",
       "      <td>1785.0</td>\n",
       "      <td>0.000229</td>\n",
       "      <td>0.588297</td>\n",
       "      <td>1897.0</td>\n",
       "      <td>0.001002</td>\n",
       "    </tr>\n",
       "    <tr>\n",
       "      <th>3</th>\n",
       "      <td>pablo-mari</td>\n",
       "      <td>Pablo Marí</td>\n",
       "      <td>RCD Mallorca</td>\n",
       "      <td>Spain</td>\n",
       "      <td>31.08.1993</td>\n",
       "      <td>191.0</td>\n",
       "      <td>87.0</td>\n",
       "      <td>Center Back</td>\n",
       "      <td>1</td>\n",
       "      <td>1</td>\n",
       "      <td>...</td>\n",
       "      <td>NaN</td>\n",
       "      <td>3</td>\n",
       "      <td>3</td>\n",
       "      <td>ESP</td>\n",
       "      <td>0.369894</td>\n",
       "      <td>1785.0</td>\n",
       "      <td>0.000229</td>\n",
       "      <td>0.588297</td>\n",
       "      <td>1897.0</td>\n",
       "      <td>0.001002</td>\n",
       "    </tr>\n",
       "    <tr>\n",
       "      <th>4</th>\n",
       "      <td>ruben-pena</td>\n",
       "      <td>Rubén Peña</td>\n",
       "      <td>Real Valladolid</td>\n",
       "      <td>Spain</td>\n",
       "      <td>18.07.1991</td>\n",
       "      <td>172.0</td>\n",
       "      <td>70.0</td>\n",
       "      <td>Right Midfielder</td>\n",
       "      <td>1</td>\n",
       "      <td>1</td>\n",
       "      <td>...</td>\n",
       "      <td>NaN</td>\n",
       "      <td>3</td>\n",
       "      <td>3</td>\n",
       "      <td>ESP</td>\n",
       "      <td>0.369894</td>\n",
       "      <td>1785.0</td>\n",
       "      <td>0.000229</td>\n",
       "      <td>0.588297</td>\n",
       "      <td>1897.0</td>\n",
       "      <td>0.001002</td>\n",
       "    </tr>\n",
       "  </tbody>\n",
       "</table>\n",
       "<p>5 rows × 28 columns</p>\n",
       "</div>"
      ],
      "text/plain": [
       "     playerShort         player             club leagueCountry    birthday  \\\n",
       "0  lucas-wilchez  Lucas Wilchez    Real Zaragoza         Spain  31.08.1983   \n",
       "1     john-utaka     John Utaka  Montpellier HSC        France  08.01.1982   \n",
       "2    abdon-prats    Abdón Prats     RCD Mallorca         Spain  17.12.1992   \n",
       "3     pablo-mari     Pablo Marí     RCD Mallorca         Spain  31.08.1993   \n",
       "4     ruben-pena     Rubén Peña  Real Valladolid         Spain  18.07.1991   \n",
       "\n",
       "   height  weight              position  games  victories    ...     rater2  \\\n",
       "0   177.0    72.0  Attacking Midfielder      1          0    ...       0.50   \n",
       "1   179.0    82.0          Right Winger      1          0    ...       0.75   \n",
       "2   181.0    79.0                   NaN      1          0    ...        NaN   \n",
       "3   191.0    87.0           Center Back      1          1    ...        NaN   \n",
       "4   172.0    70.0      Right Midfielder      1          1    ...        NaN   \n",
       "\n",
       "   refNum  refCountry  Alpha_3   meanIAT    nIAT     seIAT   meanExp    nExp  \\\n",
       "0       1           1      GRC  0.326391   712.0  0.000564  0.396000   750.0   \n",
       "1       2           2      ZMB  0.203375    40.0  0.010875 -0.204082    49.0   \n",
       "2       3           3      ESP  0.369894  1785.0  0.000229  0.588297  1897.0   \n",
       "3       3           3      ESP  0.369894  1785.0  0.000229  0.588297  1897.0   \n",
       "4       3           3      ESP  0.369894  1785.0  0.000229  0.588297  1897.0   \n",
       "\n",
       "      seExp  \n",
       "0  0.002696  \n",
       "1  0.061504  \n",
       "2  0.001002  \n",
       "3  0.001002  \n",
       "4  0.001002  \n",
       "\n",
       "[5 rows x 28 columns]"
      ]
     },
     "execution_count": 2,
     "metadata": {},
     "output_type": "execute_result"
    }
   ],
   "source": [
    "#loading the data and check how does it look like\n",
    "crowdstorming_df = pd.read_csv('Data/CrowdstormingDataJuly1st.csv')\n",
    "crowdstorming_df.head()"
   ]
  },
  {
   "cell_type": "code",
   "execution_count": 3,
   "metadata": {
    "collapsed": false
   },
   "outputs": [
    {
     "data": {
      "text/plain": [
       "(146028, 28)"
      ]
     },
     "execution_count": 3,
     "metadata": {},
     "output_type": "execute_result"
    }
   ],
   "source": [
    "crowdstorming_df.shape"
   ]
  },
  {
   "cell_type": "code",
   "execution_count": 4,
   "metadata": {
    "collapsed": false
   },
   "outputs": [
    {
     "data": {
      "text/plain": [
       "playerShort      False\n",
       "player           False\n",
       "club             False\n",
       "leagueCountry    False\n",
       "birthday         False\n",
       "height            True\n",
       "weight            True\n",
       "position          True\n",
       "games            False\n",
       "victories        False\n",
       "ties             False\n",
       "defeats          False\n",
       "goals            False\n",
       "yellowCards      False\n",
       "yellowReds       False\n",
       "redCards         False\n",
       "photoID           True\n",
       "rater1            True\n",
       "rater2            True\n",
       "refNum           False\n",
       "refCountry       False\n",
       "Alpha_3           True\n",
       "meanIAT           True\n",
       "nIAT              True\n",
       "seIAT             True\n",
       "meanExp           True\n",
       "nExp              True\n",
       "seExp             True\n",
       "dtype: bool"
      ]
     },
     "execution_count": 4,
     "metadata": {},
     "output_type": "execute_result"
    }
   ],
   "source": [
    "#crowdstorming_df.describe()\n",
    "crowdstorming_df.isnull().any()"
   ]
  },
  {
   "cell_type": "markdown",
   "metadata": {},
   "source": [
    "From the description, we can conclude the following:\n",
    "* There are missing values on rater1, rater2 and photoID and since our goal is to build a classifier based on those labels we decided to drop rows with nan values for those columns. \n",
    "* There are missing values in height, weight. A tentative solution is to replace those values by average heights and weights of people who belong to the same leagueCountry or people with same position (for e.g: goalkeeper is usually taller), but it is safe to do it and we don't have a lot of missing values. So, we decided to drop them.\n",
    "* There are missing values for Alpha_3, meanIAT, nIAT, seIAT, meanExp, nExp, seExp. Those we also decided to drop."
   ]
  },
  {
   "cell_type": "code",
   "execution_count": 5,
   "metadata": {
    "collapsed": false
   },
   "outputs": [],
   "source": [
    "crowdstorming_df = crowdstorming_df.dropna()"
   ]
  },
  {
   "cell_type": "markdown",
   "metadata": {},
   "source": [
    "## 1.2. Aggregating player-referee information by player"
   ]
  },
  {
   "cell_type": "code",
   "execution_count": 6,
   "metadata": {
    "collapsed": true
   },
   "outputs": [],
   "source": [
    "f = {'club':'first',\n",
    "     'leagueCountry':'first',\n",
    "     'birthday':'first',\n",
    "     'height':'first', \n",
    "     'weight':'first',\n",
    "     'games': 'sum', \n",
    "     'victories':'sum',\n",
    "     'ties': 'sum',\n",
    "     'defeats': 'sum', \n",
    "     'goals': 'sum', \n",
    "     'yellowCards': 'sum', \n",
    "     'yellowReds': 'sum', \n",
    "     'redCards': 'sum',\n",
    "     'photoID':'first',\n",
    "     'position':'first',\n",
    "     'refNum':'first',\n",
    "     'refCountry':'first',\n",
    "     'Alpha_3':'first',\n",
    "     'meanIAT':'mean',\n",
    "     'nIAT':'mean', \n",
    "     'seIAT':'mean',\n",
    "     'meanExp': 'mean',\n",
    "     'nExp':'mean', \n",
    "     'seExp':'mean',\n",
    "     'rater1':'mean',\n",
    "     'rater2':'mean'\n",
    "    }\n",
    "crowdstorming_df_player_agg = crowdstorming_df.groupby(['playerShort']).agg(f)"
   ]
  },
  {
   "cell_type": "markdown",
   "metadata": {},
   "source": [
    "## 1.3. Encoding Categorical to Numerical Values"
   ]
  },
  {
   "cell_type": "markdown",
   "metadata": {},
   "source": [
    "Since we want to use RandomForest Classifier, we need to convert all columns with categorical values into numerical values. Let's check for the categorical features:"
   ]
  },
  {
   "cell_type": "code",
   "execution_count": 7,
   "metadata": {
    "collapsed": false
   },
   "outputs": [
    {
     "data": {
      "text/plain": [
       "weight           float64\n",
       "nExp             float64\n",
       "height           float64\n",
       "meanExp          float64\n",
       "rater2           float64\n",
       "yellowReds         int64\n",
       "leagueCountry     object\n",
       "rater1           float64\n",
       "club              object\n",
       "victories          int64\n",
       "seExp            float64\n",
       "Alpha_3           object\n",
       "yellowCards        int64\n",
       "photoID           object\n",
       "nIAT             float64\n",
       "birthday          object\n",
       "goals              int64\n",
       "ties               int64\n",
       "defeats            int64\n",
       "meanIAT          float64\n",
       "refCountry         int64\n",
       "refNum             int64\n",
       "seIAT            float64\n",
       "games              int64\n",
       "position          object\n",
       "redCards           int64\n",
       "dtype: object"
      ]
     },
     "execution_count": 7,
     "metadata": {},
     "output_type": "execute_result"
    }
   ],
   "source": [
    "crowdstorming_df_player_agg.dtypes"
   ]
  },
  {
   "cell_type": "markdown",
   "metadata": {},
   "source": [
    "From the description above, the set of categorical features include:\n",
    "* club\n",
    "* leagueCountry\n",
    "* birthday \n",
    "* position \n",
    "* Alpha_3"
   ]
  },
  {
   "cell_type": "code",
   "execution_count": 8,
   "metadata": {
    "collapsed": false
   },
   "outputs": [],
   "source": [
    "le = preprocessing.LabelEncoder()\n",
    "\n",
    "crowdstorming_df_num = crowdstorming_df_player_agg \n",
    "\n",
    "# Converting club String to numerical representation\n",
    "le.fit(list(set(crowdstorming_df_player_agg['club'])))\n",
    "crowdstorming_df_num['club'] = le.transform(crowdstorming_df_player_agg['club']) \n",
    "\n",
    "\n",
    "# Converting leagueCountry String to numerical representation\n",
    "le.fit(list(set(crowdstorming_df_player_agg['leagueCountry'])))\n",
    "crowdstorming_df_num['leagueCountry'] = le.transform(crowdstorming_df_player_agg['leagueCountry']) \n",
    "\n",
    "# Converting birthday String to numerical representation\n",
    "le.fit(list(set(crowdstorming_df_player_agg['birthday'])))\n",
    "crowdstorming_df_num['birthday'] = le.transform(crowdstorming_df_player_agg['birthday']) \n",
    "\n",
    "\n",
    "# Converting position String to numerical representation\n",
    "le.fit(list(set(crowdstorming_df_player_agg['position'])))\n",
    "crowdstorming_df_num['position'] = le.transform(crowdstorming_df_player_agg['position']) \n",
    "\n",
    "# Converting position String to numerical representation\n",
    "le.fit(list(set(crowdstorming_df_player_agg['Alpha_3'])))\n",
    "crowdstorming_df_num['Alpha_3'] = le.transform(crowdstorming_df_player_agg['Alpha_3']) "
   ]
  },
  {
   "cell_type": "markdown",
   "metadata": {},
   "source": [
    "## 1.4. Binary & Multi-Class Classification Labels"
   ]
  },
  {
   "cell_type": "markdown",
   "metadata": {
    "collapsed": true
   },
   "source": [
    "### a. Inconsistent Labels:"
   ]
  },
  {
   "cell_type": "code",
   "execution_count": 9,
   "metadata": {
    "collapsed": false
   },
   "outputs": [
    {
     "name": "stdout",
     "output_type": "stream",
     "text": [
      "set([0.0, 0.25, 0.5, 0.75, 1.0])\n",
      "set([0.0, 0.25, 0.5, 0.75, 1.0])\n"
     ]
    }
   ],
   "source": [
    "pp(set(crowdstorming_df_num['rater1']))\n",
    "pp(set(crowdstorming_df_num['rater2']))"
   ]
  },
  {
   "cell_type": "markdown",
   "metadata": {},
   "source": [
    "So, there are 5 different rating values. In this supervised task, we have two target variables (rater1 and rater2). Instead of randomly picking one of the two, let us start by looking at the differences between rater1 and rater2 by calculating:\n",
    "\n",
    "* The number of players for which rater1 and rater2 have at least 0.5 difference\n",
    "* The number of players for which rater1 and rater2 have at least 0.25 difference\n",
    "* The number of players for which rater1 and rater2 are similar\n",
    "\n"
   ]
  },
  {
   "cell_type": "code",
   "execution_count": 10,
   "metadata": {
    "collapsed": false
   },
   "outputs": [
    {
     "data": {
      "text/plain": [
       "0.5"
      ]
     },
     "execution_count": 10,
     "metadata": {},
     "output_type": "execute_result"
    }
   ],
   "source": [
    "(abs(crowdstorming_df_num['rater1'] - crowdstorming_df_num['rater2'])).max()"
   ]
  },
  {
   "cell_type": "code",
   "execution_count": 11,
   "metadata": {
    "collapsed": false
   },
   "outputs": [
    {
     "name": "stdout",
     "output_type": "stream",
     "text": [
      "'Number of ratings for which rater1 and rater2 agree: 1071'\n",
      "'Percentage of ratings for which rater1 and rater2 agree over all ratings: 0'\n"
     ]
    }
   ],
   "source": [
    "count = 0\n",
    "for i in range(0,len(crowdstorming_df_num)):\n",
    "    if abs(crowdstorming_df_num.iloc[i]['rater1'] - crowdstorming_df_num.iloc[i]['rater2']) == 0:\n",
    "        count+=1\n",
    "pp(\"Number of ratings for which rater1 and rater2 agree: \"+str(count))\n",
    "pp(\"Percentage of ratings for which rater1 and rater2 agree over all ratings: \"+ str(count/len(crowdstorming_df_num)))"
   ]
  },
  {
   "cell_type": "code",
   "execution_count": 12,
   "metadata": {
    "collapsed": false
   },
   "outputs": [
    {
     "name": "stdout",
     "output_type": "stream",
     "text": [
      "Number of ratings for which difference between rater1 and rater2 is 0.25: 346\n"
     ]
    }
   ],
   "source": [
    "# Number of ratings for which difference between rater1 and rater2 is 0.25\n",
    "count = 0\n",
    "for i in range(0,len(crowdstorming_df_num)):\n",
    "    if abs(crowdstorming_df_num.iloc[i]['rater1'] - crowdstorming_df_num.iloc[i]['rater2']) == 0.25:\n",
    "        count+=1\n",
    "print \"Number of ratings for which difference between rater1 and rater2 is 0.25: \"+str(count)"
   ]
  },
  {
   "cell_type": "code",
   "execution_count": 13,
   "metadata": {
    "collapsed": false
   },
   "outputs": [
    {
     "name": "stdout",
     "output_type": "stream",
     "text": [
      "Number of ratings for which difference between rater1 and rater2 is 0.5: 2\n"
     ]
    }
   ],
   "source": [
    "# Number of ratings for which difference between rater1 and rater2 is 0.25\n",
    "count = 0\n",
    "for i in range(0,len(crowdstorming_df_num)):\n",
    "    if abs(crowdstorming_df_num.iloc[i]['rater1'] - crowdstorming_df_num.iloc[i]['rater2']) == 0.5:\n",
    "        count+=1\n",
    "print \"Number of ratings for which difference between rater1 and rater2 is 0.5: \"+str(count)"
   ]
  },
  {
   "cell_type": "code",
   "execution_count": 14,
   "metadata": {
    "collapsed": false
   },
   "outputs": [
    {
     "name": "stdout",
     "output_type": "stream",
     "text": [
      "0.00    574\n",
      "0.25    493\n",
      "0.50    151\n",
      "0.75    115\n",
      "1.00     86\n",
      "Name: rater1, dtype: int64\n",
      "0.25    625\n",
      "0.00    410\n",
      "0.50    159\n",
      "0.75    117\n",
      "1.00    108\n",
      "Name: rater2, dtype: int64\n"
     ]
    }
   ],
   "source": [
    "pp(crowdstorming_df_num['rater1'].value_counts())\n",
    "pp(crowdstorming_df_num['rater2'].value_counts())"
   ]
  },
  {
   "cell_type": "markdown",
   "metadata": {},
   "source": [
    "Based on this analysis, we can see inconsistent labelling for less than 25% of the cases. We have decided to drop players for which difference in rating between the two raters is more than 0.5 (since there are only 2). For the ones for which the difference is 0.25, we try with two different approaches:\n",
    "* Taking the average: this can be problematic depending on the number of classes we want to use (if a player has 0.25 from rater1 and 0.5 from rater2, then taking the average will lead to rater1 dominating a binary classification)\n",
    "* Keeping the two vectors for raters and training them separately to compare the results."
   ]
  },
  {
   "cell_type": "code",
   "execution_count": 15,
   "metadata": {
    "collapsed": false
   },
   "outputs": [],
   "source": [
    "crowdstorming_df_num = crowdstorming_df_num[abs(crowdstorming_df_num['rater1']-crowdstorming_df_num['rater2'])<0.5]"
   ]
  },
  {
   "cell_type": "code",
   "execution_count": 16,
   "metadata": {
    "collapsed": true
   },
   "outputs": [],
   "source": [
    "# Averaging over rater1 and rater2: \n",
    "crowdstorming_df_num['meanRating'] = (crowdstorming_df_num['rater1'] + crowdstorming_df_num['rater2'])/2\n",
    "# Create Categories for Binary Classification\n",
    "def binaryColor(x):\n",
    "    if x < 0.5: \n",
    "        return 0\n",
    "    else: \n",
    "        return 1\n",
    "crowdstorming_df_num['BinaryColorClass'] = crowdstorming_df_num['meanRating'].apply(binaryColor) \n",
    "\n",
    "# Create Categories for Multi Classification\n",
    "def multiColor(x):\n",
    "    if x < 0.25: \n",
    "        return 0\n",
    "    elif 0.25 <= x <0.5: \n",
    "        return 1\n",
    "    elif 0.5 <= x < 0.75:\n",
    "        return 2\n",
    "    elif 0.75 <= x <= 1:\n",
    "        return 3\n",
    "crowdstorming_df_num['MultiColorClass'] = crowdstorming_df_num['meanRating'].apply(multiColor) "
   ]
  },
  {
   "cell_type": "markdown",
   "metadata": {},
   "source": [
    "Before we do any feature selection, we start by feeding all features into the classifier. Later on when we do plot feature importance and using our own assumptions, we will select features and discuss how well the features importance matches our assumptions of the data.  "
   ]
  },
  {
   "cell_type": "code",
   "execution_count": 17,
   "metadata": {
    "collapsed": true
   },
   "outputs": [],
   "source": [
    "features_all = ['weight', 'nExp', 'height', 'meanExp', 'yellowReds',\n",
    "       'leagueCountry', 'club', 'victories', 'seExp', 'Alpha_3',\n",
    "       'yellowCards', 'nIAT', 'birthday', 'goals', 'ties',\n",
    "       'defeats','games','position', 'redCards', 'meanIAT', 'refCountry', 'refNum', 'seIAT']\n",
    "X = crowdstorming_df_num [features_all]\n",
    "y_binary = crowdstorming_df_num ['BinaryColorClass']\n",
    "y_multi = crowdstorming_df_num ['MultiColorClass']"
   ]
  },
  {
   "cell_type": "markdown",
   "metadata": {},
   "source": [
    "#### b. Unbalanced Classes:"
   ]
  },
  {
   "cell_type": "markdown",
   "metadata": {},
   "source": [
    "Let us look at the skew in the number of classes: "
   ]
  },
  {
   "cell_type": "code",
   "execution_count": 18,
   "metadata": {
    "collapsed": false
   },
   "outputs": [
    {
     "data": {
      "text/plain": [
       "<matplotlib.axes._subplots.AxesSubplot at 0x7fe5de3c3710>"
      ]
     },
     "execution_count": 18,
     "metadata": {},
     "output_type": "execute_result"
    },
    {
     "data": {
      "image/png": "[encoded data removed]",
      "text/plain": [
       "<matplotlib.figure.Figure at 0x7fe5de579590>"
      ]
     },
     "metadata": {},
     "output_type": "display_data"
    }
   ],
   "source": [
    "crowdstorming_df_num['BinaryColorClass'].hist()"
   ]
  },
  {
   "cell_type": "code",
   "execution_count": 19,
   "metadata": {
    "collapsed": false
   },
   "outputs": [
    {
     "data": {
      "text/plain": [
       "0    1087\n",
       "1     330\n",
       "Name: BinaryColorClass, dtype: int64"
      ]
     },
     "execution_count": 19,
     "metadata": {},
     "output_type": "execute_result"
    }
   ],
   "source": [
    "crowdstorming_df_num['BinaryColorClass'].value_counts()"
   ]
  },
  {
   "cell_type": "code",
   "execution_count": 20,
   "metadata": {
    "collapsed": false
   },
   "outputs": [
    {
     "data": {
      "text/plain": [
       "<matplotlib.axes._subplots.AxesSubplot at 0x7fe5dd979ed0>"
      ]
     },
     "execution_count": 20,
     "metadata": {},
     "output_type": "execute_result"
    },
    {
     "data": {
      "image/png": "[encoded data removed]",
      "text/plain": [
       "<matplotlib.figure.Figure at 0x7fe625c5e490>"
      ]
     },
     "metadata": {},
     "output_type": "display_data"
    }
   ],
   "source": [
    "crowdstorming_df_num['MultiColorClass'].hist()"
   ]
  },
  {
   "cell_type": "code",
   "execution_count": 21,
   "metadata": {
    "collapsed": false
   },
   "outputs": [
    {
     "data": {
      "text/plain": [
       "0    596\n",
       "1    491\n",
       "3    199\n",
       "2    131\n",
       "Name: MultiColorClass, dtype: int64"
      ]
     },
     "execution_count": 21,
     "metadata": {},
     "output_type": "execute_result"
    }
   ],
   "source": [
    "crowdstorming_df_num['MultiColorClass'].value_counts()"
   ]
  },
  {
   "cell_type": "markdown",
   "metadata": {},
   "source": [
    "Based on this analysis, the classes we assigned turns out to be unbalanced . To mitigate this issue, there are two different strategies we can opt for: \n",
    "* Using different metrics, especially area under curve.\n",
    "* Rebalancing the sample using weights passed to the model parameters."
   ]
  },
  {
   "cell_type": "code",
   "execution_count": 22,
   "metadata": {
    "collapsed": true
   },
   "outputs": [],
   "source": [
    "def weight_sample(labels):\n",
    "    \n",
    "    weight_class = labels.value_counts()/len(labels)\n",
    "    \n",
    "    sample_weights = []\n",
    "    for i in labels:\n",
    "        sample_weights += [weight_class[i]]\n",
    "        \n",
    "    return np.array(sample_weights)"
   ]
  },
  {
   "cell_type": "code",
   "execution_count": 23,
   "metadata": {
    "collapsed": false
   },
   "outputs": [],
   "source": [
    "# Averaging over rater1 and rater2: \n",
    "crowdstorming_df_num['meanRating'] = (crowdstorming_df_num['rater1'] + crowdstorming_df_num['rater2'])/2\n",
    "# Create Categories for Binary Classification\n",
    "def binaryColor(x):\n",
    "    if x < 0.5: \n",
    "        return 0\n",
    "    else: \n",
    "        return 1\n",
    "crowdstorming_df_num['BinaryColorClass'] = crowdstorming_df_num['meanRating'].apply(binaryColor) \n",
    "\n",
    "# Create Categories for Multi Classification\n",
    "def multiColor(x):\n",
    "    if x < 0.25: \n",
    "        return 0\n",
    "    elif 0.25 <= x <0.5: \n",
    "        return 1\n",
    "    elif 0.5 <= x < 0.75:\n",
    "        return 2\n",
    "    elif 0.75 <= x <= 1:\n",
    "        return 3\n",
    "crowdstorming_df_num['MultiColorClass'] = crowdstorming_df_num['meanRating'].apply(multiColor) "
   ]
  },
  {
   "cell_type": "code",
   "execution_count": 24,
   "metadata": {
    "collapsed": false
   },
   "outputs": [],
   "source": [
    "features_player = ['weight', 'nExp', 'height', 'meanExp', 'yellowReds',\n",
    "       'leagueCountry', 'club', 'victories', 'seExp', 'Alpha_3',\n",
    "       'yellowCards', 'nIAT', 'birthday', 'goals', 'ties',\n",
    "       'defeats','games','position', 'redCards']\n",
    "features_referee = ['meanIAT', 'refCountry', 'refNum', 'seIAT']\n",
    "X = crowdstorming_df_num [features_player]\n",
    "y_binary = crowdstorming_df_num ['BinaryColorClass']\n",
    "y_multi = crowdstorming_df_num ['MultiColorClass']"
   ]
  },
  {
   "cell_type": "markdown",
   "metadata": {},
   "source": [
    "# 2. Supervised Learning Using Random Forest"
   ]
  },
  {
   "cell_type": "markdown",
   "metadata": {},
   "source": [
    "## 2.1. Binary Classification"
   ]
  },
  {
   "cell_type": "markdown",
   "metadata": {},
   "source": [
    "In this section, we are building a classifer that can predict the skin color of the player, so let's have a look at the skin color distribution."
   ]
  },
  {
   "cell_type": "code",
   "execution_count": 25,
   "metadata": {
    "collapsed": false
   },
   "outputs": [
    {
     "data": {
      "text/plain": [
       "0    1087\n",
       "1     330\n",
       "Name: BinaryColorClass, dtype: int64"
      ]
     },
     "execution_count": 25,
     "metadata": {},
     "output_type": "execute_result"
    }
   ],
   "source": [
    "crowdstorming_df_num['BinaryColorClass'].value_counts()"
   ]
  },
  {
   "cell_type": "markdown",
   "metadata": {},
   "source": [
    "Clearly we have a imbalance issue here! we should keep this point in oue mind for later analysis and model evaluation.. "
   ]
  },
  {
   "cell_type": "markdown",
   "metadata": {},
   "source": [
    "### Splitting data into train and test"
   ]
  },
  {
   "cell_type": "code",
   "execution_count": 26,
   "metadata": {
    "collapsed": false
   },
   "outputs": [],
   "source": [
    "X_train, X_test, y_train_binary, y_test_binary = train_test_split(X,y_binary, test_size=0.3)"
   ]
  },
  {
   "cell_type": "code",
   "execution_count": 27,
   "metadata": {
    "collapsed": true
   },
   "outputs": [],
   "source": [
    "sample_weights_binary = weight_sample(y_train_binary)"
   ]
  },
  {
   "cell_type": "code",
   "execution_count": 28,
   "metadata": {
    "collapsed": false
   },
   "outputs": [],
   "source": [
    "# Fit a random forest to the training data for binary classification, using 100 trees\n",
    "from sklearn.ensemble import RandomForestClassifier\n",
    "forest_binary = RandomForestClassifier(class_weight='balanced')\n",
    "\n",
    "forest_binary = forest_binary.fit(X_train, y_train_binary, sample_weight= sample_weights_binary)"
   ]
  },
  {
   "cell_type": "markdown",
   "metadata": {},
   "source": [
    "Now before deciding which metrics to use for model evaluation, let's get a rough idea of how our model performs by looking at the confusion matrix and the accuracy. "
   ]
  },
  {
   "cell_type": "markdown",
   "metadata": {},
   "source": [
    "#### Confusion matrix and accuracy for training"
   ]
  },
  {
   "cell_type": "code",
   "execution_count": 29,
   "metadata": {
    "collapsed": false
   },
   "outputs": [
    {
     "name": "stdout",
     "output_type": "stream",
     "text": [
      "('Accuracy Score: ', 0.97880928355196772)\n"
     ]
    }
   ],
   "source": [
    "result_binary_train = forest_binary.predict(X_train)\n",
    "print('Accuracy Score: ',metrics.accuracy_score(y_train_binary, result_binary_train))"
   ]
  },
  {
   "cell_type": "code",
   "execution_count": 30,
   "metadata": {
    "collapsed": true
   },
   "outputs": [],
   "source": [
    "def plot_confusion_matrix(cm, classes,\n",
    "                          normalize=False,\n",
    "                          title='Confusion matrix',\n",
    "                          cmap=plt.cm.Blues):\n",
    "    \"\"\"\n",
    "    This function prints and plots the confusion matrix.\n",
    "    Normalization can be applied by setting `normalize=True`.\n",
    "    \"\"\"\n",
    "    plt.imshow(cm, interpolation='nearest', cmap=cmap)\n",
    "    plt.title(title)\n",
    "    plt.colorbar()\n",
    "    tick_marks = np.arange(len(classes))\n",
    "    plt.xticks(tick_marks, classes, rotation=45)\n",
    "    plt.yticks(tick_marks, classes)\n",
    "    plt.tight_layout()\n",
    "    plt.ylabel('True label')\n",
    "    plt.xlabel('Predicted label') "
   ]
  },
  {
   "cell_type": "code",
   "execution_count": 31,
   "metadata": {
    "collapsed": false
   },
   "outputs": [
    {
     "name": "stdout",
     "output_type": "stream",
     "text": [
      "[[759   0]\n",
      " [ 21 211]]\n"
     ]
    }
   ],
   "source": [
    "cm=metrics.confusion_matrix(y_train_binary, result_binary_train)\n",
    "print(cm)"
   ]
  },
  {
   "cell_type": "code",
   "execution_count": 32,
   "metadata": {
    "collapsed": false
   },
   "outputs": [
    {
     "data": {
      "image/png": "[encoded data removed]",
      "text/plain": [
       "<matplotlib.figure.Figure at 0x7fe5dc936c90>"
      ]
     },
     "metadata": {},
     "output_type": "display_data"
    }
   ],
   "source": [
    "plot_confusion_matrix(cm, classes=['Light','Dark'],\n",
    "                      title='Confusion matrix, without normalization')"
   ]
  },
  {
   "cell_type": "markdown",
   "metadata": {},
   "source": [
    "#### Confusion Matrix and accuracy for Testing "
   ]
  },
  {
   "cell_type": "code",
   "execution_count": 33,
   "metadata": {
    "collapsed": false
   },
   "outputs": [
    {
     "name": "stdout",
     "output_type": "stream",
     "text": [
      "('Accuracy Score: ', 0.784037558685446)\n"
     ]
    }
   ],
   "source": [
    "result_binary_test = forest_binary.predict(X_test)\n",
    "print('Accuracy Score: ',metrics.accuracy_score(y_test_binary, result_binary_test))"
   ]
  },
  {
   "cell_type": "code",
   "execution_count": 34,
   "metadata": {
    "collapsed": false
   },
   "outputs": [
    {
     "name": "stdout",
     "output_type": "stream",
     "text": [
      "[[307  21]\n",
      " [ 71  27]]\n"
     ]
    }
   ],
   "source": [
    "cm=metrics.confusion_matrix(y_test_binary, result_binary_test)\n",
    "print(cm)"
   ]
  },
  {
   "cell_type": "code",
   "execution_count": 35,
   "metadata": {
    "collapsed": false,
    "scrolled": true
   },
   "outputs": [
    {
     "data": {
      "image/png": "[encoded data removed]",
      "text/plain": [
       "<matplotlib.figure.Figure at 0x7fe5d614e610>"
      ]
     },
     "metadata": {},
     "output_type": "display_data"
    }
   ],
   "source": [
    "plot_confusion_matrix(cm, classes=['Light','Dark'],\n",
    "                      title='Confusion matrix, without normalization')"
   ]
  },
  {
   "cell_type": "markdown",
   "metadata": {},
   "source": [
    "From the confusion matrix above we see that the classifier does a good job in predicting light color skin plyers but the performance is really poor when it comes to predicitng players with dark skin color!"
   ]
  },
  {
   "cell_type": "markdown",
   "metadata": {},
   "source": [
    "From the results above and since the data is unbalanced, we will not use the accuracy alone, there are two scores that we can use:\n",
    "* A combination of precision and recall which the f1_score gives us. \n",
    "* Area under curve which are insensitive to class balance"
   ]
  },
  {
   "cell_type": "markdown",
   "metadata": {},
   "source": [
    "#### For Training data:"
   ]
  },
  {
   "cell_type": "code",
   "execution_count": 36,
   "metadata": {
    "collapsed": false
   },
   "outputs": [
    {
     "name": "stdout",
     "output_type": "stream",
     "text": [
      "('Accuracy Score: ', 0.97880928355196772)\n",
      "('Precision Score: ', 1.0)\n",
      "('Recall Score: ', 0.90948275862068961)\n",
      "('f1_score: ', 0.95259593679458243)\n",
      "('roc_auc_score: ', 0.60574290691886512)\n"
     ]
    }
   ],
   "source": [
    "result_binary_train = forest_binary.predict(X_train)\n",
    "print('Accuracy Score: ',metrics.accuracy_score(y_train_binary, result_binary_train))\n",
    "print('Precision Score: ',metrics.precision_score(y_train_binary, result_binary_train))\n",
    "print('Recall Score: ',metrics.recall_score(y_train_binary, result_binary_train))\n",
    "print('f1_score: ',metrics.f1_score(y_train_binary, result_binary_train))\n",
    "print('roc_auc_score: ',metrics.roc_auc_score(y_test_binary, result_binary_test))"
   ]
  },
  {
   "cell_type": "markdown",
   "metadata": {},
   "source": [
    "#### For Testing data:"
   ]
  },
  {
   "cell_type": "code",
   "execution_count": 37,
   "metadata": {
    "collapsed": false
   },
   "outputs": [
    {
     "name": "stdout",
     "output_type": "stream",
     "text": [
      "('Accuracy Score: ', 0.784037558685446)\n",
      "('Precision Score: ', 0.5625)\n",
      "('Recall Score: ', 0.27551020408163263)\n",
      "('f1_score: ', 0.36986301369863012)\n",
      "('roc_auc_score: ', 0.60574290691886512)\n"
     ]
    }
   ],
   "source": [
    "result_binary_test = forest_binary.predict(X_test)\n",
    "print('Accuracy Score: ',metrics.accuracy_score(y_test_binary, result_binary_test))\n",
    "print('Precision Score: ',metrics.precision_score(y_test_binary, result_binary_test))\n",
    "print('Recall Score: ',metrics.recall_score(y_test_binary, result_binary_test))\n",
    "print('f1_score: ',metrics.f1_score(y_test_binary, result_binary_test))\n",
    "print('roc_auc_score: ',metrics.roc_auc_score(y_test_binary, result_binary_test))"
   ]
  },
  {
   "cell_type": "markdown",
   "metadata": {},
   "source": [
    "#### K-Fold Cross Validation"
   ]
  },
  {
   "cell_type": "markdown",
   "metadata": {},
   "source": [
    "We want to get a more exact estimate of the training/testing error, so instead of relying on random splitting we compute the scores over 10 fold cross validated dataset and we take the mean over all the different combinations."
   ]
  },
  {
   "cell_type": "code",
   "execution_count": 38,
   "metadata": {
    "collapsed": false
   },
   "outputs": [
    {
     "name": "stdout",
     "output_type": "stream",
     "text": [
      "('Accuracy Score: ', 0.77701028868244937)\n",
      "('Precision Score: ', 0.5625)\n",
      "('Recall Score: ', 0.27551020408163263)\n",
      "('f1_score: ', 0.27161445014933389)\n",
      "('roc_auc_score: ', 0.70282050886026426)\n"
     ]
    }
   ],
   "source": [
    "scores_binary_accuracy = cross_val_score(forest_binary,  X, y_binary, cv=10, scoring='accuracy')\n",
    "scores_binary_f1 = cross_val_score(forest_binary,  X, y_binary, cv=10, scoring='f1')\n",
    "scores_binary_roc_auc = cross_val_score(forest_binary,  X, y_binary, cv=10, scoring='roc_auc')\n",
    "\n",
    "print('Accuracy Score: ',scores_binary_accuracy.mean())\n",
    "print('Precision Score: ',metrics.precision_score(y_test_binary, result_binary_test))\n",
    "print('Recall Score: ',metrics.recall_score(y_test_binary, result_binary_test))\n",
    "print('f1_score: ', scores_binary_f1.mean())\n",
    "print('roc_auc_score: ', scores_binary_roc_auc.mean())"
   ]
  },
  {
   "cell_type": "markdown",
   "metadata": {},
   "source": [
    "### Trying with Different Parameters and Overfitting:"
   ]
  },
  {
   "cell_type": "markdown",
   "metadata": {
    "collapsed": true
   },
   "source": [
    "Here we show how different parameters passed to the Classifier affect the overfitting issue. also we perform cross-validation to mitigate this issue!"
   ]
  },
  {
   "cell_type": "code",
   "execution_count": 39,
   "metadata": {
    "collapsed": false
   },
   "outputs": [
    {
     "name": "stdout",
     "output_type": "stream",
     "text": [
      "Training Score\n",
      "('Accuracy Score: ', 0.85872855701311801)\n",
      "('f1_score: ', 0.57055214723926384)\n",
      "('roc_auc_score: ', 0.60574290691886512)\n",
      "------------\n",
      "Resting Score\n",
      "('Accuracy Score: ', 0.78873239436619713)\n",
      "('f1_score: ', 0.25000000000000006)\n",
      "('roc_auc_score: ', 0.56585988053758096)\n"
     ]
    }
   ],
   "source": [
    "forest = RandomForestClassifier(n_estimators=10, max_depth=7)\n",
    "forest_binary = forest.fit(X_train, y_train_binary) \n",
    "\n",
    "result_binary_train = forest_binary.predict(X_train)\n",
    "print('Training Score')\n",
    "print('Accuracy Score: ',metrics.accuracy_score(y_train_binary, result_binary_train))\n",
    "#print('Precision Score: ',metrics.precision_score(y_train_binary, result_binary_train))\n",
    "#print('Recall Score: ',metrics.recall_score(y_train_binary, result_binary_train))\n",
    "print('f1_score: ',metrics.f1_score(y_train_binary, result_binary_train))\n",
    "print('roc_auc_score: ',metrics.roc_auc_score(y_test_binary, result_binary_test))\n",
    "\n",
    "print('------------')\n",
    "\n",
    "result_binary_test = forest_binary.predict(X_test)\n",
    "print('Resting Score')\n",
    "print('Accuracy Score: ',metrics.accuracy_score(y_test_binary, result_binary_test))\n",
    "#print('Precision Score: ',metrics.precision_score(y_test_binary, result_binary_test))\n",
    "#print('Recall Score: ',metrics.recall_score(y_test_binary, result_binary_test))\n",
    "print('f1_score: ',metrics.f1_score(y_test_binary, result_binary_test))\n",
    "print('roc_auc_score: ',metrics.roc_auc_score(y_test_binary, result_binary_test))"
   ]
  },
  {
   "cell_type": "code",
   "execution_count": 40,
   "metadata": {
    "collapsed": false
   },
   "outputs": [
    {
     "name": "stdout",
     "output_type": "stream",
     "text": [
      "Training Score\n",
      "('Accuracy Score: ', 1.0)\n",
      "('f1_score: ', 1.0)\n",
      "('roc_auc_score: ', 0.56585988053758096)\n",
      "------------\n",
      "Resting Score\n",
      "('Accuracy Score: ', 0.79342723004694837)\n",
      "('f1_score: ', 0.33333333333333337)\n",
      "('roc_auc_score: ', 0.5939522150323544)\n"
     ]
    }
   ],
   "source": [
    "forest = RandomForestClassifier(n_estimators=100, max_depth=75)\n",
    "forest_binary = forest.fit(X_train, y_train_binary) \n",
    "\n",
    "result_binary_train = forest_binary.predict(X_train)\n",
    "print('Training Score')\n",
    "print('Accuracy Score: ',metrics.accuracy_score(y_train_binary, result_binary_train))\n",
    "#print('Precision Score: ',metrics.precision_score(y_train_binary, result_binary_train))\n",
    "#print('Recall Score: ',metrics.recall_score(y_train_binary, result_binary_train))\n",
    "print('f1_score: ',metrics.f1_score(y_train_binary, result_binary_train))\n",
    "print('roc_auc_score: ',metrics.roc_auc_score(y_test_binary, result_binary_test))\n",
    "\n",
    "print('------------')\n",
    "\n",
    "result_binary_test = forest_binary.predict(X_test)\n",
    "print('Resting Score')\n",
    "print('Accuracy Score: ',metrics.accuracy_score(y_test_binary, result_binary_test))\n",
    "#print('Precision Score: ',metrics.precision_score(y_test_binary, result_binary_test))\n",
    "#print('Recall Score: ',metrics.recall_score(y_test_binary, result_binary_test))\n",
    "print('f1_score: ',metrics.f1_score(y_test_binary, result_binary_test))\n",
    "print('roc_auc_score: ',metrics.roc_auc_score(y_test_binary, result_binary_test))"
   ]
  },
  {
   "cell_type": "markdown",
   "metadata": {},
   "source": [
    "From the results above we see that, setting bigger values for n_estimator  and max_depth will lead to a complex model and this leads to overfitting since the gap between the training and the testing score is bigger compared to when we used a simpler model."
   ]
  },
  {
   "cell_type": "markdown",
   "metadata": {},
   "source": [
    "Now we perform cross-validation to mitigate this issue!"
   ]
  },
  {
   "cell_type": "markdown",
   "metadata": {},
   "source": [
    "## Choosing the parameters of the model"
   ]
  },
  {
   "cell_type": "markdown",
   "metadata": {},
   "source": [
    "Here we use grid search to find the best sets of parameters that give us the maximum value for AUC. We experimented with different values for number of estimators (n_estimators) and maximum depth of the tree (max_depth)."
   ]
  },
  {
   "cell_type": "code",
   "execution_count": 41,
   "metadata": {
    "collapsed": false
   },
   "outputs": [
    {
     "name": "stdout",
     "output_type": "stream",
     "text": [
      "(10, 'trees')\n",
      "('roc_auc score', 0.71166429843799872)\n",
      "---------------------\n",
      "(30, 'trees')\n",
      "('roc_auc score', 0.72965151000319195)\n",
      "---------------------\n",
      "(50, 'trees')\n",
      "('roc_auc score', 0.72992668787775816)\n",
      "---------------------\n",
      "(100, 'trees')\n",
      "('roc_auc score', 0.73290383447111274)\n",
      "---------------------\n",
      "(200, 'trees')\n",
      "('roc_auc score', 0.74511308291889322)\n",
      "---------------------\n",
      "(500, 'trees')\n",
      "('roc_auc score', 0.74389872218618402)\n",
      "---------------------\n",
      "(1000, 'trees')\n",
      "('roc_auc score', 0.74876762013612175)\n",
      "---------------------\n",
      "(2000, 'trees')\n",
      "('roc_auc score', 0.74972842595166755)\n",
      "---------------------\n"
     ]
    },
    {
     "data": {
      "text/plain": [
       "<matplotlib.axes._subplots.AxesSubplot at 0x7fe5dc9620d0>"
      ]
     },
     "execution_count": 41,
     "metadata": {},
     "output_type": "execute_result"
    },
    {
     "data": {
      "image/png": "[encoded data removed]",
      "text/plain": [
       "<matplotlib.figure.Figure at 0x7fe5dc962b90>"
      ]
     },
     "metadata": {},
     "output_type": "display_data"
    }
   ],
   "source": [
    "results_accuracy=[]\n",
    "results_f1=[]\n",
    "results_roc_auc=[]\n",
    "\n",
    "n_estimator_options=[10,30,50,100,200,500,1000,2000]\n",
    "\n",
    "for trees in n_estimator_options:\n",
    "    model = RandomForestClassifier(n_estimators=trees)\n",
    "    scores_binary_roc_auc = cross_val_score(model,  X, y_binary, cv=10, scoring='roc_auc')\n",
    "    print(trees,'trees')\n",
    "\n",
    "    print('roc_auc score', scores_binary_roc_auc.mean())\n",
    "    results_roc_auc.append(scores_binary_roc_auc.mean())\n",
    "    \n",
    "    print('---------------------')\n",
    "\n",
    "pd.Series(results_roc_auc, n_estimator_options).plot() "
   ]
  },
  {
   "cell_type": "markdown",
   "metadata": {},
   "source": [
    "From the graph above, we conclude that the best score can be achieved when n_estimators is approximately 1000."
   ]
  },
  {
   "cell_type": "code",
   "execution_count": 43,
   "metadata": {
    "collapsed": false
   },
   "outputs": [
    {
     "name": "stdout",
     "output_type": "stream",
     "text": [
      "(2000, 'trees')\n",
      "('roc_auc score', 0.66968062377083792)\n",
      "---------------------\n",
      "(2000, 'trees')\n",
      "('roc_auc score', 0.70756237193546068)\n",
      "---------------------\n",
      "(2000, 'trees')\n",
      "('roc_auc score', 0.71980624285670158)\n",
      "---------------------\n",
      "(2000, 'trees')\n",
      "('roc_auc score', 0.73238758636312151)\n",
      "---------------------\n",
      "(2000, 'trees')\n",
      "('roc_auc score', 0.73102868645682106)\n",
      "---------------------\n",
      "(2000, 'trees')\n",
      "('roc_auc score', 0.73959948619734539)\n",
      "---------------------\n",
      "(2000, 'trees')\n",
      "('roc_auc score', 0.7359219102338368)\n",
      "---------------------\n",
      "(2000, 'trees')\n",
      "('roc_auc score', 0.71214939919068354)\n",
      "---------------------\n",
      "(2000, 'trees')\n",
      "('roc_auc score', 0.73092507645259941)\n",
      "---------------------\n",
      "(2000, 'trees')\n",
      "('roc_auc score', 0.70832470989198826)\n",
      "---------------------\n"
     ]
    },
    {
     "data": {
      "text/plain": [
       "<matplotlib.axes._subplots.AxesSubplot at 0x7fe5d611bb90>"
      ]
     },
     "execution_count": 43,
     "metadata": {},
     "output_type": "execute_result"
    },
    {
     "data": {
      "image/png": "[encoded data removed]",
      "text/plain": [
       "<matplotlib.figure.Figure at 0x7fe5dbd55110>"
      ]
     },
     "metadata": {},
     "output_type": "display_data"
    }
   ],
   "source": [
    "results_accuracy=[]\n",
    "results_f1=[]\n",
    "results_roc_auc=[]\n",
    "\n",
    "max_depth_options=[1,2,3,4,5,6,7,8,9,10]\n",
    "\n",
    "for max_samples in max_depth_options:\n",
    "    model = RandomForestClassifier(max_depth=max_samples)\n",
    "    scores_binary_roc_auc = cross_val_score(model,  X, y_binary, cv=10, scoring='roc_auc')\n",
    "\n",
    "\n",
    "    print(trees,'trees')\n",
    "    print('roc_auc score', scores_binary_roc_auc.mean())\n",
    "    results_roc_auc.append(scores_binary_roc_auc.mean())\n",
    "    \n",
    "    print('---------------------')\n",
    "    \n",
    "pd.Series(results_roc_auc, max_depth_options).plot()\n",
    "\n"
   ]
  },
  {
   "cell_type": "markdown",
   "metadata": {},
   "source": [
    "From the graph above, we conclude that we get the best score when max_depth is approximately 5. "
   ]
  },
  {
   "cell_type": "code",
   "execution_count": 45,
   "metadata": {
    "collapsed": false
   },
   "outputs": [
    {
     "data": {
      "text/plain": [
       "0.75105849524809776"
      ]
     },
     "execution_count": 45,
     "metadata": {},
     "output_type": "execute_result"
    }
   ],
   "source": [
    "model = RandomForestClassifier(n_estimators=1000, max_depth = 6, class_weight='balanced' )\n",
    "forest_binary = model.fit(X_train, y_train_binary, sample_weight= sample_weights_binary)\n",
    "scores_binary = cross_val_score(forest_binary,  X, y_binary, cv=10, scoring='roc_auc')\n",
    "scores_binary.mean()"
   ]
  },
  {
   "cell_type": "markdown",
   "metadata": {},
   "source": [
    "### Feature Importance"
   ]
  },
  {
   "cell_type": "code",
   "execution_count": 46,
   "metadata": {
    "collapsed": false
   },
   "outputs": [
    {
     "data": {
      "text/plain": [
       "<matplotlib.axes._subplots.AxesSubplot at 0x7fe5d5e9da50>"
      ]
     },
     "execution_count": 46,
     "metadata": {},
     "output_type": "execute_result"
    },
    {
     "data": {
      "image/png": "[encoded data removed]",
      "text/plain": [
       "<matplotlib.figure.Figure at 0x7fe5d5dad450>"
      ]
     },
     "metadata": {},
     "output_type": "display_data"
    }
   ],
   "source": [
    "feature_importance= pd.Series(model.feature_importances_,index=X.columns)\n",
    "feature_importance.sort()\n",
    "feature_importance.plot(kind='barh')"
   ]
  },
  {
   "cell_type": "markdown",
   "metadata": {},
   "source": [
    "From the graph above, you can see the features ranked based on their importance. The top features here are seExp, meanExp, leagueCountry and so on."
   ]
  },
  {
   "cell_type": "markdown",
   "metadata": {},
   "source": [
    "### Feature Selection"
   ]
  },
  {
   "cell_type": "markdown",
   "metadata": {
    "collapsed": true
   },
   "source": [
    "Now, we experiment using a different assumptions on the features that can impact the prediction of the player skin color. We remove the features related to referee since we may think that those features are directly related to the player. "
   ]
  },
  {
   "cell_type": "code",
   "execution_count": 52,
   "metadata": {
    "collapsed": true
   },
   "outputs": [],
   "source": [
    "features_player = ['weight', 'height', 'yellowReds',\n",
    "       'leagueCountry', 'club', 'victories',\n",
    "       'yellowCards', 'birthday', 'goals', 'ties',\n",
    "       'defeats','games','position', 'redCards']"
   ]
  },
  {
   "cell_type": "code",
   "execution_count": 53,
   "metadata": {
    "collapsed": false
   },
   "outputs": [
    {
     "data": {
      "text/plain": [
       "0.70070429061254746"
      ]
     },
     "execution_count": 53,
     "metadata": {},
     "output_type": "execute_result"
    }
   ],
   "source": [
    "X_2 = crowdstorming_df_num [features_player]\n",
    "y_binary_2 = crowdstorming_df_num ['BinaryColorClass']\n",
    "y_multi_2 = crowdstorming_df_num ['MultiColorClass']\n",
    "\n",
    "X_train_2, X_test_2, y_train_binary_2, y_test_binary_2 = train_test_split(X_2,y_binary_2, test_size=0.3)\n",
    "\n",
    "model_2 = RandomForestClassifier(n_estimators=1000, max_depth = 6, class_weight='balanced' )\n",
    "forest_binary_2 = model_2.fit(X_train_2, y_train_binary_2, sample_weight= sample_weights_binary)\n",
    "scores_binary_2 = cross_val_score(forest_binary_2,  X_2, y_binary_2, cv=10, scoring='roc_auc')\n",
    "scores_binary_2.mean()"
   ]
  },
  {
   "cell_type": "markdown",
   "metadata": {},
   "source": [
    "Let us look at the features importance"
   ]
  },
  {
   "cell_type": "code",
   "execution_count": 57,
   "metadata": {
    "collapsed": false
   },
   "outputs": [
    {
     "data": {
      "text/plain": [
       "<matplotlib.axes._subplots.AxesSubplot at 0x7fe5d5a6c790>"
      ]
     },
     "execution_count": 57,
     "metadata": {},
     "output_type": "execute_result"
    },
    {
     "data": {
      "image/png": "[encoded data removed]",
      "text/plain": [
       "<matplotlib.figure.Figure at 0x7fe5d5a9eb50>"
      ]
     },
     "metadata": {},
     "output_type": "display_data"
    }
   ],
   "source": [
    "feature_importance= pd.Series(model_2.feature_importances_,index=X_2.columns)\n",
    "feature_importance.sort()\n",
    "feature_importance.plot(kind='barh')"
   ]
  },
  {
   "cell_type": "markdown",
   "metadata": {},
   "source": [
    "By removing referee features, we get lower results for AUC and this is normal since those features rank at the top in feature importance. We observe that by removing referee features, the relative order of importance of player features changes. For example, when we were considering referee features: defeats were more important than goals and weights were more important than birthday, whereas now goals are more important than weights and birthday more important than weights.  "
   ]
  },
  {
   "cell_type": "code",
   "execution_count": null,
   "metadata": {
    "collapsed": true
   },
   "outputs": [],
   "source": [
    "features_player = ['weight', 'height', 'yellowReds',\n",
    "       'leagueCountry', 'club', 'victories',\n",
    "       'yellowCards', 'birthday', 'goals', 'ties',\n",
    "       'defeats','games','position', 'redCards']"
   ]
  },
  {
   "cell_type": "markdown",
   "metadata": {},
   "source": [
    "## Bonus Part"
   ]
  },
  {
   "cell_type": "code",
   "execution_count": 58,
   "metadata": {
    "collapsed": true
   },
   "outputs": [],
   "source": [
    "from sklearn.model_selection import cross_val_score, train_test_split, cross_val_predict, learning_curve\n",
    "import numpy as np"
   ]
  },
  {
   "cell_type": "code",
   "execution_count": null,
   "metadata": {
    "collapsed": true
   },
   "outputs": [],
   "source": [
    "def plot_learning_curve(estimator,X,Y,cv=20):\n",
    "    plt.figure()\n",
    "    plt.xlabel(\"Training examples\")\n",
    "    plt.ylabel(\"Score\")\n",
    "    train_sizes, train_scores, test_scores = learning_curve(estimator, X, Y, cv=cv, train_sizes=np.linspace(0.2,1,20))\n",
    "    train_scores_mean = np.mean(train_scores, axis=1)\n",
    "    train_scores_std = np.std(train_scores, axis=1)\n",
    "    test_scores_mean = np.mean(test_scores, axis=1)\n",
    "    test_scores_std = np.std(test_scores, axis=1)\n",
    "    plt.grid()\n",
    "\n",
    "    plt.fill_between(train_sizes, train_scores_mean - train_scores_std,\n",
    "                    train_scores_mean + train_scores_std, alpha=0.1, color=\"b\")\n",
    "    plt.fill_between(train_sizes, test_scores_mean - test_scores_std,\n",
    "                    test_scores_mean + test_scores_std, alpha=0.1, color=\"r\")\n",
    "    plt.plot(train_sizes, train_scores_mean, 'o-', color=\"b\",\n",
    "            label=\"Training score\")\n",
    "    plt.plot(train_sizes, test_scores_mean, 'o-', color=\"r\",\n",
    "            label=\"Cross-validation score\")\n",
    "    plt.legend(loc=\"best\")\n",
    "    plt.show()"
   ]
  },
  {
   "cell_type": "markdown",
   "metadata": {},
   "source": []
  },
  {
   "cell_type": "code",
   "execution_count": 61,
   "metadata": {
    "collapsed": false
   },
   "outputs": [
    {
     "data": {
      "image/png": "[encoded data removed]",
      "text/plain": [
       "<matplotlib.figure.Figure at 0x7fe5d5ddc4d0>"
      ]
     },
     "metadata": {},
     "output_type": "display_data"
    }
   ],
   "source": [
    "estimator = RandomForestClassifier(n_estimators = 6, max_features = 10)    \n",
    "plot_learning_curve(estimator,X,y_binary)   "
   ]
  },
  {
   "cell_type": "markdown",
   "metadata": {},
   "source": [
    "This is an example of high variance (overfitting) since the training score highly exceeds the testing score. We can see that from the gap between the training and testing data (20%). So, this trained model and cannot be generalized to the test data.  "
   ]
  },
  {
   "cell_type": "code",
   "execution_count": 72,
   "metadata": {
    "collapsed": false,
    "scrolled": false
   },
   "outputs": [
    {
     "data": {
      "image/png": "[encoded data removed]",
      "text/plain": [
       "<matplotlib.figure.Figure at 0x7fe5d5bbb810>"
      ]
     },
     "metadata": {},
     "output_type": "display_data"
    }
   ],
   "source": [
    "estimator = RandomForestClassifier(n_estimators = 15, max_depth = 3)    \n",
    "plot_learning_curve(estimator,X,y_binary)   "
   ]
  },
  {
   "cell_type": "markdown",
   "metadata": {
    "collapsed": true
   },
   "source": [
    "This is a good example of high bias in which there is very high error for both the training set and the cross-validation set. In this case, the model is too simplistic that it underfits the data and the performance of the classifier is decreased."
   ]
  },
  {
   "cell_type": "code",
   "execution_count": null,
   "metadata": {
    "collapsed": true
   },
   "outputs": [],
   "source": []
  },
  {
   "cell_type": "code",
   "execution_count": null,
   "metadata": {
    "collapsed": true
   },
   "outputs": [],
   "source": []
  },
  {
   "cell_type": "code",
   "execution_count": null,
   "metadata": {
    "collapsed": true
   },
   "outputs": [],
   "source": []
  },
  {
   "cell_type": "code",
   "execution_count": null,
   "metadata": {
    "collapsed": true
   },
   "outputs": [],
   "source": []
  },
  {
   "cell_type": "markdown",
   "metadata": {},
   "source": [
    "## 1.2. Multi-Class Classification"
   ]
  },
  {
   "cell_type": "markdown",
   "metadata": {},
   "source": [
    "### Splitting data into train and test"
   ]
  },
  {
   "cell_type": "code",
   "execution_count": null,
   "metadata": {
    "collapsed": true
   },
   "outputs": [],
   "source": [
    "from sklearn.model_selection import train_test_split\n",
    "X_train, X_test, y_train_multi, y_test_multi = train_test_split(X,y_multi, test_size=0.3)"
   ]
  },
  {
   "cell_type": "code",
   "execution_count": null,
   "metadata": {
    "collapsed": false
   },
   "outputs": [],
   "source": [
    "# Fit a random forest to the training data for multi-class classification, using 100 trees\n",
    "from sklearn.ensemble import RandomForestClassifier\n",
    "forest = RandomForestClassifier( n_estimators = 10 )\n",
    "\n",
    "forest_multi = forest.fit(X_train, y_train_multi)"
   ]
  },
  {
   "cell_type": "markdown",
   "metadata": {
    "collapsed": true
   },
   "source": [
    "### Calculating the accuracy of the model"
   ]
  },
  {
   "cell_type": "code",
   "execution_count": null,
   "metadata": {
    "collapsed": false
   },
   "outputs": [],
   "source": [
    "from sklearn import metrics\n",
    "result_multi_train = forest_multi.predict(X_train)\n",
    "print(metrics.accuracy_score(y_train_multi, result_multi_train))"
   ]
  },
  {
   "cell_type": "code",
   "execution_count": null,
   "metadata": {
    "collapsed": false
   },
   "outputs": [],
   "source": [
    "from sklearn import metrics\n",
    "result_multi_test = forest_multi.predict(X_test)\n",
    "print(metrics.accuracy_score(y_test_multi, result_multi_test))"
   ]
  },
  {
   "cell_type": "code",
   "execution_count": null,
   "metadata": {
    "collapsed": false
   },
   "outputs": [],
   "source": [
    "area_under_curve (y_test_multi, result_multi_test)"
   ]
  },
  {
   "cell_type": "markdown",
   "metadata": {},
   "source": [
    "# 2. Unsupervised Learning"
   ]
  },
  {
   "cell_type": "code",
   "execution_count": null,
   "metadata": {
    "collapsed": false
   },
   "outputs": [],
   "source": [
    "import pandas as pd\n",
    "import numpy as np\n",
    " \n",
    "crowdstorming_df['skin'] = crowdstorming_df[['rater1', 'rater2']].mean(axis=1)\n",
    "crowdstorming_df = crowdstorming_df.drop(['rater1', 'rater2'], axis=1)"
   ]
  },
  {
   "cell_type": "code",
   "execution_count": null,
   "metadata": {
    "collapsed": false
   },
   "outputs": [],
   "source": [
    "#df.fillna(df.mean()).dropna(axis=1, how='all')\n",
    "for _col_name_ in ['height', 'weight','meanIAT','nIAT','seIAT']:\n",
    "    crowdstorming_df[_col_name_] = crowdstorming_df[_col_name_].fillna(crowdstorming_df[_col_name_].mean())"
   ]
  },
  {
   "cell_type": "code",
   "execution_count": null,
   "metadata": {
    "collapsed": true
   },
   "outputs": [],
   "source": [
    "f = {\n",
    "    #'club':'first',\n",
    "    #'birthday':'first',\n",
    "    'height':'first', \n",
    "    'weight':'first',\n",
    "    'games': 'sum', \n",
    "    'victories':'sum',\n",
    "    'ties': 'sum',\n",
    "    'defeats': 'sum', \n",
    "    'goals': 'sum', \n",
    "    'yellowCards': 'sum', \n",
    "    'yellowReds': 'sum', \n",
    "    'redCards': 'sum',\n",
    "    #'position':'first',\n",
    "    #'refNum':'first',\n",
    "    #'refCountry':'first',\n",
    "    'meanIAT':'mean',\n",
    "    'nIAT':'mean', \n",
    "    'seIAT':'mean',\n",
    "    'meanExp': 'mean',\n",
    "    'nExp':'mean', \n",
    "    'seExp':'mean',\n",
    "    #'rater1':'mean',\n",
    "    #'rater2':'mean'\n",
    "    #'skin':'mean',\n",
    "    'leagueCountry':'first'\n",
    "}\n",
    "\n",
    "#df_aggr = df.groupby(['playerShort']).agg(f)\n",
    "df_grouped = crowdstorming_df.groupby(['playerShort'])\n",
    "\n",
    "df_skin = df_grouped.agg({'skin': 'mean'})\n",
    "df_skin['actual_skin'] = np.where(df_skin['skin'] > 0.5, 1,0)"
   ]
  },
  {
   "cell_type": "code",
   "execution_count": null,
   "metadata": {
    "collapsed": true
   },
   "outputs": [],
   "source": [
    "from sklearn.preprocessing import StandardScaler\n",
    "from sklearn.cluster import KMeans\n",
    "from sklearn.metrics import silhouette_score\n",
    "\n",
    "\n",
    "scale = StandardScaler()\n",
    "\n",
    "def sil_score(df_aggr):\n",
    "    df_aggr_scaled = scale.fit_transform(df_aggr.as_matrix())\n",
    "    kmeans_model = KMeans(n_clusters=2, random_state=0).fit(df_aggr_scaled)\n",
    "    labels = kmeans_model.labels_\n",
    "    return labels, silhouette_score(df_aggr_scaled, labels)"
   ]
  },
  {
   "cell_type": "code",
   "execution_count": null,
   "metadata": {
    "collapsed": false
   },
   "outputs": [],
   "source": [
    "for i in reversed(range(1,len(f.items()))):\n",
    "    combination = dict(list(f.items())[:i])\n",
    "    _df_aggregated = df_grouped.agg(dict(combination))\n",
    "    _df_aggregated = pd.get_dummies(_df_aggregated)\n",
    "    \n",
    "    labeled, score = sil_score(_df_aggregated)\n",
    "    cluster_0 = df_skin[labeled == 0]\n",
    "    cluster_1 = df_skin[labeled == 1]\n",
    "    \n",
    "    print(\"FIRST CLUSTER: \", cluster_0['skin'].mean(),len(cluster_0))\n",
    "    print(\"SCND  CLUSTER: \", cluster_1['skin'].mean(),len(cluster_1))\n",
    "    \n",
    "    cluster_0_whites = len(cluster_0[cluster_0['skin'] > 0.5])\n",
    "    cluster_0_blacks = len(cluster_0[cluster_0['skin'] <= 0.5])\n",
    "    \n",
    "    cluster_1_whites = len(cluster_1[cluster_1['skin'] > 0.5])\n",
    "    cluster_1_blacks = len(cluster_1[cluster_1['skin'] <= 0.5])\n",
    "    \n",
    "    print(\"CLUSTER 0: %d/%d = %%%d\" % (cluster_0_whites, len(cluster_0), int(cluster_0_whites/len(cluster_0)*100)))\n",
    "    print(\"CLUSTER 1: %d/%d = %%%d\" % (cluster_1_whites, len(cluster_1), int(cluster_1_whites/len(cluster_1)*100)))\n",
    "\n",
    "    \n",
    "    print(score,_df_aggregated.columns)\n",
    "    print(score)"
   ]
  },
  {
   "cell_type": "code",
   "execution_count": null,
   "metadata": {
    "collapsed": false
   },
   "outputs": [],
   "source": [
    "df_skin"
   ]
  },
  {
   "cell_type": "code",
   "execution_count": null,
   "metadata": {
    "collapsed": true
   },
   "outputs": [],
   "source": []
  },
  {
   "cell_type": "code",
   "execution_count": null,
   "metadata": {
    "collapsed": true
   },
   "outputs": [],
   "source": []
  }
 ],
 "metadata": {
  "kernelspec": {
   "display_name": "Python 2",
   "language": "python",
   "name": "python2"
  },
  "language_info": {
   "codemirror_mode": {
    "name": "ipython",
    "version": 2
   },
   "file_extension": ".py",
   "mimetype": "text/x-python",
   "name": "python",
   "nbconvert_exporter": "python",
   "pygments_lexer": "ipython2",
   "version": "2.7.12"
  }
 },
 "nbformat": 4,
 "nbformat_minor": 0
}
