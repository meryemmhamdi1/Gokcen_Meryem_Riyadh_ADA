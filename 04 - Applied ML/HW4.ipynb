{
 "cells": [
  {
   "cell_type": "code",
   "execution_count": 18,
   "metadata": {
    "collapsed": true
   },
   "outputs": [],
   "source": [
    "import pandas as pd\n",
    "from pprint import pprint as pp\n",
    "from sklearn import preprocessing"
   ]
  },
  {
   "cell_type": "markdown",
   "metadata": {},
   "source": [
    "# Explorative Data Analysis"
   ]
  },
  {
   "cell_type": "code",
   "execution_count": null,
   "metadata": {
    "collapsed": true
   },
   "outputs": [],
   "source": []
  },
  {
   "cell_type": "code",
   "execution_count": null,
   "metadata": {
    "collapsed": true
   },
   "outputs": [],
   "source": []
  },
  {
   "cell_type": "markdown",
   "metadata": {},
   "source": [
    "# Data Cleaning and Pre-Processing"
   ]
  },
  {
   "cell_type": "code",
   "execution_count": 4,
   "metadata": {
    "collapsed": false
   },
   "outputs": [
    {
     "data": {
      "text/html": [
       "<div>\n",
       "<table border=\"1\" class=\"dataframe\">\n",
       "  <thead>\n",
       "    <tr style=\"text-align: right;\">\n",
       "      <th></th>\n",
       "      <th>playerShort</th>\n",
       "      <th>player</th>\n",
       "      <th>club</th>\n",
       "      <th>leagueCountry</th>\n",
       "      <th>birthday</th>\n",
       "      <th>height</th>\n",
       "      <th>weight</th>\n",
       "      <th>position</th>\n",
       "      <th>games</th>\n",
       "      <th>victories</th>\n",
       "      <th>...</th>\n",
       "      <th>rater2</th>\n",
       "      <th>refNum</th>\n",
       "      <th>refCountry</th>\n",
       "      <th>Alpha_3</th>\n",
       "      <th>meanIAT</th>\n",
       "      <th>nIAT</th>\n",
       "      <th>seIAT</th>\n",
       "      <th>meanExp</th>\n",
       "      <th>nExp</th>\n",
       "      <th>seExp</th>\n",
       "    </tr>\n",
       "  </thead>\n",
       "  <tbody>\n",
       "    <tr>\n",
       "      <th>0</th>\n",
       "      <td>lucas-wilchez</td>\n",
       "      <td>Lucas Wilchez</td>\n",
       "      <td>Real Zaragoza</td>\n",
       "      <td>Spain</td>\n",
       "      <td>31.08.1983</td>\n",
       "      <td>177.0</td>\n",
       "      <td>72.0</td>\n",
       "      <td>Attacking Midfielder</td>\n",
       "      <td>1</td>\n",
       "      <td>0</td>\n",
       "      <td>...</td>\n",
       "      <td>0.50</td>\n",
       "      <td>1</td>\n",
       "      <td>1</td>\n",
       "      <td>GRC</td>\n",
       "      <td>0.326391</td>\n",
       "      <td>712.0</td>\n",
       "      <td>0.000564</td>\n",
       "      <td>0.396000</td>\n",
       "      <td>750.0</td>\n",
       "      <td>0.002696</td>\n",
       "    </tr>\n",
       "    <tr>\n",
       "      <th>1</th>\n",
       "      <td>john-utaka</td>\n",
       "      <td>John Utaka</td>\n",
       "      <td>Montpellier HSC</td>\n",
       "      <td>France</td>\n",
       "      <td>08.01.1982</td>\n",
       "      <td>179.0</td>\n",
       "      <td>82.0</td>\n",
       "      <td>Right Winger</td>\n",
       "      <td>1</td>\n",
       "      <td>0</td>\n",
       "      <td>...</td>\n",
       "      <td>0.75</td>\n",
       "      <td>2</td>\n",
       "      <td>2</td>\n",
       "      <td>ZMB</td>\n",
       "      <td>0.203375</td>\n",
       "      <td>40.0</td>\n",
       "      <td>0.010875</td>\n",
       "      <td>-0.204082</td>\n",
       "      <td>49.0</td>\n",
       "      <td>0.061504</td>\n",
       "    </tr>\n",
       "    <tr>\n",
       "      <th>2</th>\n",
       "      <td>abdon-prats</td>\n",
       "      <td>Abdón Prats</td>\n",
       "      <td>RCD Mallorca</td>\n",
       "      <td>Spain</td>\n",
       "      <td>17.12.1992</td>\n",
       "      <td>181.0</td>\n",
       "      <td>79.0</td>\n",
       "      <td>NaN</td>\n",
       "      <td>1</td>\n",
       "      <td>0</td>\n",
       "      <td>...</td>\n",
       "      <td>NaN</td>\n",
       "      <td>3</td>\n",
       "      <td>3</td>\n",
       "      <td>ESP</td>\n",
       "      <td>0.369894</td>\n",
       "      <td>1785.0</td>\n",
       "      <td>0.000229</td>\n",
       "      <td>0.588297</td>\n",
       "      <td>1897.0</td>\n",
       "      <td>0.001002</td>\n",
       "    </tr>\n",
       "    <tr>\n",
       "      <th>3</th>\n",
       "      <td>pablo-mari</td>\n",
       "      <td>Pablo Marí</td>\n",
       "      <td>RCD Mallorca</td>\n",
       "      <td>Spain</td>\n",
       "      <td>31.08.1993</td>\n",
       "      <td>191.0</td>\n",
       "      <td>87.0</td>\n",
       "      <td>Center Back</td>\n",
       "      <td>1</td>\n",
       "      <td>1</td>\n",
       "      <td>...</td>\n",
       "      <td>NaN</td>\n",
       "      <td>3</td>\n",
       "      <td>3</td>\n",
       "      <td>ESP</td>\n",
       "      <td>0.369894</td>\n",
       "      <td>1785.0</td>\n",
       "      <td>0.000229</td>\n",
       "      <td>0.588297</td>\n",
       "      <td>1897.0</td>\n",
       "      <td>0.001002</td>\n",
       "    </tr>\n",
       "    <tr>\n",
       "      <th>4</th>\n",
       "      <td>ruben-pena</td>\n",
       "      <td>Rubén Peña</td>\n",
       "      <td>Real Valladolid</td>\n",
       "      <td>Spain</td>\n",
       "      <td>18.07.1991</td>\n",
       "      <td>172.0</td>\n",
       "      <td>70.0</td>\n",
       "      <td>Right Midfielder</td>\n",
       "      <td>1</td>\n",
       "      <td>1</td>\n",
       "      <td>...</td>\n",
       "      <td>NaN</td>\n",
       "      <td>3</td>\n",
       "      <td>3</td>\n",
       "      <td>ESP</td>\n",
       "      <td>0.369894</td>\n",
       "      <td>1785.0</td>\n",
       "      <td>0.000229</td>\n",
       "      <td>0.588297</td>\n",
       "      <td>1897.0</td>\n",
       "      <td>0.001002</td>\n",
       "    </tr>\n",
       "  </tbody>\n",
       "</table>\n",
       "<p>5 rows × 28 columns</p>\n",
       "</div>"
      ],
      "text/plain": [
       "     playerShort         player             club leagueCountry    birthday  \\\n",
       "0  lucas-wilchez  Lucas Wilchez    Real Zaragoza         Spain  31.08.1983   \n",
       "1     john-utaka     John Utaka  Montpellier HSC        France  08.01.1982   \n",
       "2    abdon-prats    Abdón Prats     RCD Mallorca         Spain  17.12.1992   \n",
       "3     pablo-mari     Pablo Marí     RCD Mallorca         Spain  31.08.1993   \n",
       "4     ruben-pena     Rubén Peña  Real Valladolid         Spain  18.07.1991   \n",
       "\n",
       "   height  weight              position  games  victories    ...     rater2  \\\n",
       "0   177.0    72.0  Attacking Midfielder      1          0    ...       0.50   \n",
       "1   179.0    82.0          Right Winger      1          0    ...       0.75   \n",
       "2   181.0    79.0                   NaN      1          0    ...        NaN   \n",
       "3   191.0    87.0           Center Back      1          1    ...        NaN   \n",
       "4   172.0    70.0      Right Midfielder      1          1    ...        NaN   \n",
       "\n",
       "   refNum  refCountry  Alpha_3   meanIAT    nIAT     seIAT   meanExp    nExp  \\\n",
       "0       1           1      GRC  0.326391   712.0  0.000564  0.396000   750.0   \n",
       "1       2           2      ZMB  0.203375    40.0  0.010875 -0.204082    49.0   \n",
       "2       3           3      ESP  0.369894  1785.0  0.000229  0.588297  1897.0   \n",
       "3       3           3      ESP  0.369894  1785.0  0.000229  0.588297  1897.0   \n",
       "4       3           3      ESP  0.369894  1785.0  0.000229  0.588297  1897.0   \n",
       "\n",
       "      seExp  \n",
       "0  0.002696  \n",
       "1  0.061504  \n",
       "2  0.001002  \n",
       "3  0.001002  \n",
       "4  0.001002  \n",
       "\n",
       "[5 rows x 28 columns]"
      ]
     },
     "execution_count": 4,
     "metadata": {},
     "output_type": "execute_result"
    }
   ],
   "source": [
    "crowdstorming_df = pd.read_csv('Data/CrowdstormingDataJuly1st.csv')\n",
    "crowdstorming_df.head()"
   ]
  },
  {
   "cell_type": "code",
   "execution_count": 6,
   "metadata": {
    "collapsed": false
   },
   "outputs": [
    {
     "data": {
      "text/plain": [
       "(146028, 28)"
      ]
     },
     "execution_count": 6,
     "metadata": {},
     "output_type": "execute_result"
    }
   ],
   "source": [
    "crowdstorming_df.shape"
   ]
  },
  {
   "cell_type": "code",
   "execution_count": 9,
   "metadata": {
    "collapsed": false
   },
   "outputs": [
    {
     "data": {
      "text/plain": [
       "playerShort      False\n",
       "player           False\n",
       "club             False\n",
       "leagueCountry    False\n",
       "birthday         False\n",
       "height            True\n",
       "weight            True\n",
       "position          True\n",
       "games            False\n",
       "victories        False\n",
       "ties             False\n",
       "defeats          False\n",
       "goals            False\n",
       "yellowCards      False\n",
       "yellowReds       False\n",
       "redCards         False\n",
       "photoID           True\n",
       "rater1            True\n",
       "rater2            True\n",
       "refNum           False\n",
       "refCountry       False\n",
       "Alpha_3           True\n",
       "meanIAT           True\n",
       "nIAT              True\n",
       "seIAT             True\n",
       "meanExp           True\n",
       "nExp              True\n",
       "seExp             True\n",
       "dtype: bool"
      ]
     },
     "execution_count": 9,
     "metadata": {},
     "output_type": "execute_result"
    }
   ],
   "source": [
    "#crowdstorming_df.describe()\n",
    "crowdstorming_df.isnull().any()"
   ]
  },
  {
   "cell_type": "markdown",
   "metadata": {},
   "source": [
    "From the description, we can conclude the following:\n",
    "* There are missing values on rater1, rater2 and photoID and since our goal is to build a classifier based on those labels we decided to drop rows with nan values for those columns. \n",
    "* There are missing values in height, weight. A tentative solution is to replace those values by average heights and weights of people who belong to the same leagueCountry or people with same position (for e.g: goalkeeper is usually taller), but it is safe to do it and we don't have a lot of missing values. So, we decided to drop them.\n",
    "* There are missing values for Alpha_3, meanIAT, nIAT, seIAT, meanExp, nExp, seExp. Those we also decided to drop."
   ]
  },
  {
   "cell_type": "code",
   "execution_count": 12,
   "metadata": {
    "collapsed": false
   },
   "outputs": [],
   "source": [
    "crowdstorming_df = crowdstorming_df.dropna()"
   ]
  },
  {
   "cell_type": "markdown",
   "metadata": {},
   "source": [
    "## Aggregating player-referee information by player"
   ]
  },
  {
   "cell_type": "code",
   "execution_count": 15,
   "metadata": {
    "collapsed": true
   },
   "outputs": [],
   "source": [
    "f = {'club':'first',\n",
    "     'leagueCountry':'first',\n",
    "     'birthday':'first',\n",
    "     'height':'first', \n",
    "     'weight':'first',\n",
    "     'games': 'sum', \n",
    "     'victories':'sum',\n",
    "     'ties': 'sum',\n",
    "     'defeats': 'sum', \n",
    "     'goals': 'sum', \n",
    "     'yellowCards': 'sum', \n",
    "     'yellowReds': 'sum', \n",
    "     'redCards': 'sum',\n",
    "     'photoID':'first',\n",
    "     'position':'first',\n",
    "     'refNum':'first',\n",
    "     'refCountry':'first',\n",
    "     'Alpha_3':'first',\n",
    "     'meanIAT':'mean',\n",
    "     'nIAT':'mean', \n",
    "     'seIAT':'mean',\n",
    "     'meanExp': 'mean',\n",
    "     'nExp':'mean', \n",
    "     'seExp':'mean',\n",
    "     'rater1':'mean',\n",
    "     'rater2':'mean'\n",
    "    }\n",
    "crowdstorming_df_player_agg = crowdstorming_df.groupby(['playerShort']).agg(f)"
   ]
  },
  {
   "cell_type": "markdown",
   "metadata": {},
   "source": [
    "# Encoding Categorical to Numerical Values"
   ]
  },
  {
   "cell_type": "markdown",
   "metadata": {},
   "source": [
    "Since we want to use RandomForest Classifier, we need to convert all columns with categorical values into numerical values. Let's check for the categorical features:"
   ]
  },
  {
   "cell_type": "code",
   "execution_count": 16,
   "metadata": {
    "collapsed": false
   },
   "outputs": [
    {
     "data": {
      "text/plain": [
       "weight           float64\n",
       "nExp             float64\n",
       "height           float64\n",
       "meanExp          float64\n",
       "rater2           float64\n",
       "yellowReds         int64\n",
       "leagueCountry     object\n",
       "rater1           float64\n",
       "club              object\n",
       "victories          int64\n",
       "seExp            float64\n",
       "Alpha_3           object\n",
       "yellowCards        int64\n",
       "photoID           object\n",
       "nIAT             float64\n",
       "birthday          object\n",
       "goals              int64\n",
       "ties               int64\n",
       "defeats            int64\n",
       "meanIAT          float64\n",
       "refCountry         int64\n",
       "refNum             int64\n",
       "seIAT            float64\n",
       "games              int64\n",
       "position          object\n",
       "redCards           int64\n",
       "dtype: object"
      ]
     },
     "execution_count": 16,
     "metadata": {},
     "output_type": "execute_result"
    }
   ],
   "source": [
    "crowdstorming_df_player_agg.dtypes"
   ]
  },
  {
   "cell_type": "markdown",
   "metadata": {},
   "source": [
    "From the description above, the set of categorical features include:\n",
    "* club\n",
    "* leagueCountry\n",
    "* birthday \n",
    "* position \n",
    "* Alpha_3"
   ]
  },
  {
   "cell_type": "code",
   "execution_count": 20,
   "metadata": {
    "collapsed": false
   },
   "outputs": [],
   "source": [
    "le = preprocessing.LabelEncoder()\n",
    "\n",
    "crowdstorming_df_num = crowdstorming_df_player_agg \n",
    "\n",
    "# Converting club String to numerical representation\n",
    "le.fit(list(set(crowdstorming_df_player_agg['club'])))\n",
    "crowdstorming_df_num['club'] = le.transform(crowdstorming_df_player_agg['club']) \n",
    "\n",
    "\n",
    "# Converting leagueCountry String to numerical representation\n",
    "le.fit(list(set(crowdstorming_df_player_agg['leagueCountry'])))\n",
    "crowdstorming_df_num['leagueCountry'] = le.transform(crowdstorming_df_player_agg['leagueCountry']) \n",
    "\n",
    "# Converting birthday String to numerical representation\n",
    "le.fit(list(set(crowdstorming_df_player_agg['birthday'])))\n",
    "crowdstorming_df_num['birthday'] = le.transform(crowdstorming_df_player_agg['birthday']) \n",
    "\n",
    "\n",
    "# Converting position String to numerical representation\n",
    "le.fit(list(set(crowdstorming_df_player_agg['position'])))\n",
    "crowdstorming_df_num['position'] = le.transform(crowdstorming_df_player_agg['position']) \n",
    "\n",
    "# Converting position String to numerical representation\n",
    "le.fit(list(set(crowdstorming_df_player_agg['Alpha_3'])))\n",
    "crowdstorming_df_num['Alpha_3'] = le.transform(crowdstorming_df_player_agg['Alpha_3']) "
   ]
  },
  {
   "cell_type": "markdown",
   "metadata": {},
   "source": [
    "## Binary & Multi-Class Classification Labels"
   ]
  },
  {
   "cell_type": "code",
   "execution_count": 22,
   "metadata": {
    "collapsed": false
   },
   "outputs": [],
   "source": [
    "# Averaging over rater1 and rater2: \n",
    "crowdstorming_df_num['meanRating'] = (crowdstorming_df_num['rater1'] + crowdstorming_df_num['rater2'])/2\n",
    "# Create Categories for Binary Classification\n",
    "def binaryColor(x):\n",
    "    if x < 0.5: \n",
    "        return 0\n",
    "    else: \n",
    "        return 1\n",
    "crowdstorming_df_num['BinaryColorClass'] = crowdstorming_df_num['meanRating'].apply(binaryColor) \n",
    "\n",
    "# Create Categories for Multi Classification\n",
    "def multiColor(x):\n",
    "    if x < 0.25: \n",
    "        return 0\n",
    "    elif 0.25 <= x <0.5: \n",
    "        return 1\n",
    "    elif 0.5 <= x < 0.75:\n",
    "        return 2\n",
    "    elif 0.75 <= x < 1:\n",
    "        return 3\n",
    "crowdstorming_df_num['MultiColorClass'] = crowdstorming_df_num['meanRating'].apply(multiColor) "
   ]
  },
  {
   "cell_type": "code",
   "execution_count": 27,
   "metadata": {
    "collapsed": false
   },
   "outputs": [],
   "source": [
    "features_player = ['weight', 'nExp', 'height', 'meanExp', 'yellowReds',\n",
    "       'leagueCountry', 'club', 'victories', 'seExp', 'Alpha_3',\n",
    "       'yellowCards', 'nIAT', 'birthday', 'goals', 'ties',\n",
    "       'defeats','games','position', 'redCards']\n",
    "features_referee = ['meanIAT', 'refCountry', 'refNum', 'seIAT']\n",
    "X = crowdstorming_df_num [features_player]\n",
    "y_binary = crowdstorming_df_num ['BinaryColorClass']\n",
    "y_multi = crowdstorming_df_num ['MultiColorClass']"
   ]
  },
  {
   "cell_type": "markdown",
   "metadata": {},
   "source": [
    "# 1. Supervised Learning"
   ]
  },
  {
   "cell_type": "markdown",
   "metadata": {},
   "source": [
    "## 1.1. Binary Classification"
   ]
  },
  {
   "cell_type": "markdown",
   "metadata": {},
   "source": [
    "### Splitting data into train and test"
   ]
  },
  {
   "cell_type": "code",
   "execution_count": 28,
   "metadata": {
    "collapsed": false
   },
   "outputs": [],
   "source": [
    "from sklearn.model_selection import train_test_split\n",
    "X_train, X_test, y_train_binary, y_test_binary = train_test_split(X,y_binary, test_size=0.3)"
   ]
  },
  {
   "cell_type": "code",
   "execution_count": 30,
   "metadata": {
    "collapsed": true
   },
   "outputs": [],
   "source": [
    "# Fit a random forest to the training data for binary classification, using 100 trees\n",
    "from sklearn.ensemble import RandomForestClassifier\n",
    "forest = RandomForestClassifier( n_estimators = 10, random_state=1) # , class_weight='balanced')\n",
    "\n",
    "forest_binary = forest.fit(X_train, y_train_binary) #, sample_weight= sample_weights)"
   ]
  },
  {
   "cell_type": "markdown",
   "metadata": {},
   "source": [
    "Let's calculate the accuracy score for train binary classification "
   ]
  },
  {
   "cell_type": "code",
   "execution_count": 31,
   "metadata": {
    "collapsed": false
   },
   "outputs": [
    {
     "name": "stdout",
     "output_type": "stream",
     "text": [
      "0.983887210473\n"
     ]
    }
   ],
   "source": [
    "from sklearn import metrics\n",
    "result_binary_train = forest_binary.predict(X_train)\n",
    "print(metrics.accuracy_score(y_train_binary, result_binary_train))"
   ]
  },
  {
   "cell_type": "markdown",
   "metadata": {},
   "source": [
    "Let's calculate the accuracy score for test binary classification"
   ]
  },
  {
   "cell_type": "code",
   "execution_count": 32,
   "metadata": {
    "collapsed": false
   },
   "outputs": [
    {
     "name": "stdout",
     "output_type": "stream",
     "text": [
      "0.765258215962\n"
     ]
    }
   ],
   "source": [
    "from sklearn import metrics\n",
    "result_binary_test = forest_binary.predict(X_test)\n",
    "print(metrics.accuracy_score(y_test_binary, result_binary_test))"
   ]
  },
  {
   "cell_type": "markdown",
   "metadata": {},
   "source": [
    "### K-Fold Cross Validation"
   ]
  },
  {
   "cell_type": "code",
   "execution_count": 35,
   "metadata": {
    "collapsed": false
   },
   "outputs": [
    {
     "data": {
      "text/plain": [
       "0.78999100988912196"
      ]
     },
     "execution_count": 35,
     "metadata": {},
     "output_type": "execute_result"
    }
   ],
   "source": [
    "from sklearn.cross_validation import cross_val_score\n",
    "scores_binary = cross_val_score(forest_binary,  X, y_binary, cv=10, scoring='accuracy')\n",
    "scores_binary.mean()"
   ]
  },
  {
   "cell_type": "markdown",
   "metadata": {},
   "source": [
    "## 1.2. Multi-Class Classification"
   ]
  },
  {
   "cell_type": "markdown",
   "metadata": {},
   "source": [
    "### Splitting data into train and test"
   ]
  },
  {
   "cell_type": "code",
   "execution_count": 37,
   "metadata": {
    "collapsed": true
   },
   "outputs": [],
   "source": [
    "from sklearn.model_selection import train_test_split\n",
    "X_train, X_test, y_train_multi, y_test_multi = train_test_split(X,y_multi, test_size=0.3)"
   ]
  },
  {
   "cell_type": "code",
   "execution_count": 39,
   "metadata": {
    "collapsed": false
   },
   "outputs": [],
   "source": [
    "# Fit a random forest to the training data for multi-class classification, using 100 trees\n",
    "from sklearn.ensemble import RandomForestClassifier\n",
    "forest = RandomForestClassifier( n_estimators = 100 )\n",
    "\n",
    "forest_multi = forest.fit(X_train, y_train_multi)"
   ]
  },
  {
   "cell_type": "code",
   "execution_count": 40,
   "metadata": {
    "collapsed": false
   },
   "outputs": [
    {
     "data": {
      "text/plain": [
       "playerShort\n",
       "igor-martinez            0.0\n",
       "yaya-toure               NaN\n",
       "sven-ulreich             1.0\n",
       "steven-pienaar           2.0\n",
       "stefan-reisinger         0.0\n",
       "alex_4                   2.0\n",
       "javi-garcia              0.0\n",
       "richard-strebinger       0.0\n",
       "timor_2                  0.0\n",
       "romelu-lukaku            3.0\n",
       "gibril-sankoh            NaN\n",
       "cimo-roecker             0.0\n",
       "michael-rensing          1.0\n",
       "toquero                  0.0\n",
       "rafa_2                   1.0\n",
       "timmy-simons             0.0\n",
       "milorad-pekovic          0.0\n",
       "moussa-dembele           2.0\n",
       "dalmau_2                 1.0\n",
       "thanos-petsos            0.0\n",
       "diego-lopez              0.0\n",
       "arthur-boka              NaN\n",
       "tim-krul                 1.0\n",
       "alex-rubio               0.0\n",
       "cisma                    0.0\n",
       "manuel-pablo             1.0\n",
       "andres-guardado          0.0\n",
       "frederic-piquionne       2.0\n",
       "danny-rose               3.0\n",
       "andre-santos_2           1.0\n",
       "                        ... \n",
       "oguchi-onyewu            2.0\n",
       "brayan-angulo            3.0\n",
       "romain-danze             1.0\n",
       "marek-grosse             0.0\n",
       "fabio-borini             0.0\n",
       "joe-hart                 0.0\n",
       "robert-zillner           0.0\n",
       "william-kvist            0.0\n",
       "juanan                   0.0\n",
       "clement-chantome         1.0\n",
       "manuel-iturra            0.0\n",
       "djibril-sidibe_2         3.0\n",
       "franco-di-santo          1.0\n",
       "sebastian-mielitz        0.0\n",
       "hugo-lloris              0.0\n",
       "marti                    1.0\n",
       "jake-livermore           1.0\n",
       "slobodan-rajkovic        0.0\n",
       "marc-valiente            1.0\n",
       "javi-varas               1.0\n",
       "patrick-ochs             1.0\n",
       "ja-cheol-koo             1.0\n",
       "pedro-rios               2.0\n",
       "julian-draxler           0.0\n",
       "pape-camara              NaN\n",
       "nicolas-maurice-belay    3.0\n",
       "nemanja-vidic            0.0\n",
       "felipe_19                2.0\n",
       "goni_3                   0.0\n",
       "anderson-conceicao       2.0\n",
       "Name: MultiColorClass, dtype: float64"
      ]
     },
     "execution_count": 40,
     "metadata": {},
     "output_type": "execute_result"
    }
   ],
   "source": [
    "y_train_multi"
   ]
  },
  {
   "cell_type": "code",
   "execution_count": null,
   "metadata": {
    "collapsed": true
   },
   "outputs": [],
   "source": []
  },
  {
   "cell_type": "markdown",
   "metadata": {},
   "source": [
    "# 2. Unsupervised Learning"
   ]
  },
  {
   "cell_type": "code",
   "execution_count": null,
   "metadata": {
    "collapsed": true
   },
   "outputs": [],
   "source": []
  }
 ],
 "metadata": {
  "kernelspec": {
   "display_name": "Python 2",
   "language": "python",
   "name": "python2"
  },
  "language_info": {
   "codemirror_mode": {
    "name": "ipython",
    "version": 2
   },
   "file_extension": ".py",
   "mimetype": "text/x-python",
   "name": "python",
   "nbconvert_exporter": "python",
   "pygments_lexer": "ipython2",
   "version": "2.7.12"
  }
 },
 "nbformat": 4,
 "nbformat_minor": 0
}
