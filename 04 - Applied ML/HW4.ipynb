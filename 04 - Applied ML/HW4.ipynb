{
 "cells": [
  {
   "cell_type": "code",
   "execution_count": 118,
   "metadata": {
    "collapsed": false
   },
   "outputs": [],
   "source": [
    "import pandas as pd\n",
    "from pprint import pprint as pp\n",
    "from sklearn import preprocessing\n",
    "import matplotlib.pyplot as plt\n",
    "from sklearn.model_selection import train_test_split\n",
    "import matplotlib.pyplot as plt\n",
    "%matplotlib inline\n",
    "import numpy as np\n",
    "from sklearn import metrics\n",
    "import warnings\n",
    "warnings.filterwarnings('ignore')\n"
   ]
  },
  {
   "cell_type": "markdown",
   "metadata": {},
   "source": [
    "# Exploratory Data Analysis"
   ]
  },
  {
   "cell_type": "code",
   "execution_count": null,
   "metadata": {
    "collapsed": true
   },
   "outputs": [],
   "source": []
  },
  {
   "cell_type": "code",
   "execution_count": null,
   "metadata": {
    "collapsed": true
   },
   "outputs": [],
   "source": []
  },
  {
   "cell_type": "markdown",
   "metadata": {},
   "source": [
    "# Data Cleaning and Pre-Processing"
   ]
  },
  {
   "cell_type": "code",
   "execution_count": 3,
   "metadata": {
    "collapsed": false
   },
   "outputs": [
    {
     "data": {
      "text/html": [
       "<div>\n",
       "<table border=\"1\" class=\"dataframe\">\n",
       "  <thead>\n",
       "    <tr style=\"text-align: right;\">\n",
       "      <th></th>\n",
       "      <th>playerShort</th>\n",
       "      <th>player</th>\n",
       "      <th>club</th>\n",
       "      <th>leagueCountry</th>\n",
       "      <th>birthday</th>\n",
       "      <th>height</th>\n",
       "      <th>weight</th>\n",
       "      <th>position</th>\n",
       "      <th>games</th>\n",
       "      <th>victories</th>\n",
       "      <th>...</th>\n",
       "      <th>rater2</th>\n",
       "      <th>refNum</th>\n",
       "      <th>refCountry</th>\n",
       "      <th>Alpha_3</th>\n",
       "      <th>meanIAT</th>\n",
       "      <th>nIAT</th>\n",
       "      <th>seIAT</th>\n",
       "      <th>meanExp</th>\n",
       "      <th>nExp</th>\n",
       "      <th>seExp</th>\n",
       "    </tr>\n",
       "  </thead>\n",
       "  <tbody>\n",
       "    <tr>\n",
       "      <th>0</th>\n",
       "      <td>lucas-wilchez</td>\n",
       "      <td>Lucas Wilchez</td>\n",
       "      <td>Real Zaragoza</td>\n",
       "      <td>Spain</td>\n",
       "      <td>31.08.1983</td>\n",
       "      <td>177.0</td>\n",
       "      <td>72.0</td>\n",
       "      <td>Attacking Midfielder</td>\n",
       "      <td>1</td>\n",
       "      <td>0</td>\n",
       "      <td>...</td>\n",
       "      <td>0.50</td>\n",
       "      <td>1</td>\n",
       "      <td>1</td>\n",
       "      <td>GRC</td>\n",
       "      <td>0.326391</td>\n",
       "      <td>712.0</td>\n",
       "      <td>0.000564</td>\n",
       "      <td>0.396000</td>\n",
       "      <td>750.0</td>\n",
       "      <td>0.002696</td>\n",
       "    </tr>\n",
       "    <tr>\n",
       "      <th>1</th>\n",
       "      <td>john-utaka</td>\n",
       "      <td>John Utaka</td>\n",
       "      <td>Montpellier HSC</td>\n",
       "      <td>France</td>\n",
       "      <td>08.01.1982</td>\n",
       "      <td>179.0</td>\n",
       "      <td>82.0</td>\n",
       "      <td>Right Winger</td>\n",
       "      <td>1</td>\n",
       "      <td>0</td>\n",
       "      <td>...</td>\n",
       "      <td>0.75</td>\n",
       "      <td>2</td>\n",
       "      <td>2</td>\n",
       "      <td>ZMB</td>\n",
       "      <td>0.203375</td>\n",
       "      <td>40.0</td>\n",
       "      <td>0.010875</td>\n",
       "      <td>-0.204082</td>\n",
       "      <td>49.0</td>\n",
       "      <td>0.061504</td>\n",
       "    </tr>\n",
       "    <tr>\n",
       "      <th>2</th>\n",
       "      <td>abdon-prats</td>\n",
       "      <td>Abdón Prats</td>\n",
       "      <td>RCD Mallorca</td>\n",
       "      <td>Spain</td>\n",
       "      <td>17.12.1992</td>\n",
       "      <td>181.0</td>\n",
       "      <td>79.0</td>\n",
       "      <td>NaN</td>\n",
       "      <td>1</td>\n",
       "      <td>0</td>\n",
       "      <td>...</td>\n",
       "      <td>NaN</td>\n",
       "      <td>3</td>\n",
       "      <td>3</td>\n",
       "      <td>ESP</td>\n",
       "      <td>0.369894</td>\n",
       "      <td>1785.0</td>\n",
       "      <td>0.000229</td>\n",
       "      <td>0.588297</td>\n",
       "      <td>1897.0</td>\n",
       "      <td>0.001002</td>\n",
       "    </tr>\n",
       "    <tr>\n",
       "      <th>3</th>\n",
       "      <td>pablo-mari</td>\n",
       "      <td>Pablo Marí</td>\n",
       "      <td>RCD Mallorca</td>\n",
       "      <td>Spain</td>\n",
       "      <td>31.08.1993</td>\n",
       "      <td>191.0</td>\n",
       "      <td>87.0</td>\n",
       "      <td>Center Back</td>\n",
       "      <td>1</td>\n",
       "      <td>1</td>\n",
       "      <td>...</td>\n",
       "      <td>NaN</td>\n",
       "      <td>3</td>\n",
       "      <td>3</td>\n",
       "      <td>ESP</td>\n",
       "      <td>0.369894</td>\n",
       "      <td>1785.0</td>\n",
       "      <td>0.000229</td>\n",
       "      <td>0.588297</td>\n",
       "      <td>1897.0</td>\n",
       "      <td>0.001002</td>\n",
       "    </tr>\n",
       "    <tr>\n",
       "      <th>4</th>\n",
       "      <td>ruben-pena</td>\n",
       "      <td>Rubén Peña</td>\n",
       "      <td>Real Valladolid</td>\n",
       "      <td>Spain</td>\n",
       "      <td>18.07.1991</td>\n",
       "      <td>172.0</td>\n",
       "      <td>70.0</td>\n",
       "      <td>Right Midfielder</td>\n",
       "      <td>1</td>\n",
       "      <td>1</td>\n",
       "      <td>...</td>\n",
       "      <td>NaN</td>\n",
       "      <td>3</td>\n",
       "      <td>3</td>\n",
       "      <td>ESP</td>\n",
       "      <td>0.369894</td>\n",
       "      <td>1785.0</td>\n",
       "      <td>0.000229</td>\n",
       "      <td>0.588297</td>\n",
       "      <td>1897.0</td>\n",
       "      <td>0.001002</td>\n",
       "    </tr>\n",
       "  </tbody>\n",
       "</table>\n",
       "<p>5 rows × 28 columns</p>\n",
       "</div>"
      ],
      "text/plain": [
       "     playerShort         player             club leagueCountry    birthday  \\\n",
       "0  lucas-wilchez  Lucas Wilchez    Real Zaragoza         Spain  31.08.1983   \n",
       "1     john-utaka     John Utaka  Montpellier HSC        France  08.01.1982   \n",
       "2    abdon-prats    Abdón Prats     RCD Mallorca         Spain  17.12.1992   \n",
       "3     pablo-mari     Pablo Marí     RCD Mallorca         Spain  31.08.1993   \n",
       "4     ruben-pena     Rubén Peña  Real Valladolid         Spain  18.07.1991   \n",
       "\n",
       "   height  weight              position  games  victories    ...     rater2  \\\n",
       "0   177.0    72.0  Attacking Midfielder      1          0    ...       0.50   \n",
       "1   179.0    82.0          Right Winger      1          0    ...       0.75   \n",
       "2   181.0    79.0                   NaN      1          0    ...        NaN   \n",
       "3   191.0    87.0           Center Back      1          1    ...        NaN   \n",
       "4   172.0    70.0      Right Midfielder      1          1    ...        NaN   \n",
       "\n",
       "   refNum  refCountry  Alpha_3   meanIAT    nIAT     seIAT   meanExp    nExp  \\\n",
       "0       1           1      GRC  0.326391   712.0  0.000564  0.396000   750.0   \n",
       "1       2           2      ZMB  0.203375    40.0  0.010875 -0.204082    49.0   \n",
       "2       3           3      ESP  0.369894  1785.0  0.000229  0.588297  1897.0   \n",
       "3       3           3      ESP  0.369894  1785.0  0.000229  0.588297  1897.0   \n",
       "4       3           3      ESP  0.369894  1785.0  0.000229  0.588297  1897.0   \n",
       "\n",
       "      seExp  \n",
       "0  0.002696  \n",
       "1  0.061504  \n",
       "2  0.001002  \n",
       "3  0.001002  \n",
       "4  0.001002  \n",
       "\n",
       "[5 rows x 28 columns]"
      ]
     },
     "execution_count": 3,
     "metadata": {},
     "output_type": "execute_result"
    }
   ],
   "source": [
    "#loading the data and check how does it look like\n",
    "crowdstorming_df = pd.read_csv('Data/CrowdstormingDataJuly1st.csv')\n",
    "crowdstorming_df.head()"
   ]
  },
  {
   "cell_type": "code",
   "execution_count": 4,
   "metadata": {
    "collapsed": false
   },
   "outputs": [
    {
     "data": {
      "text/plain": [
       "(146028, 28)"
      ]
     },
     "execution_count": 4,
     "metadata": {},
     "output_type": "execute_result"
    }
   ],
   "source": [
    "crowdstorming_df.shape"
   ]
  },
  {
   "cell_type": "code",
   "execution_count": 5,
   "metadata": {
    "collapsed": false
   },
   "outputs": [
    {
     "data": {
      "text/plain": [
       "playerShort      False\n",
       "player           False\n",
       "club             False\n",
       "leagueCountry    False\n",
       "birthday         False\n",
       "height            True\n",
       "weight            True\n",
       "position          True\n",
       "games            False\n",
       "victories        False\n",
       "ties             False\n",
       "defeats          False\n",
       "goals            False\n",
       "yellowCards      False\n",
       "yellowReds       False\n",
       "redCards         False\n",
       "photoID           True\n",
       "rater1            True\n",
       "rater2            True\n",
       "refNum           False\n",
       "refCountry       False\n",
       "Alpha_3           True\n",
       "meanIAT           True\n",
       "nIAT              True\n",
       "seIAT             True\n",
       "meanExp           True\n",
       "nExp              True\n",
       "seExp             True\n",
       "dtype: bool"
      ]
     },
     "execution_count": 5,
     "metadata": {},
     "output_type": "execute_result"
    }
   ],
   "source": [
    "#crowdstorming_df.describe()\n",
    "crowdstorming_df.isnull().any()"
   ]
  },
  {
   "cell_type": "markdown",
   "metadata": {},
   "source": [
    "From the description, we can conclude the following:\n",
    "* There are missing values on rater1, rater2 and photoID and since our goal is to build a classifier based on those labels we decided to drop rows with nan values for those columns. \n",
    "* There are missing values in height, weight. A tentative solution is to replace those values by average heights and weights of people who belong to the same leagueCountry or people with same position (for e.g: goalkeeper is usually taller), but it is safe to do it and we don't have a lot of missing values. So, we decided to drop them.\n",
    "* There are missing values for Alpha_3, meanIAT, nIAT, seIAT, meanExp, nExp, seExp. Those we also decided to drop."
   ]
  },
  {
   "cell_type": "code",
   "execution_count": 6,
   "metadata": {
    "collapsed": false
   },
   "outputs": [],
   "source": [
    "crowdstorming_df = crowdstorming_df.dropna()"
   ]
  },
  {
   "cell_type": "markdown",
   "metadata": {},
   "source": [
    "## Aggregating player-referee information by player"
   ]
  },
  {
   "cell_type": "code",
   "execution_count": 7,
   "metadata": {
    "collapsed": true
   },
   "outputs": [],
   "source": [
    "f = {'club':'first',\n",
    "     'leagueCountry':'first',\n",
    "     'birthday':'first',\n",
    "     'height':'first', \n",
    "     'weight':'first',\n",
    "     'games': 'sum', \n",
    "     'victories':'sum',\n",
    "     'ties': 'sum',\n",
    "     'defeats': 'sum', \n",
    "     'goals': 'sum', \n",
    "     'yellowCards': 'sum', \n",
    "     'yellowReds': 'sum', \n",
    "     'redCards': 'sum',\n",
    "     'photoID':'first',\n",
    "     'position':'first',\n",
    "     'refNum':'first',\n",
    "     'refCountry':'first',\n",
    "     'Alpha_3':'first',\n",
    "     'meanIAT':'mean',\n",
    "     'nIAT':'mean', \n",
    "     'seIAT':'mean',\n",
    "     'meanExp': 'mean',\n",
    "     'nExp':'mean', \n",
    "     'seExp':'mean',\n",
    "     'rater1':'mean',\n",
    "     'rater2':'mean'\n",
    "    }\n",
    "crowdstorming_df_player_agg = crowdstorming_df.groupby(['playerShort']).agg(f)"
   ]
  },
  {
   "cell_type": "markdown",
   "metadata": {},
   "source": [
    "# Encoding Categorical to Numerical Values"
   ]
  },
  {
   "cell_type": "markdown",
   "metadata": {},
   "source": [
    "Since we want to use RandomForest Classifier, we need to convert all columns with categorical values into numerical values. Let's check for the categorical features:"
   ]
  },
  {
   "cell_type": "code",
   "execution_count": 8,
   "metadata": {
    "collapsed": false
   },
   "outputs": [
    {
     "data": {
      "text/plain": [
       "rater1           float64\n",
       "height           float64\n",
       "yellowCards        int64\n",
       "yellowReds         int64\n",
       "seIAT            float64\n",
       "club              object\n",
       "nExp             float64\n",
       "position          object\n",
       "weight           float64\n",
       "birthday          object\n",
       "meanIAT          float64\n",
       "defeats            int64\n",
       "seExp            float64\n",
       "Alpha_3           object\n",
       "photoID           object\n",
       "goals              int64\n",
       "rater2           float64\n",
       "refNum             int64\n",
       "leagueCountry     object\n",
       "games              int64\n",
       "refCountry         int64\n",
       "nIAT             float64\n",
       "ties               int64\n",
       "redCards           int64\n",
       "victories          int64\n",
       "meanExp          float64\n",
       "dtype: object"
      ]
     },
     "execution_count": 8,
     "metadata": {},
     "output_type": "execute_result"
    }
   ],
   "source": [
    "crowdstorming_df_player_agg.dtypes"
   ]
  },
  {
   "cell_type": "markdown",
   "metadata": {},
   "source": [
    "From the description above, the set of categorical features include:\n",
    "* club\n",
    "* leagueCountry\n",
    "* birthday \n",
    "* position \n",
    "* Alpha_3"
   ]
  },
  {
   "cell_type": "code",
   "execution_count": 9,
   "metadata": {
    "collapsed": false
   },
   "outputs": [],
   "source": [
    "le = preprocessing.LabelEncoder()\n",
    "\n",
    "crowdstorming_df_num = crowdstorming_df_player_agg \n",
    "\n",
    "# Converting club String to numerical representation\n",
    "le.fit(list(set(crowdstorming_df_player_agg['club'])))\n",
    "crowdstorming_df_num['club'] = le.transform(crowdstorming_df_player_agg['club']) \n",
    "\n",
    "\n",
    "# Converting leagueCountry String to numerical representation\n",
    "le.fit(list(set(crowdstorming_df_player_agg['leagueCountry'])))\n",
    "crowdstorming_df_num['leagueCountry'] = le.transform(crowdstorming_df_player_agg['leagueCountry']) \n",
    "\n",
    "# Converting birthday String to numerical representation\n",
    "le.fit(list(set(crowdstorming_df_player_agg['birthday'])))\n",
    "crowdstorming_df_num['birthday'] = le.transform(crowdstorming_df_player_agg['birthday']) \n",
    "\n",
    "\n",
    "# Converting position String to numerical representation\n",
    "le.fit(list(set(crowdstorming_df_player_agg['position'])))\n",
    "crowdstorming_df_num['position'] = le.transform(crowdstorming_df_player_agg['position']) \n",
    "\n",
    "# Converting position String to numerical representation\n",
    "le.fit(list(set(crowdstorming_df_player_agg['Alpha_3'])))\n",
    "crowdstorming_df_num['Alpha_3'] = le.transform(crowdstorming_df_player_agg['Alpha_3']) "
   ]
  },
  {
   "cell_type": "markdown",
   "metadata": {},
   "source": [
    "## Binary & Multi-Class Classification Labels"
   ]
  },
  {
   "cell_type": "code",
   "execution_count": 10,
   "metadata": {
    "collapsed": false
   },
   "outputs": [],
   "source": [
    "# Averaging over rater1 and rater2: \n",
    "crowdstorming_df_num['meanRating'] = (crowdstorming_df_num['rater1'] + crowdstorming_df_num['rater2'])/2\n",
    "# Create Categories for Binary Classification\n",
    "def binaryColor(x):\n",
    "    if x < 0.5: \n",
    "        return 0\n",
    "    else: \n",
    "        return 1\n",
    "crowdstorming_df_num['BinaryColorClass'] = crowdstorming_df_num['meanRating'].apply(binaryColor) \n",
    "\n",
    "# Create Categories for Multi Classification\n",
    "def multiColor(x):\n",
    "    if x < 0.25: \n",
    "        return 0\n",
    "    elif 0.25 <= x <0.5: \n",
    "        return 1\n",
    "    elif 0.5 <= x < 0.75:\n",
    "        return 2\n",
    "    elif 0.75 <= x <= 1:\n",
    "        return 3\n",
    "crowdstorming_df_num['MultiColorClass'] = crowdstorming_df_num['meanRating'].apply(multiColor) "
   ]
  },
  {
   "cell_type": "code",
   "execution_count": 11,
   "metadata": {
    "collapsed": false
   },
   "outputs": [],
   "source": [
    "features_player = ['weight', 'nExp', 'height', 'meanExp', 'yellowReds',\n",
    "       'leagueCountry', 'club', 'victories', 'seExp', 'Alpha_3',\n",
    "       'yellowCards', 'nIAT', 'birthday', 'goals', 'ties',\n",
    "       'defeats','games','position', 'redCards']\n",
    "features_referee = ['meanIAT', 'refCountry', 'refNum', 'seIAT']\n",
    "X = crowdstorming_df_num [features_player]\n",
    "y_binary = crowdstorming_df_num ['BinaryColorClass']\n",
    "y_multi = crowdstorming_df_num ['MultiColorClass']"
   ]
  },
  {
   "cell_type": "markdown",
   "metadata": {},
   "source": [
    "# 1. Supervised Learning"
   ]
  },
  {
   "cell_type": "markdown",
   "metadata": {},
   "source": [
    "## 1.1. Binary Classification"
   ]
  },
  {
   "cell_type": "markdown",
   "metadata": {},
   "source": [
    "In this section, we are building a classifer that can predict the skin color of the player, so let's have a look at the skin color distribution."
   ]
  },
  {
   "cell_type": "code",
   "execution_count": 13,
   "metadata": {
    "collapsed": false
   },
   "outputs": [
    {
     "data": {
      "text/plain": [
       "0    1089\n",
       "1     330\n",
       "Name: BinaryColorClass, dtype: int64"
      ]
     },
     "execution_count": 13,
     "metadata": {},
     "output_type": "execute_result"
    }
   ],
   "source": [
    "crowdstorming_df_num['BinaryColorClass'].value_counts()"
   ]
  },
  {
   "cell_type": "markdown",
   "metadata": {},
   "source": [
    "Clearly we have a imbalance issue here! we should keep this point in oue mind for later analysis and model evaluation.. "
   ]
  },
  {
   "cell_type": "markdown",
   "metadata": {},
   "source": [
    "### Splitting data into train and test"
   ]
  },
  {
   "cell_type": "code",
   "execution_count": 14,
   "metadata": {
    "collapsed": false
   },
   "outputs": [],
   "source": [
    "X_train, X_test, y_train_binary, y_test_binary = train_test_split(X,y_binary, test_size=0.3)"
   ]
  },
  {
   "cell_type": "code",
   "execution_count": 15,
   "metadata": {
    "collapsed": true
   },
   "outputs": [],
   "source": [
    "# Fit a random forest to the training data for binary classification, using 100 trees\n",
    "from sklearn.ensemble import RandomForestClassifier\n",
    "forest = RandomForestClassifier() # , class_weight='balanced')\n",
    "\n",
    "forest_binary = forest.fit(X_train, y_train_binary) #, sample_weight= sample_weights)"
   ]
  },
  {
   "cell_type": "code",
   "execution_count": 50,
   "metadata": {
    "collapsed": true
   },
   "outputs": [],
   "source": [
    "def plot_confusion_matrix(cm, classes,\n",
    "                          normalize=False,\n",
    "                          title='Confusion matrix',\n",
    "                          cmap=plt.cm.Blues):\n",
    "    \"\"\"\n",
    "    This function prints and plots the confusion matrix.\n",
    "    Normalization can be applied by setting `normalize=True`.\n",
    "    \"\"\"\n",
    "    plt.imshow(cm, interpolation='nearest', cmap=cmap)\n",
    "    plt.title(title)\n",
    "    plt.colorbar()\n",
    "    tick_marks = np.arange(len(classes))\n",
    "    plt.xticks(tick_marks, classes, rotation=45)\n",
    "    plt.yticks(tick_marks, classes)\n",
    "    plt.tight_layout()\n",
    "    plt.ylabel('True label')\n",
    "    plt.xlabel('Predicted label') "
   ]
  },
  {
   "cell_type": "markdown",
   "metadata": {},
   "source": [
    "Now we want to predict and calculate the accuracy for train binary classification.\n",
    "\n",
    "In order to evaluate the model and since the data is unbalanced, we will not use the accuracy alon, we will be using precision and recall, and a f1_score which is a commbination of both recall and precision. also we will look at the confusion_matrix"
   ]
  },
  {
   "cell_type": "code",
   "execution_count": 73,
   "metadata": {
    "collapsed": false
   },
   "outputs": [
    {
     "name": "stdout",
     "output_type": "stream",
     "text": [
      "Accuracy Score:  0.983887210473\n",
      "Precision Score:  0.995260663507\n",
      "Recall Score:  0.933333333333\n",
      "f1_score:  0.963302752294\n",
      "roc_auc_score:  0.579839786382\n"
     ]
    }
   ],
   "source": [
    "result_binary_train = forest_binary.predict(X_train)\n",
    "print('Accuracy Score: ',metrics.accuracy_score(y_train_binary, result_binary_train))\n",
    "print('Precision Score: ',metrics.precision_score(y_train_binary, result_binary_train))\n",
    "print('Recall Score: ',metrics.recall_score(y_train_binary, result_binary_train))\n",
    "print('f1_score: ',metrics.f1_score(y_train_binary, result_binary_train))\n",
    "print('roc_auc_score: ',metrics.roc_auc_score(y_test_binary, result_binary_test))"
   ]
  },
  {
   "cell_type": "code",
   "execution_count": 74,
   "metadata": {
    "collapsed": false
   },
   "outputs": [
    {
     "name": "stdout",
     "output_type": "stream",
     "text": [
      "[[767   1]\n",
      " [ 15 210]]\n"
     ]
    }
   ],
   "source": [
    "cm=metrics.confusion_matrix(y_train_binary, result_binary_train)\n",
    "print(cm)"
   ]
  },
  {
   "cell_type": "code",
   "execution_count": 75,
   "metadata": {
    "collapsed": false
   },
   "outputs": [
    {
     "data": {
      "image/png": "[encoded data removed]",
      "text/plain": [
       "<matplotlib.figure.Figure at 0x10cc3a908>"
      ]
     },
     "metadata": {},
     "output_type": "display_data"
    }
   ],
   "source": [
    "plot_confusion_matrix(cm, classes=['Light','Dark'],\n",
    "                      title='Confusion matrix, without normalization')"
   ]
  },
  {
   "cell_type": "code",
   "execution_count": null,
   "metadata": {
    "collapsed": true
   },
   "outputs": [],
   "source": []
  },
  {
   "cell_type": "code",
   "execution_count": null,
   "metadata": {
    "collapsed": true
   },
   "outputs": [],
   "source": []
  },
  {
   "cell_type": "markdown",
   "metadata": {},
   "source": [
    "Now we want to predict and calculate the accuracy for test binary classification."
   ]
  },
  {
   "cell_type": "code",
   "execution_count": 76,
   "metadata": {
    "collapsed": false
   },
   "outputs": [
    {
     "name": "stdout",
     "output_type": "stream",
     "text": [
      "Accuracy Score:  0.774647887324\n",
      "Precision Score:  0.615384615385\n",
      "Recall Score:  0.228571428571\n",
      "f1_score:  0.333333333333\n",
      "roc_auc_score:  0.590921228304\n"
     ]
    }
   ],
   "source": [
    "result_binary_test = forest_binary.predict(X_test)\n",
    "print('Accuracy Score: ',metrics.accuracy_score(y_test_binary, result_binary_test))\n",
    "print('Precision Score: ',metrics.precision_score(y_test_binary, result_binary_test))\n",
    "print('Recall Score: ',metrics.recall_score(y_test_binary, result_binary_test))\n",
    "print('f1_score: ',metrics.f1_score(y_test_binary, result_binary_test))\n",
    "print('roc_auc_score: ',metrics.roc_auc_score(y_test_binary, result_binary_test))"
   ]
  },
  {
   "cell_type": "code",
   "execution_count": 77,
   "metadata": {
    "collapsed": false
   },
   "outputs": [
    {
     "name": "stdout",
     "output_type": "stream",
     "text": [
      "[[306  15]\n",
      " [ 81  24]]\n"
     ]
    }
   ],
   "source": [
    "cm=metrics.confusion_matrix(y_test_binary, result_binary_test)\n",
    "print(cm)"
   ]
  },
  {
   "cell_type": "code",
   "execution_count": 78,
   "metadata": {
    "collapsed": false
   },
   "outputs": [
    {
     "data": {
      "image/png": "[encoded data removed]",
      "text/plain": [
       "<matplotlib.figure.Figure at 0x10d2359e8>"
      ]
     },
     "metadata": {},
     "output_type": "display_data"
    }
   ],
   "source": [
    "plot_confusion_matrix(cm, classes=['Light','Dark'],\n",
    "                      title='Confusion matrix, without normalization')"
   ]
  },
  {
   "cell_type": "markdown",
   "metadata": {},
   "source": [
    "From the confusion matrix above we see that the classifier does a good job in predicting light color skin plyers but the performance is really poor when it comes to predicitng plyers with dark skin color!"
   ]
  },
  {
   "cell_type": "code",
   "execution_count": null,
   "metadata": {
    "collapsed": true
   },
   "outputs": [],
   "source": []
  },
  {
   "cell_type": "code",
   "execution_count": null,
   "metadata": {
    "collapsed": true
   },
   "outputs": [],
   "source": []
  },
  {
   "cell_type": "code",
   "execution_count": null,
   "metadata": {
    "collapsed": true
   },
   "outputs": [],
   "source": []
  },
  {
   "cell_type": "code",
   "execution_count": null,
   "metadata": {
    "collapsed": true
   },
   "outputs": [],
   "source": []
  },
  {
   "cell_type": "code",
   "execution_count": null,
   "metadata": {
    "collapsed": true
   },
   "outputs": [],
   "source": []
  },
  {
   "cell_type": "code",
   "execution_count": null,
   "metadata": {
    "collapsed": true
   },
   "outputs": [],
   "source": []
  },
  {
   "cell_type": "code",
   "execution_count": null,
   "metadata": {
    "collapsed": true
   },
   "outputs": [],
   "source": []
  },
  {
   "cell_type": "markdown",
   "metadata": {
    "collapsed": true
   },
   "source": [
    "Here we show how different parameters passed to the Classifier affect the overfitting issue. also we perform cross-validation to mitigate this issue!"
   ]
  },
  {
   "cell_type": "code",
   "execution_count": 113,
   "metadata": {
    "collapsed": false
   },
   "outputs": [
    {
     "name": "stdout",
     "output_type": "stream",
     "text": [
      "Training Score\n",
      "Accuracy Score:  0.861027190332\n",
      "f1_score:  0.56050955414\n",
      "roc_auc_score:  0.582688028482\n",
      "------------\n",
      "Resting Score\n",
      "Accuracy Score:  0.776995305164\n",
      "f1_score:  0.306569343066\n",
      "roc_auc_score:  0.582866043614\n"
     ]
    }
   ],
   "source": [
    "forest = RandomForestClassifier(n_estimators=10, max_depth=7)\n",
    "forest_binary = forest.fit(X_train, y_train_binary) \n",
    "\n",
    "result_binary_train = forest_binary.predict(X_train)\n",
    "print('Training Score')\n",
    "print('Accuracy Score: ',metrics.accuracy_score(y_train_binary, result_binary_train))\n",
    "#print('Precision Score: ',metrics.precision_score(y_train_binary, result_binary_train))\n",
    "#print('Recall Score: ',metrics.recall_score(y_train_binary, result_binary_train))\n",
    "print('f1_score: ',metrics.f1_score(y_train_binary, result_binary_train))\n",
    "print('roc_auc_score: ',metrics.roc_auc_score(y_test_binary, result_binary_test))\n",
    "\n",
    "print('------------')\n",
    "\n",
    "result_binary_test = forest_binary.predict(X_test)\n",
    "print('Resting Score')\n",
    "print('Accuracy Score: ',metrics.accuracy_score(y_test_binary, result_binary_test))\n",
    "#print('Precision Score: ',metrics.precision_score(y_test_binary, result_binary_test))\n",
    "#print('Recall Score: ',metrics.recall_score(y_test_binary, result_binary_test))\n",
    "print('f1_score: ',metrics.f1_score(y_test_binary, result_binary_test))\n",
    "print('roc_auc_score: ',metrics.roc_auc_score(y_test_binary, result_binary_test))"
   ]
  },
  {
   "cell_type": "code",
   "execution_count": 114,
   "metadata": {
    "collapsed": false
   },
   "outputs": [
    {
     "name": "stdout",
     "output_type": "stream",
     "text": [
      "Training Score\n",
      "Accuracy Score:  1.0\n",
      "f1_score:  1.0\n",
      "roc_auc_score:  0.582866043614\n",
      "------------\n",
      "Resting Score\n",
      "Accuracy Score:  0.798122065728\n",
      "f1_score:  0.385714285714\n",
      "roc_auc_score:  0.616110369381\n"
     ]
    }
   ],
   "source": [
    "forest = RandomForestClassifier(n_estimators=100, max_depth=75)\n",
    "forest_binary = forest.fit(X_train, y_train_binary) \n",
    "\n",
    "result_binary_train = forest_binary.predict(X_train)\n",
    "print('Training Score')\n",
    "print('Accuracy Score: ',metrics.accuracy_score(y_train_binary, result_binary_train))\n",
    "#print('Precision Score: ',metrics.precision_score(y_train_binary, result_binary_train))\n",
    "#print('Recall Score: ',metrics.recall_score(y_train_binary, result_binary_train))\n",
    "print('f1_score: ',metrics.f1_score(y_train_binary, result_binary_train))\n",
    "print('roc_auc_score: ',metrics.roc_auc_score(y_test_binary, result_binary_test))\n",
    "\n",
    "print('------------')\n",
    "\n",
    "result_binary_test = forest_binary.predict(X_test)\n",
    "print('Resting Score')\n",
    "print('Accuracy Score: ',metrics.accuracy_score(y_test_binary, result_binary_test))\n",
    "#print('Precision Score: ',metrics.precision_score(y_test_binary, result_binary_test))\n",
    "#print('Recall Score: ',metrics.recall_score(y_test_binary, result_binary_test))\n",
    "print('f1_score: ',metrics.f1_score(y_test_binary, result_binary_test))\n",
    "print('roc_auc_score: ',metrics.roc_auc_score(y_test_binary, result_binary_test))"
   ]
  },
  {
   "cell_type": "markdown",
   "metadata": {},
   "source": [
    "From the results above we see that, adding more n_estimator  and max_depth will lead to a complex model and this leads to overfitting"
   ]
  },
  {
   "cell_type": "markdown",
   "metadata": {},
   "source": [
    "Now we perform cross-validation to mitigate this issue!"
   ]
  },
  {
   "cell_type": "markdown",
   "metadata": {},
   "source": [
    "### K-Fold Cross Validation"
   ]
  },
  {
   "cell_type": "code",
   "execution_count": null,
   "metadata": {
    "collapsed": true
   },
   "outputs": [],
   "source": []
  },
  {
   "cell_type": "code",
   "execution_count": 127,
   "metadata": {
    "collapsed": false
   },
   "outputs": [
    {
     "name": "stdout",
     "output_type": "stream",
     "text": [
      "Accuracy Score:  0.801278593547\n",
      "f1_score:  0.377069063847\n",
      "roc_auc_score:  0.744485502322\n"
     ]
    }
   ],
   "source": [
    "from sklearn.cross_validation import cross_val_score\n",
    "\n",
    "forest = RandomForestClassifier(n_estimators=100, max_depth=75)\n",
    "\n",
    "forest_binary = forest.fit(X_train, y_train_binary) #, sample_weight= sample_weights)\n",
    "scores_binary_accuracy = cross_val_score(forest_binary,  X, y_binary, cv=10, scoring='accuracy')\n",
    "scores_binary_f1 = cross_val_score(forest_binary,  X, y_binary, cv=10, scoring='f1')\n",
    "scores_binary_roc_auc = cross_val_score(forest_binary,  X, y_binary, cv=10, scoring='roc_auc')\n",
    "\n",
    "print('Accuracy Score: ',scores_binary_accuracy.mean())\n",
    "#print('Precision Score: ',metrics.precision_score(y_test_binary, result_binary_test))\n",
    "#print('Recall Score: ',metrics.recall_score(y_test_binary, result_binary_test))\n",
    "print('f1_score: ', scores_binary_f1.mean())\n",
    "print('roc_auc_score: ', scores_binary_roc_auc.mean())\n"
   ]
  },
  {
   "cell_type": "markdown",
   "metadata": {},
   "source": [
    "## Choosing the parameters of the model"
   ]
  },
  {
   "cell_type": "code",
   "execution_count": 132,
   "metadata": {
    "collapsed": false
   },
   "outputs": [
    {
     "name": "stdout",
     "output_type": "stream",
     "text": [
      "10 trees\n",
      "accuracy score 0.780846069324\n",
      "f1 score 0.316616231327\n",
      "roc_auc score 0.698322547596\n",
      "---------------------\n",
      "30 trees\n",
      "accuracy score 0.809030066926\n",
      "f1 score 0.348423529573\n",
      "roc_auc score 0.72796800832\n",
      "---------------------\n",
      "50 trees\n",
      "accuracy score 0.801977824393\n",
      "f1 score 0.357875477717\n",
      "roc_auc score 0.73894912427\n",
      "---------------------\n",
      "100 trees\n",
      "accuracy score 0.797747477774\n",
      "f1 score 0.358276380747\n",
      "roc_auc score 0.741352361536\n",
      "---------------------\n",
      "200 trees\n",
      "accuracy score 0.799860153831\n",
      "f1 score 0.345157717525\n",
      "roc_auc score 0.740779353165\n",
      "---------------------\n",
      "500 trees\n",
      "accuracy score 0.80409050045\n",
      "f1 score 0.375748715053\n",
      "roc_auc score 0.745208713022\n",
      "---------------------\n",
      "1000 trees\n",
      "accuracy score 0.804794725802\n",
      "f1 score 0.37496327058\n",
      "roc_auc score 0.749667675738\n",
      "---------------------\n",
      "2000 trees\n",
      "accuracy score 0.802682049745\n",
      "f1 score 0.367392845173\n",
      "roc_auc score 0.749275244803\n",
      "---------------------\n"
     ]
    },
    {
     "data": {
      "text/plain": [
       "<matplotlib.axes._subplots.AxesSubplot at 0x10cce57f0>"
      ]
     },
     "execution_count": 132,
     "metadata": {},
     "output_type": "execute_result"
    },
    {
     "data": {
      "image/png": "[encoded data removed]",
      "text/plain": [
       "<matplotlib.figure.Figure at 0x10cce5208>"
      ]
     },
     "metadata": {},
     "output_type": "display_data"
    }
   ],
   "source": [
    "results_accuracy=[]\n",
    "results_f1=[]\n",
    "results_roc_auc=[]\n",
    "\n",
    "n_estimator_options=[10,30,50,100,200,500,1000,2000]\n",
    "\n",
    "for trees in n_estimator_options:\n",
    "    model = RandomForestClassifier(n_estimators=trees)\n",
    "    scores_binary_accuracy = cross_val_score(model,  X, y_binary, cv=10, scoring='accuracy')\n",
    "    scores_binary_f1 = cross_val_score(model,  X, y_binary, cv=10, scoring='f1')\n",
    "    scores_binary_roc_auc = cross_val_score(model,  X, y_binary, cv=10, scoring='roc_auc')\n",
    "\n",
    "\n",
    "    print(trees,'trees')\n",
    "    print('accuracy score', scores_binary_accuracy.mean())\n",
    "    results_accuracy.append(scores_binary_accuracy.mean())\n",
    "    \n",
    "    print('f1 score', scores_binary_f1.mean())\n",
    "    results_f1.append(scores_binary_f1.mean())\n",
    "    \n",
    "    print('roc_auc score', scores_binary_roc_auc.mean())\n",
    "    results_roc_auc.append(scores_binary_roc_auc.mean())\n",
    "    \n",
    "    print('---------------------')\n",
    "    \n",
    "pd.Series(results_accuracy, n_estimator_options).plot()\n",
    "\n"
   ]
  },
  {
   "cell_type": "code",
   "execution_count": 133,
   "metadata": {
    "collapsed": false
   },
   "outputs": [
    {
     "data": {
      "text/plain": [
       "<matplotlib.axes._subplots.AxesSubplot at 0x10d50a9e8>"
      ]
     },
     "execution_count": 133,
     "metadata": {},
     "output_type": "execute_result"
    },
    {
     "data": {
      "image/png": "[encoded data removed]",
      "text/plain": [
       "<matplotlib.figure.Figure at 0x10ccfe400>"
      ]
     },
     "metadata": {},
     "output_type": "display_data"
    }
   ],
   "source": [
    "pd.Series(results_f1, n_estimator_options).plot()\n"
   ]
  },
  {
   "cell_type": "code",
   "execution_count": 134,
   "metadata": {
    "collapsed": false
   },
   "outputs": [
    {
     "data": {
      "text/plain": [
       "<matplotlib.axes._subplots.AxesSubplot at 0x10d4ff2e8>"
      ]
     },
     "execution_count": 134,
     "metadata": {},
     "output_type": "execute_result"
    },
    {
     "data": {
      "image/png": "[encoded data removed]",
      "text/plain": [
       "<matplotlib.figure.Figure at 0x10d28b8d0>"
      ]
     },
     "metadata": {},
     "output_type": "display_data"
    }
   ],
   "source": [
    "pd.Series(results_roc_auc, n_estimator_options).plot() "
   ]
  },
  {
   "cell_type": "code",
   "execution_count": 136,
   "metadata": {
    "collapsed": false
   },
   "outputs": [
    {
     "name": "stdout",
     "output_type": "stream",
     "text": [
      "2000 trees\n",
      "accuracy score 0.783657976226\n",
      "f1 score 0.310499455663\n",
      "roc_auc score 0.684087948805\n",
      "---------------------\n",
      "2000 trees\n",
      "accuracy score 0.790010987913\n",
      "f1 score 0.397351136425\n",
      "roc_auc score 0.694968028913\n",
      "---------------------\n",
      "2000 trees\n",
      "accuracy score 0.791424433124\n",
      "f1 score 0.374419250752\n",
      "roc_auc score 0.716866035482\n",
      "---------------------\n",
      "2000 trees\n",
      "accuracy score 0.794241334532\n",
      "f1 score 0.350679848582\n",
      "roc_auc score 0.720327253164\n",
      "---------------------\n",
      "2000 trees\n",
      "accuracy score 0.794241334532\n",
      "f1 score 0.37480270793\n",
      "roc_auc score 0.718722906949\n",
      "---------------------\n",
      "2000 trees\n",
      "accuracy score 0.793517131156\n",
      "f1 score 0.349860231023\n",
      "roc_auc score 0.732620290571\n",
      "---------------------\n",
      "2000 trees\n",
      "accuracy score 0.787863350315\n",
      "f1 score 0.358084839809\n",
      "roc_auc score 0.712524325827\n",
      "---------------------\n",
      "2000 trees\n",
      "accuracy score 0.789301768055\n",
      "f1 score 0.336962199\n",
      "roc_auc score 0.726730866257\n",
      "---------------------\n",
      "2000 trees\n",
      "accuracy score 0.791399460593\n",
      "f1 score 0.334754975161\n",
      "roc_auc score 0.724921488071\n",
      "---------------------\n",
      "2000 trees\n",
      "accuracy score 0.798461692139\n",
      "f1 score 0.350215482379\n",
      "roc_auc score 0.727349952121\n",
      "---------------------\n"
     ]
    },
    {
     "data": {
      "text/plain": [
       "<matplotlib.axes._subplots.AxesSubplot at 0x10cf48320>"
      ]
     },
     "execution_count": 136,
     "metadata": {},
     "output_type": "execute_result"
    },
    {
     "data": {
      "image/png": "[encoded data removed]",
      "text/plain": [
       "<matplotlib.figure.Figure at 0x10d920320>"
      ]
     },
     "metadata": {},
     "output_type": "display_data"
    }
   ],
   "source": [
    "results_accuracy=[]\n",
    "results_f1=[]\n",
    "results_roc_auc=[]\n",
    "\n",
    "min_samples_leaf_options=[1,2,3,4,5,6,7,8,9,10]\n",
    "\n",
    "for min_samples in min_samples_leaf_options:\n",
    "    model = RandomForestClassifier(min_samples_leaf=min_samples)\n",
    "    scores_binary_accuracy = cross_val_score(model,  X, y_binary, cv=10, scoring='accuracy')\n",
    "    scores_binary_f1 = cross_val_score(model,  X, y_binary, cv=10, scoring='f1')\n",
    "    scores_binary_roc_auc = cross_val_score(model,  X, y_binary, cv=10, scoring='roc_auc')\n",
    "\n",
    "\n",
    "    print(trees,'trees')\n",
    "    print('accuracy score', scores_binary_accuracy.mean())\n",
    "    results_accuracy.append(scores_binary_accuracy.mean())\n",
    "    \n",
    "    print('f1 score', scores_binary_f1.mean())\n",
    "    results_f1.append(scores_binary_f1.mean())\n",
    "    \n",
    "    print('roc_auc score', scores_binary_roc_auc.mean())\n",
    "    results_roc_auc.append(scores_binary_roc_auc.mean())\n",
    "    \n",
    "    print('---------------------')\n",
    "    \n",
    "pd.Series(results_accuracy, min_samples_leaf_options).plot()\n",
    "\n"
   ]
  },
  {
   "cell_type": "code",
   "execution_count": 138,
   "metadata": {
    "collapsed": false
   },
   "outputs": [
    {
     "data": {
      "text/plain": [
       "<matplotlib.axes._subplots.AxesSubplot at 0x10cf590f0>"
      ]
     },
     "execution_count": 138,
     "metadata": {},
     "output_type": "execute_result"
    },
    {
     "data": {
      "image/png": "[encoded data removed]",
      "text/plain": [
       "<matplotlib.figure.Figure at 0x10cdc5da0>"
      ]
     },
     "metadata": {},
     "output_type": "display_data"
    }
   ],
   "source": [
    "pd.Series(results_f1, min_samples_leaf_options).plot()\n"
   ]
  },
  {
   "cell_type": "code",
   "execution_count": 139,
   "metadata": {
    "collapsed": false
   },
   "outputs": [
    {
     "data": {
      "text/plain": [
       "<matplotlib.axes._subplots.AxesSubplot at 0x10cee5da0>"
      ]
     },
     "execution_count": 139,
     "metadata": {},
     "output_type": "execute_result"
    },
    {
     "data": {
      "image/png": "[encoded data removed]",
      "text/plain": [
       "<matplotlib.figure.Figure at 0x10cef14a8>"
      ]
     },
     "metadata": {},
     "output_type": "display_data"
    }
   ],
   "source": [
    "pd.Series(results_roc_auc, min_samples_leaf_options).plot()"
   ]
  },
  {
   "cell_type": "code",
   "execution_count": 24,
   "metadata": {
    "collapsed": false
   },
   "outputs": [
    {
     "data": {
      "text/plain": [
       "0.80056437918289869"
      ]
     },
     "execution_count": 24,
     "metadata": {},
     "output_type": "execute_result"
    }
   ],
   "source": [
    "model = RandomForestClassifier(n_estimators=1000, min_samples_leaf=6)\n",
    "forest_binary = model.fit(X_train, y_train_binary) #, sample_weight= sample_weights)\n",
    "scores_binary = cross_val_score(forest_binary,  X, y_binary, cv=10, scoring='accuracy')\n",
    "scores_binary.mean()"
   ]
  },
  {
   "cell_type": "code",
   "execution_count": 25,
   "metadata": {
    "collapsed": false
   },
   "outputs": [
    {
     "name": "stderr",
     "output_type": "stream",
     "text": [
      "/home/meryem/miniconda2/lib/python2.7/site-packages/ipykernel/__main__.py:2: FutureWarning: sort is deprecated, use sort_values(inplace=True) for INPLACE sorting\n",
      "  from ipykernel import kernelapp as app\n"
     ]
    },
    {
     "data": {
      "text/plain": [
       "<matplotlib.axes._subplots.AxesSubplot at 0x7fc024d07690>"
      ]
     },
     "execution_count": 25,
     "metadata": {},
     "output_type": "execute_result"
    },
    {
     "data": {
      "image/png": "[encoded data removed]",
      "text/plain": [
       "<matplotlib.figure.Figure at 0x7fc024d07fd0>"
      ]
     },
     "metadata": {},
     "output_type": "display_data"
    }
   ],
   "source": [
    "feature_importance= pd.Series(model.feature_importances_,index=X.columns)\n",
    "feature_importance.sort()\n",
    "feature_importance.plot(kind='barh')"
   ]
  },
  {
   "cell_type": "code",
   "execution_count": null,
   "metadata": {
    "collapsed": true
   },
   "outputs": [],
   "source": []
  },
  {
   "cell_type": "markdown",
   "metadata": {},
   "source": [
    "## Bonus Part"
   ]
  },
  {
   "cell_type": "code",
   "execution_count": 26,
   "metadata": {
    "collapsed": true
   },
   "outputs": [],
   "source": [
    "from sklearn.model_selection import cross_val_score, train_test_split, cross_val_predict, learning_curve\n",
    "import numpy as np"
   ]
  },
  {
   "cell_type": "code",
   "execution_count": 27,
   "metadata": {
    "collapsed": false
   },
   "outputs": [],
   "source": [
    "def plot_learning_curve(estimator,X,Y,cv=20):\n",
    "    plt.figure()\n",
    "    plt.xlabel(\"Training examples\")\n",
    "    plt.ylabel(\"Score\")\n",
    "    train_sizes, train_scores, test_scores = learning_curve(estimator, X, Y, cv=cv, train_sizes=np.linspace(0.2,1,20))\n",
    "    train_scores_mean = np.mean(train_scores, axis=1)\n",
    "    train_scores_std = np.std(train_scores, axis=1)\n",
    "    test_scores_mean = np.mean(test_scores, axis=1)\n",
    "    test_scores_std = np.std(test_scores, axis=1)\n",
    "    plt.grid()\n",
    "\n",
    "    plt.fill_between(train_sizes, train_scores_mean - train_scores_std,\n",
    "                    train_scores_mean + train_scores_std, alpha=0.1, color=\"b\")\n",
    "    plt.fill_between(train_sizes, test_scores_mean - test_scores_std,\n",
    "                    test_scores_mean + test_scores_std, alpha=0.1, color=\"r\")\n",
    "    plt.plot(train_sizes, train_scores_mean, 'o-', color=\"b\",\n",
    "            label=\"Training score\")\n",
    "    plt.plot(train_sizes, test_scores_mean, 'o-', color=\"r\",\n",
    "            label=\"Cross-validation score\")\n",
    "    plt.legend(loc=\"best\")\n",
    "    plt.show()"
   ]
  },
  {
   "cell_type": "code",
   "execution_count": 28,
   "metadata": {
    "collapsed": false,
    "scrolled": true
   },
   "outputs": [
    {
     "data": {
      "image/png": "[encoded data removed]",
      "text/plain": [
       "<matplotlib.figure.Figure at 0x7fc024d78fd0>"
      ]
     },
     "metadata": {},
     "output_type": "display_data"
    }
   ],
   "source": [
    "estimator = RandomForestClassifier()    \n",
    "\n",
    "plot_learning_curve(estimator,X,y_binary)   \n"
   ]
  },
  {
   "cell_type": "code",
   "execution_count": 68,
   "metadata": {
    "collapsed": false
   },
   "outputs": [
    {
     "data": {
      "image/png": "[encoded data removed]",
      "text/plain": [
       "<matplotlib.figure.Figure at 0x7fc024b5dad0>"
      ]
     },
     "metadata": {},
     "output_type": "display_data"
    }
   ],
   "source": [
    "estimator = RandomForestClassifier(n_estimators = 6, max_features = 10)    \n",
    "plot_learning_curve(estimator,X,y_binary)   "
   ]
  },
  {
   "cell_type": "code",
   "execution_count": 59,
   "metadata": {
    "collapsed": false,
    "scrolled": false
   },
   "outputs": [
    {
     "data": {
      "image/png": "[encoded data removed]",
      "text/plain": [
       "<matplotlib.figure.Figure at 0x7fc0249b9dd0>"
      ]
     },
     "metadata": {},
     "output_type": "display_data"
    }
   ],
   "source": [
    "estimator = RandomForestClassifier(max_depth = )    \n",
    "plot_learning_curve(estimator,X,y_binary)   "
   ]
  },
  {
   "cell_type": "code",
   "execution_count": 66,
   "metadata": {
    "collapsed": false
   },
   "outputs": [
    {
     "data": {
      "image/png": "[encoded data removed]",
      "text/plain": [
       "<matplotlib.figure.Figure at 0x7fc0249be910>"
      ]
     },
     "metadata": {},
     "output_type": "display_data"
    }
   ],
   "source": [
    "estimator = RandomForestClassifier(n_estimators=50)    \n",
    "plot_learning_curve(estimator,X,y_binary)  "
   ]
  },
  {
   "cell_type": "code",
   "execution_count": 67,
   "metadata": {
    "collapsed": false
   },
   "outputs": [
    {
     "data": {
      "image/png": "[encoded data removed]",
      "text/plain": [
       "<matplotlib.figure.Figure at 0x7fc024d98bd0>"
      ]
     },
     "metadata": {},
     "output_type": "display_data"
    }
   ],
   "source": [
    "estimator = RandomForestClassifier(n_estimators=2)    \n",
    "plot_learning_curve(estimator,X,y_binary)   "
   ]
  },
  {
   "cell_type": "code",
   "execution_count": null,
   "metadata": {
    "collapsed": true
   },
   "outputs": [],
   "source": []
  },
  {
   "cell_type": "code",
   "execution_count": null,
   "metadata": {
    "collapsed": true
   },
   "outputs": [],
   "source": []
  },
  {
   "cell_type": "code",
   "execution_count": null,
   "metadata": {
    "collapsed": true
   },
   "outputs": [],
   "source": []
  },
  {
   "cell_type": "code",
   "execution_count": null,
   "metadata": {
    "collapsed": true
   },
   "outputs": [],
   "source": []
  },
  {
   "cell_type": "code",
   "execution_count": null,
   "metadata": {
    "collapsed": true
   },
   "outputs": [],
   "source": []
  },
  {
   "cell_type": "markdown",
   "metadata": {},
   "source": [
    "## 1.2. Multi-Class Classification"
   ]
  },
  {
   "cell_type": "markdown",
   "metadata": {},
   "source": [
    "### Splitting data into train and test"
   ]
  },
  {
   "cell_type": "code",
   "execution_count": 50,
   "metadata": {
    "collapsed": true
   },
   "outputs": [],
   "source": [
    "from sklearn.model_selection import train_test_split\n",
    "X_train, X_test, y_train_multi, y_test_multi = train_test_split(X,y_multi, test_size=0.3)"
   ]
  },
  {
   "cell_type": "code",
   "execution_count": 53,
   "metadata": {
    "collapsed": false
   },
   "outputs": [],
   "source": [
    "# Fit a random forest to the training data for multi-class classification, using 100 trees\n",
    "from sklearn.ensemble import RandomForestClassifier\n",
    "forest = RandomForestClassifier( n_estimators = 10 )\n",
    "\n",
    "forest_multi = forest.fit(X_train, y_train_multi)"
   ]
  },
  {
   "cell_type": "markdown",
   "metadata": {
    "collapsed": true
   },
   "source": [
    "### Calculating the accuracy of the model"
   ]
  },
  {
   "cell_type": "code",
   "execution_count": 54,
   "metadata": {
    "collapsed": false
   },
   "outputs": [
    {
     "name": "stdout",
     "output_type": "stream",
     "text": [
      "0.98690835851\n"
     ]
    }
   ],
   "source": [
    "from sklearn import metrics\n",
    "result_multi_train = forest_multi.predict(X_train)\n",
    "print(metrics.accuracy_score(y_train_multi, result_multi_train))"
   ]
  },
  {
   "cell_type": "code",
   "execution_count": 55,
   "metadata": {
    "collapsed": false
   },
   "outputs": [
    {
     "name": "stdout",
     "output_type": "stream",
     "text": [
      "0.476525821596\n"
     ]
    }
   ],
   "source": [
    "from sklearn import metrics\n",
    "result_multi_test = forest_multi.predict(X_test)\n",
    "print(metrics.accuracy_score(y_test_multi, result_multi_test))"
   ]
  },
  {
   "cell_type": "code",
   "execution_count": 56,
   "metadata": {
    "collapsed": false
   },
   "outputs": [
    {
     "data": {
      "text/plain": [
       "0.3205128205128205"
      ]
     },
     "execution_count": 56,
     "metadata": {},
     "output_type": "execute_result"
    }
   ],
   "source": [
    "area_under_curve (y_test_multi, result_multi_test)"
   ]
  },
  {
   "cell_type": "markdown",
   "metadata": {},
   "source": [
    "# 2. Unsupervised Learning"
   ]
  },
  {
   "cell_type": "code",
   "execution_count": 70,
   "metadata": {
    "collapsed": false
   },
   "outputs": [],
   "source": [
    "import pandas as pd\n",
    "import numpy as np\n",
    " \n",
    "crowdstorming_df['skin'] = crowdstorming_df[['rater1', 'rater2']].mean(axis=1)\n",
    "crowdstorming_df = crowdstorming_df.drop(['rater1', 'rater2'], axis=1)"
   ]
  },
  {
   "cell_type": "code",
   "execution_count": 72,
   "metadata": {
    "collapsed": false
   },
   "outputs": [],
   "source": [
    "#df.fillna(df.mean()).dropna(axis=1, how='all')\n",
    "for _col_name_ in ['height', 'weight','meanIAT','nIAT','seIAT']:\n",
    "    crowdstorming_df[_col_name_] = crowdstorming_df[_col_name_].fillna(crowdstorming_df[_col_name_].mean())"
   ]
  },
  {
   "cell_type": "code",
   "execution_count": 73,
   "metadata": {
    "collapsed": true
   },
   "outputs": [],
   "source": [
    "f = {\n",
    "    #'club':'first',\n",
    "    #'birthday':'first',\n",
    "    'height':'first', \n",
    "    'weight':'first',\n",
    "    'games': 'sum', \n",
    "    'victories':'sum',\n",
    "    'ties': 'sum',\n",
    "    'defeats': 'sum', \n",
    "    'goals': 'sum', \n",
    "    'yellowCards': 'sum', \n",
    "    'yellowReds': 'sum', \n",
    "    'redCards': 'sum',\n",
    "    #'position':'first',\n",
    "    #'refNum':'first',\n",
    "    #'refCountry':'first',\n",
    "    'meanIAT':'mean',\n",
    "    'nIAT':'mean', \n",
    "    'seIAT':'mean',\n",
    "    'meanExp': 'mean',\n",
    "    'nExp':'mean', \n",
    "    'seExp':'mean',\n",
    "    #'rater1':'mean',\n",
    "    #'rater2':'mean'\n",
    "    #'skin':'mean',\n",
    "    'leagueCountry':'first'\n",
    "}\n",
    "\n",
    "#df_aggr = df.groupby(['playerShort']).agg(f)\n",
    "df_grouped = crowdstorming_df.groupby(['playerShort'])\n",
    "\n",
    "df_skin = df_grouped.agg({'skin': 'mean'})\n",
    "df_skin['actual_skin'] = np.where(df_skin['skin'] > 0.5, 1,0)"
   ]
  },
  {
   "cell_type": "code",
   "execution_count": 74,
   "metadata": {
    "collapsed": true
   },
   "outputs": [],
   "source": [
    "from sklearn.preprocessing import StandardScaler\n",
    "from sklearn.cluster import KMeans\n",
    "from sklearn.metrics import silhouette_score\n",
    "\n",
    "\n",
    "scale = StandardScaler()\n",
    "\n",
    "def sil_score(df_aggr):\n",
    "    df_aggr_scaled = scale.fit_transform(df_aggr.as_matrix())\n",
    "    kmeans_model = KMeans(n_clusters=2, random_state=0).fit(df_aggr_scaled)\n",
    "    labels = kmeans_model.labels_\n",
    "    return labels, silhouette_score(df_aggr_scaled, labels)"
   ]
  },
  {
   "cell_type": "code",
   "execution_count": 75,
   "metadata": {
    "collapsed": false
   },
   "outputs": [
    {
     "name": "stdout",
     "output_type": "stream",
     "text": [
      "('FIRST CLUSTER: ', 0.2981958762886598, 485)\n",
      "('SCND  CLUSTER: ', 0.2747591006423983, 934)\n",
      "CLUSTER 0: 80/485 = %16\n",
      "CLUSTER 1: 147/934 = %15\n",
      "(0.19402533146620338, Index([u'yellowReds', u'nIAT', u'nExp', u'height', u'victories', u'goals',\n",
      "       u'ties', u'meanExp', u'weight', u'defeats', u'meanIAT', u'seIAT',\n",
      "       u'games', u'seExp', u'redCards', u'leagueCountry_England',\n",
      "       u'leagueCountry_France', u'leagueCountry_Germany',\n",
      "       u'leagueCountry_Spain'],\n",
      "      dtype='object'))\n",
      "0.194025331466\n",
      "('FIRST CLUSTER: ', 0.29473415132924335, 489)\n",
      "('SCND  CLUSTER: ', 0.2764784946236559, 930)\n",
      "CLUSTER 0: 80/489 = %16\n",
      "CLUSTER 1: 147/930 = %15\n",
      "(0.19686793277735637, Index([u'weight', u'yellowReds', u'defeats', u'meanIAT', u'nExp', u'height',\n",
      "       u'victories', u'nIAT', u'seIAT', u'games', u'goals', u'ties',\n",
      "       u'redCards', u'meanExp', u'leagueCountry_England',\n",
      "       u'leagueCountry_France', u'leagueCountry_Germany',\n",
      "       u'leagueCountry_Spain'],\n",
      "      dtype='object'))\n",
      "0.196867932777\n",
      "('FIRST CLUSTER: ', 0.2777777777777778, 936)\n",
      "('SCND  CLUSTER: ', 0.2924430641821946, 483)\n",
      "CLUSTER 0: 149/936 = %15\n",
      "CLUSTER 1: 78/483 = %16\n",
      "(0.20385721900226494, Index([u'weight', u'yellowReds', u'defeats', u'meanIAT', u'nExp', u'height',\n",
      "       u'nIAT', u'victories', u'games', u'goals', u'ties', u'redCards',\n",
      "       u'meanExp', u'leagueCountry_England', u'leagueCountry_France',\n",
      "       u'leagueCountry_Germany', u'leagueCountry_Spain'],\n",
      "      dtype='object'))\n",
      "0.203857219002\n",
      "('FIRST CLUSTER: ', 0.280078125, 960)\n",
      "('SCND  CLUSTER: ', 0.2883986928104575, 459)\n",
      "CLUSTER 0: 154/960 = %16\n",
      "CLUSTER 1: 73/459 = %15\n",
      "(0.20718117072588757, Index([u'weight', u'yellowReds', u'defeats', u'meanIAT', u'nExp', u'height',\n",
      "       u'nIAT', u'victories', u'games', u'goals', u'ties', u'meanExp',\n",
      "       u'leagueCountry_England', u'leagueCountry_France',\n",
      "       u'leagueCountry_Germany', u'leagueCountry_Spain'],\n",
      "      dtype='object'))\n",
      "0.207181170726\n",
      "('FIRST CLUSTER: ', 0.29615768463073855, 1002)\n",
      "('SCND  CLUSTER: ', 0.25059952038369304, 417)\n",
      "CLUSTER 0: 197/1002 = %19\n",
      "CLUSTER 1: 30/417 = %7\n",
      "(0.19786771233458039, Index([u'weight', u'yellowReds', u'defeats', u'meanIAT', u'nExp', u'height',\n",
      "       u'nIAT', u'victories', u'games', u'goals', u'meanExp',\n",
      "       u'leagueCountry_England', u'leagueCountry_France',\n",
      "       u'leagueCountry_Germany', u'leagueCountry_Spain'],\n",
      "      dtype='object'))\n",
      "0.197867712335\n",
      "('FIRST CLUSTER: ', 0.28039112050739956, 946)\n",
      "('SCND  CLUSTER: ', 0.28752642706131076, 473)\n",
      "CLUSTER 0: 151/946 = %15\n",
      "CLUSTER 1: 76/473 = %16\n",
      "(0.23066647324468156, Index([u'weight', u'yellowReds', u'defeats', u'meanIAT', u'nExp', u'height',\n",
      "       u'nIAT', u'victories', u'games', u'goals', u'meanExp'],\n",
      "      dtype='object'))\n",
      "0.230666473245\n",
      "('FIRST CLUSTER: ', 0.2826780021253985, 941)\n",
      "('SCND  CLUSTER: ', 0.28294979079497906, 478)\n",
      "CLUSTER 0: 155/941 = %16\n",
      "CLUSTER 1: 72/478 = %15\n",
      "(0.22712797055720821, Index([u'weight', u'yellowReds', u'defeats', u'meanIAT', u'nExp', u'height',\n",
      "       u'nIAT', u'victories', u'games', u'meanExp'],\n",
      "      dtype='object'))\n",
      "0.227127970557\n",
      "('FIRST CLUSTER: ', 0.2523148148148148, 648)\n",
      "('SCND  CLUSTER: ', 0.30836575875486383, 771)\n",
      "CLUSTER 0: 61/648 = %9\n",
      "CLUSTER 1: 166/771 = %21\n",
      "(0.18720816823855946, Index([u'weight', u'yellowReds', u'defeats', u'meanIAT', u'nExp', u'height',\n",
      "       u'nIAT', u'victories', u'meanExp'],\n",
      "      dtype='object'))\n",
      "0.187208168239\n",
      "('FIRST CLUSTER: ', 0.3074052812858783, 871)\n",
      "('SCND  CLUSTER: ', 0.24361313868613138, 548)\n",
      "CLUSTER 0: 187/871 = %21\n",
      "CLUSTER 1: 40/548 = %7\n",
      "(0.20457299172200599, Index([u'weight', u'yellowReds', u'defeats', u'meanIAT', u'nExp', u'height',\n",
      "       u'nIAT', u'meanExp'],\n",
      "      dtype='object'))\n",
      "0.204572991722\n",
      "('FIRST CLUSTER: ', 0.24486607142857142, 560)\n",
      "('SCND  CLUSTER: ', 0.30747962747380675, 859)\n",
      "CLUSTER 0: 43/560 = %7\n",
      "CLUSTER 1: 184/859 = %21\n",
      "(0.21632966278318264, Index([u'meanExp', u'weight', u'yellowReds', u'defeats', u'meanIAT', u'nExp',\n",
      "       u'height'],\n",
      "      dtype='object'))\n",
      "0.216329662783\n",
      "('FIRST CLUSTER: ', 0.24305555555555555, 558)\n",
      "('SCND  CLUSTER: ', 0.3085075493612079, 861)\n",
      "CLUSTER 0: 41/558 = %7\n",
      "CLUSTER 1: 186/861 = %21\n",
      "(0.24633211425490908, Index([u'meanExp', u'weight', u'yellowReds', u'defeats', u'meanIAT', u'nExp'], dtype='object'))\n",
      "0.246332114255\n",
      "('FIRST CLUSTER: ', 0.3074561403508772, 855)\n",
      "('SCND  CLUSTER: ', 0.24534574468085107, 564)\n",
      "CLUSTER 0: 183/855 = %21\n",
      "CLUSTER 1: 44/564 = %7\n",
      "(0.27128489830054375, Index([u'meanIAT', u'meanExp', u'yellowReds', u'weight', u'defeats'], dtype='object'))\n",
      "0.271284898301\n",
      "('FIRST CLUSTER: ', 0.28218482905982906, 936)\n",
      "('SCND  CLUSTER: ', 0.28390269151138714, 483)\n",
      "CLUSTER 0: 156/936 = %16\n",
      "CLUSTER 1: 71/483 = %14\n",
      "(0.2193001232407279, Index([u'meanExp', u'yellowReds', u'weight', u'defeats'], dtype='object'))\n",
      "0.219300123241\n",
      "('FIRST CLUSTER: ', 0.30511934673366836, 796)\n",
      "('SCND  CLUSTER: ', 0.2542134831460674, 623)\n",
      "CLUSTER 0: 168/796 = %21\n",
      "CLUSTER 1: 59/623 = %9\n",
      "(0.26858882101294312, Index([u'meanExp', u'yellowReds', u'weight'], dtype='object'))\n",
      "0.268588821013\n",
      "('FIRST CLUSTER: ', 0.30660377358490565, 795)\n",
      "('SCND  CLUSTER: ', 0.25240384615384615, 624)\n",
      "CLUSTER 0: 168/795 = %21\n",
      "CLUSTER 1: 59/624 = %9\n",
      "(0.4029629590620834, Index([u'meanExp', u'yellowReds'], dtype='object'))\n",
      "0.402962959062\n",
      "('FIRST CLUSTER: ', 0.24690402476780185, 646)\n",
      "('SCND  CLUSTER: ', 0.3127425614489004, 773)\n",
      "CLUSTER 0: 56/646 = %8\n",
      "CLUSTER 1: 171/773 = %22\n",
      "(0.60603250889680826, Index([u'meanExp'], dtype='object'))\n",
      "0.606032508897\n"
     ]
    }
   ],
   "source": [
    "for i in reversed(range(1,len(f.items()))):\n",
    "    combination = dict(list(f.items())[:i])\n",
    "    _df_aggregated = df_grouped.agg(dict(combination))\n",
    "    _df_aggregated = pd.get_dummies(_df_aggregated)\n",
    "    \n",
    "    labeled, score = sil_score(_df_aggregated)\n",
    "    cluster_0 = df_skin[labeled == 0]\n",
    "    cluster_1 = df_skin[labeled == 1]\n",
    "    \n",
    "    print(\"FIRST CLUSTER: \", cluster_0['skin'].mean(),len(cluster_0))\n",
    "    print(\"SCND  CLUSTER: \", cluster_1['skin'].mean(),len(cluster_1))\n",
    "    \n",
    "    cluster_0_whites = len(cluster_0[cluster_0['skin'] > 0.5])\n",
    "    cluster_0_blacks = len(cluster_0[cluster_0['skin'] <= 0.5])\n",
    "    \n",
    "    cluster_1_whites = len(cluster_1[cluster_1['skin'] > 0.5])\n",
    "    cluster_1_blacks = len(cluster_1[cluster_1['skin'] <= 0.5])\n",
    "    \n",
    "    print(\"CLUSTER 0: %d/%d = %%%d\" % (cluster_0_whites, len(cluster_0), int(cluster_0_whites/len(cluster_0)*100)))\n",
    "    print(\"CLUSTER 1: %d/%d = %%%d\" % (cluster_1_whites, len(cluster_1), int(cluster_1_whites/len(cluster_1)*100)))\n",
    "\n",
    "    \n",
    "    print(score,_df_aggregated.columns)\n",
    "    print(score)"
   ]
  },
  {
   "cell_type": "code",
   "execution_count": 76,
   "metadata": {
    "collapsed": false
   },
   "outputs": [
    {
     "data": {
      "text/html": [
       "<div>\n",
       "<table border=\"1\" class=\"dataframe\">\n",
       "  <thead>\n",
       "    <tr style=\"text-align: right;\">\n",
       "      <th></th>\n",
       "      <th>skin</th>\n",
       "      <th>actual_skin</th>\n",
       "    </tr>\n",
       "    <tr>\n",
       "      <th>playerShort</th>\n",
       "      <th></th>\n",
       "      <th></th>\n",
       "    </tr>\n",
       "  </thead>\n",
       "  <tbody>\n",
       "    <tr>\n",
       "      <th>aaron-hughes</th>\n",
       "      <td>0.125</td>\n",
       "      <td>0</td>\n",
       "    </tr>\n",
       "    <tr>\n",
       "      <th>aaron-hunt</th>\n",
       "      <td>0.125</td>\n",
       "      <td>0</td>\n",
       "    </tr>\n",
       "    <tr>\n",
       "      <th>aaron-lennon</th>\n",
       "      <td>0.250</td>\n",
       "      <td>0</td>\n",
       "    </tr>\n",
       "    <tr>\n",
       "      <th>aaron-ramsey</th>\n",
       "      <td>0.000</td>\n",
       "      <td>0</td>\n",
       "    </tr>\n",
       "    <tr>\n",
       "      <th>abdelhamid-el-kaoutari</th>\n",
       "      <td>0.250</td>\n",
       "      <td>0</td>\n",
       "    </tr>\n",
       "    <tr>\n",
       "      <th>abdou-traore_2</th>\n",
       "      <td>0.750</td>\n",
       "      <td>1</td>\n",
       "    </tr>\n",
       "    <tr>\n",
       "      <th>abdoulaye-diallo_2</th>\n",
       "      <td>0.875</td>\n",
       "      <td>1</td>\n",
       "    </tr>\n",
       "    <tr>\n",
       "      <th>abdoulaye-keita_2</th>\n",
       "      <td>0.875</td>\n",
       "      <td>1</td>\n",
       "    </tr>\n",
       "    <tr>\n",
       "      <th>abdoulwhaid-sissoko</th>\n",
       "      <td>1.000</td>\n",
       "      <td>1</td>\n",
       "    </tr>\n",
       "    <tr>\n",
       "      <th>abdul-rahman-baba</th>\n",
       "      <td>0.875</td>\n",
       "      <td>1</td>\n",
       "    </tr>\n",
       "    <tr>\n",
       "      <th>abdul-razak</th>\n",
       "      <td>1.000</td>\n",
       "      <td>1</td>\n",
       "    </tr>\n",
       "    <tr>\n",
       "      <th>abel-aguilar</th>\n",
       "      <td>0.375</td>\n",
       "      <td>0</td>\n",
       "    </tr>\n",
       "    <tr>\n",
       "      <th>abou-diaby</th>\n",
       "      <td>0.750</td>\n",
       "      <td>1</td>\n",
       "    </tr>\n",
       "    <tr>\n",
       "      <th>adam-bodzek</th>\n",
       "      <td>0.250</td>\n",
       "      <td>0</td>\n",
       "    </tr>\n",
       "    <tr>\n",
       "      <th>adam-federici</th>\n",
       "      <td>0.000</td>\n",
       "      <td>0</td>\n",
       "    </tr>\n",
       "    <tr>\n",
       "      <th>adam-hlousek</th>\n",
       "      <td>0.000</td>\n",
       "      <td>0</td>\n",
       "    </tr>\n",
       "    <tr>\n",
       "      <th>adam-johnson</th>\n",
       "      <td>0.000</td>\n",
       "      <td>0</td>\n",
       "    </tr>\n",
       "    <tr>\n",
       "      <th>adam-pinter</th>\n",
       "      <td>0.000</td>\n",
       "      <td>0</td>\n",
       "    </tr>\n",
       "    <tr>\n",
       "      <th>adam-smith_3</th>\n",
       "      <td>0.000</td>\n",
       "      <td>0</td>\n",
       "    </tr>\n",
       "    <tr>\n",
       "      <th>adam-szalai</th>\n",
       "      <td>0.250</td>\n",
       "      <td>0</td>\n",
       "    </tr>\n",
       "    <tr>\n",
       "      <th>adan</th>\n",
       "      <td>0.000</td>\n",
       "      <td>0</td>\n",
       "    </tr>\n",
       "    <tr>\n",
       "      <th>adel-taarabt</th>\n",
       "      <td>0.250</td>\n",
       "      <td>0</td>\n",
       "    </tr>\n",
       "    <tr>\n",
       "      <th>adil-rami</th>\n",
       "      <td>0.125</td>\n",
       "      <td>0</td>\n",
       "    </tr>\n",
       "    <tr>\n",
       "      <th>adrian-colunga</th>\n",
       "      <td>0.250</td>\n",
       "      <td>0</td>\n",
       "    </tr>\n",
       "    <tr>\n",
       "      <th>adrian-mutu</th>\n",
       "      <td>0.250</td>\n",
       "      <td>0</td>\n",
       "    </tr>\n",
       "    <tr>\n",
       "      <th>adrian_2</th>\n",
       "      <td>0.125</td>\n",
       "      <td>0</td>\n",
       "    </tr>\n",
       "    <tr>\n",
       "      <th>adrian_7</th>\n",
       "      <td>0.250</td>\n",
       "      <td>0</td>\n",
       "    </tr>\n",
       "    <tr>\n",
       "      <th>adriano_24</th>\n",
       "      <td>0.250</td>\n",
       "      <td>0</td>\n",
       "    </tr>\n",
       "    <tr>\n",
       "      <th>adrien-rabiot</th>\n",
       "      <td>0.000</td>\n",
       "      <td>0</td>\n",
       "    </tr>\n",
       "    <tr>\n",
       "      <th>aduriz</th>\n",
       "      <td>0.250</td>\n",
       "      <td>0</td>\n",
       "    </tr>\n",
       "    <tr>\n",
       "      <th>...</th>\n",
       "      <td>...</td>\n",
       "      <td>...</td>\n",
       "    </tr>\n",
       "    <tr>\n",
       "      <th>xavi</th>\n",
       "      <td>0.000</td>\n",
       "      <td>0</td>\n",
       "    </tr>\n",
       "    <tr>\n",
       "      <th>xherdan-shaqiri</th>\n",
       "      <td>0.250</td>\n",
       "      <td>0</td>\n",
       "    </tr>\n",
       "    <tr>\n",
       "      <th>xisco_2</th>\n",
       "      <td>0.250</td>\n",
       "      <td>0</td>\n",
       "    </tr>\n",
       "    <tr>\n",
       "      <th>yacine-brahimi</th>\n",
       "      <td>0.625</td>\n",
       "      <td>1</td>\n",
       "    </tr>\n",
       "    <tr>\n",
       "      <th>yann-mvila</th>\n",
       "      <td>0.500</td>\n",
       "      <td>0</td>\n",
       "    </tr>\n",
       "    <tr>\n",
       "      <th>yannick-djalo</th>\n",
       "      <td>0.750</td>\n",
       "      <td>1</td>\n",
       "    </tr>\n",
       "    <tr>\n",
       "      <th>yannik-schulze</th>\n",
       "      <td>0.000</td>\n",
       "      <td>0</td>\n",
       "    </tr>\n",
       "    <tr>\n",
       "      <th>yassine-jebbour</th>\n",
       "      <td>0.625</td>\n",
       "      <td>1</td>\n",
       "    </tr>\n",
       "    <tr>\n",
       "      <th>yaya-toure</th>\n",
       "      <td>1.000</td>\n",
       "      <td>1</td>\n",
       "    </tr>\n",
       "    <tr>\n",
       "      <th>yoan-gouffran</th>\n",
       "      <td>0.500</td>\n",
       "      <td>0</td>\n",
       "    </tr>\n",
       "    <tr>\n",
       "      <th>yoann-gourcuff</th>\n",
       "      <td>0.125</td>\n",
       "      <td>0</td>\n",
       "    </tr>\n",
       "    <tr>\n",
       "      <th>yohan-cabaye</th>\n",
       "      <td>0.000</td>\n",
       "      <td>0</td>\n",
       "    </tr>\n",
       "    <tr>\n",
       "      <th>yohandry-orozco</th>\n",
       "      <td>0.500</td>\n",
       "      <td>0</td>\n",
       "    </tr>\n",
       "    <tr>\n",
       "      <th>yossi-benayoun</th>\n",
       "      <td>0.250</td>\n",
       "      <td>0</td>\n",
       "    </tr>\n",
       "    <tr>\n",
       "      <th>younes-belhanda</th>\n",
       "      <td>0.250</td>\n",
       "      <td>0</td>\n",
       "    </tr>\n",
       "    <tr>\n",
       "      <th>younes-kaboul</th>\n",
       "      <td>0.500</td>\n",
       "      <td>0</td>\n",
       "    </tr>\n",
       "    <tr>\n",
       "      <th>youssef-el-arabi</th>\n",
       "      <td>0.625</td>\n",
       "      <td>1</td>\n",
       "    </tr>\n",
       "    <tr>\n",
       "      <th>yunus-malli</th>\n",
       "      <td>0.125</td>\n",
       "      <td>0</td>\n",
       "    </tr>\n",
       "    <tr>\n",
       "      <th>zdenk-pospch</th>\n",
       "      <td>0.125</td>\n",
       "      <td>0</td>\n",
       "    </tr>\n",
       "    <tr>\n",
       "      <th>zdravko-kuzmanovic</th>\n",
       "      <td>0.000</td>\n",
       "      <td>0</td>\n",
       "    </tr>\n",
       "    <tr>\n",
       "      <th>ze-castro</th>\n",
       "      <td>0.250</td>\n",
       "      <td>0</td>\n",
       "    </tr>\n",
       "    <tr>\n",
       "      <th>zhi-gin-lam</th>\n",
       "      <td>0.250</td>\n",
       "      <td>0</td>\n",
       "    </tr>\n",
       "    <tr>\n",
       "      <th>zlatan-alomerovic</th>\n",
       "      <td>0.000</td>\n",
       "      <td>0</td>\n",
       "    </tr>\n",
       "    <tr>\n",
       "      <th>zlatan-ibrahimovic</th>\n",
       "      <td>0.250</td>\n",
       "      <td>0</td>\n",
       "    </tr>\n",
       "    <tr>\n",
       "      <th>zlatko-junuzovic</th>\n",
       "      <td>0.125</td>\n",
       "      <td>0</td>\n",
       "    </tr>\n",
       "    <tr>\n",
       "      <th>zoltan-gera</th>\n",
       "      <td>0.250</td>\n",
       "      <td>0</td>\n",
       "    </tr>\n",
       "    <tr>\n",
       "      <th>zoltan-stieber</th>\n",
       "      <td>0.000</td>\n",
       "      <td>0</td>\n",
       "    </tr>\n",
       "    <tr>\n",
       "      <th>zoumana-camara</th>\n",
       "      <td>0.875</td>\n",
       "      <td>1</td>\n",
       "    </tr>\n",
       "    <tr>\n",
       "      <th>zubikarai</th>\n",
       "      <td>0.000</td>\n",
       "      <td>0</td>\n",
       "    </tr>\n",
       "    <tr>\n",
       "      <th>zurutuza</th>\n",
       "      <td>0.000</td>\n",
       "      <td>0</td>\n",
       "    </tr>\n",
       "  </tbody>\n",
       "</table>\n",
       "<p>1419 rows × 2 columns</p>\n",
       "</div>"
      ],
      "text/plain": [
       "                         skin  actual_skin\n",
       "playerShort                               \n",
       "aaron-hughes            0.125            0\n",
       "aaron-hunt              0.125            0\n",
       "aaron-lennon            0.250            0\n",
       "aaron-ramsey            0.000            0\n",
       "abdelhamid-el-kaoutari  0.250            0\n",
       "abdou-traore_2          0.750            1\n",
       "abdoulaye-diallo_2      0.875            1\n",
       "abdoulaye-keita_2       0.875            1\n",
       "abdoulwhaid-sissoko     1.000            1\n",
       "abdul-rahman-baba       0.875            1\n",
       "abdul-razak             1.000            1\n",
       "abel-aguilar            0.375            0\n",
       "abou-diaby              0.750            1\n",
       "adam-bodzek             0.250            0\n",
       "adam-federici           0.000            0\n",
       "adam-hlousek            0.000            0\n",
       "adam-johnson            0.000            0\n",
       "adam-pinter             0.000            0\n",
       "adam-smith_3            0.000            0\n",
       "adam-szalai             0.250            0\n",
       "adan                    0.000            0\n",
       "adel-taarabt            0.250            0\n",
       "adil-rami               0.125            0\n",
       "adrian-colunga          0.250            0\n",
       "adrian-mutu             0.250            0\n",
       "adrian_2                0.125            0\n",
       "adrian_7                0.250            0\n",
       "adriano_24              0.250            0\n",
       "adrien-rabiot           0.000            0\n",
       "aduriz                  0.250            0\n",
       "...                       ...          ...\n",
       "xavi                    0.000            0\n",
       "xherdan-shaqiri         0.250            0\n",
       "xisco_2                 0.250            0\n",
       "yacine-brahimi          0.625            1\n",
       "yann-mvila              0.500            0\n",
       "yannick-djalo           0.750            1\n",
       "yannik-schulze          0.000            0\n",
       "yassine-jebbour         0.625            1\n",
       "yaya-toure              1.000            1\n",
       "yoan-gouffran           0.500            0\n",
       "yoann-gourcuff          0.125            0\n",
       "yohan-cabaye            0.000            0\n",
       "yohandry-orozco         0.500            0\n",
       "yossi-benayoun          0.250            0\n",
       "younes-belhanda         0.250            0\n",
       "younes-kaboul           0.500            0\n",
       "youssef-el-arabi        0.625            1\n",
       "yunus-malli             0.125            0\n",
       "zdenk-pospch            0.125            0\n",
       "zdravko-kuzmanovic      0.000            0\n",
       "ze-castro               0.250            0\n",
       "zhi-gin-lam             0.250            0\n",
       "zlatan-alomerovic       0.000            0\n",
       "zlatan-ibrahimovic      0.250            0\n",
       "zlatko-junuzovic        0.125            0\n",
       "zoltan-gera             0.250            0\n",
       "zoltan-stieber          0.000            0\n",
       "zoumana-camara          0.875            1\n",
       "zubikarai               0.000            0\n",
       "zurutuza                0.000            0\n",
       "\n",
       "[1419 rows x 2 columns]"
      ]
     },
     "execution_count": 76,
     "metadata": {},
     "output_type": "execute_result"
    }
   ],
   "source": [
    "df_skin"
   ]
  },
  {
   "cell_type": "code",
   "execution_count": null,
   "metadata": {
    "collapsed": true
   },
   "outputs": [],
   "source": []
  },
  {
   "cell_type": "code",
   "execution_count": null,
   "metadata": {
    "collapsed": true
   },
   "outputs": [],
   "source": []
  }
 ],
 "metadata": {
  "kernelspec": {
   "display_name": "Python 3",
   "language": "python",
   "name": "python3"
  },
  "language_info": {
   "codemirror_mode": {
    "name": "ipython",
    "version": 3
   },
   "file_extension": ".py",
   "mimetype": "text/x-python",
   "name": "python",
   "nbconvert_exporter": "python",
   "pygments_lexer": "ipython3",
   "version": "3.5.2"
  }
 },
 "nbformat": 4,
 "nbformat_minor": 0
}
