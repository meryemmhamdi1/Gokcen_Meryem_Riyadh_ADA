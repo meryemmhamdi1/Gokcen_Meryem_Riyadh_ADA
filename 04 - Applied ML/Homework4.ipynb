{
 "cells": [
  {
   "cell_type": "code",
   "execution_count": 151,
   "metadata": {
    "collapsed": true
   },
   "outputs": [],
   "source": [
    "import pandas as pd\n",
    "from pprint import pprint as pp"
   ]
  },
  {
   "cell_type": "code",
   "execution_count": 152,
   "metadata": {
    "collapsed": false
   },
   "outputs": [
    {
     "name": "stdout",
     "output_type": "stream",
     "text": [
      "     playerShort         player             club leagueCountry    birthday  \\\n",
      "0  lucas-wilchez  Lucas Wilchez    Real Zaragoza         Spain  31.08.1983   \n",
      "1     john-utaka     John Utaka  Montpellier HSC        France  08.01.1982   \n",
      "2    abdon-prats    Abdón Prats     RCD Mallorca         Spain  17.12.1992   \n",
      "3     pablo-mari     Pablo Marí     RCD Mallorca         Spain  31.08.1993   \n",
      "4     ruben-pena     Rubén Peña  Real Valladolid         Spain  18.07.1991   \n",
      "\n",
      "   height  weight              position  games  victories    ...     rater2  \\\n",
      "0   177.0    72.0  Attacking Midfielder      1          0    ...       0.50   \n",
      "1   179.0    82.0          Right Winger      1          0    ...       0.75   \n",
      "2   181.0    79.0                   NaN      1          0    ...        NaN   \n",
      "3   191.0    87.0           Center Back      1          1    ...        NaN   \n",
      "4   172.0    70.0      Right Midfielder      1          1    ...        NaN   \n",
      "\n",
      "   refNum  refCountry  Alpha_3   meanIAT    nIAT     seIAT   meanExp    nExp  \\\n",
      "0       1           1      GRC  0.326391   712.0  0.000564  0.396000   750.0   \n",
      "1       2           2      ZMB  0.203375    40.0  0.010875 -0.204082    49.0   \n",
      "2       3           3      ESP  0.369894  1785.0  0.000229  0.588297  1897.0   \n",
      "3       3           3      ESP  0.369894  1785.0  0.000229  0.588297  1897.0   \n",
      "4       3           3      ESP  0.369894  1785.0  0.000229  0.588297  1897.0   \n",
      "\n",
      "      seExp  \n",
      "0  0.002696  \n",
      "1  0.061504  \n",
      "2  0.001002  \n",
      "3  0.001002  \n",
      "4  0.001002  \n",
      "\n",
      "[5 rows x 28 columns]\n",
      "array(['playerShort', 'player', 'club', 'leagueCountry', 'birthday',\n",
      "       'height', 'weight', 'position', 'games', 'victories', 'ties',\n",
      "       'defeats', 'goals', 'yellowCards', 'yellowReds', 'redCards',\n",
      "       'photoID', 'rater1', 'rater2', 'refNum', 'refCountry', 'Alpha_3',\n",
      "       'meanIAT', 'nIAT', 'seIAT', 'meanExp', 'nExp', 'seExp'], dtype=object)\n"
     ]
    }
   ],
   "source": [
    "crowdstorming_df = pd.read_csv('Data/CrowdstormingDataJuly1st.csv')\n",
    "pp(crowdstorming_df.head())\n",
    "pp(crowdstorming_df.columns.values)"
   ]
  },
  {
   "cell_type": "code",
   "execution_count": 26,
   "metadata": {
    "collapsed": false
   },
   "outputs": [
    {
     "data": {
      "text/plain": [
       "(146028, 28)"
      ]
     },
     "execution_count": 26,
     "metadata": {},
     "output_type": "execute_result"
    }
   ],
   "source": [
    "crowdstorming_df.shape"
   ]
  },
  {
   "cell_type": "code",
   "execution_count": 153,
   "metadata": {
    "collapsed": false
   },
   "outputs": [
    {
     "data": {
      "text/html": [
       "<div>\n",
       "<table border=\"1\" class=\"dataframe\">\n",
       "  <thead>\n",
       "    <tr style=\"text-align: right;\">\n",
       "      <th></th>\n",
       "      <th>playerShort</th>\n",
       "      <th>player</th>\n",
       "      <th>club</th>\n",
       "      <th>leagueCountry</th>\n",
       "      <th>birthday</th>\n",
       "      <th>height</th>\n",
       "      <th>weight</th>\n",
       "      <th>position</th>\n",
       "      <th>games</th>\n",
       "      <th>victories</th>\n",
       "      <th>...</th>\n",
       "      <th>rater2</th>\n",
       "      <th>refNum</th>\n",
       "      <th>refCountry</th>\n",
       "      <th>Alpha_3</th>\n",
       "      <th>meanIAT</th>\n",
       "      <th>nIAT</th>\n",
       "      <th>seIAT</th>\n",
       "      <th>meanExp</th>\n",
       "      <th>nExp</th>\n",
       "      <th>seExp</th>\n",
       "    </tr>\n",
       "  </thead>\n",
       "  <tbody>\n",
       "    <tr>\n",
       "      <th>0</th>\n",
       "      <td>lucas-wilchez</td>\n",
       "      <td>Lucas Wilchez</td>\n",
       "      <td>Real Zaragoza</td>\n",
       "      <td>Spain</td>\n",
       "      <td>31.08.1983</td>\n",
       "      <td>177.0</td>\n",
       "      <td>72.0</td>\n",
       "      <td>Attacking Midfielder</td>\n",
       "      <td>1</td>\n",
       "      <td>0</td>\n",
       "      <td>...</td>\n",
       "      <td>0.50</td>\n",
       "      <td>1</td>\n",
       "      <td>1</td>\n",
       "      <td>GRC</td>\n",
       "      <td>0.326391</td>\n",
       "      <td>712.0</td>\n",
       "      <td>0.000564</td>\n",
       "      <td>0.396000</td>\n",
       "      <td>750.0</td>\n",
       "      <td>0.002696</td>\n",
       "    </tr>\n",
       "    <tr>\n",
       "      <th>1</th>\n",
       "      <td>john-utaka</td>\n",
       "      <td>John Utaka</td>\n",
       "      <td>Montpellier HSC</td>\n",
       "      <td>France</td>\n",
       "      <td>08.01.1982</td>\n",
       "      <td>179.0</td>\n",
       "      <td>82.0</td>\n",
       "      <td>Right Winger</td>\n",
       "      <td>1</td>\n",
       "      <td>0</td>\n",
       "      <td>...</td>\n",
       "      <td>0.75</td>\n",
       "      <td>2</td>\n",
       "      <td>2</td>\n",
       "      <td>ZMB</td>\n",
       "      <td>0.203375</td>\n",
       "      <td>40.0</td>\n",
       "      <td>0.010875</td>\n",
       "      <td>-0.204082</td>\n",
       "      <td>49.0</td>\n",
       "      <td>0.061504</td>\n",
       "    </tr>\n",
       "    <tr>\n",
       "      <th>2</th>\n",
       "      <td>abdon-prats</td>\n",
       "      <td>Abdón Prats</td>\n",
       "      <td>RCD Mallorca</td>\n",
       "      <td>Spain</td>\n",
       "      <td>17.12.1992</td>\n",
       "      <td>181.0</td>\n",
       "      <td>79.0</td>\n",
       "      <td>NaN</td>\n",
       "      <td>1</td>\n",
       "      <td>0</td>\n",
       "      <td>...</td>\n",
       "      <td>NaN</td>\n",
       "      <td>3</td>\n",
       "      <td>3</td>\n",
       "      <td>ESP</td>\n",
       "      <td>0.369894</td>\n",
       "      <td>1785.0</td>\n",
       "      <td>0.000229</td>\n",
       "      <td>0.588297</td>\n",
       "      <td>1897.0</td>\n",
       "      <td>0.001002</td>\n",
       "    </tr>\n",
       "    <tr>\n",
       "      <th>3</th>\n",
       "      <td>pablo-mari</td>\n",
       "      <td>Pablo Marí</td>\n",
       "      <td>RCD Mallorca</td>\n",
       "      <td>Spain</td>\n",
       "      <td>31.08.1993</td>\n",
       "      <td>191.0</td>\n",
       "      <td>87.0</td>\n",
       "      <td>Center Back</td>\n",
       "      <td>1</td>\n",
       "      <td>1</td>\n",
       "      <td>...</td>\n",
       "      <td>NaN</td>\n",
       "      <td>3</td>\n",
       "      <td>3</td>\n",
       "      <td>ESP</td>\n",
       "      <td>0.369894</td>\n",
       "      <td>1785.0</td>\n",
       "      <td>0.000229</td>\n",
       "      <td>0.588297</td>\n",
       "      <td>1897.0</td>\n",
       "      <td>0.001002</td>\n",
       "    </tr>\n",
       "    <tr>\n",
       "      <th>4</th>\n",
       "      <td>ruben-pena</td>\n",
       "      <td>Rubén Peña</td>\n",
       "      <td>Real Valladolid</td>\n",
       "      <td>Spain</td>\n",
       "      <td>18.07.1991</td>\n",
       "      <td>172.0</td>\n",
       "      <td>70.0</td>\n",
       "      <td>Right Midfielder</td>\n",
       "      <td>1</td>\n",
       "      <td>1</td>\n",
       "      <td>...</td>\n",
       "      <td>NaN</td>\n",
       "      <td>3</td>\n",
       "      <td>3</td>\n",
       "      <td>ESP</td>\n",
       "      <td>0.369894</td>\n",
       "      <td>1785.0</td>\n",
       "      <td>0.000229</td>\n",
       "      <td>0.588297</td>\n",
       "      <td>1897.0</td>\n",
       "      <td>0.001002</td>\n",
       "    </tr>\n",
       "  </tbody>\n",
       "</table>\n",
       "<p>5 rows × 28 columns</p>\n",
       "</div>"
      ],
      "text/plain": [
       "     playerShort         player             club leagueCountry    birthday  \\\n",
       "0  lucas-wilchez  Lucas Wilchez    Real Zaragoza         Spain  31.08.1983   \n",
       "1     john-utaka     John Utaka  Montpellier HSC        France  08.01.1982   \n",
       "2    abdon-prats    Abdón Prats     RCD Mallorca         Spain  17.12.1992   \n",
       "3     pablo-mari     Pablo Marí     RCD Mallorca         Spain  31.08.1993   \n",
       "4     ruben-pena     Rubén Peña  Real Valladolid         Spain  18.07.1991   \n",
       "\n",
       "   height  weight              position  games  victories    ...     rater2  \\\n",
       "0   177.0    72.0  Attacking Midfielder      1          0    ...       0.50   \n",
       "1   179.0    82.0          Right Winger      1          0    ...       0.75   \n",
       "2   181.0    79.0                   NaN      1          0    ...        NaN   \n",
       "3   191.0    87.0           Center Back      1          1    ...        NaN   \n",
       "4   172.0    70.0      Right Midfielder      1          1    ...        NaN   \n",
       "\n",
       "   refNum  refCountry  Alpha_3   meanIAT    nIAT     seIAT   meanExp    nExp  \\\n",
       "0       1           1      GRC  0.326391   712.0  0.000564  0.396000   750.0   \n",
       "1       2           2      ZMB  0.203375    40.0  0.010875 -0.204082    49.0   \n",
       "2       3           3      ESP  0.369894  1785.0  0.000229  0.588297  1897.0   \n",
       "3       3           3      ESP  0.369894  1785.0  0.000229  0.588297  1897.0   \n",
       "4       3           3      ESP  0.369894  1785.0  0.000229  0.588297  1897.0   \n",
       "\n",
       "      seExp  \n",
       "0  0.002696  \n",
       "1  0.061504  \n",
       "2  0.001002  \n",
       "3  0.001002  \n",
       "4  0.001002  \n",
       "\n",
       "[5 rows x 28 columns]"
      ]
     },
     "execution_count": 153,
     "metadata": {},
     "output_type": "execute_result"
    }
   ],
   "source": [
    "crowdstorming_df.head()"
   ]
  },
  {
   "cell_type": "code",
   "execution_count": 148,
   "metadata": {
    "collapsed": false,
    "scrolled": true
   },
   "outputs": [
    {
     "data": {
      "text/plain": [
       "91"
      ]
     },
     "execution_count": 148,
     "metadata": {},
     "output_type": "execute_result"
    }
   ],
   "source": [
    "# Dropping Nan Values\n",
    "crowdstorming_df = crowdstorming_df.dropna()\n",
    "crowdstorming_df_num = crowdstorming_df\n",
    "from sklearn import preprocessing\n",
    "le = preprocessing.LabelEncoder()\n",
    "# Converting playerShort String to numerical representation\n",
    "le.fit(list(set(crowdstorming_df['playerShort'])))\n",
    "crowdstorming_df_num['playerShort'] = le.transform(crowdstorming_df['playerShort']) \n",
    "\n",
    "# Converting club String to numerical representation\n",
    "le.fit(list(set(crowdstorming_df['club'])))\n",
    "crowdstorming_df_num['club'] = le.transform(crowdstorming_df['club']) \n",
    "\n",
    "\n",
    "# Converting leagueCountry String to numerical representation\n",
    "le.fit(list(set(crowdstorming_df['leagueCountry'])))\n",
    "crowdstorming_df_num['leagueCountry'] = le.transform(crowdstorming_df['leagueCountry']) \n",
    "\n",
    "# Converting birthday String to numerical representation\n",
    "le.fit(list(set(crowdstorming_df['birthday'])))\n",
    "crowdstorming_df_num['birthday'] = le.transform(crowdstorming_df['birthday']) \n",
    "\n",
    "\n",
    "# Converting position String to numerical representation\n",
    "le.fit(list(set(crowdstorming_df['position'])))\n",
    "crowdstorming_df_num['position'] = le.transform(crowdstorming_df['position']) \n",
    "\n",
    "\n",
    "crowdstorming_df_num['club'].max()"
   ]
  },
  {
   "cell_type": "code",
   "execution_count": null,
   "metadata": {
    "collapsed": true
   },
   "outputs": [],
   "source": []
  },
  {
   "cell_type": "code",
   "execution_count": 30,
   "metadata": {
    "collapsed": false,
    "scrolled": true
   },
   "outputs": [],
   "source": [
    "f = {'club':'first',\n",
    "     'leagueCountry':'first',\n",
    "     'birthday':'first',\n",
    "     'height':'first', \n",
    "     'weight':'first',\n",
    "     'games': 'sum', \n",
    "     'victories':'sum',\n",
    "     'ties': 'sum',\n",
    "     'defeats': 'sum', \n",
    "     'goals': 'sum', \n",
    "     'yellowCards': 'sum', \n",
    "     'yellowReds': 'sum', \n",
    "     'redCards': 'sum',\n",
    "     'position':'first',\n",
    "     'refNum':'first',\n",
    "     'refCountry':'first',\n",
    "     'meanIAT':'mean',\n",
    "     'nIAT':'mean', \n",
    "     'seIAT':'mean',\n",
    "     'meanExp': 'mean',\n",
    "     'nExp':'mean', \n",
    "     'seExp':'mean',\n",
    "     'rater1':'mean',\n",
    "     'rater2':'mean'\n",
    "    }\n",
    "\n",
    "crowdstorming_df_player_fixed = crowdstorming_df_num.groupby(['playerShort']).agg(f)\n",
    "crowdstorming_df_player_referee = crowdstorming_df_player_fixed\n",
    "#.mean().reset_index()\n",
    "#crowdstorming_df_player_fixed[crowdstorming_df_player_fixed['playerShort']=='john-utaka']\n",
    "crowdstorming_df_player_fixed = crowdstorming_df_player_fixed[['club','leagueCountry','birthday','height', 'weight','games', \n",
    "     'victories',\n",
    "     'ties',\n",
    "     'defeats', \n",
    "     'goals', \n",
    "     'yellowCards', \n",
    "     'yellowReds', \n",
    "     'redCards',\n",
    "     'position',\n",
    "     'meanIAT',\n",
    "     'nIAT', \n",
    "     'seIAT',\n",
    "     'meanExp',\n",
    "     'nExp', \n",
    "     'seExp',\n",
    "     'rater1',\n",
    "     'rater2']]\n",
    "\n",
    "crowdstorming_df_player_referee = crowdstorming_df_player_referee[[\n",
    "     'club',\n",
    "     'leagueCountry',\n",
    "     'birthday',\n",
    "     'height', \n",
    "     'weight',\n",
    "    'games', \n",
    "     'victories',\n",
    "     'ties',\n",
    "     'defeats', \n",
    "     'goals', \n",
    "     'yellowCards', \n",
    "     'yellowReds', \n",
    "     'redCards',\n",
    "     'position',\n",
    "     'meanIAT',\n",
    "     'nIAT', \n",
    "     'seIAT',\n",
    "     'meanExp',\n",
    "     'nExp', \n",
    "     'seExp',\n",
    "     'rater1',\n",
    "     'rater2'\n",
    "     'refNum',\n",
    "     'refCountry',\n",
    "     'nIAT', \n",
    "     'seIAT',\n",
    "     'meanExp',\n",
    "     'nExp', \n",
    "     'seExp'\n",
    "     ]]"
   ]
  },
  {
   "cell_type": "code",
   "execution_count": 36,
   "metadata": {
    "collapsed": false,
    "scrolled": true
   },
   "outputs": [
    {
     "data": {
      "text/plain": [
       "1419"
      ]
     },
     "execution_count": 36,
     "metadata": {},
     "output_type": "execute_result"
    }
   ],
   "source": [
    "#crowdstorming_df_player_fixed.apply(lambda x: pd.Series([x.playerShort.values[0]]))\n",
    "len(crowdstorming_df_player_fixed)"
   ]
  },
  {
   "cell_type": "code",
   "execution_count": 6,
   "metadata": {
    "collapsed": false
   },
   "outputs": [
    {
     "data": {
      "text/plain": [
       "array(['club', 'leagueCountry', 'birthday', 'height', 'weight', 'games',\n",
       "       'victories', 'ties', 'defeats', 'goals', 'yellowCards',\n",
       "       'yellowReds', 'redCards', 'position', 'meanIAT', 'nIAT', 'seIAT',\n",
       "       'meanExp', 'nExp', 'seExp', 'rater1', 'rater2'], dtype=object)"
      ]
     },
     "execution_count": 6,
     "metadata": {},
     "output_type": "execute_result"
    }
   ],
   "source": [
    "crowdstorming_df_player_fixed.columns.values"
   ]
  },
  {
   "cell_type": "code",
   "execution_count": 64,
   "metadata": {
    "collapsed": false,
    "scrolled": true
   },
   "outputs": [
    {
     "data": {
      "text/plain": [
       "playerShort\n",
       "0       0.0\n",
       "1       0.0\n",
       "2       1.0\n",
       "3       0.0\n",
       "4       1.0\n",
       "5       3.0\n",
       "6       3.0\n",
       "7       3.0\n",
       "8       NaN\n",
       "9       3.0\n",
       "10      NaN\n",
       "11      1.0\n",
       "12      3.0\n",
       "13      1.0\n",
       "14      0.0\n",
       "15      0.0\n",
       "16      0.0\n",
       "17      0.0\n",
       "18      0.0\n",
       "19      1.0\n",
       "20      0.0\n",
       "21      1.0\n",
       "22      0.0\n",
       "23      1.0\n",
       "24      1.0\n",
       "25      0.0\n",
       "26      1.0\n",
       "27      1.0\n",
       "28      0.0\n",
       "29      1.0\n",
       "       ... \n",
       "1389    0.0\n",
       "1390    1.0\n",
       "1391    1.0\n",
       "1392    2.0\n",
       "1393    2.0\n",
       "1394    3.0\n",
       "1395    0.0\n",
       "1396    2.0\n",
       "1397    NaN\n",
       "1398    2.0\n",
       "1399    0.0\n",
       "1400    0.0\n",
       "1401    2.0\n",
       "1402    1.0\n",
       "1403    1.0\n",
       "1404    2.0\n",
       "1405    2.0\n",
       "1406    0.0\n",
       "1407    0.0\n",
       "1408    0.0\n",
       "1409    1.0\n",
       "1410    1.0\n",
       "1411    0.0\n",
       "1412    1.0\n",
       "1413    0.0\n",
       "1414    1.0\n",
       "1415    0.0\n",
       "1416    3.0\n",
       "1417    0.0\n",
       "1418    0.0\n",
       "Name: MultiColorClass, dtype: float64"
      ]
     },
     "execution_count": 64,
     "metadata": {},
     "output_type": "execute_result"
    }
   ],
   "source": [
    "# Averaging over rater1 and rater2: \n",
    "crowdstorming_df_player_fixed['meanRating'] = (crowdstorming_df_player_fixed['rater1'] + crowdstorming_df_player_fixed['rater2'])/2\n",
    "# Create Categories for Binary Classification\n",
    "def binaryColor(x):\n",
    "    if x < 0.5: \n",
    "        return 0\n",
    "    else: \n",
    "        return 1\n",
    "crowdstorming_df_player_fixed['BinaryColorClass'] = crowdstorming_df_player_fixed['meanRating'].apply(binaryColor) \n",
    "\n",
    "# Create Categories for Multi Classification\n",
    "def multiColor(x):\n",
    "    if x < 0.25: \n",
    "        return 0\n",
    "    elif 0.25 <= x <0.5: \n",
    "        return 1\n",
    "    elif 0.5 <= x < 0.75:\n",
    "        return 2\n",
    "    elif 0.75 <= x < 1:\n",
    "        return 3\n",
    "crowdstorming_df_player_fixed['MultiColorClass'] = crowdstorming_df_player_fixed['meanRating'].apply(multiColor) \n",
    "crowdstorming_df_player_fixed['MultiColorClass']"
   ]
  },
  {
   "cell_type": "code",
   "execution_count": 65,
   "metadata": {
    "collapsed": false,
    "scrolled": true
   },
   "outputs": [],
   "source": [
    "X = crowdstorming_df_player_fixed [['weight', 'nExp', 'height', 'meanExp', 'yellowReds',\n",
    "       'leagueCountry', 'club', 'seIAT', 'seExp', 'yellowCards',\n",
    "       'nIAT', 'birthday', 'goals', 'ties', 'defeats', 'meanIAT',\n",
    "       'victories', 'games', 'position', 'redCards']]\n",
    "y_binary = crowdstorming_df_player_fixed ['BinaryColorClass']\n",
    "y_multi = crowdstorming_df_player_fixed ['MultiColorClass']\n",
    "train_dataset = X [1:1000]\n",
    "test_dataset = X[1001:1419]\n",
    "\n",
    "train_labels_binary = y_binary [1:1000]\n",
    "test_targets_binary = y_binary [1001:1419]\n",
    "\n",
    "train_labels_multi = y_multi [1:1000]\n",
    "test_targets_multi = y_multi [1001:1419]"
   ]
  },
  {
   "cell_type": "code",
   "execution_count": 104,
   "metadata": {
    "collapsed": false
   },
   "outputs": [],
   "source": [
    "from sklearn.model_selection import train_test_split\n",
    "X_train, X_test, y_train_binary, y_test_binary = train_test_split(X,y_binary, test_size=0.33)"
   ]
  },
  {
   "cell_type": "code",
   "execution_count": 138,
   "metadata": {
    "collapsed": true
   },
   "outputs": [],
   "source": [
    "X_train, X_test, y_train_binary, y_test_binary = X_train.reset_index(drop=True), X_test.reset_index(drop=True), y_train_binary.reset_index(drop=True), y_test_binary.reset_index(drop=True)"
   ]
  },
  {
   "cell_type": "code",
   "execution_count": 139,
   "metadata": {
    "collapsed": false
   },
   "outputs": [
    {
     "data": {
      "text/plain": [
       "0    0.816054\n",
       "1    0.183946\n",
       "Name: BinaryColorClass, dtype: float64"
      ]
     },
     "execution_count": 139,
     "metadata": {},
     "output_type": "execute_result"
    }
   ],
   "source": [
    "weight_class = y_train_binary.value_counts()/len(y_train_binary)\n",
    "weight_class"
   ]
  },
  {
   "cell_type": "code",
   "execution_count": 140,
   "metadata": {
    "collapsed": true
   },
   "outputs": [],
   "source": [
    "sample_weights = []\n",
    "for i in y_train_binary:\n",
    "    sample_weights += [weight_class[i]]"
   ]
  },
  {
   "cell_type": "markdown",
   "metadata": {},
   "source": [
    "## Binary Classification"
   ]
  },
  {
   "cell_type": "code",
   "execution_count": 141,
   "metadata": {
    "collapsed": false
   },
   "outputs": [],
   "source": [
    "# Fit a random forest to the training data for binary classification, using 100 trees\n",
    "from sklearn.ensemble import RandomForestClassifier\n",
    "forest = RandomForestClassifier( n_estimators = 10, random_state=1 , class_weight='balanced')\n",
    "\n",
    "forest_binary = forest.fit(X_train, y_train_binary, sample_weight= sample_weights)"
   ]
  },
  {
   "cell_type": "markdown",
   "metadata": {},
   "source": [
    "### Model Evaluation"
   ]
  },
  {
   "cell_type": "code",
   "execution_count": 142,
   "metadata": {
    "collapsed": false
   },
   "outputs": [
    {
     "name": "stdout",
     "output_type": "stream",
     "text": [
      "0.978818283166\n"
     ]
    }
   ],
   "source": [
    "from sklearn import metrics\n",
    "result_binary_train = forest_binary.predict(X_train)\n",
    "print(metrics.accuracy_score(y_train_binary, result_binary_train))"
   ]
  },
  {
   "cell_type": "code",
   "execution_count": 143,
   "metadata": {
    "collapsed": false
   },
   "outputs": [
    {
     "name": "stdout",
     "output_type": "stream",
     "text": [
      "0.805429864253\n"
     ]
    }
   ],
   "source": [
    "from sklearn import metrics\n",
    "# Test & extract results \n",
    "result_binary_test = forest_binary.predict(X_test)\n",
    "print(metrics.accuracy_score(y_test_binary, result_binary_test))"
   ]
  },
  {
   "cell_type": "code",
   "execution_count": 146,
   "metadata": {
    "collapsed": false
   },
   "outputs": [],
   "source": [
    "def balanced_error_rate (y_train,y_pred):\n",
    "    N = len(y_train) \n",
    "    pos_train = 0\n",
    "    neg_train = 0\n",
    "    for i in range(1,N):\n",
    "        if y_train[i] == 0: \n",
    "            neg_train = neg_train + 1\n",
    "    \n",
    "    pos_train = N - neg_train\n",
    "    pos_pred = 0\n",
    "    neg_pred = 0\n",
    "    for j in range(1,N):\n",
    "        if y_pred[i]==1:\n",
    "            neg_pred = neg_pred + 1\n",
    "        else:\n",
    "            pos_pred = pos_pred + 1\n",
    "    error = (1/2) * ((pos_train/pos_pred) + (neg_train/neg_pred))"
   ]
  },
  {
   "cell_type": "code",
   "execution_count": 147,
   "metadata": {
    "collapsed": false
   },
   "outputs": [
    {
     "ename": "ZeroDivisionError",
     "evalue": "integer division or modulo by zero",
     "output_type": "error",
     "traceback": [
      "\u001b[1;31m---------------------------------------------------------------------------\u001b[0m",
      "\u001b[1;31mZeroDivisionError\u001b[0m                         Traceback (most recent call last)",
      "\u001b[1;32m<ipython-input-147-5e7808848ca7>\u001b[0m in \u001b[0;36m<module>\u001b[1;34m()\u001b[0m\n\u001b[1;32m----> 1\u001b[1;33m \u001b[0mbalanced_error_rate\u001b[0m\u001b[1;33m(\u001b[0m\u001b[0my_test_binary\u001b[0m\u001b[1;33m,\u001b[0m \u001b[0mresult_binary_test\u001b[0m\u001b[1;33m)\u001b[0m\u001b[1;33m\u001b[0m\u001b[0m\n\u001b[0m",
      "\u001b[1;32m<ipython-input-146-220d632dc2f9>\u001b[0m in \u001b[0;36mbalanced_error_rate\u001b[1;34m(y_train, y_pred)\u001b[0m\n\u001b[0;32m     15\u001b[0m         \u001b[1;32melse\u001b[0m\u001b[1;33m:\u001b[0m\u001b[1;33m\u001b[0m\u001b[0m\n\u001b[0;32m     16\u001b[0m             \u001b[0mpos_pred\u001b[0m \u001b[1;33m=\u001b[0m \u001b[0mpos_pred\u001b[0m \u001b[1;33m+\u001b[0m \u001b[1;36m1\u001b[0m\u001b[1;33m\u001b[0m\u001b[0m\n\u001b[1;32m---> 17\u001b[1;33m     \u001b[0merror\u001b[0m \u001b[1;33m=\u001b[0m \u001b[1;33m(\u001b[0m\u001b[1;36m1\u001b[0m\u001b[1;33m/\u001b[0m\u001b[1;36m2\u001b[0m\u001b[1;33m)\u001b[0m \u001b[1;33m*\u001b[0m \u001b[1;33m(\u001b[0m\u001b[1;33m(\u001b[0m\u001b[0mpos_train\u001b[0m\u001b[1;33m/\u001b[0m\u001b[0mpos_pred\u001b[0m\u001b[1;33m)\u001b[0m \u001b[1;33m+\u001b[0m \u001b[1;33m(\u001b[0m\u001b[0mneg_train\u001b[0m\u001b[1;33m/\u001b[0m\u001b[0mneg_pred\u001b[0m\u001b[1;33m)\u001b[0m\u001b[1;33m)\u001b[0m\u001b[1;33m\u001b[0m\u001b[0m\n\u001b[0m",
      "\u001b[1;31mZeroDivisionError\u001b[0m: integer division or modulo by zero"
     ]
    }
   ],
   "source": [
    "balanced_error_rate(y_test_binary, result_binary_test)"
   ]
  },
  {
   "cell_type": "markdown",
   "metadata": {},
   "source": [
    "### K-Fold Cross Validation"
   ]
  },
  {
   "cell_type": "code",
   "execution_count": 54,
   "metadata": {
    "collapsed": false
   },
   "outputs": [
    {
     "data": {
      "text/plain": [
       "0.80882616990236789"
      ]
     },
     "execution_count": 54,
     "metadata": {},
     "output_type": "execute_result"
    }
   ],
   "source": [
    "from sklearn.cross_validation import cross_val_score\n",
    "scores_binary = cross_val_score(forest_binary,  X, y_binary, cv=10, scoring='accuracy')\n",
    "scores_binary.mean()"
   ]
  },
  {
   "cell_type": "markdown",
   "metadata": {},
   "source": [
    "### Feature Importance"
   ]
  },
  {
   "cell_type": "code",
   "execution_count": 47,
   "metadata": {
    "collapsed": false
   },
   "outputs": [
    {
     "name": "stdout",
     "output_type": "stream",
     "text": [
      "Feature ranking:\n",
      "1. feature 3 (0.096218)\n",
      "2. feature 15 (0.076218)\n",
      "3. feature 8 (0.066209)\n",
      "4. feature 11 (0.059308)\n",
      "5. feature 16 (0.058348)\n",
      "6. feature 18 (0.056445)\n",
      "7. feature 7 (0.055560)\n",
      "8. feature 12 (0.054247)\n",
      "9. feature 1 (0.051928)\n",
      "10. feature 13 (0.050811)\n",
      "11. feature 0 (0.050557)\n",
      "12. feature 6 (0.045122)\n",
      "13. feature 9 (0.044933)\n",
      "14. feature 17 (0.042158)\n",
      "15. feature 10 (0.041162)\n",
      "16. feature 2 (0.038103)\n",
      "17. feature 5 (0.037194)\n",
      "18. feature 14 (0.036272)\n",
      "19. feature 19 (0.021246)\n",
      "20. feature 4 (0.017960)\n"
     ]
    },
    {
     "data": {
      "image/png": "[encoded data removed]",
      "text/plain": [
       "<matplotlib.figure.Figure at 0x7f0f26d29c10>"
      ]
     },
     "metadata": {},
     "output_type": "display_data"
    }
   ],
   "source": [
    "import numpy as np\n",
    "%matplotlib inline\n",
    "import matplotlib.pyplot as plt\n",
    "\n",
    "importances_binary = forest_binary.feature_importances_\n",
    "std = np.std([tree.feature_importances_ for tree in forest.estimators_],\n",
    "             axis=0)\n",
    "indices = np.argsort(importances_binary)[::-1]\n",
    "\n",
    "# Print the feature ranking\n",
    "print(\"Feature ranking:\")\n",
    "\n",
    "for f in range(X.shape[1]):\n",
    "    print(\"%d. feature %d (%f)\" % (f + 1, indices[f], importances_binary[indices[f]]))\n",
    "\n",
    "# Plot the feature importances of the forest\n",
    "plt.figure()\n",
    "plt.title(\"Feature importances for Binary Classification\")\n",
    "plt.bar(range(X.shape[1]), importances_binary[indices],\n",
    "       color=\"r\", yerr=std[indices], align=\"center\")\n",
    "plt.xticks(range(X.shape[1]), indices)\n",
    "plt.xlim([-1, X.shape[1]])\n",
    "plt.show()"
   ]
  },
  {
   "cell_type": "code",
   "execution_count": 48,
   "metadata": {
    "collapsed": false
   },
   "outputs": [
    {
     "name": "stderr",
     "output_type": "stream",
     "text": [
      "/home/meryem/miniconda2/lib/python2.7/site-packages/ipykernel/__main__.py:2: FutureWarning: sort is deprecated, use sort_values(inplace=True) for INPLACE sorting\n",
      "  from ipykernel import kernelapp as app\n"
     ]
    },
    {
     "data": {
      "text/plain": [
       "<matplotlib.axes._subplots.AxesSubplot at 0x7f0f22eb0f50>"
      ]
     },
     "execution_count": 48,
     "metadata": {},
     "output_type": "execute_result"
    },
    {
     "data": {
      "image/png": "[encoded data removed]",
      "text/plain": [
       "<matplotlib.figure.Figure at 0x7f0f26bcbcd0>"
      ]
     },
     "metadata": {},
     "output_type": "display_data"
    }
   ],
   "source": [
    "feature_importance= pd.Series(forest_binary.feature_importances_,index=X.columns)\n",
    "feature_importance.sort()\n",
    "feature_importance.plot(kind='barh')"
   ]
  },
  {
   "cell_type": "markdown",
   "metadata": {},
   "source": [
    "# Multi-Class Classification"
   ]
  },
  {
   "cell_type": "code",
   "execution_count": 49,
   "metadata": {
    "collapsed": false
   },
   "outputs": [],
   "source": [
    "# Fit a random forest to the training data for multi-class classification, using 100 trees\n",
    "from sklearn.ensemble import RandomForestClassifier\n",
    "forest = RandomForestClassifier( n_estimators = 100 )\n",
    "\n",
    "forest_multi = forest.fit(train_dataset, train_labels_multi)\n",
    "\n",
    "# Test & extract results \n",
    "result_multi = forest_multi.predict(test_dataset)"
   ]
  },
  {
   "cell_type": "markdown",
   "metadata": {},
   "source": [
    "### Model Evaluation"
   ]
  },
  {
   "cell_type": "code",
   "execution_count": 55,
   "metadata": {
    "collapsed": false
   },
   "outputs": [
    {
     "name": "stdout",
     "output_type": "stream",
     "text": [
      "0.505917159763\n"
     ]
    }
   ],
   "source": [
    "from sklearn import metrics\n",
    "print(metrics.accuracy_score(test_targets_multi, result_multi))"
   ]
  },
  {
   "cell_type": "markdown",
   "metadata": {},
   "source": [
    "### K-Fold Cross Validation"
   ]
  },
  {
   "cell_type": "code",
   "execution_count": 56,
   "metadata": {
    "collapsed": false
   },
   "outputs": [
    {
     "data": {
      "text/plain": [
       "0.50818396569193669"
      ]
     },
     "execution_count": 56,
     "metadata": {},
     "output_type": "execute_result"
    }
   ],
   "source": [
    "from sklearn.cross_validation import cross_val_score\n",
    "scores_binary = cross_val_score(forest_multi,  X, y_multi, cv=10, scoring='accuracy')\n",
    "scores_binary.mean()"
   ]
  },
  {
   "cell_type": "markdown",
   "metadata": {},
   "source": [
    "### Feature Importance"
   ]
  },
  {
   "cell_type": "code",
   "execution_count": 57,
   "metadata": {
    "collapsed": false
   },
   "outputs": [
    {
     "name": "stdout",
     "output_type": "stream",
     "text": [
      "Feature ranking:\n",
      "1. feature 15 (0.068506)\n",
      "2. feature 3 (0.067041)\n",
      "3. feature 7 (0.061119)\n",
      "4. feature 11 (0.059313)\n",
      "5. feature 6 (0.059183)\n",
      "6. feature 8 (0.058296)\n",
      "7. feature 10 (0.056445)\n",
      "8. feature 1 (0.055632)\n",
      "9. feature 9 (0.055451)\n",
      "10. feature 14 (0.055232)\n",
      "11. feature 2 (0.053917)\n",
      "12. feature 13 (0.052213)\n",
      "13. feature 17 (0.049600)\n",
      "14. feature 0 (0.049022)\n",
      "15. feature 12 (0.048809)\n",
      "16. feature 16 (0.046312)\n",
      "17. feature 18 (0.036660)\n",
      "18. feature 19 (0.025479)\n",
      "19. feature 5 (0.021994)\n",
      "20. feature 4 (0.019776)\n"
     ]
    },
    {
     "data": {
      "image/png": "[encoded data removed]",
      "text/plain": [
       "<matplotlib.figure.Figure at 0x7f0f23215950>"
      ]
     },
     "metadata": {},
     "output_type": "display_data"
    }
   ],
   "source": [
    "%matplotlib inline\n",
    "import matplotlib.pyplot as plt\n",
    "\n",
    "importances_multi = forest_multi.feature_importances_\n",
    "std = np.std([tree.feature_importances_ for tree in forest.estimators_],\n",
    "             axis=0)\n",
    "indices = np.argsort(importances_multi)[::-1]\n",
    "\n",
    "# Print the feature ranking\n",
    "print(\"Feature ranking:\")\n",
    "\n",
    "for f in range(X.shape[1]):\n",
    "    print(\"%d. feature %d (%f)\" % (f + 1, indices[f], importances_multi[indices[f]]))\n",
    "\n",
    "# Plot the feature importances of the forest\n",
    "plt.figure()\n",
    "plt.title(\"Feature importances for Multi Class Classification\")\n",
    "plt.bar(range(X.shape[1]), importances_multi[indices],\n",
    "       color=\"r\", yerr=std[indices], align=\"center\")\n",
    "plt.xticks(range(X.shape[1]), indices)\n",
    "plt.xlim([-1, X.shape[1]])\n",
    "plt.show()\n"
   ]
  },
  {
   "cell_type": "code",
   "execution_count": null,
   "metadata": {
    "collapsed": true
   },
   "outputs": [],
   "source": []
  },
  {
   "cell_type": "markdown",
   "metadata": {},
   "source": [
    "### Learning Curves"
   ]
  },
  {
   "cell_type": "code",
   "execution_count": null,
   "metadata": {
    "collapsed": false,
    "scrolled": true
   },
   "outputs": [],
   "source": [
    "import numpy as np\n",
    "import matplotlib.pyplot as plt\n",
    "from sklearn.naive_bayes import GaussianNB\n",
    "from sklearn.svm import SVC\n",
    "from sklearn.datasets import load_digits\n",
    "from sklearn.model_selection import learning_curve\n",
    "from sklearn.model_selection import ShuffleSplit\n",
    "\n",
    "\n",
    "def plot_learning_curve(estimator, title, X, y, ylim=None, cv=None,\n",
    "                        n_jobs=1, train_sizes=np.linspace(.1, 1.0, 5)):\n",
    "    \"\"\"\n",
    "    Generate a simple plot of the test and training learning curve.\n",
    "\n",
    "    Parameters\n",
    "    ----------\n",
    "    estimator : object type that implements the \"fit\" and \"predict\" methods\n",
    "        An object of that type which is cloned for each validation.\n",
    "\n",
    "    title : string\n",
    "        Title for the chart.\n",
    "\n",
    "    X : array-like, shape (n_samples, n_features)\n",
    "        Training vector, where n_samples is the number of samples and\n",
    "        n_features is the number of features.\n",
    "\n",
    "    y : array-like, shape (n_samples) or (n_samples, n_features), optional\n",
    "        Target relative to X for classification or regression;\n",
    "        None for unsupervised learning.\n",
    "\n",
    "    ylim : tuple, shape (ymin, ymax), optional\n",
    "        Defines minimum and maximum yvalues plotted.\n",
    "\n",
    "    cv : int, cross-validation generator or an iterable, optional\n",
    "        Determines the cross-validation splitting strategy.\n",
    "        Possible inputs for cv are:\n",
    "          - None, to use the default 3-fold cross-validation,\n",
    "          - integer, to specify the number of folds.\n",
    "          - An object to be used as a cross-validation generator.\n",
    "          - An iterable yielding train/test splits.\n",
    "\n",
    "        For integer/None inputs, if ``y`` is binary or multiclass,\n",
    "        :class:`StratifiedKFold` used. If the estimator is not a classifier\n",
    "        or if ``y`` is neither binary nor multiclass, :class:`KFold` is used.\n",
    "\n",
    "        Refer :ref:`User Guide <cross_validation>` for the various\n",
    "        cross-validators that can be used here.\n",
    "\n",
    "    n_jobs : integer, optional\n",
    "        Number of jobs to run in parallel (default 1).\n",
    "    \"\"\"\n",
    "    plt.figure()\n",
    "    plt.title(title)\n",
    "    if ylim is not None:\n",
    "        plt.ylim(*ylim)\n",
    "    plt.xlabel(\"Training examples\")\n",
    "    plt.ylabel(\"Score\")\n",
    "    train_sizes, train_scores, test_scores = learning_curve(\n",
    "        estimator, X, y, cv=cv, n_jobs=n_jobs, train_sizes=train_sizes)\n",
    "    train_scores_mean = np.mean(train_scores, axis=1)\n",
    "    train_scores_std = np.std(train_scores, axis=1)\n",
    "    test_scores_mean = np.mean(test_scores, axis=1)\n",
    "    test_scores_std = np.std(test_scores, axis=1)\n",
    "    plt.grid()\n",
    "\n",
    "    plt.fill_between(train_sizes, train_scores_mean - train_scores_std,\n",
    "                     train_scores_mean + train_scores_std, alpha=0.1,\n",
    "                     color=\"r\")\n",
    "    plt.fill_between(train_sizes, test_scores_mean - test_scores_std,\n",
    "                     test_scores_mean + test_scores_std, alpha=0.1, color=\"g\")\n",
    "    plt.plot(train_sizes, train_scores_mean, 'o-', color=\"r\",\n",
    "             label=\"Training score\")\n",
    "    plt.plot(train_sizes, test_scores_mean, 'o-', color=\"g\",\n",
    "             label=\"Cross-validation score\")\n",
    "\n",
    "    plt.legend(loc=\"best\")\n",
    "    return plt\n",
    "\n",
    "\n",
    "digits = load_digits()\n",
    "X, y = digits.data, digits.target\n",
    "\n",
    "\n",
    "title = \"Learning Curves (Naive Bayes)\"\n",
    "# Cross validation with 100 iterations to get smoother mean test and train\n",
    "# score curves, each time with 20% data randomly selected as a validation set.\n",
    "cv = ShuffleSplit(n_splits=100, test_size=0.2, random_state=0)\n",
    "\n",
    "estimator = GaussianNB()\n",
    "plot_learning_curve(estimator, title, X, y, ylim=(0.7, 1.01), cv=cv, n_jobs=4)\n",
    "\n",
    "title = \"Learning Curves (SVM, RBF kernel, $\\gamma=0.001$)\"\n",
    "# SVC is more expensive so we do a lower number of CV iterations:\n",
    "cv = ShuffleSplit(n_splits=10, test_size=0.2, random_state=0)\n",
    "estimator = SVC(gamma=0.001)\n",
    "plot_learning_curve(estimator, title, X, y, (0.7, 1.01), cv=cv, n_jobs=4)\n",
    "\n",
    "plt.show()"
   ]
  },
  {
   "cell_type": "code",
   "execution_count": null,
   "metadata": {
    "collapsed": false
   },
   "outputs": [],
   "source": [
    "X_1 = crowdstorming_df_player_fixed [['weight', 'nExp', 'height', 'meanExp', 'yellowReds',\n",
    "       'leagueCountry', 'club', 'seIAT', 'seExp', 'yellowCards',\n",
    "       'nIAT']]\n",
    "X_2 =  crowdstorming_df_player_fixed [[ 'birthday', 'goals', 'ties', 'defeats', 'meanIAT',\n",
    "       'victories', 'games', 'position', 'redCards', 'playerShort',\n",
    "       'meanRating']]\n",
    "#from sklearn.model_selection import learning_curve\n",
    "title = \"Learning Curves Random Forest Multi-Class\"\n",
    "cv = ShuffleSplit(n_splits=20, test_size=0.2, random_state=0)\n",
    "plot_learning_curve(forest_multi,title, train_dataset,train_labels_multi, (0.7, 1.01), cv=20, n_jobs=4)"
   ]
  },
  {
   "cell_type": "markdown",
   "metadata": {
    "collapsed": true
   },
   "source": [
    "# Exercise 2 "
   ]
  },
  {
   "cell_type": "code",
   "execution_count": 31,
   "metadata": {
    "collapsed": false
   },
   "outputs": [
    {
     "data": {
      "text/html": [
       "<div>\n",
       "<table border=\"1\" class=\"dataframe\">\n",
       "  <thead>\n",
       "    <tr style=\"text-align: right;\">\n",
       "      <th></th>\n",
       "      <th>refNum</th>\n",
       "      <th>refCountry</th>\n",
       "      <th>nIAT</th>\n",
       "      <th>seIAT</th>\n",
       "      <th>meanExp</th>\n",
       "      <th>nExp</th>\n",
       "      <th>seExp</th>\n",
       "    </tr>\n",
       "    <tr>\n",
       "      <th>playerShort</th>\n",
       "      <th></th>\n",
       "      <th></th>\n",
       "      <th></th>\n",
       "      <th></th>\n",
       "      <th></th>\n",
       "      <th></th>\n",
       "      <th></th>\n",
       "    </tr>\n",
       "  </thead>\n",
       "  <tbody>\n",
       "    <tr>\n",
       "      <th>0</th>\n",
       "      <td>1701.0</td>\n",
       "      <td>44.0</td>\n",
       "      <td>19710.156627</td>\n",
       "      <td>0.000652</td>\n",
       "      <td>0.494575</td>\n",
       "      <td>20637.277108</td>\n",
       "      <td>0.004065</td>\n",
       "    </tr>\n",
       "    <tr>\n",
       "      <th>1</th>\n",
       "      <td>1784.0</td>\n",
       "      <td>8.0</td>\n",
       "      <td>26104.292929</td>\n",
       "      <td>0.000219</td>\n",
       "      <td>0.449220</td>\n",
       "      <td>26864.454545</td>\n",
       "      <td>0.000993</td>\n",
       "    </tr>\n",
       "    <tr>\n",
       "      <th>2</th>\n",
       "      <td>1730.0</td>\n",
       "      <td>44.0</td>\n",
       "      <td>21234.861386</td>\n",
       "      <td>0.000367</td>\n",
       "      <td>0.491482</td>\n",
       "      <td>22238.742574</td>\n",
       "      <td>0.002032</td>\n",
       "    </tr>\n",
       "    <tr>\n",
       "      <th>3</th>\n",
       "      <td>1804.0</td>\n",
       "      <td>44.0</td>\n",
       "      <td>38285.826923</td>\n",
       "      <td>0.003334</td>\n",
       "      <td>0.514693</td>\n",
       "      <td>39719.980769</td>\n",
       "      <td>0.013522</td>\n",
       "    </tr>\n",
       "    <tr>\n",
       "      <th>4</th>\n",
       "      <td>1756.0</td>\n",
       "      <td>7.0</td>\n",
       "      <td>2832.351351</td>\n",
       "      <td>0.001488</td>\n",
       "      <td>0.335587</td>\n",
       "      <td>2953.837838</td>\n",
       "      <td>0.005296</td>\n",
       "    </tr>\n",
       "  </tbody>\n",
       "</table>\n",
       "</div>"
      ],
      "text/plain": [
       "             refNum  refCountry          nIAT     seIAT   meanExp  \\\n",
       "playerShort                                                         \n",
       "0            1701.0        44.0  19710.156627  0.000652  0.494575   \n",
       "1            1784.0         8.0  26104.292929  0.000219  0.449220   \n",
       "2            1730.0        44.0  21234.861386  0.000367  0.491482   \n",
       "3            1804.0        44.0  38285.826923  0.003334  0.514693   \n",
       "4            1756.0         7.0   2832.351351  0.001488  0.335587   \n",
       "\n",
       "                     nExp     seExp  \n",
       "playerShort                          \n",
       "0            20637.277108  0.004065  \n",
       "1            26864.454545  0.000993  \n",
       "2            22238.742574  0.002032  \n",
       "3            39719.980769  0.013522  \n",
       "4             2953.837838  0.005296  "
      ]
     },
     "execution_count": 31,
     "metadata": {},
     "output_type": "execute_result"
    }
   ],
   "source": [
    "crowdstorming_df_player_referee.head()"
   ]
  },
  {
   "cell_type": "code",
   "execution_count": 40,
   "metadata": {
    "collapsed": true
   },
   "outputs": [],
   "source": [
    "from sklearn.cluster import KMeans\n",
    "import numpy as np\n",
    "X = crowdstorming_df_player_referee\n",
    "kmeans = KMeans(n_clusters=2, random_state=0).fit(X)\n",
    "labels = kmeans.labels_"
   ]
  },
  {
   "cell_type": "code",
   "execution_count": 41,
   "metadata": {
    "collapsed": false
   },
   "outputs": [
    {
     "data": {
      "text/plain": [
       "1419"
      ]
     },
     "execution_count": 41,
     "metadata": {},
     "output_type": "execute_result"
    }
   ],
   "source": [
    "len(labels)"
   ]
  },
  {
   "cell_type": "code",
   "execution_count": 42,
   "metadata": {
    "collapsed": false
   },
   "outputs": [
    {
     "data": {
      "text/plain": [
       "0.89580445395834851"
      ]
     },
     "execution_count": 42,
     "metadata": {},
     "output_type": "execute_result"
    }
   ],
   "source": [
    "from sklearn.metrics import silhouette_score\n",
    "silhouette_score(X, labels)"
   ]
  },
  {
   "cell_type": "markdown",
   "metadata": {},
   "source": [
    "### Remove features iteratively, and at each step perform again the clustering and compute the silhouette score"
   ]
  },
  {
   "cell_type": "code",
   "execution_count": 49,
   "metadata": {
    "collapsed": false
   },
   "outputs": [
    {
     "name": "stdout",
     "output_type": "stream",
     "text": [
      "array(['refNum', 'refCountry', 'nIAT', 'seIAT', 'meanExp', 'nExp', 'seExp'], dtype=object)\n",
      "array([], dtype=object)\n"
     ]
    }
   ],
   "source": [
    "features = X.columns.values\n",
    "len(features)\n",
    "pp(features)\n",
    "pp(features[0:0])"
   ]
  },
  {
   "cell_type": "code",
   "execution_count": null,
   "metadata": {
    "collapsed": true
   },
   "outputs": [],
   "source": [
    "import itertools\n",
    "def findsubsets(S,m):\n",
    "    return set(itertools.combinations(S, m))"
   ]
  },
  {
   "cell_type": "code",
   "execution_count": 53,
   "metadata": {
    "collapsed": true
   },
   "outputs": [],
   "source": [
    "from itertools import chain, combinations\n",
    "\n",
    "def powerset(iterable):\n",
    "    \"powerset([1,2,3]) --> () (1,) (2,) (3,) (1,2) (1,3) (2,3) (1,2,3)\"\n",
    "    s = list(iterable)\n",
    "    return chain.from_iterable(combinations(s, r) for r in range(len(s)+1))\n",
    "\n",
    "def subsets(s):\n",
    "    return map(set, powerset(s))"
   ]
  },
  {
   "cell_type": "code",
   "execution_count": 59,
   "metadata": {
    "collapsed": false,
    "scrolled": true
   },
   "outputs": [
    {
     "name": "stdout",
     "output_type": "stream",
     "text": [
      "true\n"
     ]
    },
    {
     "data": {
      "text/plain": [
       "[set(),\n",
       " {'nIAT'},\n",
       " {'refCountry'},\n",
       " {'nExp'},\n",
       " {'refNum'},\n",
       " {'seIAT'},\n",
       " {'seExp'},\n",
       " {'meanExp'},\n",
       " {'nIAT', 'refCountry'},\n",
       " {'nExp', 'nIAT'},\n",
       " {'nIAT', 'refNum'},\n",
       " {'nIAT', 'seIAT'},\n",
       " {'nIAT', 'seExp'},\n",
       " {'meanExp', 'nIAT'},\n",
       " {'nExp', 'refCountry'},\n",
       " {'refCountry', 'refNum'},\n",
       " {'refCountry', 'seIAT'},\n",
       " {'refCountry', 'seExp'},\n",
       " {'meanExp', 'refCountry'},\n",
       " {'nExp', 'refNum'},\n",
       " {'nExp', 'seIAT'},\n",
       " {'nExp', 'seExp'},\n",
       " {'meanExp', 'nExp'},\n",
       " {'refNum', 'seIAT'},\n",
       " {'refNum', 'seExp'},\n",
       " {'meanExp', 'refNum'},\n",
       " {'seExp', 'seIAT'},\n",
       " {'meanExp', 'seIAT'},\n",
       " {'meanExp', 'seExp'},\n",
       " {'nExp', 'nIAT', 'refCountry'},\n",
       " {'nIAT', 'refCountry', 'refNum'},\n",
       " {'nIAT', 'refCountry', 'seIAT'},\n",
       " {'nIAT', 'refCountry', 'seExp'},\n",
       " {'meanExp', 'nIAT', 'refCountry'},\n",
       " {'nExp', 'nIAT', 'refNum'},\n",
       " {'nExp', 'nIAT', 'seIAT'},\n",
       " {'nExp', 'nIAT', 'seExp'},\n",
       " {'meanExp', 'nExp', 'nIAT'},\n",
       " {'nIAT', 'refNum', 'seIAT'},\n",
       " {'nIAT', 'refNum', 'seExp'},\n",
       " {'meanExp', 'nIAT', 'refNum'},\n",
       " {'nIAT', 'seExp', 'seIAT'},\n",
       " {'meanExp', 'nIAT', 'seIAT'},\n",
       " {'meanExp', 'nIAT', 'seExp'},\n",
       " {'nExp', 'refCountry', 'refNum'},\n",
       " {'nExp', 'refCountry', 'seIAT'},\n",
       " {'nExp', 'refCountry', 'seExp'},\n",
       " {'meanExp', 'nExp', 'refCountry'},\n",
       " {'refCountry', 'refNum', 'seIAT'},\n",
       " {'refCountry', 'refNum', 'seExp'},\n",
       " {'meanExp', 'refCountry', 'refNum'},\n",
       " {'refCountry', 'seExp', 'seIAT'},\n",
       " {'meanExp', 'refCountry', 'seIAT'},\n",
       " {'meanExp', 'refCountry', 'seExp'},\n",
       " {'nExp', 'refNum', 'seIAT'},\n",
       " {'nExp', 'refNum', 'seExp'},\n",
       " {'meanExp', 'nExp', 'refNum'},\n",
       " {'nExp', 'seExp', 'seIAT'},\n",
       " {'meanExp', 'nExp', 'seIAT'},\n",
       " {'meanExp', 'nExp', 'seExp'},\n",
       " {'refNum', 'seExp', 'seIAT'},\n",
       " {'meanExp', 'refNum', 'seIAT'},\n",
       " {'meanExp', 'refNum', 'seExp'},\n",
       " {'meanExp', 'seExp', 'seIAT'},\n",
       " {'nExp', 'nIAT', 'refCountry', 'refNum'},\n",
       " {'nExp', 'nIAT', 'refCountry', 'seIAT'},\n",
       " {'nExp', 'nIAT', 'refCountry', 'seExp'},\n",
       " {'meanExp', 'nExp', 'nIAT', 'refCountry'},\n",
       " {'nIAT', 'refCountry', 'refNum', 'seIAT'},\n",
       " {'nIAT', 'refCountry', 'refNum', 'seExp'},\n",
       " {'meanExp', 'nIAT', 'refCountry', 'refNum'},\n",
       " {'nIAT', 'refCountry', 'seExp', 'seIAT'},\n",
       " {'meanExp', 'nIAT', 'refCountry', 'seIAT'},\n",
       " {'meanExp', 'nIAT', 'refCountry', 'seExp'},\n",
       " {'nExp', 'nIAT', 'refNum', 'seIAT'},\n",
       " {'nExp', 'nIAT', 'refNum', 'seExp'},\n",
       " {'meanExp', 'nExp', 'nIAT', 'refNum'},\n",
       " {'nExp', 'nIAT', 'seExp', 'seIAT'},\n",
       " {'meanExp', 'nExp', 'nIAT', 'seIAT'},\n",
       " {'meanExp', 'nExp', 'nIAT', 'seExp'},\n",
       " {'nIAT', 'refNum', 'seExp', 'seIAT'},\n",
       " {'meanExp', 'nIAT', 'refNum', 'seIAT'},\n",
       " {'meanExp', 'nIAT', 'refNum', 'seExp'},\n",
       " {'meanExp', 'nIAT', 'seExp', 'seIAT'},\n",
       " {'nExp', 'refCountry', 'refNum', 'seIAT'},\n",
       " {'nExp', 'refCountry', 'refNum', 'seExp'},\n",
       " {'meanExp', 'nExp', 'refCountry', 'refNum'},\n",
       " {'nExp', 'refCountry', 'seExp', 'seIAT'},\n",
       " {'meanExp', 'nExp', 'refCountry', 'seIAT'},\n",
       " {'meanExp', 'nExp', 'refCountry', 'seExp'},\n",
       " {'refCountry', 'refNum', 'seExp', 'seIAT'},\n",
       " {'meanExp', 'refCountry', 'refNum', 'seIAT'},\n",
       " {'meanExp', 'refCountry', 'refNum', 'seExp'},\n",
       " {'meanExp', 'refCountry', 'seExp', 'seIAT'},\n",
       " {'nExp', 'refNum', 'seExp', 'seIAT'},\n",
       " {'meanExp', 'nExp', 'refNum', 'seIAT'},\n",
       " {'meanExp', 'nExp', 'refNum', 'seExp'},\n",
       " {'meanExp', 'nExp', 'seExp', 'seIAT'},\n",
       " {'meanExp', 'refNum', 'seExp', 'seIAT'},\n",
       " {'nExp', 'nIAT', 'refCountry', 'refNum', 'seIAT'},\n",
       " {'nExp', 'nIAT', 'refCountry', 'refNum', 'seExp'},\n",
       " {'meanExp', 'nExp', 'nIAT', 'refCountry', 'refNum'},\n",
       " {'nExp', 'nIAT', 'refCountry', 'seExp', 'seIAT'},\n",
       " {'meanExp', 'nExp', 'nIAT', 'refCountry', 'seIAT'},\n",
       " {'meanExp', 'nExp', 'nIAT', 'refCountry', 'seExp'},\n",
       " {'nIAT', 'refCountry', 'refNum', 'seExp', 'seIAT'},\n",
       " {'meanExp', 'nIAT', 'refCountry', 'refNum', 'seIAT'},\n",
       " {'meanExp', 'nIAT', 'refCountry', 'refNum', 'seExp'},\n",
       " {'meanExp', 'nIAT', 'refCountry', 'seExp', 'seIAT'},\n",
       " {'nExp', 'nIAT', 'refNum', 'seExp', 'seIAT'},\n",
       " {'meanExp', 'nExp', 'nIAT', 'refNum', 'seIAT'},\n",
       " {'meanExp', 'nExp', 'nIAT', 'refNum', 'seExp'},\n",
       " {'meanExp', 'nExp', 'nIAT', 'seExp', 'seIAT'},\n",
       " {'meanExp', 'nIAT', 'refNum', 'seExp', 'seIAT'},\n",
       " {'nExp', 'refCountry', 'refNum', 'seExp', 'seIAT'},\n",
       " {'meanExp', 'nExp', 'refCountry', 'refNum', 'seIAT'},\n",
       " {'meanExp', 'nExp', 'refCountry', 'refNum', 'seExp'},\n",
       " {'meanExp', 'nExp', 'refCountry', 'seExp', 'seIAT'},\n",
       " {'meanExp', 'refCountry', 'refNum', 'seExp', 'seIAT'},\n",
       " {'meanExp', 'nExp', 'refNum', 'seExp', 'seIAT'},\n",
       " {'nExp', 'nIAT', 'refCountry', 'refNum', 'seExp', 'seIAT'},\n",
       " {'meanExp', 'nExp', 'nIAT', 'refCountry', 'refNum', 'seIAT'},\n",
       " {'meanExp', 'nExp', 'nIAT', 'refCountry', 'refNum', 'seExp'},\n",
       " {'meanExp', 'nExp', 'nIAT', 'refCountry', 'seExp', 'seIAT'},\n",
       " {'meanExp', 'nIAT', 'refCountry', 'refNum', 'seExp', 'seIAT'},\n",
       " {'meanExp', 'nExp', 'nIAT', 'refNum', 'seExp', 'seIAT'},\n",
       " {'meanExp', 'nExp', 'refCountry', 'refNum', 'seExp', 'seIAT'},\n",
       " {'meanExp', 'nExp', 'nIAT', 'refCountry', 'refNum', 'seExp', 'seIAT'}]"
      ]
     },
     "execution_count": 59,
     "metadata": {},
     "output_type": "execute_result"
    }
   ],
   "source": [
    "if subsets(set([1,2,3]))[0] == set():\n",
    "    print \"true\"\n",
    "subsets(set(features))"
   ]
  },
  {
   "cell_type": "code",
   "execution_count": 61,
   "metadata": {
    "collapsed": false,
    "scrolled": true
   },
   "outputs": [
    {
     "name": "stdout",
     "output_type": "stream",
     "text": [
      "set(['nIAT'])\n",
      "0.89630902678597224\n",
      "set(['refCountry'])\n",
      "0.82642438273607444\n",
      "set(['nExp'])\n",
      "0.89548388733121542\n",
      "set(['refNum'])\n",
      "0.65457201289180378\n",
      "set(['seIAT'])\n",
      "0.85038853188517927\n",
      "set(['seExp'])\n",
      "0.8387664535672662\n",
      "set(['meanExp'])\n",
      "0.6060325088877806\n",
      "set(['nIAT', 'refCountry'])\n",
      "0.89630825397664304\n",
      "set(['nExp', 'nIAT'])\n",
      "0.89588133177028251\n",
      "set(['nIAT', 'refNum'])\n",
      "0.8961644332012304\n",
      "set(['nIAT', 'seIAT'])\n",
      "0.89630902678596647\n",
      "set(['nIAT', 'seExp'])\n",
      "0.896309026785859\n",
      "set(['meanExp', 'nIAT'])\n",
      "0.8963090267389936\n",
      "set(['nExp', 'refCountry'])\n",
      "0.89548317662201582\n",
      "set(['refCountry', 'refNum'])\n",
      "0.64738910715050224\n",
      "set(['refCountry', 'seIAT'])\n",
      "0.82642015277662817\n",
      "set(['refCountry', 'seExp'])\n",
      "0.82640450427053491\n",
      "set(['meanExp', 'refCountry'])\n",
      "0.8258901302779621\n",
      "set(['nExp', 'refNum'])\n",
      "0.89534614408003166\n",
      "set(['nExp', 'seIAT'])\n",
      "0.89548388733120965\n",
      "set(['nExp', 'seExp'])\n",
      "0.89548388733110029\n",
      "set(['meanExp', 'nExp'])\n",
      "0.89548388728475836\n",
      "set(['refNum', 'seIAT'])\n",
      "0.65457200366112467\n",
      "set(['refNum', 'seExp'])\n",
      "0.65457196901902592\n",
      "set(['meanExp', 'refNum'])\n",
      "0.65457063150102113\n",
      "set(['seExp', 'seIAT'])\n",
      "0.8358687362109064\n",
      "set(['meanExp', 'seIAT'])\n",
      "0.60585485931877725\n",
      "set(['meanExp', 'seExp'])\n",
      "0.60375864942019997\n",
      "set(['nExp', 'nIAT', 'refCountry'])\n",
      "0.89588097469705275\n",
      "set(['nIAT', 'refCountry', 'refNum'])\n",
      "0.89616390517888611\n",
      "set(['nIAT', 'refCountry', 'seIAT'])\n",
      "0.89630825397663849\n",
      "set(['nIAT', 'refCountry', 'seExp'])\n",
      "0.89630825397655878\n",
      "set(['meanExp', 'nIAT', 'refCountry'])\n",
      "0.89630825394354774\n",
      "set(['nExp', 'nIAT', 'refNum'])\n",
      "0.89580472386288723\n",
      "set(['nExp', 'nIAT', 'seIAT'])\n",
      "0.89588133177028073\n",
      "set(['nExp', 'nIAT', 'seExp'])\n",
      "0.89588133177024776\n",
      "set(['meanExp', 'nExp', 'nIAT'])\n",
      "0.89588133175543627\n",
      "set(['nIAT', 'refNum', 'seIAT'])\n",
      "0.89616443320122829\n",
      "set(['nIAT', 'refNum', 'seExp'])\n",
      "0.89616443320118844\n",
      "set(['meanExp', 'nIAT', 'refNum'])\n",
      "0.8961644331823132\n",
      "set(['nIAT', 'seExp', 'seIAT'])\n",
      "0.89630902678585334\n",
      "set(['meanExp', 'nIAT', 'seIAT'])\n",
      "0.89630902673898816\n",
      "set(['meanExp', 'nIAT', 'seExp'])\n",
      "0.89630902673888424\n",
      "set(['nExp', 'refCountry', 'refNum'])\n",
      "0.8953456481045392\n",
      "set(['nExp', 'refCountry', 'seIAT'])\n",
      "0.89548317662201227\n",
      "set(['nExp', 'refCountry', 'seExp'])\n",
      "0.89548317662194432\n",
      "set(['meanExp', 'nExp', 'refCountry'])\n",
      "0.89548317659152366\n",
      "set(['refCountry', 'refNum', 'seIAT'])\n",
      "0.64738910377500547\n",
      "set(['refCountry', 'refNum', 'seExp'])\n",
      "0.64738909076135265\n",
      "set(['meanExp', 'refCountry', 'refNum'])\n",
      "0.6473885479862318\n",
      "set(['refCountry', 'seExp', 'seIAT'])\n",
      "0.82640400038126227\n",
      "set(['meanExp', 'refCountry', 'seIAT'])\n",
      "0.82588998488452592\n",
      "set(['meanExp', 'refCountry', 'seExp'])\n",
      "0.8258880173113422\n",
      "set(['nExp', 'refNum', 'seIAT'])\n",
      "0.89534614408002977\n",
      "set(['nExp', 'refNum', 'seExp'])\n",
      "0.89534614407999336\n",
      "set(['meanExp', 'nExp', 'refNum'])\n",
      "0.89534614406235258\n",
      "set(['nExp', 'seExp', 'seIAT'])\n",
      "0.89548388733109452\n",
      "set(['meanExp', 'nExp', 'seIAT'])\n",
      "0.89548388728475392\n",
      "set(['meanExp', 'nExp', 'seExp'])\n",
      "0.89548388728466932\n",
      "set(['refNum', 'seExp', 'seIAT'])\n",
      "0.654571967845331\n",
      "set(['meanExp', 'refNum', 'seIAT'])\n",
      "0.65457063109632718\n",
      "set(['meanExp', 'refNum', 'seExp'])\n",
      "0.65457062548236467\n",
      "set(['meanExp', 'seExp', 'seIAT'])\n",
      "0.60366506047701396\n",
      "set(['nExp', 'nIAT', 'refCountry', 'refNum'])\n",
      "0.89580445396789454\n",
      "set(['nExp', 'nIAT', 'refCountry', 'seIAT'])\n",
      "0.89588097469705097\n",
      "set(['nExp', 'nIAT', 'refCountry', 'seExp'])\n",
      "0.89588097469701933\n",
      "set(['meanExp', 'nExp', 'nIAT', 'refCountry'])\n",
      "0.89588097468329053\n",
      "set(['nIAT', 'refCountry', 'refNum', 'seIAT'])\n",
      "0.89616390517888422\n",
      "set(['nIAT', 'refCountry', 'refNum', 'seExp'])\n",
      "0.89616390517884548\n",
      "set(['meanExp', 'nIAT', 'refCountry', 'refNum'])\n",
      "0.89616390516041888\n",
      "set(['nIAT', 'refCountry', 'seExp', 'seIAT'])\n",
      "0.89630825397655456\n",
      "set(['meanExp', 'nIAT', 'refCountry', 'seIAT'])\n",
      "0.89630825394354352\n",
      "set(['meanExp', 'nIAT', 'refCountry', 'seExp'])\n",
      "0.89630825394346458\n",
      "set(['nExp', 'nIAT', 'refNum', 'seIAT'])\n",
      "0.89580472386288645\n",
      "set(['nExp', 'nIAT', 'refNum', 'seExp'])\n",
      "0.89580472386286636\n",
      "set(['meanExp', 'nExp', 'nIAT', 'refNum'])\n",
      "0.89580472385331467\n",
      "set(['nExp', 'nIAT', 'seExp', 'seIAT'])\n",
      "0.89588133177024587\n",
      "set(['meanExp', 'nExp', 'nIAT', 'seIAT'])\n",
      "0.89588133175543461\n",
      "set(['meanExp', 'nExp', 'nIAT', 'seExp'])\n",
      "0.89588133175540163\n",
      "set(['nIAT', 'refNum', 'seExp', 'seIAT'])\n",
      "0.89616443320118611\n",
      "set(['meanExp', 'nIAT', 'refNum', 'seIAT'])\n",
      "0.89616443318231109\n",
      "set(['meanExp', 'nIAT', 'refNum', 'seExp'])\n",
      "0.89616443318227101\n",
      "set(['meanExp', 'nIAT', 'seExp', 'seIAT'])\n",
      "0.8963090267388788\n",
      "set(['nExp', 'refCountry', 'refNum', 'seIAT'])\n",
      "0.89534564810453732\n",
      "set(['nExp', 'refCountry', 'refNum', 'seExp'])\n",
      "0.89534564810450112\n",
      "set(['meanExp', 'nExp', 'refCountry', 'refNum'])\n",
      "0.89534564808705586\n",
      "set(['nExp', 'refCountry', 'seExp', 'seIAT'])\n",
      "0.89548317662194077\n",
      "set(['meanExp', 'nExp', 'refCountry', 'seIAT'])\n",
      "0.89548317659152021\n",
      "set(['meanExp', 'nExp', 'refCountry', 'seExp'])\n",
      "0.89548317659145271\n",
      "set(['refCountry', 'refNum', 'seExp', 'seIAT'])\n",
      "0.64738909033613412\n",
      "set(['meanExp', 'refCountry', 'refNum', 'seIAT'])\n",
      "0.6473885478247613\n",
      "set(['meanExp', 'refCountry', 'refNum', 'seExp'])\n",
      "0.64738854542783242\n",
      "set(['meanExp', 'refCountry', 'seExp', 'seIAT'])\n",
      "0.82588792191697624\n",
      "set(['nExp', 'refNum', 'seExp', 'seIAT'])\n",
      "0.89534614407999147\n",
      "set(['meanExp', 'nExp', 'refNum', 'seIAT'])\n",
      "0.89534614406235069\n",
      "set(['meanExp', 'nExp', 'refNum', 'seExp'])\n",
      "0.89534614406231428\n",
      "set(['meanExp', 'nExp', 'seExp', 'seIAT'])\n",
      "0.89548388728466477\n",
      "set(['meanExp', 'refNum', 'seExp', 'seIAT'])\n",
      "0.6545706252252036\n",
      "set(['nExp', 'nIAT', 'refCountry', 'refNum', 'seIAT'])\n",
      "0.89580445396789343\n",
      "set(['nExp', 'nIAT', 'refCountry', 'refNum', 'seExp'])\n",
      "0.89580445396787356\n",
      "set(['meanExp', 'nExp', 'nIAT', 'refCountry', 'refNum'])\n",
      "0.89580445395837049\n",
      "set(['nExp', 'nIAT', 'refCountry', 'seExp', 'seIAT'])\n",
      "0.89588097469701766\n",
      "set(['meanExp', 'nExp', 'nIAT', 'refCountry', 'seIAT'])\n",
      "0.89588097468328887\n",
      "set(['meanExp', 'nExp', 'nIAT', 'refCountry', 'seExp'])\n",
      "0.895880974683257\n",
      "set(['nIAT', 'refCountry', 'refNum', 'seExp', 'seIAT'])\n",
      "0.89616390517884326\n",
      "set(['meanExp', 'nIAT', 'refCountry', 'refNum', 'seIAT'])\n",
      "0.896163905160417\n",
      "set(['meanExp', 'nIAT', 'refCountry', 'refNum', 'seExp'])\n",
      "0.89616390516037803\n",
      "set(['meanExp', 'nIAT', 'refCountry', 'seExp', 'seIAT'])\n",
      "0.89630825394346025\n",
      "set(['nExp', 'nIAT', 'refNum', 'seExp', 'seIAT'])\n",
      "0.89580472386286547\n",
      "set(['meanExp', 'nExp', 'nIAT', 'refNum', 'seIAT'])\n",
      "0.89580472385331378\n",
      "set(['meanExp', 'nExp', 'nIAT', 'refNum', 'seExp'])\n",
      "0.89580472385329379\n",
      "set(['meanExp', 'nExp', 'nIAT', 'seExp', 'seIAT'])\n",
      "0.89588133175539975\n",
      "set(['meanExp', 'nIAT', 'refNum', 'seExp', 'seIAT'])\n",
      "0.89616443318226913\n",
      "set(['nExp', 'refCountry', 'refNum', 'seExp', 'seIAT'])\n",
      "0.89534564810449924\n",
      "set(['meanExp', 'nExp', 'refCountry', 'refNum', 'seIAT'])\n",
      "0.89534564808705408\n",
      "set(['meanExp', 'nExp', 'refCountry', 'refNum', 'seExp'])\n",
      "0.89534564808701789\n",
      "set(['meanExp', 'nExp', 'refCountry', 'seExp', 'seIAT'])\n",
      "0.89548317659144938\n",
      "set(['meanExp', 'refCountry', 'refNum', 'seExp', 'seIAT'])\n",
      "0.64738854532045786\n",
      "set(['meanExp', 'nExp', 'refNum', 'seExp', 'seIAT'])\n",
      "0.8953461440623125\n",
      "set(['nExp', 'nIAT', 'refCountry', 'refNum', 'seExp', 'seIAT'])\n",
      "0.89580445396787267\n",
      "set(['meanExp', 'nExp', 'nIAT', 'refCountry', 'refNum', 'seIAT'])\n",
      "0.89580445395836938\n",
      "set(['meanExp', 'nExp', 'nIAT', 'refCountry', 'refNum', 'seExp'])\n",
      "0.89580445395834973\n",
      "set(['meanExp', 'nExp', 'nIAT', 'refCountry', 'seExp', 'seIAT'])\n",
      "0.89588097468325545\n",
      "set(['meanExp', 'nIAT', 'refCountry', 'refNum', 'seExp', 'seIAT'])\n",
      "0.89616390516037614\n",
      "set(['meanExp', 'nExp', 'nIAT', 'refNum', 'seExp', 'seIAT'])\n",
      "0.89580472385329268\n",
      "set(['meanExp', 'nExp', 'refCountry', 'refNum', 'seExp', 'seIAT'])\n",
      "0.89534564808701589\n",
      "set(['meanExp', 'nExp', 'nIAT', 'refCountry', 'refNum', 'seExp', 'seIAT'])\n",
      "0.89580445395834851\n",
      "127\n"
     ]
    }
   ],
   "source": [
    "scores = []\n",
    "features_subsets = subsets(set(features))\n",
    "count = 0\n",
    "for i in range(1,len(features_subsets)):\n",
    "    selected_features = features_subsets[i]\n",
    "    pp(selected_features)\n",
    "    X = crowdstorming_df_player_referee[list(selected_features)]\n",
    "    kmeans = KMeans(n_clusters=2, random_state=0).fit(X)\n",
    "    labels = kmeans.labels_\n",
    "    pp(silhouette_score(X, labels))\n",
    "    scores.append() \n",
    "    count = count + 1\n",
    "        \n",
    "# pp(count)"
   ]
  },
  {
   "cell_type": "code",
   "execution_count": null,
   "metadata": {
    "collapsed": true
   },
   "outputs": [],
   "source": []
  },
  {
   "cell_type": "code",
   "execution_count": null,
   "metadata": {
    "collapsed": true
   },
   "outputs": [],
   "source": []
  }
 ],
 "metadata": {
  "kernelspec": {
   "display_name": "Python 2",
   "language": "python",
   "name": "python2"
  },
  "language_info": {
   "codemirror_mode": {
    "name": "ipython",
    "version": 2
   },
   "file_extension": ".py",
   "mimetype": "text/x-python",
   "name": "python",
   "nbconvert_exporter": "python",
   "pygments_lexer": "ipython2",
   "version": "2.7.12"
  }
 },
 "nbformat": 4,
 "nbformat_minor": 0
}
