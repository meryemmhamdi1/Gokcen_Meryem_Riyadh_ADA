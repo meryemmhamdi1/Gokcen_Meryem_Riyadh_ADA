{
 "cells": [
  {
   "cell_type": "markdown",
   "metadata": {},
   "source": [
    "# 2. Part"
   ]
  },
  {
   "cell_type": "code",
   "execution_count": 2,
   "metadata": {
    "collapsed": false
   },
   "outputs": [],
   "source": [
    "import pandas as pd\n",
    "import numpy as np\n",
    " \n",
    "df = pd.read_csv('CrowdstormingDataJuly1st.csv').dropna(how='any', subset=['rater1', 'rater2'])\n",
    "df['skin'] = df[['rater1', 'rater2']].mean(axis=1)\n",
    "df = df.drop(['rater1', 'rater2'], axis=1)"
   ]
  },
  {
   "cell_type": "code",
   "execution_count": null,
   "metadata": {
    "collapsed": true
   },
   "outputs": [],
   "source": []
  },
  {
   "cell_type": "code",
   "execution_count": null,
   "metadata": {
    "collapsed": true
   },
   "outputs": [],
   "source": []
  },
  {
   "cell_type": "code",
   "execution_count": 3,
   "metadata": {
    "collapsed": false
   },
   "outputs": [],
   "source": [
    "#df.fillna(df.mean()).dropna(axis=1, how='all')\n",
    "for _col_name_ in ['height', 'weight','meanIAT','nIAT','seIAT']:\n",
    "    df[_col_name_] = df[_col_name_].fillna(df[_col_name_].mean())"
   ]
  },
  {
   "cell_type": "code",
   "execution_count": null,
   "metadata": {
    "collapsed": true
   },
   "outputs": [],
   "source": []
  },
  {
   "cell_type": "code",
   "execution_count": null,
   "metadata": {
    "collapsed": true
   },
   "outputs": [],
   "source": []
  },
  {
   "cell_type": "code",
   "execution_count": null,
   "metadata": {
    "collapsed": true
   },
   "outputs": [],
   "source": []
  },
  {
   "cell_type": "code",
   "execution_count": 40,
   "metadata": {
    "collapsed": false
   },
   "outputs": [],
   "source": [
    "f = {\n",
    "    #'club':'first',\n",
    "    #'birthday':'first',\n",
    "    'height':'first', \n",
    "    'weight':'first',\n",
    "    'games': 'sum', \n",
    "    'victories':'sum',\n",
    "    'ties': 'sum',\n",
    "    'defeats': 'sum', \n",
    "    'goals': 'sum', \n",
    "    'yellowCards': 'sum', \n",
    "    'yellowReds': 'sum', \n",
    "    'redCards': 'sum',\n",
    "    #'position':'first',\n",
    "    #'refNum':'first',\n",
    "    #'refCountry':'first',\n",
    "    'meanIAT':'mean',\n",
    "    'nIAT':'mean', \n",
    "    'seIAT':'mean',\n",
    "    'meanExp': 'mean',\n",
    "    'nExp':'mean', \n",
    "    'seExp':'mean',\n",
    "    #'rater1':'mean',\n",
    "    #'rater2':'mean'\n",
    "    #'skin':'mean',\n",
    "    'leagueCountry':'first'\n",
    "}\n",
    "\n",
    "#df_aggr = df.groupby(['playerShort']).agg(f)\n",
    "df_grouped = df.groupby(['playerShort'])\n",
    "\n",
    "df_skin = df_grouped.agg({'skin': 'mean'})\n",
    "df_skin['actual_skin'] = np.where(df_skin['skin'] > 0.5, 1,0)"
   ]
  },
  {
   "cell_type": "code",
   "execution_count": null,
   "metadata": {
    "collapsed": true
   },
   "outputs": [],
   "source": []
  },
  {
   "cell_type": "code",
   "execution_count": null,
   "metadata": {
    "collapsed": true
   },
   "outputs": [],
   "source": []
  },
  {
   "cell_type": "code",
   "execution_count": null,
   "metadata": {
    "collapsed": true
   },
   "outputs": [],
   "source": []
  },
  {
   "cell_type": "code",
   "execution_count": null,
   "metadata": {
    "collapsed": true
   },
   "outputs": [],
   "source": []
  },
  {
   "cell_type": "code",
   "execution_count": null,
   "metadata": {
    "collapsed": true
   },
   "outputs": [],
   "source": []
  },
  {
   "cell_type": "code",
   "execution_count": null,
   "metadata": {
    "collapsed": true
   },
   "outputs": [],
   "source": []
  },
  {
   "cell_type": "code",
   "execution_count": null,
   "metadata": {
    "collapsed": true
   },
   "outputs": [],
   "source": []
  },
  {
   "cell_type": "code",
   "execution_count": null,
   "metadata": {
    "collapsed": true
   },
   "outputs": [],
   "source": []
  },
  {
   "cell_type": "code",
   "execution_count": null,
   "metadata": {
    "collapsed": true
   },
   "outputs": [],
   "source": []
  },
  {
   "cell_type": "code",
   "execution_count": null,
   "metadata": {
    "collapsed": true
   },
   "outputs": [],
   "source": []
  },
  {
   "cell_type": "code",
   "execution_count": null,
   "metadata": {
    "collapsed": true
   },
   "outputs": [],
   "source": []
  },
  {
   "cell_type": "code",
   "execution_count": null,
   "metadata": {
    "collapsed": true
   },
   "outputs": [],
   "source": []
  },
  {
   "cell_type": "code",
   "execution_count": null,
   "metadata": {
    "collapsed": true
   },
   "outputs": [],
   "source": [
    "    "
   ]
  },
  {
   "cell_type": "code",
   "execution_count": 15,
   "metadata": {
    "collapsed": false
   },
   "outputs": [],
   "source": [
    "from sklearn.preprocessing import StandardScaler\n",
    "from sklearn.cluster import KMeans\n",
    "from sklearn.metrics import silhouette_score\n",
    "\n",
    "\n",
    "scale = StandardScaler()\n",
    "\n",
    "def sil_score(df_aggr):\n",
    "    df_aggr_scaled = scale.fit_transform(df_aggr.as_matrix())\n",
    "    kmeans_model = KMeans(n_clusters=2, random_state=0).fit(df_aggr_scaled)\n",
    "    labels = kmeans_model.labels_\n",
    "    return labels, silhouette_score(df_aggr_scaled, labels)\n",
    "    "
   ]
  },
  {
   "cell_type": "code",
   "execution_count": null,
   "metadata": {
    "collapsed": true
   },
   "outputs": [],
   "source": []
  },
  {
   "cell_type": "code",
   "execution_count": null,
   "metadata": {
    "collapsed": true
   },
   "outputs": [],
   "source": []
  },
  {
   "cell_type": "code",
   "execution_count": null,
   "metadata": {
    "collapsed": true
   },
   "outputs": [],
   "source": []
  },
  {
   "cell_type": "code",
   "execution_count": 41,
   "metadata": {
    "collapsed": false
   },
   "outputs": [
    {
     "name": "stdout",
     "output_type": "stream",
     "text": [
      "FIRST CLUSTER:  0.291627689429 1069\n",
      "SCND  CLUSTER:  0.285125968992 516\n",
      "CLUSTER 0: 194/1069 = %18\n",
      "CLUSTER 1: 75/516 = %14\n",
      "0.209562389355 Index(['nExp', 'ties', 'goals', 'yellowCards', 'meanExp', 'weight', 'seExp',\n",
      "       'redCards', 'victories', 'meanIAT', 'games', 'yellowReds', 'height',\n",
      "       'nIAT', 'defeats', 'leagueCountry_England', 'leagueCountry_France',\n",
      "       'leagueCountry_Germany', 'leagueCountry_Spain'],\n",
      "      dtype='object')\n",
      "0.209562389355\n",
      "FIRST CLUSTER:  0.290384615385 1105\n",
      "SCND  CLUSTER:  0.2875 480\n",
      "CLUSTER 0: 195/1105 = %17\n",
      "CLUSTER 1: 74/480 = %15\n",
      "0.20525616861 Index(['victories', 'nExp', 'height', 'ties', 'goals', 'yellowCards',\n",
      "       'yellowReds', 'meanExp', 'nIAT', 'games', 'weight', 'seExp', 'redCards',\n",
      "       'meanIAT', 'leagueCountry_England', 'leagueCountry_France',\n",
      "       'leagueCountry_Germany', 'leagueCountry_Spain'],\n",
      "      dtype='object')\n",
      "0.20525616861\n",
      "FIRST CLUSTER:  0.289886363636 1100\n",
      "SCND  CLUSTER:  0.288659793814 485\n",
      "CLUSTER 0: 195/1100 = %17\n",
      "CLUSTER 1: 74/485 = %15\n",
      "0.200803229524 Index(['victories', 'nExp', 'height', 'ties', 'goals', 'yellowCards',\n",
      "       'yellowReds', 'meanExp', 'nIAT', 'games', 'weight', 'seExp', 'meanIAT',\n",
      "       'leagueCountry_England', 'leagueCountry_France',\n",
      "       'leagueCountry_Germany', 'leagueCountry_Spain'],\n",
      "      dtype='object')\n",
      "0.200803229524\n",
      "FIRST CLUSTER:  0.291590909091 1100\n",
      "SCND  CLUSTER:  0.284793814433 485\n",
      "CLUSTER 0: 197/1100 = %17\n",
      "CLUSTER 1: 72/485 = %14\n",
      "0.207594969482 Index(['victories', 'nExp', 'height', 'ties', 'goals', 'yellowCards',\n",
      "       'yellowReds', 'meanExp', 'nIAT', 'games', 'weight', 'meanIAT',\n",
      "       'leagueCountry_England', 'leagueCountry_France',\n",
      "       'leagueCountry_Germany', 'leagueCountry_Spain'],\n",
      "      dtype='object')\n",
      "0.207594969482\n",
      "FIRST CLUSTER:  0.288244353183 487\n",
      "SCND  CLUSTER:  0.290072859745 1098\n",
      "CLUSTER 0: 74/487 = %15\n",
      "CLUSTER 1: 195/1098 = %17\n",
      "0.220073914453 Index(['victories', 'nExp', 'ties', 'goals', 'yellowCards', 'yellowReds',\n",
      "       'meanExp', 'nIAT', 'games', 'weight', 'meanIAT',\n",
      "       'leagueCountry_England', 'leagueCountry_France',\n",
      "       'leagueCountry_Germany', 'leagueCountry_Spain'],\n",
      "      dtype='object')\n",
      "0.220073914453\n",
      "FIRST CLUSTER:  0.290174471993 1089\n",
      "SCND  CLUSTER:  0.288054435484 496\n",
      "CLUSTER 0: 193/1089 = %17\n",
      "CLUSTER 1: 76/496 = %15\n",
      "0.234999122838 Index(['victories', 'nExp', 'yellowCards', 'ties', 'goals', 'games',\n",
      "       'yellowReds', 'meanExp', 'nIAT', 'meanIAT', 'leagueCountry_England',\n",
      "       'leagueCountry_France', 'leagueCountry_Germany', 'leagueCountry_Spain'],\n",
      "      dtype='object')\n",
      "0.234999122838\n",
      "FIRST CLUSTER:  0.29008780037 1082\n",
      "SCND  CLUSTER:  0.288270377734 503\n",
      "CLUSTER 0: 193/1082 = %17\n",
      "CLUSTER 1: 76/503 = %15\n",
      "0.234682985968 Index(['victories', 'nExp', 'yellowCards', 'ties', 'goals', 'games',\n",
      "       'yellowReds', 'meanExp', 'meanIAT', 'leagueCountry_England',\n",
      "       'leagueCountry_France', 'leagueCountry_Germany', 'leagueCountry_Spain'],\n",
      "      dtype='object')\n",
      "0.234682985968\n",
      "FIRST CLUSTER:  0.290584415584 1078\n",
      "SCND  CLUSTER:  0.287228796844 507\n",
      "CLUSTER 0: 193/1078 = %17\n",
      "CLUSTER 1: 76/507 = %14\n",
      "0.251601777399 Index(['victories', 'nExp', 'yellowCards', 'ties', 'goals', 'games',\n",
      "       'yellowReds', 'meanIAT', 'leagueCountry_England',\n",
      "       'leagueCountry_France', 'leagueCountry_Germany', 'leagueCountry_Spain'],\n",
      "      dtype='object')\n",
      "0.251601777399\n",
      "FIRST CLUSTER:  0.292083712466 1099\n",
      "SCND  CLUSTER:  0.283693415638 486\n",
      "CLUSTER 0: 197/1099 = %17\n",
      "CLUSTER 1: 72/486 = %14\n",
      "0.26224988285 Index(['victories', 'nExp', 'yellowCards', 'ties', 'goals', 'games', 'meanIAT',\n",
      "       'leagueCountry_England', 'leagueCountry_France',\n",
      "       'leagueCountry_Germany', 'leagueCountry_Spain'],\n",
      "      dtype='object')\n",
      "0.26224988285\n",
      "FIRST CLUSTER:  0.296741452991 468\n",
      "SCND  CLUSTER:  0.286481647269 1117\n",
      "CLUSTER 0: 77/468 = %16\n",
      "CLUSTER 1: 192/1117 = %17\n",
      "0.242864750525 Index(['victories', 'nExp', 'ties', 'goals', 'yellowCards', 'meanIAT',\n",
      "       'leagueCountry_England', 'leagueCountry_France',\n",
      "       'leagueCountry_Germany', 'leagueCountry_Spain'],\n",
      "      dtype='object')\n",
      "0.242864750525\n",
      "FIRST CLUSTER:  0.302229020979 1144\n",
      "SCND  CLUSTER:  0.256519274376 441\n",
      "CLUSTER 0: 231/1144 = %20\n",
      "CLUSTER 1: 38/441 = %8\n",
      "0.267780947294 Index(['victories', 'nExp', 'ties', 'yellowCards', 'meanIAT',\n",
      "       'leagueCountry_England', 'leagueCountry_France',\n",
      "       'leagueCountry_Germany', 'leagueCountry_Spain'],\n",
      "      dtype='object')\n",
      "0.267780947294\n",
      "FIRST CLUSTER:  0.286434977578 1115\n",
      "SCND  CLUSTER:  0.296808510638 470\n",
      "CLUSTER 0: 195/1115 = %17\n",
      "CLUSTER 1: 74/470 = %15\n",
      "0.268464175486 Index(['ties', 'yellowCards', 'nExp', 'victories', 'leagueCountry_England',\n",
      "       'leagueCountry_France', 'leagueCountry_Germany', 'leagueCountry_Spain'],\n",
      "      dtype='object')\n",
      "0.268464175486\n",
      "FIRST CLUSTER:  0.321564885496 393\n",
      "SCND  CLUSTER:  0.27894295302 1192\n",
      "CLUSTER 0: 84/393 = %21\n",
      "CLUSTER 1: 185/1192 = %15\n",
      "0.308525958428 Index(['yellowCards', 'nExp', 'victories', 'leagueCountry_England',\n",
      "       'leagueCountry_France', 'leagueCountry_Germany', 'leagueCountry_Spain'],\n",
      "      dtype='object')\n",
      "0.308525958428\n",
      "FIRST CLUSTER:  0.279103852596 1194\n",
      "SCND  CLUSTER:  0.321291560102 391\n",
      "CLUSTER 0: 185/1194 = %15\n",
      "CLUSTER 1: 84/391 = %21\n",
      "0.360155363907 Index(['victories', 'nExp', 'leagueCountry_England', 'leagueCountry_France',\n",
      "       'leagueCountry_Germany', 'leagueCountry_Spain'],\n",
      "      dtype='object')\n",
      "0.360155363907\n",
      "FIRST CLUSTER:  0.279920767306 1199\n",
      "SCND  CLUSTER:  0.319300518135 386\n",
      "CLUSTER 0: 187/1199 = %15\n",
      "CLUSTER 1: 82/386 = %21\n",
      "0.371003519291 Index(['victories', 'leagueCountry_England', 'leagueCountry_France',\n",
      "       'leagueCountry_Germany', 'leagueCountry_Spain'],\n",
      "      dtype='object')\n",
      "0.371003519291\n",
      "FIRST CLUSTER:  0.293626237624 1212\n",
      "SCND  CLUSTER:  0.276139410188 373\n",
      "CLUSTER 0: 216/1212 = %17\n",
      "CLUSTER 1: 53/373 = %14\n",
      "0.63733392892 Index(['victories'], dtype='object')\n",
      "0.63733392892\n"
     ]
    },
    {
     "name": "stderr",
     "output_type": "stream",
     "text": [
      "c:\\projects\\advanced-data-analysis\\env\\lib\\site-packages\\sklearn\\utils\\validation.py:429: DataConversionWarning: Data with input dtype int64 was converted to float64 by StandardScaler.\n",
      "  warnings.warn(msg, _DataConversionWarning)\n"
     ]
    }
   ],
   "source": [
    "for i in reversed(range(1,len(f.items()))):\n",
    "    combination = dict(list(f.items())[:i])\n",
    "    _df_aggregated = df_grouped.agg(dict(combination))\n",
    "    _df_aggregated = pd.get_dummies(_df_aggregated)\n",
    "    \n",
    "    labeled, score = sil_score(_df_aggregated)\n",
    "    cluster_0 = df_skin[labeled == 0]\n",
    "    cluster_1 = df_skin[labeled == 1]\n",
    "    \n",
    "    print(\"FIRST CLUSTER: \", cluster_0['skin'].mean(),len(cluster_0))\n",
    "    print(\"SCND  CLUSTER: \", cluster_1['skin'].mean(),len(cluster_1))\n",
    "    \n",
    "    cluster_0_whites = len(cluster_0[cluster_0['skin'] > 0.5])\n",
    "    cluster_0_blacks = len(cluster_0[cluster_0['skin'] <= 0.5])\n",
    "    \n",
    "    cluster_1_whites = len(cluster_1[cluster_1['skin'] > 0.5])\n",
    "    cluster_1_blacks = len(cluster_1[cluster_1['skin'] <= 0.5])\n",
    "    \n",
    "    print(\"CLUSTER 0: %d/%d = %%%d\" % (cluster_0_whites, len(cluster_0), int(cluster_0_whites/len(cluster_0)*100)))\n",
    "    print(\"CLUSTER 1: %d/%d = %%%d\" % (cluster_1_whites, len(cluster_1), int(cluster_1_whites/len(cluster_1)*100)))\n",
    "\n",
    "    \n",
    "    print(score,_df_aggregated.columns)\n",
    "    print(score)"
   ]
  },
  {
   "cell_type": "code",
   "execution_count": null,
   "metadata": {
    "collapsed": true
   },
   "outputs": [],
   "source": []
  },
  {
   "cell_type": "code",
   "execution_count": null,
   "metadata": {
    "collapsed": true
   },
   "outputs": [],
   "source": []
  },
  {
   "cell_type": "code",
   "execution_count": null,
   "metadata": {
    "collapsed": true
   },
   "outputs": [],
   "source": []
  },
  {
   "cell_type": "code",
   "execution_count": null,
   "metadata": {
    "collapsed": true
   },
   "outputs": [],
   "source": []
  },
  {
   "cell_type": "code",
   "execution_count": null,
   "metadata": {
    "collapsed": true
   },
   "outputs": [],
   "source": []
  },
  {
   "cell_type": "code",
   "execution_count": null,
   "metadata": {
    "collapsed": true
   },
   "outputs": [],
   "source": []
  },
  {
   "cell_type": "code",
   "execution_count": null,
   "metadata": {
    "collapsed": true
   },
   "outputs": [],
   "source": []
  },
  {
   "cell_type": "code",
   "execution_count": null,
   "metadata": {
    "collapsed": true
   },
   "outputs": [],
   "source": []
  },
  {
   "cell_type": "code",
   "execution_count": null,
   "metadata": {
    "collapsed": true
   },
   "outputs": [],
   "source": []
  },
  {
   "cell_type": "code",
   "execution_count": null,
   "metadata": {
    "collapsed": true
   },
   "outputs": [],
   "source": []
  },
  {
   "cell_type": "code",
   "execution_count": null,
   "metadata": {
    "collapsed": true
   },
   "outputs": [],
   "source": []
  },
  {
   "cell_type": "code",
   "execution_count": null,
   "metadata": {
    "collapsed": true
   },
   "outputs": [],
   "source": []
  },
  {
   "cell_type": "code",
   "execution_count": null,
   "metadata": {
    "collapsed": true
   },
   "outputs": [],
   "source": []
  },
  {
   "cell_type": "code",
   "execution_count": null,
   "metadata": {
    "collapsed": true
   },
   "outputs": [],
   "source": []
  },
  {
   "cell_type": "code",
   "execution_count": null,
   "metadata": {
    "collapsed": true
   },
   "outputs": [],
   "source": []
  },
  {
   "cell_type": "code",
   "execution_count": 23,
   "metadata": {
    "collapsed": false
   },
   "outputs": [
    {
     "data": {
      "text/html": [
       "<div>\n",
       "<table border=\"1\" class=\"dataframe\">\n",
       "  <thead>\n",
       "    <tr style=\"text-align: right;\">\n",
       "      <th></th>\n",
       "      <th>skin</th>\n",
       "      <th>actual_skin</th>\n",
       "    </tr>\n",
       "    <tr>\n",
       "      <th>playerShort</th>\n",
       "      <th></th>\n",
       "      <th></th>\n",
       "    </tr>\n",
       "  </thead>\n",
       "  <tbody>\n",
       "    <tr>\n",
       "      <th>aaron-hughes</th>\n",
       "      <td>0.125</td>\n",
       "      <td>0</td>\n",
       "    </tr>\n",
       "    <tr>\n",
       "      <th>aaron-hunt</th>\n",
       "      <td>0.125</td>\n",
       "      <td>0</td>\n",
       "    </tr>\n",
       "    <tr>\n",
       "      <th>aaron-lennon</th>\n",
       "      <td>0.250</td>\n",
       "      <td>0</td>\n",
       "    </tr>\n",
       "    <tr>\n",
       "      <th>aaron-ramsey</th>\n",
       "      <td>0.000</td>\n",
       "      <td>0</td>\n",
       "    </tr>\n",
       "    <tr>\n",
       "      <th>abdelhamid-el-kaoutari</th>\n",
       "      <td>0.250</td>\n",
       "      <td>0</td>\n",
       "    </tr>\n",
       "    <tr>\n",
       "      <th>abdou-traore_2</th>\n",
       "      <td>0.750</td>\n",
       "      <td>1</td>\n",
       "    </tr>\n",
       "    <tr>\n",
       "      <th>abdoulaye-diallo_2</th>\n",
       "      <td>0.875</td>\n",
       "      <td>1</td>\n",
       "    </tr>\n",
       "    <tr>\n",
       "      <th>abdoulaye-keita_2</th>\n",
       "      <td>0.875</td>\n",
       "      <td>1</td>\n",
       "    </tr>\n",
       "    <tr>\n",
       "      <th>abdoulwhaid-sissoko</th>\n",
       "      <td>1.000</td>\n",
       "      <td>1</td>\n",
       "    </tr>\n",
       "    <tr>\n",
       "      <th>abdul-rahman-baba</th>\n",
       "      <td>0.875</td>\n",
       "      <td>1</td>\n",
       "    </tr>\n",
       "    <tr>\n",
       "      <th>abdul-razak</th>\n",
       "      <td>1.000</td>\n",
       "      <td>1</td>\n",
       "    </tr>\n",
       "    <tr>\n",
       "      <th>abel-aguilar</th>\n",
       "      <td>0.375</td>\n",
       "      <td>0</td>\n",
       "    </tr>\n",
       "    <tr>\n",
       "      <th>abelaziz-barrada</th>\n",
       "      <td>0.000</td>\n",
       "      <td>0</td>\n",
       "    </tr>\n",
       "    <tr>\n",
       "      <th>abou-diaby</th>\n",
       "      <td>0.750</td>\n",
       "      <td>1</td>\n",
       "    </tr>\n",
       "    <tr>\n",
       "      <th>adam-bodzek</th>\n",
       "      <td>0.250</td>\n",
       "      <td>0</td>\n",
       "    </tr>\n",
       "    <tr>\n",
       "      <th>adam-campbell</th>\n",
       "      <td>0.000</td>\n",
       "      <td>0</td>\n",
       "    </tr>\n",
       "    <tr>\n",
       "      <th>adam-federici</th>\n",
       "      <td>0.000</td>\n",
       "      <td>0</td>\n",
       "    </tr>\n",
       "    <tr>\n",
       "      <th>adam-hlousek</th>\n",
       "      <td>0.000</td>\n",
       "      <td>0</td>\n",
       "    </tr>\n",
       "    <tr>\n",
       "      <th>adam-johnson</th>\n",
       "      <td>0.000</td>\n",
       "      <td>0</td>\n",
       "    </tr>\n",
       "    <tr>\n",
       "      <th>adam-morgan</th>\n",
       "      <td>0.250</td>\n",
       "      <td>0</td>\n",
       "    </tr>\n",
       "    <tr>\n",
       "      <th>adam-pinter</th>\n",
       "      <td>0.000</td>\n",
       "      <td>0</td>\n",
       "    </tr>\n",
       "    <tr>\n",
       "      <th>adam-smith_3</th>\n",
       "      <td>0.000</td>\n",
       "      <td>0</td>\n",
       "    </tr>\n",
       "    <tr>\n",
       "      <th>adam-szalai</th>\n",
       "      <td>0.250</td>\n",
       "      <td>0</td>\n",
       "    </tr>\n",
       "    <tr>\n",
       "      <th>adan</th>\n",
       "      <td>0.000</td>\n",
       "      <td>0</td>\n",
       "    </tr>\n",
       "    <tr>\n",
       "      <th>adel-taarabt</th>\n",
       "      <td>0.250</td>\n",
       "      <td>0</td>\n",
       "    </tr>\n",
       "    <tr>\n",
       "      <th>adil-rami</th>\n",
       "      <td>0.125</td>\n",
       "      <td>0</td>\n",
       "    </tr>\n",
       "    <tr>\n",
       "      <th>adrian-colunga</th>\n",
       "      <td>0.250</td>\n",
       "      <td>0</td>\n",
       "    </tr>\n",
       "    <tr>\n",
       "      <th>adrian-mutu</th>\n",
       "      <td>0.250</td>\n",
       "      <td>0</td>\n",
       "    </tr>\n",
       "    <tr>\n",
       "      <th>adrian_2</th>\n",
       "      <td>0.125</td>\n",
       "      <td>0</td>\n",
       "    </tr>\n",
       "    <tr>\n",
       "      <th>adrian_7</th>\n",
       "      <td>0.250</td>\n",
       "      <td>0</td>\n",
       "    </tr>\n",
       "    <tr>\n",
       "      <th>...</th>\n",
       "      <td>...</td>\n",
       "      <td>...</td>\n",
       "    </tr>\n",
       "    <tr>\n",
       "      <th>xisco_2</th>\n",
       "      <td>0.250</td>\n",
       "      <td>0</td>\n",
       "    </tr>\n",
       "    <tr>\n",
       "      <th>yacine-brahimi</th>\n",
       "      <td>0.625</td>\n",
       "      <td>1</td>\n",
       "    </tr>\n",
       "    <tr>\n",
       "      <th>yann-mvila</th>\n",
       "      <td>0.500</td>\n",
       "      <td>0</td>\n",
       "    </tr>\n",
       "    <tr>\n",
       "      <th>yannick-djalo</th>\n",
       "      <td>0.750</td>\n",
       "      <td>1</td>\n",
       "    </tr>\n",
       "    <tr>\n",
       "      <th>yannik-schulze</th>\n",
       "      <td>0.000</td>\n",
       "      <td>0</td>\n",
       "    </tr>\n",
       "    <tr>\n",
       "      <th>yassine-benzia</th>\n",
       "      <td>0.250</td>\n",
       "      <td>0</td>\n",
       "    </tr>\n",
       "    <tr>\n",
       "      <th>yassine-el-ghanassi</th>\n",
       "      <td>0.500</td>\n",
       "      <td>0</td>\n",
       "    </tr>\n",
       "    <tr>\n",
       "      <th>yassine-jebbour</th>\n",
       "      <td>0.625</td>\n",
       "      <td>1</td>\n",
       "    </tr>\n",
       "    <tr>\n",
       "      <th>yaya-toure</th>\n",
       "      <td>1.000</td>\n",
       "      <td>1</td>\n",
       "    </tr>\n",
       "    <tr>\n",
       "      <th>yoan-gouffran</th>\n",
       "      <td>0.500</td>\n",
       "      <td>0</td>\n",
       "    </tr>\n",
       "    <tr>\n",
       "      <th>yoann-gourcuff</th>\n",
       "      <td>0.125</td>\n",
       "      <td>0</td>\n",
       "    </tr>\n",
       "    <tr>\n",
       "      <th>yohan-cabaye</th>\n",
       "      <td>0.000</td>\n",
       "      <td>0</td>\n",
       "    </tr>\n",
       "    <tr>\n",
       "      <th>yohandry-orozco</th>\n",
       "      <td>0.500</td>\n",
       "      <td>0</td>\n",
       "    </tr>\n",
       "    <tr>\n",
       "      <th>yossi-benayoun</th>\n",
       "      <td>0.250</td>\n",
       "      <td>0</td>\n",
       "    </tr>\n",
       "    <tr>\n",
       "      <th>younes-belhanda</th>\n",
       "      <td>0.250</td>\n",
       "      <td>0</td>\n",
       "    </tr>\n",
       "    <tr>\n",
       "      <th>younes-kaboul</th>\n",
       "      <td>0.500</td>\n",
       "      <td>0</td>\n",
       "    </tr>\n",
       "    <tr>\n",
       "      <th>youssef-el-arabi</th>\n",
       "      <td>0.625</td>\n",
       "      <td>1</td>\n",
       "    </tr>\n",
       "    <tr>\n",
       "      <th>yunus-malli</th>\n",
       "      <td>0.125</td>\n",
       "      <td>0</td>\n",
       "    </tr>\n",
       "    <tr>\n",
       "      <th>zdenk-pospch</th>\n",
       "      <td>0.125</td>\n",
       "      <td>0</td>\n",
       "    </tr>\n",
       "    <tr>\n",
       "      <th>zdravko-kuzmanovic</th>\n",
       "      <td>0.000</td>\n",
       "      <td>0</td>\n",
       "    </tr>\n",
       "    <tr>\n",
       "      <th>ze-castro</th>\n",
       "      <td>0.250</td>\n",
       "      <td>0</td>\n",
       "    </tr>\n",
       "    <tr>\n",
       "      <th>zhi-gin-lam</th>\n",
       "      <td>0.250</td>\n",
       "      <td>0</td>\n",
       "    </tr>\n",
       "    <tr>\n",
       "      <th>zlatan-alomerovic</th>\n",
       "      <td>0.000</td>\n",
       "      <td>0</td>\n",
       "    </tr>\n",
       "    <tr>\n",
       "      <th>zlatan-ibrahimovic</th>\n",
       "      <td>0.250</td>\n",
       "      <td>0</td>\n",
       "    </tr>\n",
       "    <tr>\n",
       "      <th>zlatko-junuzovic</th>\n",
       "      <td>0.125</td>\n",
       "      <td>0</td>\n",
       "    </tr>\n",
       "    <tr>\n",
       "      <th>zoltan-gera</th>\n",
       "      <td>0.250</td>\n",
       "      <td>0</td>\n",
       "    </tr>\n",
       "    <tr>\n",
       "      <th>zoltan-stieber</th>\n",
       "      <td>0.000</td>\n",
       "      <td>0</td>\n",
       "    </tr>\n",
       "    <tr>\n",
       "      <th>zoumana-camara</th>\n",
       "      <td>0.875</td>\n",
       "      <td>1</td>\n",
       "    </tr>\n",
       "    <tr>\n",
       "      <th>zubikarai</th>\n",
       "      <td>0.000</td>\n",
       "      <td>0</td>\n",
       "    </tr>\n",
       "    <tr>\n",
       "      <th>zurutuza</th>\n",
       "      <td>0.000</td>\n",
       "      <td>0</td>\n",
       "    </tr>\n",
       "  </tbody>\n",
       "</table>\n",
       "<p>1585 rows × 2 columns</p>\n",
       "</div>"
      ],
      "text/plain": [
       "                         skin  actual_skin\n",
       "playerShort                               \n",
       "aaron-hughes            0.125            0\n",
       "aaron-hunt              0.125            0\n",
       "aaron-lennon            0.250            0\n",
       "aaron-ramsey            0.000            0\n",
       "abdelhamid-el-kaoutari  0.250            0\n",
       "abdou-traore_2          0.750            1\n",
       "abdoulaye-diallo_2      0.875            1\n",
       "abdoulaye-keita_2       0.875            1\n",
       "abdoulwhaid-sissoko     1.000            1\n",
       "abdul-rahman-baba       0.875            1\n",
       "abdul-razak             1.000            1\n",
       "abel-aguilar            0.375            0\n",
       "abelaziz-barrada        0.000            0\n",
       "abou-diaby              0.750            1\n",
       "adam-bodzek             0.250            0\n",
       "adam-campbell           0.000            0\n",
       "adam-federici           0.000            0\n",
       "adam-hlousek            0.000            0\n",
       "adam-johnson            0.000            0\n",
       "adam-morgan             0.250            0\n",
       "adam-pinter             0.000            0\n",
       "adam-smith_3            0.000            0\n",
       "adam-szalai             0.250            0\n",
       "adan                    0.000            0\n",
       "adel-taarabt            0.250            0\n",
       "adil-rami               0.125            0\n",
       "adrian-colunga          0.250            0\n",
       "adrian-mutu             0.250            0\n",
       "adrian_2                0.125            0\n",
       "adrian_7                0.250            0\n",
       "...                       ...          ...\n",
       "xisco_2                 0.250            0\n",
       "yacine-brahimi          0.625            1\n",
       "yann-mvila              0.500            0\n",
       "yannick-djalo           0.750            1\n",
       "yannik-schulze          0.000            0\n",
       "yassine-benzia          0.250            0\n",
       "yassine-el-ghanassi     0.500            0\n",
       "yassine-jebbour         0.625            1\n",
       "yaya-toure              1.000            1\n",
       "yoan-gouffran           0.500            0\n",
       "yoann-gourcuff          0.125            0\n",
       "yohan-cabaye            0.000            0\n",
       "yohandry-orozco         0.500            0\n",
       "yossi-benayoun          0.250            0\n",
       "younes-belhanda         0.250            0\n",
       "younes-kaboul           0.500            0\n",
       "youssef-el-arabi        0.625            1\n",
       "yunus-malli             0.125            0\n",
       "zdenk-pospch            0.125            0\n",
       "zdravko-kuzmanovic      0.000            0\n",
       "ze-castro               0.250            0\n",
       "zhi-gin-lam             0.250            0\n",
       "zlatan-alomerovic       0.000            0\n",
       "zlatan-ibrahimovic      0.250            0\n",
       "zlatko-junuzovic        0.125            0\n",
       "zoltan-gera             0.250            0\n",
       "zoltan-stieber          0.000            0\n",
       "zoumana-camara          0.875            1\n",
       "zubikarai               0.000            0\n",
       "zurutuza                0.000            0\n",
       "\n",
       "[1585 rows x 2 columns]"
      ]
     },
     "execution_count": 23,
     "metadata": {},
     "output_type": "execute_result"
    }
   ],
   "source": [
    "\n",
    "df_skin"
   ]
  },
  {
   "cell_type": "code",
   "execution_count": null,
   "metadata": {
    "collapsed": true
   },
   "outputs": [],
   "source": []
  },
  {
   "cell_type": "code",
   "execution_count": null,
   "metadata": {
    "collapsed": true
   },
   "outputs": [],
   "source": []
  },
  {
   "cell_type": "code",
   "execution_count": null,
   "metadata": {
    "collapsed": true
   },
   "outputs": [],
   "source": []
  },
  {
   "cell_type": "code",
   "execution_count": null,
   "metadata": {
    "collapsed": true
   },
   "outputs": [],
   "source": []
  },
  {
   "cell_type": "code",
   "execution_count": null,
   "metadata": {
    "collapsed": true
   },
   "outputs": [],
   "source": []
  },
  {
   "cell_type": "code",
   "execution_count": null,
   "metadata": {
    "collapsed": true
   },
   "outputs": [],
   "source": []
  },
  {
   "cell_type": "code",
   "execution_count": null,
   "metadata": {
    "collapsed": true
   },
   "outputs": [],
   "source": []
  },
  {
   "cell_type": "code",
   "execution_count": null,
   "metadata": {
    "collapsed": true
   },
   "outputs": [],
   "source": []
  },
  {
   "cell_type": "code",
   "execution_count": null,
   "metadata": {
    "collapsed": true
   },
   "outputs": [],
   "source": []
  },
  {
   "cell_type": "code",
   "execution_count": null,
   "metadata": {
    "collapsed": true
   },
   "outputs": [],
   "source": []
  },
  {
   "cell_type": "code",
   "execution_count": null,
   "metadata": {
    "collapsed": true
   },
   "outputs": [],
   "source": []
  },
  {
   "cell_type": "code",
   "execution_count": null,
   "metadata": {
    "collapsed": true
   },
   "outputs": [],
   "source": []
  },
  {
   "cell_type": "code",
   "execution_count": null,
   "metadata": {
    "collapsed": true
   },
   "outputs": [],
   "source": []
  },
  {
   "cell_type": "code",
   "execution_count": null,
   "metadata": {
    "collapsed": true
   },
   "outputs": [],
   "source": []
  },
  {
   "cell_type": "code",
   "execution_count": null,
   "metadata": {
    "collapsed": true
   },
   "outputs": [],
   "source": []
  },
  {
   "cell_type": "code",
   "execution_count": null,
   "metadata": {
    "collapsed": true
   },
   "outputs": [],
   "source": []
  },
  {
   "cell_type": "code",
   "execution_count": null,
   "metadata": {
    "collapsed": true
   },
   "outputs": [],
   "source": []
  },
  {
   "cell_type": "code",
   "execution_count": null,
   "metadata": {
    "collapsed": true
   },
   "outputs": [],
   "source": []
  },
  {
   "cell_type": "code",
   "execution_count": null,
   "metadata": {
    "collapsed": true
   },
   "outputs": [],
   "source": []
  },
  {
   "cell_type": "code",
   "execution_count": null,
   "metadata": {
    "collapsed": true
   },
   "outputs": [],
   "source": []
  },
  {
   "cell_type": "code",
   "execution_count": null,
   "metadata": {
    "collapsed": true
   },
   "outputs": [],
   "source": []
  },
  {
   "cell_type": "code",
   "execution_count": null,
   "metadata": {
    "collapsed": true
   },
   "outputs": [],
   "source": []
  },
  {
   "cell_type": "code",
   "execution_count": null,
   "metadata": {
    "collapsed": true
   },
   "outputs": [],
   "source": []
  },
  {
   "cell_type": "code",
   "execution_count": null,
   "metadata": {
    "collapsed": true
   },
   "outputs": [],
   "source": []
  },
  {
   "cell_type": "code",
   "execution_count": null,
   "metadata": {
    "collapsed": true
   },
   "outputs": [],
   "source": []
  },
  {
   "cell_type": "code",
   "execution_count": null,
   "metadata": {
    "collapsed": true
   },
   "outputs": [],
   "source": []
  },
  {
   "cell_type": "code",
   "execution_count": null,
   "metadata": {
    "collapsed": true
   },
   "outputs": [],
   "source": []
  },
  {
   "cell_type": "code",
   "execution_count": null,
   "metadata": {
    "collapsed": true
   },
   "outputs": [],
   "source": []
  },
  {
   "cell_type": "code",
   "execution_count": null,
   "metadata": {
    "collapsed": true
   },
   "outputs": [],
   "source": []
  },
  {
   "cell_type": "code",
   "execution_count": null,
   "metadata": {
    "collapsed": true
   },
   "outputs": [],
   "source": []
  },
  {
   "cell_type": "code",
   "execution_count": null,
   "metadata": {
    "collapsed": true
   },
   "outputs": [],
   "source": []
  },
  {
   "cell_type": "code",
   "execution_count": null,
   "metadata": {
    "collapsed": true
   },
   "outputs": [],
   "source": []
  },
  {
   "cell_type": "code",
   "execution_count": null,
   "metadata": {
    "collapsed": true
   },
   "outputs": [],
   "source": []
  },
  {
   "cell_type": "code",
   "execution_count": null,
   "metadata": {
    "collapsed": true
   },
   "outputs": [],
   "source": []
  },
  {
   "cell_type": "code",
   "execution_count": null,
   "metadata": {
    "collapsed": true
   },
   "outputs": [],
   "source": []
  },
  {
   "cell_type": "code",
   "execution_count": null,
   "metadata": {
    "collapsed": true
   },
   "outputs": [],
   "source": []
  },
  {
   "cell_type": "code",
   "execution_count": null,
   "metadata": {
    "collapsed": true
   },
   "outputs": [],
   "source": []
  },
  {
   "cell_type": "code",
   "execution_count": null,
   "metadata": {
    "collapsed": true
   },
   "outputs": [],
   "source": []
  },
  {
   "cell_type": "code",
   "execution_count": null,
   "metadata": {
    "collapsed": true
   },
   "outputs": [],
   "source": []
  },
  {
   "cell_type": "code",
   "execution_count": null,
   "metadata": {
    "collapsed": true
   },
   "outputs": [],
   "source": []
  },
  {
   "cell_type": "code",
   "execution_count": null,
   "metadata": {
    "collapsed": true
   },
   "outputs": [],
   "source": []
  },
  {
   "cell_type": "code",
   "execution_count": null,
   "metadata": {
    "collapsed": true
   },
   "outputs": [],
   "source": []
  },
  {
   "cell_type": "code",
   "execution_count": null,
   "metadata": {
    "collapsed": true
   },
   "outputs": [],
   "source": []
  }
 ],
 "metadata": {
  "kernelspec": {
   "display_name": "Python 3",
   "language": "python",
   "name": "python3"
  },
  "language_info": {
   "codemirror_mode": {
    "name": "ipython",
    "version": 3
   },
   "file_extension": ".py",
   "mimetype": "text/x-python",
   "name": "python",
   "nbconvert_exporter": "python",
   "pygments_lexer": "ipython3",
   "version": "3.5.1"
  }
 },
 "nbformat": 4,
 "nbformat_minor": 1
}
