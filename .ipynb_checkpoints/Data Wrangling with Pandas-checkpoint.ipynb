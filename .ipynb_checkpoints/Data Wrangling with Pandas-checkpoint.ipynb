{
 "cells": [
  {
   "cell_type": "markdown",
   "metadata": {
    "toc": "true"
   },
   "source": [
    "# Table of Contents\n",
    " <p><div class=\"lev1\"><a href=\"#Data-Wrangling-with-Pandas\"><span class=\"toc-item-num\">1&nbsp;&nbsp;</span>Data Wrangling with Pandas</a></div><div class=\"lev2\"><a href=\"#Date/Time-data-handling\"><span class=\"toc-item-num\">1.1&nbsp;&nbsp;</span>Date/Time data handling</a></div><div class=\"lev2\"><a href=\"#Merging-and-joining-DataFrame-objects\"><span class=\"toc-item-num\">1.2&nbsp;&nbsp;</span>Merging and joining DataFrame objects</a></div><div class=\"lev2\"><a href=\"#Concatenation\"><span class=\"toc-item-num\">1.3&nbsp;&nbsp;</span>Concatenation</a></div><div class=\"lev2\"><a href=\"#Exercise\"><span class=\"toc-item-num\">1.4&nbsp;&nbsp;</span>Exercise</a></div><div class=\"lev2\"><a href=\"#Reshaping-DataFrame-objects\"><span class=\"toc-item-num\">1.5&nbsp;&nbsp;</span>Reshaping DataFrame objects</a></div><div class=\"lev2\"><a href=\"#Pivoting\"><span class=\"toc-item-num\">1.6&nbsp;&nbsp;</span>Pivoting</a></div><div class=\"lev2\"><a href=\"#Data-transformation\"><span class=\"toc-item-num\">1.7&nbsp;&nbsp;</span>Data transformation</a></div><div class=\"lev3\"><a href=\"#Dealing-with-duplicates\"><span class=\"toc-item-num\">1.7.1&nbsp;&nbsp;</span>Dealing with duplicates</a></div><div class=\"lev3\"><a href=\"#Value-replacement\"><span class=\"toc-item-num\">1.7.2&nbsp;&nbsp;</span>Value replacement</a></div><div class=\"lev3\"><a href=\"#Inidcator-variables\"><span class=\"toc-item-num\">1.7.3&nbsp;&nbsp;</span>Inidcator variables</a></div><div class=\"lev2\"><a href=\"#Categorical-Data\"><span class=\"toc-item-num\">1.8&nbsp;&nbsp;</span>Categorical Data</a></div><div class=\"lev3\"><a href=\"#Discretization\"><span class=\"toc-item-num\">1.8.1&nbsp;&nbsp;</span>Discretization</a></div><div class=\"lev3\"><a href=\"#Permutation-and-sampling\"><span class=\"toc-item-num\">1.8.2&nbsp;&nbsp;</span>Permutation and sampling</a></div><div class=\"lev2\"><a href=\"#Data-aggregation-and-GroupBy-operations\"><span class=\"toc-item-num\">1.9&nbsp;&nbsp;</span>Data aggregation and GroupBy operations</a></div><div class=\"lev3\"><a href=\"#Apply\"><span class=\"toc-item-num\">1.9.1&nbsp;&nbsp;</span>Apply</a></div><div class=\"lev2\"><a href=\"#Exercise\"><span class=\"toc-item-num\">1.10&nbsp;&nbsp;</span>Exercise</a></div><div class=\"lev2\"><a href=\"#References\"><span class=\"toc-item-num\">1.11&nbsp;&nbsp;</span>References</a></div>"
   ]
  },
  {
   "cell_type": "markdown",
   "metadata": {},
   "source": [
    "# Data Wrangling with Pandas\n",
    "\n",
    "Now that we have been exposed to the basic functionality of Pandas, lets explore some more advanced features that will be useful when addressing more complex data management tasks.\n",
    "\n",
    "As most statisticians/data analysts will admit, often the lion's share of the time spent implementing an analysis is devoted to preparing the data itself, rather than to coding or running a particular model that uses the data. This is where Pandas and  Python's standard library are beneficial, providing high-level, flexible, and efficient tools for manipulating your data as needed.\n"
   ]
  },
  {
   "cell_type": "code",
   "execution_count": 1,
   "metadata": {
    "collapsed": false
   },
   "outputs": [],
   "source": [
    "%matplotlib inline\n",
    "import pandas as pd\n",
    "import numpy as np\n",
    "import matplotlib.pyplot as plt\n",
    "import seaborn as sns\n",
    "sns.set_context('notebook')"
   ]
  },
  {
   "cell_type": "code",
   "execution_count": null,
   "metadata": {
    "collapsed": true
   },
   "outputs": [],
   "source": []
  },
  {
   "cell_type": "code",
   "execution_count": null,
   "metadata": {
    "collapsed": true
   },
   "outputs": [],
   "source": []
  },
  {
   "cell_type": "markdown",
   "metadata": {},
   "source": [
    "## Date/Time data handling\n",
    "\n",
    "Date and time data are inherently problematic. There are an unequal number of days in every month, an unequal number of days in a year (due to leap years), and time zones that vary over space. Yet information about time is essential in many analyses, particularly in the case of time series analysis."
   ]
  },
  {
   "cell_type": "markdown",
   "metadata": {},
   "source": [
    "The `datetime` built-in library handles temporal information down to the nanosecond."
   ]
  },
  {
   "cell_type": "code",
   "execution_count": 2,
   "metadata": {
    "collapsed": false
   },
   "outputs": [],
   "source": [
    "from datetime import datetime\n"
   ]
  },
  {
   "cell_type": "code",
   "execution_count": null,
   "metadata": {
    "collapsed": true
   },
   "outputs": [],
   "source": []
  },
  {
   "cell_type": "code",
   "execution_count": null,
   "metadata": {
    "collapsed": true
   },
   "outputs": [],
   "source": []
  },
  {
   "cell_type": "code",
   "execution_count": null,
   "metadata": {
    "collapsed": true
   },
   "outputs": [],
   "source": []
  },
  {
   "cell_type": "code",
   "execution_count": 3,
   "metadata": {
    "collapsed": false
   },
   "outputs": [
    {
     "data": {
      "text/plain": [
       "datetime.datetime(2016, 10, 1, 23, 30, 33, 733878)"
      ]
     },
     "execution_count": 3,
     "metadata": {},
     "output_type": "execute_result"
    }
   ],
   "source": [
    "now = datetime.now()\n",
    "now\n"
   ]
  },
  {
   "cell_type": "code",
   "execution_count": null,
   "metadata": {
    "collapsed": true
   },
   "outputs": [],
   "source": []
  },
  {
   "cell_type": "code",
   "execution_count": null,
   "metadata": {
    "collapsed": true
   },
   "outputs": [],
   "source": []
  },
  {
   "cell_type": "code",
   "execution_count": null,
   "metadata": {
    "collapsed": true
   },
   "outputs": [],
   "source": []
  },
  {
   "cell_type": "code",
   "execution_count": null,
   "metadata": {
    "collapsed": true
   },
   "outputs": [],
   "source": []
  },
  {
   "cell_type": "code",
   "execution_count": null,
   "metadata": {
    "collapsed": true
   },
   "outputs": [],
   "source": []
  },
  {
   "cell_type": "code",
   "execution_count": 4,
   "metadata": {
    "collapsed": false
   },
   "outputs": [
    {
     "data": {
      "text/plain": [
       "1"
      ]
     },
     "execution_count": 4,
     "metadata": {},
     "output_type": "execute_result"
    }
   ],
   "source": [
    "now.day"
   ]
  },
  {
   "cell_type": "code",
   "execution_count": null,
   "metadata": {
    "collapsed": true
   },
   "outputs": [],
   "source": []
  },
  {
   "cell_type": "code",
   "execution_count": null,
   "metadata": {
    "collapsed": true
   },
   "outputs": [],
   "source": []
  },
  {
   "cell_type": "code",
   "execution_count": null,
   "metadata": {
    "collapsed": true
   },
   "outputs": [],
   "source": []
  },
  {
   "cell_type": "code",
   "execution_count": 5,
   "metadata": {
    "collapsed": false
   },
   "outputs": [
    {
     "data": {
      "text/plain": [
       "5"
      ]
     },
     "execution_count": 5,
     "metadata": {},
     "output_type": "execute_result"
    }
   ],
   "source": [
    "now.weekday()"
   ]
  },
  {
   "cell_type": "code",
   "execution_count": null,
   "metadata": {
    "collapsed": true
   },
   "outputs": [],
   "source": []
  },
  {
   "cell_type": "code",
   "execution_count": null,
   "metadata": {
    "collapsed": true
   },
   "outputs": [],
   "source": []
  },
  {
   "cell_type": "code",
   "execution_count": null,
   "metadata": {
    "collapsed": true
   },
   "outputs": [],
   "source": []
  },
  {
   "cell_type": "markdown",
   "metadata": {},
   "source": [
    "In addition to `datetime` there are simpler objects for date and time information only, respectively."
   ]
  },
  {
   "cell_type": "code",
   "execution_count": 6,
   "metadata": {
    "collapsed": false
   },
   "outputs": [],
   "source": [
    "from datetime import date, time"
   ]
  },
  {
   "cell_type": "code",
   "execution_count": null,
   "metadata": {
    "collapsed": true
   },
   "outputs": [],
   "source": []
  },
  {
   "cell_type": "code",
   "execution_count": null,
   "metadata": {
    "collapsed": true
   },
   "outputs": [],
   "source": []
  },
  {
   "cell_type": "code",
   "execution_count": null,
   "metadata": {
    "collapsed": true
   },
   "outputs": [],
   "source": []
  },
  {
   "cell_type": "code",
   "execution_count": 7,
   "metadata": {
    "collapsed": false
   },
   "outputs": [
    {
     "data": {
      "text/plain": [
       "datetime.time(3, 24)"
      ]
     },
     "execution_count": 7,
     "metadata": {},
     "output_type": "execute_result"
    }
   ],
   "source": [
    "time(3, 24)"
   ]
  },
  {
   "cell_type": "code",
   "execution_count": null,
   "metadata": {
    "collapsed": true
   },
   "outputs": [],
   "source": []
  },
  {
   "cell_type": "code",
   "execution_count": null,
   "metadata": {
    "collapsed": true
   },
   "outputs": [],
   "source": []
  },
  {
   "cell_type": "code",
   "execution_count": null,
   "metadata": {
    "collapsed": true
   },
   "outputs": [],
   "source": []
  },
  {
   "cell_type": "code",
   "execution_count": 8,
   "metadata": {
    "collapsed": false
   },
   "outputs": [
    {
     "data": {
      "text/plain": [
       "datetime.date(1970, 9, 3)"
      ]
     },
     "execution_count": 8,
     "metadata": {},
     "output_type": "execute_result"
    }
   ],
   "source": [
    "\n",
    "date(1970, 9, 3)"
   ]
  },
  {
   "cell_type": "code",
   "execution_count": null,
   "metadata": {
    "collapsed": true
   },
   "outputs": [],
   "source": []
  },
  {
   "cell_type": "code",
   "execution_count": null,
   "metadata": {
    "collapsed": true
   },
   "outputs": [],
   "source": []
  },
  {
   "cell_type": "markdown",
   "metadata": {},
   "source": [
    "Having a custom data type for dates and times is convenient because we can perform operations on them easily. For example, we may want to calculate the difference between two times:"
   ]
  },
  {
   "cell_type": "code",
   "execution_count": 9,
   "metadata": {
    "collapsed": false
   },
   "outputs": [
    {
     "data": {
      "text/plain": [
       "datetime.timedelta(17075, 84633, 733878)"
      ]
     },
     "execution_count": 9,
     "metadata": {},
     "output_type": "execute_result"
    }
   ],
   "source": [
    "my_age = now - datetime(1970, 1, 1)\n",
    "my_age\n"
   ]
  },
  {
   "cell_type": "code",
   "execution_count": null,
   "metadata": {
    "collapsed": true
   },
   "outputs": [],
   "source": []
  },
  {
   "cell_type": "code",
   "execution_count": null,
   "metadata": {
    "collapsed": true
   },
   "outputs": [],
   "source": []
  },
  {
   "cell_type": "code",
   "execution_count": null,
   "metadata": {
    "collapsed": true
   },
   "outputs": [],
   "source": []
  },
  {
   "cell_type": "code",
   "execution_count": 10,
   "metadata": {
    "collapsed": false
   },
   "outputs": [
    {
     "name": "stdout",
     "output_type": "stream",
     "text": [
      "<type 'datetime.timedelta'>\n"
     ]
    },
    {
     "data": {
      "text/plain": [
       "46"
      ]
     },
     "execution_count": 10,
     "metadata": {},
     "output_type": "execute_result"
    }
   ],
   "source": [
    "print(type(my_age))\n",
    "my_age.days/365\n"
   ]
  },
  {
   "cell_type": "code",
   "execution_count": null,
   "metadata": {
    "collapsed": true
   },
   "outputs": [],
   "source": []
  },
  {
   "cell_type": "markdown",
   "metadata": {},
   "source": [
    "In this section, we will manipulate data collected from ocean-going vessels on the eastern seaboard. Vessel operations are monitored using the Automatic Identification System (AIS), a safety at sea navigation technology which vessels are required to maintain and that uses transponders to transmit very high frequency (VHF) radio signals containing static information including ship name, call sign, and country of origin, as well as dynamic information unique to a particular voyage such as vessel location, heading, and speed. \n",
    "\n",
    "The International Maritime Organization’s (IMO) International Convention for the Safety of Life at Sea requires functioning AIS capabilities on all vessels 300 gross tons or greater and the US Coast Guard requires AIS on nearly all vessels sailing in U.S. waters. The Coast Guard has established a national network of AIS receivers that provides coverage of nearly all U.S. waters. AIS signals are transmitted several times each minute and the network is capable of handling thousands of reports per minute and updates as often as every two seconds. Therefore, a typical voyage in our study might include the transmission of hundreds or thousands of AIS encoded signals. This provides a rich source of spatial data that includes both spatial and temporal information.\n",
    "\n",
    "For our purposes, we will use summarized data that describes the transit of a given vessel through a particular administrative area. The data includes the start and end time of the transit segment, as well as information about the speed of the vessel, how far it travelled, etc."
   ]
  },
  {
   "cell_type": "code",
   "execution_count": 11,
   "metadata": {
    "collapsed": false
   },
   "outputs": [
    {
     "data": {
      "text/html": [
       "<div>\n",
       "<table border=\"1\" class=\"dataframe\">\n",
       "  <thead>\n",
       "    <tr style=\"text-align: right;\">\n",
       "      <th></th>\n",
       "      <th>mmsi</th>\n",
       "      <th>name</th>\n",
       "      <th>transit</th>\n",
       "      <th>segment</th>\n",
       "      <th>seg_length</th>\n",
       "      <th>avg_sog</th>\n",
       "      <th>min_sog</th>\n",
       "      <th>max_sog</th>\n",
       "      <th>pdgt10</th>\n",
       "      <th>st_time</th>\n",
       "      <th>end_time</th>\n",
       "    </tr>\n",
       "  </thead>\n",
       "  <tbody>\n",
       "    <tr>\n",
       "      <th>0</th>\n",
       "      <td>1</td>\n",
       "      <td>Us Govt Ves</td>\n",
       "      <td>1</td>\n",
       "      <td>1</td>\n",
       "      <td>5.1</td>\n",
       "      <td>13.2</td>\n",
       "      <td>9.2</td>\n",
       "      <td>14.5</td>\n",
       "      <td>96.5</td>\n",
       "      <td>2/10/09 16:03</td>\n",
       "      <td>2/10/09 16:27</td>\n",
       "    </tr>\n",
       "    <tr>\n",
       "      <th>1</th>\n",
       "      <td>1</td>\n",
       "      <td>Dredge Capt Frank</td>\n",
       "      <td>1</td>\n",
       "      <td>1</td>\n",
       "      <td>13.5</td>\n",
       "      <td>18.6</td>\n",
       "      <td>10.4</td>\n",
       "      <td>20.6</td>\n",
       "      <td>100.0</td>\n",
       "      <td>4/6/09 14:31</td>\n",
       "      <td>4/6/09 15:20</td>\n",
       "    </tr>\n",
       "    <tr>\n",
       "      <th>2</th>\n",
       "      <td>1</td>\n",
       "      <td>Us Gov Vessel</td>\n",
       "      <td>1</td>\n",
       "      <td>1</td>\n",
       "      <td>4.3</td>\n",
       "      <td>16.2</td>\n",
       "      <td>10.3</td>\n",
       "      <td>20.5</td>\n",
       "      <td>100.0</td>\n",
       "      <td>4/6/09 14:36</td>\n",
       "      <td>4/6/09 14:55</td>\n",
       "    </tr>\n",
       "    <tr>\n",
       "      <th>3</th>\n",
       "      <td>1</td>\n",
       "      <td>Us Gov Vessel</td>\n",
       "      <td>2</td>\n",
       "      <td>1</td>\n",
       "      <td>9.2</td>\n",
       "      <td>15.4</td>\n",
       "      <td>14.5</td>\n",
       "      <td>16.1</td>\n",
       "      <td>100.0</td>\n",
       "      <td>4/10/09 17:58</td>\n",
       "      <td>4/10/09 18:34</td>\n",
       "    </tr>\n",
       "    <tr>\n",
       "      <th>4</th>\n",
       "      <td>1</td>\n",
       "      <td>Dredge Capt Frank</td>\n",
       "      <td>2</td>\n",
       "      <td>1</td>\n",
       "      <td>9.2</td>\n",
       "      <td>15.4</td>\n",
       "      <td>14.6</td>\n",
       "      <td>16.2</td>\n",
       "      <td>100.0</td>\n",
       "      <td>4/10/09 17:59</td>\n",
       "      <td>4/10/09 18:35</td>\n",
       "    </tr>\n",
       "  </tbody>\n",
       "</table>\n",
       "</div>"
      ],
      "text/plain": [
       "   mmsi               name  transit  segment  seg_length  avg_sog  min_sog  \\\n",
       "0     1        Us Govt Ves        1        1         5.1     13.2      9.2   \n",
       "1     1  Dredge Capt Frank        1        1        13.5     18.6     10.4   \n",
       "2     1      Us Gov Vessel        1        1         4.3     16.2     10.3   \n",
       "3     1      Us Gov Vessel        2        1         9.2     15.4     14.5   \n",
       "4     1  Dredge Capt Frank        2        1         9.2     15.4     14.6   \n",
       "\n",
       "   max_sog  pdgt10        st_time       end_time  \n",
       "0     14.5    96.5  2/10/09 16:03  2/10/09 16:27  \n",
       "1     20.6   100.0   4/6/09 14:31   4/6/09 15:20  \n",
       "2     20.5   100.0   4/6/09 14:36   4/6/09 14:55  \n",
       "3     16.1   100.0  4/10/09 17:58  4/10/09 18:34  \n",
       "4     16.2   100.0  4/10/09 17:59  4/10/09 18:35  "
      ]
     },
     "execution_count": 11,
     "metadata": {},
     "output_type": "execute_result"
    }
   ],
   "source": [
    "segments = pd.read_csv(\"Data/AIS/transit_segments.csv\")\n",
    "segments.head()\n"
   ]
  },
  {
   "cell_type": "code",
   "execution_count": null,
   "metadata": {
    "collapsed": true
   },
   "outputs": [],
   "source": []
  },
  {
   "cell_type": "code",
   "execution_count": null,
   "metadata": {
    "collapsed": true
   },
   "outputs": [],
   "source": []
  },
  {
   "cell_type": "code",
   "execution_count": null,
   "metadata": {
    "collapsed": true
   },
   "outputs": [],
   "source": []
  },
  {
   "cell_type": "markdown",
   "metadata": {},
   "source": [
    "For example, we might be interested in the distribution of transit lengths, so we can plot them as a histogram:"
   ]
  },
  {
   "cell_type": "code",
   "execution_count": 12,
   "metadata": {
    "collapsed": false
   },
   "outputs": [
    {
     "data": {
      "text/plain": [
       "<matplotlib.axes._subplots.AxesSubplot at 0x7f26367df1d0>"
      ]
     },
     "execution_count": 12,
     "metadata": {},
     "output_type": "execute_result"
    },
    {
     "data": {
      "image/png": "[encoded data removed]",
      "text/plain": [
       "<matplotlib.figure.Figure at 0x7f2614d8e950>"
      ]
     },
     "metadata": {},
     "output_type": "display_data"
    }
   ],
   "source": [
    "segments.seg_length.hist(bins=500)"
   ]
  },
  {
   "cell_type": "code",
   "execution_count": null,
   "metadata": {
    "collapsed": true
   },
   "outputs": [],
   "source": []
  },
  {
   "cell_type": "code",
   "execution_count": null,
   "metadata": {
    "collapsed": true
   },
   "outputs": [],
   "source": []
  },
  {
   "cell_type": "markdown",
   "metadata": {},
   "source": [
    "Though most of the transits appear to be short, there are a few longer distances that make the plot difficult to read. This is where a transformation is useful:"
   ]
  },
  {
   "cell_type": "code",
   "execution_count": 13,
   "metadata": {
    "collapsed": false
   },
   "outputs": [
    {
     "data": {
      "text/plain": [
       "<matplotlib.axes._subplots.AxesSubplot at 0x7fc695ace990>"
      ]
     },
     "execution_count": 13,
     "metadata": {},
     "output_type": "execute_result"
    },
    {
     "data": {
      "image/png": "[encoded data removed]",
      "text/plain": [
       "<matplotlib.figure.Figure at 0x7fc695ac42d0>"
      ]
     },
     "metadata": {},
     "output_type": "display_data"
    }
   ],
   "source": [
    "segments.seg_length.apply(np.log).hist(bins=500)\n"
   ]
  },
  {
   "cell_type": "code",
   "execution_count": null,
   "metadata": {
    "collapsed": true
   },
   "outputs": [],
   "source": []
  },
  {
   "cell_type": "markdown",
   "metadata": {},
   "source": [
    "We can see that although there are date/time fields in the dataset, they are not in any specialized format, such as `datetime`."
   ]
  },
  {
   "cell_type": "code",
   "execution_count": 13,
   "metadata": {
    "collapsed": false
   },
   "outputs": [
    {
     "data": {
      "text/plain": [
       "dtype('O')"
      ]
     },
     "execution_count": 13,
     "metadata": {},
     "output_type": "execute_result"
    }
   ],
   "source": [
    "segments.st_time.dtype"
   ]
  },
  {
   "cell_type": "code",
   "execution_count": null,
   "metadata": {
    "collapsed": true
   },
   "outputs": [],
   "source": []
  },
  {
   "cell_type": "markdown",
   "metadata": {},
   "source": [
    "Our first order of business will be to convert these data to `datetime`. The `strptime` method parses a string representation of a date and/or time field, according to the expected format of this information."
   ]
  },
  {
   "cell_type": "code",
   "execution_count": 16,
   "metadata": {
    "collapsed": false
   },
   "outputs": [],
   "source": [
    "datetime.strptime(segments.st_time.ix[0], '%m/%d/%y %H:%M')\n",
    "segments.st_time.ix[0]"
   ]
  },
  {
   "cell_type": "code",
   "execution_count": null,
   "metadata": {
    "collapsed": true
   },
   "outputs": [],
   "source": []
  },
  {
   "cell_type": "code",
   "execution_count": null,
   "metadata": {
    "collapsed": true
   },
   "outputs": [],
   "source": []
  },
  {
   "cell_type": "code",
   "execution_count": null,
   "metadata": {
    "collapsed": true
   },
   "outputs": [],
   "source": []
  },
  {
   "cell_type": "markdown",
   "metadata": {},
   "source": [
    "The `dateutil` package includes a parser that attempts to detect the format of the date strings, and convert them automatically."
   ]
  },
  {
   "cell_type": "code",
   "execution_count": 17,
   "metadata": {
    "collapsed": false
   },
   "outputs": [],
   "source": [
    "from dateutil.parser import parse"
   ]
  },
  {
   "cell_type": "code",
   "execution_count": null,
   "metadata": {
    "collapsed": true
   },
   "outputs": [],
   "source": []
  },
  {
   "cell_type": "code",
   "execution_count": 18,
   "metadata": {
    "collapsed": false
   },
   "outputs": [
    {
     "data": {
      "text/plain": [
       "datetime.datetime(2009, 2, 10, 16, 3)"
      ]
     },
     "execution_count": 18,
     "metadata": {},
     "output_type": "execute_result"
    }
   ],
   "source": [
    "parse(segments.st_time.ix[0])"
   ]
  },
  {
   "cell_type": "code",
   "execution_count": null,
   "metadata": {
    "collapsed": true
   },
   "outputs": [],
   "source": []
  },
  {
   "cell_type": "markdown",
   "metadata": {},
   "source": [
    "We can convert all the dates in a particular column by using the `apply` method."
   ]
  },
  {
   "cell_type": "code",
   "execution_count": 19,
   "metadata": {
    "collapsed": false
   },
   "outputs": [
    {
     "data": {
      "text/plain": [
       "0        2009-02-10 16:03:00\n",
       "1        2009-04-06 14:31:00\n",
       "2        2009-04-06 14:36:00\n",
       "3        2009-04-10 17:58:00\n",
       "4        2009-04-10 17:59:00\n",
       "5        2010-03-20 16:06:00\n",
       "6        2010-03-20 18:05:00\n",
       "7        2011-05-04 11:28:00\n",
       "8        2010-06-05 11:23:00\n",
       "9        2010-06-08 11:03:00\n",
       "10       2010-06-14 17:07:00\n",
       "11       2010-06-17 16:35:00\n",
       "12       2010-07-11 11:51:00\n",
       "13       2010-07-12 15:33:00\n",
       "14       2010-07-20 19:23:00\n",
       "15       2010-09-10 14:00:00\n",
       "16       2011-03-14 16:13:00\n",
       "17       2011-03-18 11:18:00\n",
       "18       2011-04-25 16:37:00\n",
       "19       2011-05-14 15:51:00\n",
       "20       2011-05-19 12:34:00\n",
       "21       2011-05-23 21:29:00\n",
       "22       2011-05-25 11:46:00\n",
       "23       2011-06-01 14:32:00\n",
       "24       2011-06-07 14:43:00\n",
       "25       2011-08-08 15:42:00\n",
       "26       2011-09-06 20:59:00\n",
       "27       2011-09-08 08:22:00\n",
       "28       2011-09-12 14:56:00\n",
       "29       2011-10-25 12:52:00\n",
       "                 ...        \n",
       "262496   2009-11-22 02:13:00\n",
       "262497   2009-11-22 02:15:00\n",
       "262498   2009-12-02 01:46:00\n",
       "262499   2009-12-02 03:12:00\n",
       "262500   2009-12-06 16:09:00\n",
       "262501   2009-12-06 16:21:00\n",
       "262502   2009-12-11 23:49:00\n",
       "262503   2009-12-15 22:23:00\n",
       "262504   2009-12-15 22:51:00\n",
       "262505   2009-12-31 10:17:00\n",
       "262506   2010-01-01 11:22:00\n",
       "262507   2010-01-13 17:40:00\n",
       "262508   2010-01-13 18:07:00\n",
       "262509   2010-01-24 05:53:00\n",
       "262510   2010-03-20 05:14:00\n",
       "262511   2010-04-14 15:09:00\n",
       "262512   2010-04-19 00:20:00\n",
       "262513   2010-05-13 14:13:00\n",
       "262514   2010-05-19 19:46:00\n",
       "262515   2010-05-31 14:27:00\n",
       "262516   2010-06-05 05:25:00\n",
       "262517   2010-06-27 02:35:00\n",
       "262518   2010-07-01 03:49:00\n",
       "262519   2010-07-02 03:30:00\n",
       "262520   2010-06-13 10:32:00\n",
       "262521   2010-06-15 12:49:00\n",
       "262522   2010-06-15 21:32:00\n",
       "262523   2010-06-17 19:16:00\n",
       "262524   2010-06-18 02:52:00\n",
       "262525   2010-06-18 10:19:00\n",
       "Name: st_time, dtype: datetime64[ns]"
      ]
     },
     "execution_count": 19,
     "metadata": {},
     "output_type": "execute_result"
    }
   ],
   "source": [
    "segments.st_time.apply(lambda d: datetime.strptime(d, '%m/%d/%y %H:%M'))"
   ]
  },
  {
   "cell_type": "code",
   "execution_count": null,
   "metadata": {
    "collapsed": true
   },
   "outputs": [],
   "source": []
  },
  {
   "cell_type": "markdown",
   "metadata": {},
   "source": [
    "As a convenience, Pandas has a `to_datetime` method that will parse and convert an entire Series of formatted strings into `datetime` objects."
   ]
  },
  {
   "cell_type": "code",
   "execution_count": 20,
   "metadata": {
    "collapsed": false
   },
   "outputs": [
    {
     "data": {
      "text/plain": [
       "0   2009-02-10 16:03:00\n",
       "1   2009-04-06 14:31:00\n",
       "2   2009-04-06 14:36:00\n",
       "3   2009-04-10 17:58:00\n",
       "4   2009-04-10 17:59:00\n",
       "5   2010-03-20 16:06:00\n",
       "6   2010-03-20 18:05:00\n",
       "7   2011-05-04 11:28:00\n",
       "8   2010-06-05 11:23:00\n",
       "9   2010-06-08 11:03:00\n",
       "Name: st_time, dtype: datetime64[ns]"
      ]
     },
     "execution_count": 20,
     "metadata": {},
     "output_type": "execute_result"
    }
   ],
   "source": [
    "pd.to_datetime(segments.st_time[:10])"
   ]
  },
  {
   "cell_type": "code",
   "execution_count": null,
   "metadata": {
    "collapsed": true
   },
   "outputs": [],
   "source": []
  },
  {
   "cell_type": "markdown",
   "metadata": {},
   "source": [
    "Pandas also has a custom NA value for missing datetime objects, `NaT`."
   ]
  },
  {
   "cell_type": "code",
   "execution_count": 21,
   "metadata": {
    "collapsed": false
   },
   "outputs": [
    {
     "data": {
      "text/plain": [
       "DatetimeIndex(['NaT'], dtype='datetime64[ns]', freq=None)"
      ]
     },
     "execution_count": 21,
     "metadata": {},
     "output_type": "execute_result"
    }
   ],
   "source": [
    "pd.to_datetime([None])"
   ]
  },
  {
   "cell_type": "code",
   "execution_count": null,
   "metadata": {
    "collapsed": true
   },
   "outputs": [],
   "source": []
  },
  {
   "cell_type": "markdown",
   "metadata": {},
   "source": [
    "Also, if `to_datetime()` has problems parsing any particular date/time format, you can pass the spec in using the `format=` argument."
   ]
  },
  {
   "cell_type": "markdown",
   "metadata": {},
   "source": [
    "The `read_*` functions now have an optional `parse_dates` argument that try to convert any columns passed to it into `datetime` format upon import:"
   ]
  },
  {
   "cell_type": "code",
   "execution_count": null,
   "metadata": {
    "collapsed": true
   },
   "outputs": [],
   "source": [
    "segments = pd.read_csv(\"Data/AIS/transit_segments.csv\", parse_dates=['st_time', 'end_time'])"
   ]
  },
  {
   "cell_type": "code",
   "execution_count": null,
   "metadata": {
    "collapsed": true
   },
   "outputs": [],
   "source": []
  },
  {
   "cell_type": "code",
   "execution_count": null,
   "metadata": {
    "collapsed": true
   },
   "outputs": [],
   "source": []
  },
  {
   "cell_type": "code",
   "execution_count": null,
   "metadata": {
    "collapsed": false
   },
   "outputs": [],
   "source": [
    "segments.dtypes"
   ]
  },
  {
   "cell_type": "code",
   "execution_count": null,
   "metadata": {
    "collapsed": true
   },
   "outputs": [],
   "source": []
  },
  {
   "cell_type": "code",
   "execution_count": null,
   "metadata": {
    "collapsed": true
   },
   "outputs": [],
   "source": []
  },
  {
   "cell_type": "markdown",
   "metadata": {},
   "source": [
    "Columns of the `datetime` type have an **accessor** to easily extract properties of the data type. This will return a `Series`, with the same row index as the `DataFrame`. For example:"
   ]
  },
  {
   "cell_type": "code",
   "execution_count": null,
   "metadata": {
    "collapsed": false
   },
   "outputs": [],
   "source": [
    "segments.st_time.dt.month.head()"
   ]
  },
  {
   "cell_type": "code",
   "execution_count": null,
   "metadata": {
    "collapsed": true
   },
   "outputs": [],
   "source": []
  },
  {
   "cell_type": "code",
   "execution_count": null,
   "metadata": {
    "collapsed": false
   },
   "outputs": [],
   "source": [
    "segments.st_time.dt.hour.head()"
   ]
  },
  {
   "cell_type": "markdown",
   "metadata": {},
   "source": [
    "This can be used to easily filter rows by particular temporal attributes:"
   ]
  },
  {
   "cell_type": "code",
   "execution_count": null,
   "metadata": {
    "collapsed": false
   },
   "outputs": [],
   "source": [
    "segments[segments.st_time.dt.month==2].head()"
   ]
  },
  {
   "cell_type": "markdown",
   "metadata": {},
   "source": [
    "In addition, time zone information can be applied:"
   ]
  },
  {
   "cell_type": "code",
   "execution_count": null,
   "metadata": {
    "collapsed": false
   },
   "outputs": [],
   "source": [
    "segments.st_time.dt.tz_localize('UTC').head()"
   ]
  },
  {
   "cell_type": "code",
   "execution_count": null,
   "metadata": {
    "collapsed": false
   },
   "outputs": [],
   "source": [
    "segments.st_time.dt.tz_localize('UTC').dt.tz_convert('US/Eastern').head()"
   ]
  },
  {
   "cell_type": "markdown",
   "metadata": {},
   "source": [
    "## Merging and joining DataFrame objects"
   ]
  },
  {
   "cell_type": "markdown",
   "metadata": {},
   "source": [
    "Now that we have the vessel transit information as we need it, we may want a little more information regarding the vessels themselves. In the `data/AIS` folder there is a second table that contains information about each of the ships that traveled the segments in the `segments` table."
   ]
  },
  {
   "cell_type": "code",
   "execution_count": null,
   "metadata": {
    "collapsed": false
   },
   "outputs": [],
   "source": [
    "vessels = pd.read_csv(\"Data/AIS/vessel_information.csv\", index_col='mmsi')\n",
    "vessels.head()"
   ]
  },
  {
   "cell_type": "code",
   "execution_count": null,
   "metadata": {
    "collapsed": false
   },
   "outputs": [],
   "source": [
    "[v for v in vessels.type.unique() if v.find('/')==-1]"
   ]
  },
  {
   "cell_type": "code",
   "execution_count": null,
   "metadata": {
    "collapsed": false
   },
   "outputs": [],
   "source": [
    "vessels.type.value_counts()"
   ]
  },
  {
   "cell_type": "markdown",
   "metadata": {},
   "source": [
    "The challenge, however, is that several ships have travelled multiple segments, so there is not a one-to-one relationship between the rows of the two tables. The table of vessel information has a *one-to-many* relationship with the segments.\n",
    "\n",
    "In Pandas, we can combine tables according to the value of one or more *keys* that are used to identify rows, much like an index. Using a trivial example:"
   ]
  },
  {
   "cell_type": "code",
   "execution_count": null,
   "metadata": {
    "collapsed": false
   },
   "outputs": [],
   "source": [
    "df1 = pd.DataFrame(dict(id=range(4), age=np.random.randint(18, 31, size=4)))\n",
    "df2 = pd.DataFrame(dict(id=list(range(3))+list(range(3)), \n",
    "                        score=np.random.random(size=6)))\n",
    "\n",
    "df1"
   ]
  },
  {
   "cell_type": "code",
   "execution_count": null,
   "metadata": {
    "collapsed": false
   },
   "outputs": [],
   "source": [
    "df2"
   ]
  },
  {
   "cell_type": "code",
   "execution_count": null,
   "metadata": {
    "collapsed": false
   },
   "outputs": [],
   "source": [
    "pd.merge(df1, df2)"
   ]
  },
  {
   "cell_type": "markdown",
   "metadata": {},
   "source": [
    "Notice that without any information about which column to use as a key, Pandas did the right thing and used the `id` column in both tables. Unless specified otherwise, `merge` will used any common column names as keys for merging the tables. \n",
    "\n",
    "Notice also that `id=3` from `df1` was omitted from the merged table. This is because, by default, `merge` performs an **inner join** on the tables, meaning that the merged table represents an intersection of the two tables."
   ]
  },
  {
   "cell_type": "code",
   "execution_count": null,
   "metadata": {
    "collapsed": false
   },
   "outputs": [],
   "source": [
    "pd.merge(df1, df2, how='outer')"
   ]
  },
  {
   "cell_type": "markdown",
   "metadata": {},
   "source": [
    "The **outer join** above yields the union of the two tables, so all rows are represented, with missing values inserted as appropriate. One can also perform **right** and **left** joins to include all rows of the right or left table (*i.e.* first or second argument to `merge`), but not necessarily the other."
   ]
  },
  {
   "cell_type": "markdown",
   "metadata": {},
   "source": [
    "Looking at the two datasets that we wish to merge:"
   ]
  },
  {
   "cell_type": "code",
   "execution_count": null,
   "metadata": {
    "collapsed": false
   },
   "outputs": [],
   "source": [
    "segments.head(1)"
   ]
  },
  {
   "cell_type": "code",
   "execution_count": null,
   "metadata": {
    "collapsed": false
   },
   "outputs": [],
   "source": [
    "vessels.head(1)"
   ]
  },
  {
   "cell_type": "markdown",
   "metadata": {},
   "source": [
    "we see that there is a `mmsi` value (a vessel identifier) in each table, but it is used as an index for the `vessels` table. In this case, we have to specify to join on the index for this table, and on the `mmsi` column for the other."
   ]
  },
  {
   "cell_type": "code",
   "execution_count": null,
   "metadata": {
    "collapsed": false
   },
   "outputs": [],
   "source": [
    "segments_merged = pd.merge(vessels, segments, left_index=True, right_on='mmsi')"
   ]
  },
  {
   "cell_type": "code",
   "execution_count": null,
   "metadata": {
    "collapsed": false
   },
   "outputs": [],
   "source": [
    "segments_merged.head()"
   ]
  },
  {
   "cell_type": "markdown",
   "metadata": {},
   "source": [
    "In this case, the default inner join is suitable; we are not interested in observations from either table that do not have corresponding entries in the other. \n",
    "\n",
    "Notice that `mmsi` field that was an index on the `vessels` table is no longer an index on the merged table."
   ]
  },
  {
   "cell_type": "markdown",
   "metadata": {},
   "source": [
    "Here, we used the `merge` function to perform the merge; we could also have used the `merge` *method* for either of the tables:"
   ]
  },
  {
   "cell_type": "code",
   "execution_count": null,
   "metadata": {
    "collapsed": false
   },
   "outputs": [],
   "source": [
    "vessels.merge(segments, left_index=True, right_on='mmsi').head()"
   ]
  },
  {
   "cell_type": "markdown",
   "metadata": {},
   "source": [
    "Occasionally, there will be fields with the same in both tables that we do not wish to use to join the tables; they may contain different information, despite having the same name. In this case, Pandas will by default append suffixes `_x` and `_y` to the columns to uniquely identify them."
   ]
  },
  {
   "cell_type": "code",
   "execution_count": null,
   "metadata": {
    "collapsed": false
   },
   "outputs": [],
   "source": [
    "segments['type'] = 'foo'\n",
    "pd.merge(vessels, segments, left_index=True, right_on='mmsi').head()"
   ]
  },
  {
   "cell_type": "markdown",
   "metadata": {},
   "source": [
    "This behavior can be overridden by specifying a `suffixes` argument, containing a list of the suffixes to be used for the columns of the left and right columns, respectively."
   ]
  },
  {
   "cell_type": "markdown",
   "metadata": {},
   "source": [
    "## Concatenation\n",
    "\n",
    "A common data manipulation is appending rows or columns to a dataset that already conform to the dimensions of the exsiting rows or colums, respectively. In NumPy, this is done either with `concatenate` or the convenience \"functions\" `c_` and `r_`:"
   ]
  },
  {
   "cell_type": "code",
   "execution_count": null,
   "metadata": {
    "collapsed": false
   },
   "outputs": [],
   "source": [
    "np.concatenate([np.random.random(5), np.random.random(5)])"
   ]
  },
  {
   "cell_type": "code",
   "execution_count": null,
   "metadata": {
    "collapsed": false
   },
   "outputs": [],
   "source": [
    "np.r_[np.random.random(5), np.random.random(5)]"
   ]
  },
  {
   "cell_type": "code",
   "execution_count": null,
   "metadata": {
    "collapsed": false
   },
   "outputs": [],
   "source": [
    "np.c_[np.random.random(5), np.random.random(5)]"
   ]
  },
  {
   "cell_type": "markdown",
   "metadata": {},
   "source": [
    "> Notice that `c_` and `r_` are not really functions at all, since it is performing some sort of indexing operation, rather than being called. They are actually *class instances*, but they are here behaving mostly like functions. Don't think about this too hard; just know that they are there."
   ]
  },
  {
   "cell_type": "markdown",
   "metadata": {},
   "source": [
    "This operation is also called *binding* or *stacking*.\n",
    "\n",
    "With Pandas' indexed data structures, there are additional considerations as the overlap in index values between two data structures affects how they are concatenate.\n",
    "\n",
    "Lets import two microbiome datasets, each consisting of counts of microorganiams from a particular patient. We will use the first column of each dataset as the index."
   ]
  },
  {
   "cell_type": "code",
   "execution_count": null,
   "metadata": {
    "collapsed": false
   },
   "outputs": [],
   "source": [
    "mb1 = pd.read_excel('Data/microbiome/MID1.xls', 'Sheet 1', index_col=0, header=None)\n",
    "mb2 = pd.read_excel('Data/microbiome/MID2.xls', 'Sheet 1', index_col=0, header=None)\n",
    "mb1.shape, mb2.shape"
   ]
  },
  {
   "cell_type": "code",
   "execution_count": null,
   "metadata": {
    "collapsed": false
   },
   "outputs": [],
   "source": [
    "mb1.head()"
   ]
  },
  {
   "cell_type": "markdown",
   "metadata": {},
   "source": [
    "Let's give the index and columns meaningful labels:"
   ]
  },
  {
   "cell_type": "code",
   "execution_count": null,
   "metadata": {
    "collapsed": false
   },
   "outputs": [],
   "source": [
    "mb1.columns = mb2.columns = ['Count']"
   ]
  },
  {
   "cell_type": "code",
   "execution_count": null,
   "metadata": {
    "collapsed": false
   },
   "outputs": [],
   "source": [
    "mb1.index.name = mb2.index.name = 'Taxon'"
   ]
  },
  {
   "cell_type": "code",
   "execution_count": null,
   "metadata": {
    "collapsed": false
   },
   "outputs": [],
   "source": [
    "mb1.head()"
   ]
  },
  {
   "cell_type": "markdown",
   "metadata": {},
   "source": [
    "The index of these data is the unique biological classification of each organism, beginning with *domain*, *phylum*, *class*, and for some organisms, going all the way down to the genus level.\n",
    "\n",
    "![classification](http://upload.wikimedia.org/wikipedia/commons/thumb/a/a5/Biological_classification_L_Pengo_vflip.svg/150px-Biological_classification_L_Pengo_vflip.svg.png)"
   ]
  },
  {
   "cell_type": "code",
   "execution_count": null,
   "metadata": {
    "collapsed": false
   },
   "outputs": [],
   "source": [
    "mb1.index[:3]"
   ]
  },
  {
   "cell_type": "code",
   "execution_count": null,
   "metadata": {
    "collapsed": false
   },
   "outputs": [],
   "source": [
    "mb1.index.is_unique"
   ]
  },
  {
   "cell_type": "markdown",
   "metadata": {},
   "source": [
    "If we concatenate along `axis=0` (the default), we will obtain another data frame with the the rows concatenated:"
   ]
  },
  {
   "cell_type": "code",
   "execution_count": null,
   "metadata": {
    "collapsed": false
   },
   "outputs": [],
   "source": [
    "pd.concat([mb1, mb2], axis=0).shape"
   ]
  },
  {
   "cell_type": "markdown",
   "metadata": {},
   "source": [
    "However, the index is no longer unique, due to overlap between the two DataFrames."
   ]
  },
  {
   "cell_type": "code",
   "execution_count": null,
   "metadata": {
    "collapsed": false
   },
   "outputs": [],
   "source": [
    "pd.concat([mb1, mb2], axis=0).index.is_unique"
   ]
  },
  {
   "cell_type": "markdown",
   "metadata": {},
   "source": [
    "Concatenating along `axis=1` will concatenate column-wise, but respecting the indices of the two DataFrames."
   ]
  },
  {
   "cell_type": "code",
   "execution_count": null,
   "metadata": {
    "collapsed": false
   },
   "outputs": [],
   "source": [
    "pd.concat([mb1, mb2], axis=1).shape"
   ]
  },
  {
   "cell_type": "code",
   "execution_count": null,
   "metadata": {
    "collapsed": false
   },
   "outputs": [],
   "source": [
    "pd.concat([mb1, mb2], axis=1).head()"
   ]
  },
  {
   "cell_type": "markdown",
   "metadata": {},
   "source": [
    "If we are only interested in taxa that are included in both DataFrames, we can specify a `join=inner` argument."
   ]
  },
  {
   "cell_type": "code",
   "execution_count": null,
   "metadata": {
    "collapsed": false
   },
   "outputs": [],
   "source": [
    "pd.concat([mb1, mb2], axis=1, join='inner').head()"
   ]
  },
  {
   "cell_type": "markdown",
   "metadata": {},
   "source": [
    "If we wanted to use the second table to *fill values* absent from the first table, we could use `combine_first`."
   ]
  },
  {
   "cell_type": "code",
   "execution_count": null,
   "metadata": {
    "collapsed": false
   },
   "outputs": [],
   "source": [
    "mb1.combine_first(mb2).head()"
   ]
  },
  {
   "cell_type": "markdown",
   "metadata": {},
   "source": [
    "We can also create a hierarchical index based on keys identifying the original tables."
   ]
  },
  {
   "cell_type": "code",
   "execution_count": null,
   "metadata": {
    "collapsed": false
   },
   "outputs": [],
   "source": [
    "pd.concat([mb1, mb2], keys=['patient1', 'patient2']).head()"
   ]
  },
  {
   "cell_type": "code",
   "execution_count": null,
   "metadata": {
    "collapsed": false
   },
   "outputs": [],
   "source": [
    "pd.concat([mb1, mb2], keys=['patient1', 'patient2']).index.is_unique"
   ]
  },
  {
   "cell_type": "markdown",
   "metadata": {},
   "source": [
    "Alternatively, you can pass keys to the concatenation by supplying the DataFrames (or Series) as a dict, resulting in a \"wide\" format table."
   ]
  },
  {
   "cell_type": "code",
   "execution_count": null,
   "metadata": {
    "collapsed": false
   },
   "outputs": [],
   "source": [
    "pd.concat(dict(patient1=mb1, patient2=mb2), axis=1).head()"
   ]
  },
  {
   "cell_type": "markdown",
   "metadata": {},
   "source": [
    "If you want `concat` to work like `numpy.concatanate`, you may provide the `ignore_index=True` argument."
   ]
  },
  {
   "cell_type": "markdown",
   "metadata": {},
   "source": [
    "## Exercise\n",
    "\n",
    "In the *data/microbiome* subdirectory, there are 9 spreadsheets of microbiome data that was acquired from high-throughput RNA sequencing procedures, along with a 10th file that describes the content of each. Write code that imports each of the data spreadsheets and combines them into a single `DataFrame`, adding the identifying information from the metadata spreadsheet as columns in the combined `DataFrame`."
   ]
  },
  {
   "cell_type": "code",
   "execution_count": null,
   "metadata": {
    "collapsed": false
   },
   "outputs": [],
   "source": [
    "# Write solution here\n",
    "import glob\n",
    "\n",
    "path =r'Data/microbiome'\n",
    "\n",
    "header = pd.read_excel(path+\"/\"+\"metadata.xls\")\n",
    " \n",
    "\"\"\"\n",
    "frame = pd.DataFrame(columns=header)\n",
    "df=None\n",
    "for country_name,country_folder, new_cases_row, total_deaths_row, totals_col, desc_col in countries:\n",
    "    allFiles = glob.glob(path + \"/\"+ country_folder + \"/*.csv\")\n",
    "    for file_ in allFiles:\n",
    "        df = pd.read_csv(file_,index_col=None,parse_dates=[0])\n",
    "        date = df.ix[0,0]\n",
    "        new_cases_count = df[df[desc_col].isin(new_cases_row)][totals_col].fillna(0).astype(int).sum(axis=0)\n",
    "        new_deaths_count = df[df[desc_col].isin(total_deaths_row)][totals_col].fillna(0).astype(int).sum(axis=0)\n",
    "        frame.loc[len(frame)]=[country_name,date,new_cases_count,new_deaths_count]\n",
    "frame\n",
    "\n",
    "%matplotlib inline\n",
    "import matplotlib.pyplot as plt\n",
    "fig, ax = plt.subplots(figsize=(8,8))\n",
    "groups = frame[['Country', 'New Cases', 'Date']].groupby('Country')['Date', 'New Cases'] #.plot(kind='kde',ax =ax)\n",
    "groups.get_group(0)\n",
    "\"\"\"\""
   ]
  },
  {
   "cell_type": "code",
   "execution_count": 13,
   "metadata": {
    "collapsed": false
   },
   "outputs": [
    {
     "name": "stdout",
     "output_type": "stream",
     "text": [
      "    Archaea \"Crenarchaeota\" Thermoprotei Desulfurococcales Desulfurococcaceae Ignisphaera  \\\n",
      "0    Archaea \"Crenarchaeota\" Thermoprotei Desulfuro...                                      \n",
      "1    Archaea \"Crenarchaeota\" Thermoprotei Sulfoloba...                                      \n",
      "2    Archaea \"Crenarchaeota\" Thermoprotei Thermopro...                                      \n",
      "3    Archaea \"Euryarchaeota\" \"Methanomicrobia\" Meth...                                      \n",
      "4    Archaea \"Euryarchaeota\" \"Methanomicrobia\" Meth...                                      \n",
      "5    Archaea \"Euryarchaeota\" \"Methanomicrobia\" Meth...                                      \n",
      "6    Archaea \"Euryarchaeota\" Archaeoglobi Archaeogl...                                      \n",
      "7    Archaea \"Euryarchaeota\" Archaeoglobi Archaeogl...                                      \n",
      "8    Archaea \"Euryarchaeota\" Halobacteria Halobacte...                                      \n",
      "9    Archaea \"Euryarchaeota\" Halobacteria Halobacte...                                      \n",
      "10   Archaea \"Euryarchaeota\" Halobacteria Halobacte...                                      \n",
      "11   Archaea \"Euryarchaeota\" Halobacteria Halobacte...                                      \n",
      "12   Archaea \"Euryarchaeota\" Halobacteria Halobacte...                                      \n",
      "13   Archaea \"Euryarchaeota\" Methanococci Methanoco...                                      \n",
      "14   Archaea \"Euryarchaeota\" Methanopyri Methanopyr...                                      \n",
      "15   Archaea \"Euryarchaeota\" Thermoplasmata Thermop...                                      \n",
      "16   Bacteria \"Actinobacteria\" Actinobacteria Actin...                                      \n",
      "17   Bacteria \"Actinobacteria\" Actinobacteria Actin...                                      \n",
      "18   Bacteria \"Actinobacteria\" Actinobacteria Actin...                                      \n",
      "19   Bacteria \"Actinobacteria\" Actinobacteria Actin...                                      \n",
      "20   Bacteria \"Actinobacteria\" Actinobacteria Actin...                                      \n",
      "21   Bacteria \"Actinobacteria\" Actinobacteria Actin...                                      \n",
      "22   Bacteria \"Actinobacteria\" Actinobacteria Actin...                                      \n",
      "23   Bacteria \"Actinobacteria\" Actinobacteria Actin...                                      \n",
      "24   Bacteria \"Actinobacteria\" Actinobacteria Actin...                                      \n",
      "25   Bacteria \"Actinobacteria\" Actinobacteria Actin...                                      \n",
      "26   Bacteria \"Actinobacteria\" Actinobacteria Actin...                                      \n",
      "27   Bacteria \"Actinobacteria\" Actinobacteria Actin...                                      \n",
      "28   Bacteria \"Actinobacteria\" Actinobacteria Actin...                                      \n",
      "29   Bacteria \"Actinobacteria\" Actinobacteria Actin...                                      \n",
      "..                                                 ...                                      \n",
      "241  Bacteria \"Proteobacteria\" Gammaproteobacteria ...                                      \n",
      "242  Bacteria \"Proteobacteria\" Gammaproteobacteria ...                                      \n",
      "243  Bacteria \"Proteobacteria\" Gammaproteobacteria ...                                      \n",
      "244  Bacteria \"Proteobacteria\" Gammaproteobacteria ...                                      \n",
      "245  Bacteria \"Proteobacteria\" Gammaproteobacteria ...                                      \n",
      "246  Bacteria \"Proteobacteria\" Gammaproteobacteria ...                                      \n",
      "247  Bacteria \"Proteobacteria\" Gammaproteobacteria ...                                      \n",
      "248  Bacteria \"Proteobacteria\" Gammaproteobacteria ...                                      \n",
      "249  Bacteria \"Proteobacteria\" Gammaproteobacteria ...                                      \n",
      "250  Bacteria \"Proteobacteria\" Gammaproteobacteria ...                                      \n",
      "251  Bacteria \"Proteobacteria\" Gammaproteobacteria ...                                      \n",
      "252  Bacteria \"Proteobacteria\" Gammaproteobacteria ...                                      \n",
      "253  Bacteria \"Proteobacteria\" Gammaproteobacteria ...                                      \n",
      "254  Bacteria \"Proteobacteria\" Gammaproteobacteria ...                                      \n",
      "255  Bacteria \"Proteobacteria\" Gammaproteobacteria ...                                      \n",
      "256  Bacteria \"Proteobacteria\" Gammaproteobacteria ...                                      \n",
      "257  Bacteria \"Proteobacteria\" Gammaproteobacteria ...                                      \n",
      "258  Bacteria \"Proteobacteria\" Gammaproteobacteria ...                                      \n",
      "259  Bacteria \"Spirochaetes\" Spirochaetes Spirochae...                                      \n",
      "260  Bacteria \"Synergistetes\" Synergistia Synergist...                                      \n",
      "261  Bacteria \"Synergistetes\" Synergistia Synergist...                                      \n",
      "262  Bacteria \"Synergistetes\" Synergistia Synergist...                                      \n",
      "263  Bacteria \"Tenericutes\" Mollicutes Haloplasmata...                                      \n",
      "264  Bacteria \"Thermodesulfobacteria\" Thermodesulfo...                                      \n",
      "265  Bacteria \"Thermotogae\" Thermotogae Thermotogal...                                      \n",
      "266  Bacteria \"Thermotogae\" Thermotogae Thermotogal...                                      \n",
      "267  Bacteria \"Verrucomicrobia\" Opitutae Opitutales...                                      \n",
      "268  Bacteria Cyanobacteria Cyanobacteria  Chloropl...                                      \n",
      "269  Bacteria Cyanobacteria Cyanobacteria  Chloropl...                                      \n",
      "270  Bacteria Cyanobacteria Cyanobacteria  Chloropl...                                      \n",
      "\n",
      "        7  \n",
      "0       2  \n",
      "1       3  \n",
      "2       3  \n",
      "3       7  \n",
      "4       1  \n",
      "5       1  \n",
      "6       1  \n",
      "7       1  \n",
      "8       1  \n",
      "9       4  \n",
      "10      1  \n",
      "11      2  \n",
      "12      4  \n",
      "13      1  \n",
      "14     12  \n",
      "15      2  \n",
      "16      2  \n",
      "17      1  \n",
      "18      1  \n",
      "19      1  \n",
      "20      2  \n",
      "21     53  \n",
      "22      1  \n",
      "23      2  \n",
      "24      3  \n",
      "25      1  \n",
      "26     99  \n",
      "27     17  \n",
      "28      2  \n",
      "29      2  \n",
      "..    ...  \n",
      "241     1  \n",
      "242     1  \n",
      "243    11  \n",
      "244     9  \n",
      "245     1  \n",
      "246   396  \n",
      "247   414  \n",
      "248  3732  \n",
      "249     4  \n",
      "250    22  \n",
      "251     1  \n",
      "252     4  \n",
      "253     5  \n",
      "254     6  \n",
      "255     1  \n",
      "256     1  \n",
      "257     2  \n",
      "258     2  \n",
      "259     1  \n",
      "260     2  \n",
      "261     1  \n",
      "262     1  \n",
      "263     1  \n",
      "264     1  \n",
      "265     7  \n",
      "266     9  \n",
      "267     1  \n",
      "268     2  \n",
      "269    85  \n",
      "270  1388  \n",
      "\n",
      "[271 rows x 2 columns]\n",
      "    Archaea \"Crenarchaeota\" Thermoprotei Acidilobales Acidilobaceae Acidilobus  \\\n",
      "0    Archaea \"Crenarchaeota\" Thermoprotei Acidiloba...                           \n",
      "1    Archaea \"Crenarchaeota\" Thermoprotei Desulfuro...                           \n",
      "2    Archaea \"Crenarchaeota\" Thermoprotei Desulfuro...                           \n",
      "3    Archaea \"Crenarchaeota\" Thermoprotei Desulfuro...                           \n",
      "4    Archaea \"Crenarchaeota\" Thermoprotei Desulfuro...                           \n",
      "5    Archaea \"Crenarchaeota\" Thermoprotei Desulfuro...                           \n",
      "6    Archaea \"Crenarchaeota\" Thermoprotei Sulfoloba...                           \n",
      "7    Archaea \"Crenarchaeota\" Thermoprotei Sulfoloba...                           \n",
      "8    Archaea \"Crenarchaeota\" Thermoprotei Thermopro...                           \n",
      "9    Archaea \"Crenarchaeota\" Thermoprotei Thermopro...                           \n",
      "10   Archaea \"Crenarchaeota\" Thermoprotei Thermopro...                           \n",
      "11   Archaea \"Euryarchaeota\" \"Methanomicrobia\" Meth...                           \n",
      "12   Archaea \"Euryarchaeota\" \"Methanomicrobia\" Meth...                           \n",
      "13   Archaea \"Euryarchaeota\" \"Methanomicrobia\" Meth...                           \n",
      "14   Archaea \"Euryarchaeota\" \"Methanomicrobia\" Meth...                           \n",
      "15   Archaea \"Euryarchaeota\" Archaeoglobi Archaeogl...                           \n",
      "16   Archaea \"Euryarchaeota\" Halobacteria Halobacte...                           \n",
      "17   Archaea \"Euryarchaeota\" Halobacteria Halobacte...                           \n",
      "18   Archaea \"Euryarchaeota\" Halobacteria Halobacte...                           \n",
      "19   Archaea \"Euryarchaeota\" Halobacteria Halobacte...                           \n",
      "20   Archaea \"Euryarchaeota\" Halobacteria Halobacte...                           \n",
      "21   Archaea \"Euryarchaeota\" Halobacteria Halobacte...                           \n",
      "22   Archaea \"Euryarchaeota\" Halobacteria Halobacte...                           \n",
      "23   Archaea \"Euryarchaeota\" Methanobacteria Methan...                           \n",
      "24   Archaea \"Euryarchaeota\" Methanopyri Methanopyr...                           \n",
      "25   Archaea \"Euryarchaeota\" Thermoplasmata Thermop...                           \n",
      "26   Bacteria \"Acidobacteria\" Holophagae Holophagal...                           \n",
      "27   Bacteria \"Actinobacteria\" Actinobacteria Actin...                           \n",
      "28   Bacteria \"Actinobacteria\" Actinobacteria Actin...                           \n",
      "29   Bacteria \"Actinobacteria\" Actinobacteria Actin...                           \n",
      "..                                                 ...                           \n",
      "257  Bacteria \"Proteobacteria\" Gammaproteobacteria ...                           \n",
      "258  Bacteria \"Proteobacteria\" Gammaproteobacteria ...                           \n",
      "259  Bacteria \"Proteobacteria\" Gammaproteobacteria ...                           \n",
      "260  Bacteria \"Proteobacteria\" Gammaproteobacteria ...                           \n",
      "261  Bacteria \"Proteobacteria\" Gammaproteobacteria ...                           \n",
      "262  Bacteria \"Proteobacteria\" Gammaproteobacteria ...                           \n",
      "263  Bacteria \"Proteobacteria\" Gammaproteobacteria ...                           \n",
      "264  Bacteria \"Proteobacteria\" Gammaproteobacteria ...                           \n",
      "265  Bacteria \"Proteobacteria\" Gammaproteobacteria ...                           \n",
      "266  Bacteria \"Proteobacteria\" Gammaproteobacteria ...                           \n",
      "267  Bacteria \"Proteobacteria\" Gammaproteobacteria ...                           \n",
      "268  Bacteria \"Proteobacteria\" Gammaproteobacteria ...                           \n",
      "269  Bacteria \"Proteobacteria\" Gammaproteobacteria ...                           \n",
      "270  Bacteria \"Proteobacteria\" Gammaproteobacteria ...                           \n",
      "271  Bacteria \"Proteobacteria\" Gammaproteobacteria ...                           \n",
      "272  Bacteria \"Proteobacteria\" Gammaproteobacteria ...                           \n",
      "273  Bacteria \"Proteobacteria\" Gammaproteobacteria ...                           \n",
      "274  Bacteria \"Proteobacteria\" Gammaproteobacteria ...                           \n",
      "275  Bacteria \"Proteobacteria\" Gammaproteobacteria ...                           \n",
      "276  Bacteria \"Proteobacteria\" Gammaproteobacteria ...                           \n",
      "277  Bacteria \"Synergistetes\" Synergistia Synergist...                           \n",
      "278  Bacteria \"Synergistetes\" Synergistia Synergist...                           \n",
      "279  Bacteria \"Tenericutes\" Mollicutes Haloplasmata...                           \n",
      "280  Bacteria \"Thermodesulfobacteria\" Thermodesulfo...                           \n",
      "281  Bacteria \"Thermodesulfobacteria\" Thermodesulfo...                           \n",
      "282  Bacteria \"Thermotogae\" Thermotogae Thermotogal...                           \n",
      "283  Bacteria \"Thermotogae\" Thermotogae Thermotogal...                           \n",
      "284  Bacteria Cyanobacteria Cyanobacteria  Chloropl...                           \n",
      "285  Bacteria Cyanobacteria Cyanobacteria  Chloropl...                           \n",
      "286          Bacteria TM7    TM7_genera_incertae_sedis                           \n",
      "\n",
      "      2  \n",
      "0    14  \n",
      "1    23  \n",
      "2     1  \n",
      "3     2  \n",
      "4     1  \n",
      "5     2  \n",
      "6    10  \n",
      "7    11  \n",
      "8     9  \n",
      "9     5  \n",
      "10    3  \n",
      "11    9  \n",
      "12    1  \n",
      "13   12  \n",
      "14    2  \n",
      "15    4  \n",
      "16    3  \n",
      "17    1  \n",
      "18    4  \n",
      "19    3  \n",
      "20    5  \n",
      "21    2  \n",
      "22   26  \n",
      "23    1  \n",
      "24   47  \n",
      "25   10  \n",
      "26    1  \n",
      "27    1  \n",
      "28    4  \n",
      "29    1  \n",
      "..   ..  \n",
      "257  48  \n",
      "258   3  \n",
      "259   1  \n",
      "260   3  \n",
      "261   1  \n",
      "262   2  \n",
      "263   3  \n",
      "264   3  \n",
      "265   1  \n",
      "266   1  \n",
      "267   3  \n",
      "268   1  \n",
      "269   9  \n",
      "270  10  \n",
      "271  40  \n",
      "272   9  \n",
      "273   1  \n",
      "274   1  \n",
      "275   2  \n",
      "276   3  \n",
      "277   2  \n",
      "278   2  \n",
      "279  15  \n",
      "280   1  \n",
      "281   3  \n",
      "282  15  \n",
      "283  22  \n",
      "284   1  \n",
      "285   2  \n",
      "286   2  \n",
      "\n",
      "[287 rows x 2 columns]\n",
      "    Archaea \"Crenarchaeota\" Thermoprotei Acidilobales Acidilobaceae Acidilobus  \\\n",
      "0    Archaea \"Crenarchaeota\" Thermoprotei Acidiloba...                           \n",
      "1    Archaea \"Crenarchaeota\" Thermoprotei Desulfuro...                           \n",
      "2    Archaea \"Crenarchaeota\" Thermoprotei Desulfuro...                           \n",
      "3    Archaea \"Crenarchaeota\" Thermoprotei Desulfuro...                           \n",
      "4    Archaea \"Crenarchaeota\" Thermoprotei Desulfuro...                           \n",
      "5    Archaea \"Crenarchaeota\" Thermoprotei Desulfuro...                           \n",
      "6    Archaea \"Crenarchaeota\" Thermoprotei Sulfoloba...                           \n",
      "7    Archaea \"Crenarchaeota\" Thermoprotei Sulfoloba...                           \n",
      "8    Archaea \"Crenarchaeota\" Thermoprotei Thermopro...                           \n",
      "9    Archaea \"Crenarchaeota\" Thermoprotei Thermopro...                           \n",
      "10   Archaea \"Crenarchaeota\" Thermoprotei Thermopro...                           \n",
      "11   Archaea \"Euryarchaeota\" \"Methanomicrobia\" Meth...                           \n",
      "12   Archaea \"Euryarchaeota\" \"Methanomicrobia\" Meth...                           \n",
      "13   Archaea \"Euryarchaeota\" \"Methanomicrobia\" Meth...                           \n",
      "14   Archaea \"Euryarchaeota\" \"Methanomicrobia\" Meth...                           \n",
      "15   Archaea \"Euryarchaeota\" \"Methanomicrobia\" Meth...                           \n",
      "16   Archaea \"Euryarchaeota\" \"Methanomicrobia\" Meth...                           \n",
      "17   Archaea \"Euryarchaeota\" Halobacteria Halobacte...                           \n",
      "18   Archaea \"Euryarchaeota\" Halobacteria Halobacte...                           \n",
      "19   Archaea \"Euryarchaeota\" Halobacteria Halobacte...                           \n",
      "20   Archaea \"Euryarchaeota\" Halobacteria Halobacte...                           \n",
      "21   Archaea \"Euryarchaeota\" Halobacteria Halobacte...                           \n",
      "22   Archaea \"Euryarchaeota\" Halobacteria Halobacte...                           \n",
      "23   Archaea \"Euryarchaeota\" Halobacteria Halobacte...                           \n",
      "24   Archaea \"Euryarchaeota\" Halobacteria Halobacte...                           \n",
      "25   Archaea \"Euryarchaeota\" Methanobacteria Methan...                           \n",
      "26   Archaea \"Euryarchaeota\" Methanopyri Methanopyr...                           \n",
      "27   Archaea \"Euryarchaeota\" Thermoplasmata Thermop...                           \n",
      "28   Bacteria \"Actinobacteria\" Actinobacteria  Acid...                           \n",
      "29   Bacteria \"Actinobacteria\" Actinobacteria Acidi...                           \n",
      "..                                                 ...                           \n",
      "336  Bacteria \"Proteobacteria\" Gammaproteobacteria ...                           \n",
      "337  Bacteria \"Proteobacteria\" Gammaproteobacteria ...                           \n",
      "338  Bacteria \"Proteobacteria\" Gammaproteobacteria ...                           \n",
      "339  Bacteria \"Proteobacteria\" Gammaproteobacteria ...                           \n",
      "340  Bacteria \"Proteobacteria\" Gammaproteobacteria ...                           \n",
      "341  Bacteria \"Proteobacteria\" Gammaproteobacteria ...                           \n",
      "342  Bacteria \"Proteobacteria\" Gammaproteobacteria ...                           \n",
      "343  Bacteria \"Proteobacteria\" Gammaproteobacteria ...                           \n",
      "344  Bacteria \"Proteobacteria\" Gammaproteobacteria ...                           \n",
      "345  Bacteria \"Proteobacteria\" Gammaproteobacteria ...                           \n",
      "346  Bacteria \"Proteobacteria\" Gammaproteobacteria ...                           \n",
      "347  Bacteria \"Proteobacteria\" Gammaproteobacteria ...                           \n",
      "348  Bacteria \"Proteobacteria\" Gammaproteobacteria ...                           \n",
      "349  Bacteria \"Synergistetes\" Synergistia Synergist...                           \n",
      "350  Bacteria \"Synergistetes\" Synergistia Synergist...                           \n",
      "351  Bacteria \"Tenericutes\" Mollicutes Haloplasmata...                           \n",
      "352  Bacteria \"Thermodesulfobacteria\" Thermodesulfo...                           \n",
      "353  Bacteria \"Thermotogae\" Thermotogae Thermotogal...                           \n",
      "354  Bacteria \"Thermotogae\" Thermotogae Thermotogal...                           \n",
      "355  Bacteria \"Verrucomicrobia\" Opitutae Opitutales...                           \n",
      "356  Bacteria \"Verrucomicrobia\" Opitutae Opitutales...                           \n",
      "357  Bacteria \"Verrucomicrobia\" Opitutae Puniceicoc...                           \n",
      "358  Bacteria \"Verrucomicrobia\" Opitutae Puniceicoc...                           \n",
      "359  Bacteria \"Verrucomicrobia\" Verrucomicrobiae Ve...                           \n",
      "360  Bacteria \"Verrucomicrobia\" Verrucomicrobiae Ve...                           \n",
      "361  Bacteria Cyanobacteria Cyanobacteria  Chloropl...                           \n",
      "362  Bacteria Cyanobacteria Cyanobacteria  Chloropl...                           \n",
      "363  Bacteria Cyanobacteria Cyanobacteria  Chloropl...                           \n",
      "364          Bacteria OD1    OD1_genera_incertae_sedis                           \n",
      "365        Bacteria OP11    OP11_genera_incertae_sedis                           \n",
      "\n",
      "        1  \n",
      "0      15  \n",
      "1      14  \n",
      "2       4  \n",
      "3       1  \n",
      "4       1  \n",
      "5       3  \n",
      "6       4  \n",
      "7       2  \n",
      "8       5  \n",
      "9       3  \n",
      "10      1  \n",
      "11      7  \n",
      "12      4  \n",
      "13      1  \n",
      "14      2  \n",
      "15      1  \n",
      "16      1  \n",
      "17      3  \n",
      "18      1  \n",
      "19      3  \n",
      "20      2  \n",
      "21      2  \n",
      "22      1  \n",
      "23      2  \n",
      "24     27  \n",
      "25      1  \n",
      "26     46  \n",
      "27     11  \n",
      "28      1  \n",
      "29      3  \n",
      "..    ...  \n",
      "336   221  \n",
      "337  1968  \n",
      "338     2  \n",
      "339    16  \n",
      "340     1  \n",
      "341     3  \n",
      "342     1  \n",
      "343     1  \n",
      "344     1  \n",
      "345     4  \n",
      "346     1  \n",
      "347     1  \n",
      "348     1  \n",
      "349     2  \n",
      "350     3  \n",
      "351     2  \n",
      "352     1  \n",
      "353    12  \n",
      "354     7  \n",
      "355     1  \n",
      "356     1  \n",
      "357     1  \n",
      "358     2  \n",
      "359     2  \n",
      "360     1  \n",
      "361     1  \n",
      "362     4  \n",
      "363    54  \n",
      "364     1  \n",
      "365    26  \n",
      "\n",
      "[366 rows x 2 columns]\n",
      "    Archaea \"Crenarchaeota\" Thermoprotei Desulfurococcales Desulfurococcaceae Ignisphaera  \\\n",
      "0    Archaea \"Crenarchaeota\" Thermoprotei Sulfoloba...                                      \n",
      "1    Archaea \"Euryarchaeota\" \"Methanomicrobia\" Meth...                                      \n",
      "2    Archaea \"Euryarchaeota\" Archaeoglobi Archaeogl...                                      \n",
      "3    Archaea \"Euryarchaeota\" Methanopyri Methanopyr...                                      \n",
      "4    Archaea \"Euryarchaeota\" Thermoplasmata Thermop...                                      \n",
      "5    Bacteria \"Actinobacteria\" Actinobacteria Acidi...                                      \n",
      "6    Bacteria \"Actinobacteria\" Actinobacteria Actin...                                      \n",
      "7    Bacteria \"Actinobacteria\" Actinobacteria Actin...                                      \n",
      "8    Bacteria \"Actinobacteria\" Actinobacteria Actin...                                      \n",
      "9    Bacteria \"Actinobacteria\" Actinobacteria Actin...                                      \n",
      "10   Bacteria \"Actinobacteria\" Actinobacteria Actin...                                      \n",
      "11   Bacteria \"Actinobacteria\" Actinobacteria Actin...                                      \n",
      "12   Bacteria \"Actinobacteria\" Actinobacteria Actin...                                      \n",
      "13   Bacteria \"Aquificae\" Aquificae Aquificales Aqu...                                      \n",
      "14   Bacteria \"Bacteroidetes\"   Bacteroidetes_incer...                                      \n",
      "15   Bacteria \"Bacteroidetes\"   Bacteroidetes_incer...                                      \n",
      "16   Bacteria \"Bacteroidetes\" \"Bacteroidia\" \"Bacter...                                      \n",
      "17   Bacteria \"Bacteroidetes\" \"Bacteroidia\" \"Bacter...                                      \n",
      "18   Bacteria \"Bacteroidetes\" \"Bacteroidia\" \"Bacter...                                      \n",
      "19   Bacteria \"Bacteroidetes\" \"Bacteroidia\" \"Bacter...                                      \n",
      "20   Bacteria \"Bacteroidetes\" \"Bacteroidia\" \"Bacter...                                      \n",
      "21   Bacteria \"Bacteroidetes\" \"Bacteroidia\" \"Bacter...                                      \n",
      "22   Bacteria \"Bacteroidetes\" \"Bacteroidia\" \"Bacter...                                      \n",
      "23   Bacteria \"Bacteroidetes\" \"Bacteroidia\" \"Bacter...                                      \n",
      "24   Bacteria \"Bacteroidetes\" \"Bacteroidia\" \"Bacter...                                      \n",
      "25   Bacteria \"Bacteroidetes\" \"Bacteroidia\" \"Bacter...                                      \n",
      "26   Bacteria \"Bacteroidetes\" \"Bacteroidia\" \"Bacter...                                      \n",
      "27   Bacteria \"Bacteroidetes\" \"Bacteroidia\" \"Bacter...                                      \n",
      "28   Bacteria \"Bacteroidetes\" \"Sphingobacteria\" \"Sp...                                      \n",
      "29   Bacteria \"Bacteroidetes\" \"Sphingobacteria\" \"Sp...                                      \n",
      "..                                                 ...                                      \n",
      "103  Bacteria \"Proteobacteria\" Betaproteobacteria B...                                      \n",
      "104  Bacteria \"Proteobacteria\" Betaproteobacteria B...                                      \n",
      "105  Bacteria \"Proteobacteria\" Betaproteobacteria B...                                      \n",
      "106  Bacteria \"Proteobacteria\" Betaproteobacteria B...                                      \n",
      "107  Bacteria \"Proteobacteria\" Betaproteobacteria N...                                      \n",
      "108  Bacteria \"Proteobacteria\" Deltaproteobacteria ...                                      \n",
      "109  Bacteria \"Proteobacteria\" Deltaproteobacteria ...                                      \n",
      "110  Bacteria \"Proteobacteria\" Deltaproteobacteria ...                                      \n",
      "111  Bacteria \"Proteobacteria\" Deltaproteobacteria ...                                      \n",
      "112  Bacteria \"Proteobacteria\" Deltaproteobacteria ...                                      \n",
      "113  Bacteria \"Proteobacteria\" Deltaproteobacteria ...                                      \n",
      "114  Bacteria \"Proteobacteria\" Epsilonproteobacteri...                                      \n",
      "115  Bacteria \"Proteobacteria\" Gammaproteobacteria ...                                      \n",
      "116  Bacteria \"Proteobacteria\" Gammaproteobacteria ...                                      \n",
      "117  Bacteria \"Proteobacteria\" Gammaproteobacteria ...                                      \n",
      "118  Bacteria \"Proteobacteria\" Gammaproteobacteria ...                                      \n",
      "119  Bacteria \"Proteobacteria\" Gammaproteobacteria ...                                      \n",
      "120  Bacteria \"Proteobacteria\" Gammaproteobacteria ...                                      \n",
      "121  Bacteria \"Proteobacteria\" Gammaproteobacteria ...                                      \n",
      "122  Bacteria \"Proteobacteria\" Gammaproteobacteria ...                                      \n",
      "123  Bacteria \"Proteobacteria\" Gammaproteobacteria ...                                      \n",
      "124  Bacteria \"Proteobacteria\" Gammaproteobacteria ...                                      \n",
      "125  Bacteria \"Proteobacteria\" Gammaproteobacteria ...                                      \n",
      "126  Bacteria \"Proteobacteria\" Gammaproteobacteria ...                                      \n",
      "127  Bacteria \"Synergistetes\" Synergistia Synergist...                                      \n",
      "128  Bacteria \"Synergistetes\" Synergistia Synergist...                                      \n",
      "129  Bacteria \"Thermotogae\" Thermotogae Thermotogal...                                      \n",
      "130  Bacteria \"Thermotogae\" Thermotogae Thermotogal...                                      \n",
      "131  Bacteria Cyanobacteria Cyanobacteria  Chloropl...                                      \n",
      "132  Bacteria Cyanobacteria Cyanobacteria  Chloropl...                                      \n",
      "\n",
      "        2  \n",
      "0       1  \n",
      "1       1  \n",
      "2       1  \n",
      "3      10  \n",
      "4       1  \n",
      "5       1  \n",
      "6       1  \n",
      "7       1  \n",
      "8       1  \n",
      "9       1  \n",
      "10     29  \n",
      "11      1  \n",
      "12      1  \n",
      "13      3  \n",
      "14      2  \n",
      "15      1  \n",
      "16     31  \n",
      "17     11  \n",
      "18    159  \n",
      "19    408  \n",
      "20     23  \n",
      "21     62  \n",
      "22     95  \n",
      "23     42  \n",
      "24    105  \n",
      "25      4  \n",
      "26   7910  \n",
      "27    702  \n",
      "28     13  \n",
      "29      1  \n",
      "..    ...  \n",
      "103     1  \n",
      "104     1  \n",
      "105     1  \n",
      "106     1  \n",
      "107     1  \n",
      "108     1  \n",
      "109     1  \n",
      "110     1  \n",
      "111     3  \n",
      "112     1  \n",
      "113     1  \n",
      "114     1  \n",
      "115     2  \n",
      "116    11  \n",
      "117     1  \n",
      "118     1  \n",
      "119     9  \n",
      "120     1  \n",
      "121     1  \n",
      "122     1  \n",
      "123     2  \n",
      "124     4  \n",
      "125     1  \n",
      "126     2  \n",
      "127     1  \n",
      "128     1  \n",
      "129    13  \n",
      "130     4  \n",
      "131     6  \n",
      "132    44  \n",
      "\n",
      "[133 rows x 2 columns]\n",
      "    Archaea \"Crenarchaeota\" Thermoprotei Acidilobales Acidilobaceae Acidilobus  \\\n",
      "0    Archaea \"Crenarchaeota\" Thermoprotei Acidiloba...                           \n",
      "1    Archaea \"Crenarchaeota\" Thermoprotei Desulfuro...                           \n",
      "2    Archaea \"Crenarchaeota\" Thermoprotei Desulfuro...                           \n",
      "3    Archaea \"Crenarchaeota\" Thermoprotei Desulfuro...                           \n",
      "4    Archaea \"Crenarchaeota\" Thermoprotei Desulfuro...                           \n",
      "5    Archaea \"Crenarchaeota\" Thermoprotei Desulfuro...                           \n",
      "6    Archaea \"Crenarchaeota\" Thermoprotei Desulfuro...                           \n",
      "7    Archaea \"Crenarchaeota\" Thermoprotei Sulfoloba...                           \n",
      "8    Archaea \"Crenarchaeota\" Thermoprotei Sulfoloba...                           \n",
      "9    Archaea \"Crenarchaeota\" Thermoprotei Thermopro...                           \n",
      "10   Archaea \"Crenarchaeota\" Thermoprotei Thermopro...                           \n",
      "11   Archaea \"Crenarchaeota\" Thermoprotei Thermopro...                           \n",
      "12   Archaea \"Euryarchaeota\" \"Methanomicrobia\" Meth...                           \n",
      "13   Archaea \"Euryarchaeota\" \"Methanomicrobia\" Meth...                           \n",
      "14   Archaea \"Euryarchaeota\" \"Methanomicrobia\" Meth...                           \n",
      "15   Archaea \"Euryarchaeota\" \"Methanomicrobia\" Meth...                           \n",
      "16   Archaea \"Euryarchaeota\" \"Methanomicrobia\" Meth...                           \n",
      "17   Archaea \"Euryarchaeota\" \"Methanomicrobia\" Meth...                           \n",
      "18   Archaea \"Euryarchaeota\" Archaeoglobi Archaeogl...                           \n",
      "19   Archaea \"Euryarchaeota\" Archaeoglobi Archaeogl...                           \n",
      "20   Archaea \"Euryarchaeota\" Halobacteria Halobacte...                           \n",
      "21   Archaea \"Euryarchaeota\" Halobacteria Halobacte...                           \n",
      "22   Archaea \"Euryarchaeota\" Halobacteria Halobacte...                           \n",
      "23   Archaea \"Euryarchaeota\" Halobacteria Halobacte...                           \n",
      "24   Archaea \"Euryarchaeota\" Halobacteria Halobacte...                           \n",
      "25   Archaea \"Euryarchaeota\" Halobacteria Halobacte...                           \n",
      "26   Archaea \"Euryarchaeota\" Halobacteria Halobacte...                           \n",
      "27   Archaea \"Euryarchaeota\" Halobacteria Halobacte...                           \n",
      "28   Archaea \"Euryarchaeota\" Halobacteria Halobacte...                           \n",
      "29   Archaea \"Euryarchaeota\" Halobacteria Halobacte...                           \n",
      "..                                                 ...                           \n",
      "348  Bacteria \"Proteobacteria\" Gammaproteobacteria ...                           \n",
      "349  Bacteria \"Proteobacteria\" Gammaproteobacteria ...                           \n",
      "350  Bacteria \"Proteobacteria\" Gammaproteobacteria ...                           \n",
      "351  Bacteria \"Proteobacteria\" Gammaproteobacteria ...                           \n",
      "352  Bacteria \"Proteobacteria\" Gammaproteobacteria ...                           \n",
      "353  Bacteria \"Proteobacteria\" Gammaproteobacteria ...                           \n",
      "354  Bacteria \"Proteobacteria\" Gammaproteobacteria ...                           \n",
      "355  Bacteria \"Proteobacteria\" Gammaproteobacteria ...                           \n",
      "356  Bacteria \"Proteobacteria\" Gammaproteobacteria ...                           \n",
      "357  Bacteria \"Proteobacteria\" Gammaproteobacteria ...                           \n",
      "358  Bacteria \"Proteobacteria\" Gammaproteobacteria ...                           \n",
      "359  Bacteria \"Proteobacteria\" Gammaproteobacteria ...                           \n",
      "360  Bacteria \"Proteobacteria\" Gammaproteobacteria ...                           \n",
      "361  Bacteria \"Proteobacteria\" Gammaproteobacteria ...                           \n",
      "362  Bacteria \"Proteobacteria\" Gammaproteobacteria ...                           \n",
      "363  Bacteria \"Proteobacteria\" Gammaproteobacteria ...                           \n",
      "364  Bacteria \"Proteobacteria\" Gammaproteobacteria ...                           \n",
      "365  Bacteria \"Synergistetes\" Synergistia Synergist...                           \n",
      "366  Bacteria \"Synergistetes\" Synergistia Synergist...                           \n",
      "367  Bacteria \"Thermodesulfobacteria\" Thermodesulfo...                           \n",
      "368  Bacteria \"Thermodesulfobacteria\" Thermodesulfo...                           \n",
      "369  Bacteria \"Thermotogae\" Thermotogae Thermotogal...                           \n",
      "370  Bacteria \"Thermotogae\" Thermotogae Thermotogal...                           \n",
      "371  Bacteria \"Verrucomicrobia\" Opitutae Opitutales...                           \n",
      "372  Bacteria \"Verrucomicrobia\" Opitutae Puniceicoc...                           \n",
      "373  Bacteria \"Verrucomicrobia\" Opitutae Puniceicoc...                           \n",
      "374  Bacteria Cyanobacteria Cyanobacteria  Chloropl...                           \n",
      "375  Bacteria Cyanobacteria Cyanobacteria  Chloropl...                           \n",
      "376  Bacteria Cyanobacteria Cyanobacteria  Chloropl...                           \n",
      "377          Bacteria OD1    OD1_genera_incertae_sedis                           \n",
      "\n",
      "       5  \n",
      "0     26  \n",
      "1     28  \n",
      "2      1  \n",
      "3      5  \n",
      "4      2  \n",
      "5      2  \n",
      "6      3  \n",
      "7     14  \n",
      "8      5  \n",
      "9     10  \n",
      "10    18  \n",
      "11     6  \n",
      "12    17  \n",
      "13     7  \n",
      "14     1  \n",
      "15    11  \n",
      "16     2  \n",
      "17     3  \n",
      "18     8  \n",
      "19     1  \n",
      "20     1  \n",
      "21     1  \n",
      "22     1  \n",
      "23     7  \n",
      "24     1  \n",
      "25     2  \n",
      "26     1  \n",
      "27     1  \n",
      "28     1  \n",
      "29    36  \n",
      "..   ...  \n",
      "348    3  \n",
      "349    4  \n",
      "350    6  \n",
      "351    3  \n",
      "352    3  \n",
      "353    5  \n",
      "354    8  \n",
      "355    1  \n",
      "356   57  \n",
      "357   50  \n",
      "358  424  \n",
      "359   17  \n",
      "360    1  \n",
      "361   15  \n",
      "362    5  \n",
      "363    5  \n",
      "364    3  \n",
      "365    5  \n",
      "366    5  \n",
      "367    1  \n",
      "368    1  \n",
      "369   26  \n",
      "370   36  \n",
      "371    1  \n",
      "372    2  \n",
      "373    4  \n",
      "374    2  \n",
      "375    5  \n",
      "376   59  \n",
      "377    4  \n",
      "\n",
      "[378 rows x 2 columns]\n",
      "    Archaea \"Crenarchaeota\" Thermoprotei Desulfurococcales Desulfurococcaceae Ignisphaera  \\\n",
      "0    Archaea \"Crenarchaeota\" Thermoprotei Desulfuro...                                      \n",
      "1    Archaea \"Crenarchaeota\" Thermoprotei Desulfuro...                                      \n",
      "2    Archaea \"Crenarchaeota\" Thermoprotei Desulfuro...                                      \n",
      "3    Archaea \"Crenarchaeota\" Thermoprotei Sulfoloba...                                      \n",
      "4    Archaea \"Crenarchaeota\" Thermoprotei Sulfoloba...                                      \n",
      "5    Archaea \"Crenarchaeota\" Thermoprotei Thermopro...                                      \n",
      "6    Archaea \"Crenarchaeota\" Thermoprotei Thermopro...                                      \n",
      "7    Archaea \"Euryarchaeota\" \"Methanomicrobia\" Meth...                                      \n",
      "8    Archaea \"Euryarchaeota\" \"Methanomicrobia\" Meth...                                      \n",
      "9    Archaea \"Euryarchaeota\" \"Methanomicrobia\" Meth...                                      \n",
      "10   Archaea \"Euryarchaeota\" \"Methanomicrobia\" Meth...                                      \n",
      "11   Archaea \"Euryarchaeota\" \"Methanomicrobia\" Meth...                                      \n",
      "12   Archaea \"Euryarchaeota\" Archaeoglobi Archaeogl...                                      \n",
      "13   Archaea \"Euryarchaeota\" Halobacteria Halobacte...                                      \n",
      "14   Archaea \"Euryarchaeota\" Halobacteria Halobacte...                                      \n",
      "15   Archaea \"Euryarchaeota\" Halobacteria Halobacte...                                      \n",
      "16   Archaea \"Euryarchaeota\" Halobacteria Halobacte...                                      \n",
      "17   Archaea \"Euryarchaeota\" Halobacteria Halobacte...                                      \n",
      "18   Archaea \"Euryarchaeota\" Methanobacteria Methan...                                      \n",
      "19   Archaea \"Euryarchaeota\" Methanopyri Methanopyr...                                      \n",
      "20   Archaea \"Euryarchaeota\" Thermoplasmata Thermop...                                      \n",
      "21   Bacteria \"Actinobacteria\" Actinobacteria Actin...                                      \n",
      "22   Bacteria \"Actinobacteria\" Actinobacteria Actin...                                      \n",
      "23   Bacteria \"Actinobacteria\" Actinobacteria Actin...                                      \n",
      "24   Bacteria \"Actinobacteria\" Actinobacteria Bifid...                                      \n",
      "25   Bacteria \"Actinobacteria\" Actinobacteria Corio...                                      \n",
      "26   Bacteria \"Aquificae\" Aquificae Aquificales Aqu...                                      \n",
      "27   Bacteria \"Aquificae\" Aquificae Aquificales Aqu...                                      \n",
      "28   Bacteria \"Aquificae\" Aquificae Aquificales Des...                                      \n",
      "29   Bacteria \"Aquificae\" Aquificae Aquificales Hyd...                                      \n",
      "..                                                 ...                                      \n",
      "150  Bacteria \"Proteobacteria\" Deltaproteobacteria ...                                      \n",
      "151  Bacteria \"Proteobacteria\" Deltaproteobacteria ...                                      \n",
      "152  Bacteria \"Proteobacteria\" Deltaproteobacteria ...                                      \n",
      "153  Bacteria \"Proteobacteria\" Deltaproteobacteria ...                                      \n",
      "154  Bacteria \"Proteobacteria\" Deltaproteobacteria ...                                      \n",
      "155  Bacteria \"Proteobacteria\" Deltaproteobacteria ...                                      \n",
      "156  Bacteria \"Proteobacteria\" Deltaproteobacteria ...                                      \n",
      "157  Bacteria \"Proteobacteria\" Deltaproteobacteria ...                                      \n",
      "158  Bacteria \"Proteobacteria\" Epsilonproteobacteri...                                      \n",
      "159  Bacteria \"Proteobacteria\" Gammaproteobacteria ...                                      \n",
      "160  Bacteria \"Proteobacteria\" Gammaproteobacteria ...                                      \n",
      "161  Bacteria \"Proteobacteria\" Gammaproteobacteria ...                                      \n",
      "162  Bacteria \"Proteobacteria\" Gammaproteobacteria ...                                      \n",
      "163  Bacteria \"Proteobacteria\" Gammaproteobacteria ...                                      \n",
      "164  Bacteria \"Proteobacteria\" Gammaproteobacteria ...                                      \n",
      "165  Bacteria \"Proteobacteria\" Gammaproteobacteria ...                                      \n",
      "166  Bacteria \"Proteobacteria\" Gammaproteobacteria ...                                      \n",
      "167  Bacteria \"Proteobacteria\" Gammaproteobacteria ...                                      \n",
      "168  Bacteria \"Proteobacteria\" Gammaproteobacteria ...                                      \n",
      "169  Bacteria \"Proteobacteria\" Gammaproteobacteria ...                                      \n",
      "170  Bacteria \"Proteobacteria\" Gammaproteobacteria ...                                      \n",
      "171  Bacteria \"Spirochaetes\" Spirochaetes Spirochae...                                      \n",
      "172  Bacteria \"Synergistetes\" Synergistia Synergist...                                      \n",
      "173  Bacteria \"Tenericutes\" Mollicutes Haloplasmata...                                      \n",
      "174  Bacteria \"Thermodesulfobacteria\" Thermodesulfo...                                      \n",
      "175  Bacteria \"Thermodesulfobacteria\" Thermodesulfo...                                      \n",
      "176  Bacteria \"Thermotogae\" Thermotogae Thermotogal...                                      \n",
      "177  Bacteria \"Thermotogae\" Thermotogae Thermotogal...                                      \n",
      "178  Bacteria \"Verrucomicrobia\" Verrucomicrobiae Ve...                                      \n",
      "179  Bacteria \"Verrucomicrobia\" Verrucomicrobiae Ve...                                      \n",
      "\n",
      "      7  \n",
      "0     1  \n",
      "1     1  \n",
      "2     2  \n",
      "3     5  \n",
      "4     4  \n",
      "5     4  \n",
      "6     1  \n",
      "7    12  \n",
      "8     2  \n",
      "9     1  \n",
      "10    1  \n",
      "11    1  \n",
      "12    4  \n",
      "13    4  \n",
      "14    1  \n",
      "15    3  \n",
      "16    1  \n",
      "17    3  \n",
      "18    1  \n",
      "19   23  \n",
      "20   11  \n",
      "21    1  \n",
      "22    1  \n",
      "23    1  \n",
      "24    1  \n",
      "25    5  \n",
      "26   35  \n",
      "27    1  \n",
      "28    5  \n",
      "29    3  \n",
      "..   ..  \n",
      "150   1  \n",
      "151   2  \n",
      "152   1  \n",
      "153   1  \n",
      "154  20  \n",
      "155   1  \n",
      "156   1  \n",
      "157   1  \n",
      "158   1  \n",
      "159   1  \n",
      "160   1  \n",
      "161   4  \n",
      "162   1  \n",
      "163   1  \n",
      "164   3  \n",
      "165   1  \n",
      "166   1  \n",
      "167   1  \n",
      "168   1  \n",
      "169   1  \n",
      "170   1  \n",
      "171   1  \n",
      "172   2  \n",
      "173  18  \n",
      "174   1  \n",
      "175   2  \n",
      "176  12  \n",
      "177  11  \n",
      "178   1  \n",
      "179   1  \n",
      "\n",
      "[180 rows x 2 columns]\n",
      "    Archaea \"Crenarchaeota\" Thermoprotei Acidilobales Caldisphaeraceae Caldisphaera  \\\n",
      "0    Archaea \"Crenarchaeota\" Thermoprotei Desulfuro...                                \n",
      "1    Archaea \"Crenarchaeota\" Thermoprotei Desulfuro...                                \n",
      "2    Archaea \"Crenarchaeota\" Thermoprotei Desulfuro...                                \n",
      "3    Archaea \"Crenarchaeota\" Thermoprotei Desulfuro...                                \n",
      "4    Archaea \"Crenarchaeota\" Thermoprotei Desulfuro...                                \n",
      "5    Archaea \"Crenarchaeota\" Thermoprotei Sulfoloba...                                \n",
      "6    Archaea \"Crenarchaeota\" Thermoprotei Sulfoloba...                                \n",
      "7    Archaea \"Crenarchaeota\" Thermoprotei Thermopro...                                \n",
      "8    Archaea \"Euryarchaeota\" \"Methanomicrobia\" Meth...                                \n",
      "9    Archaea \"Euryarchaeota\" \"Methanomicrobia\" Meth...                                \n",
      "10   Archaea \"Euryarchaeota\" \"Methanomicrobia\" Meth...                                \n",
      "11   Archaea \"Euryarchaeota\" \"Methanomicrobia\" Meth...                                \n",
      "12   Archaea \"Euryarchaeota\" \"Methanomicrobia\" Meth...                                \n",
      "13   Archaea \"Euryarchaeota\" Archaeoglobi Archaeogl...                                \n",
      "14   Archaea \"Euryarchaeota\" Archaeoglobi Archaeogl...                                \n",
      "15   Archaea \"Euryarchaeota\" Halobacteria Halobacte...                                \n",
      "16   Archaea \"Euryarchaeota\" Halobacteria Halobacte...                                \n",
      "17   Archaea \"Euryarchaeota\" Halobacteria Halobacte...                                \n",
      "18   Archaea \"Euryarchaeota\" Halobacteria Halobacte...                                \n",
      "19   Archaea \"Euryarchaeota\" Methanobacteria Methan...                                \n",
      "20   Archaea \"Euryarchaeota\" Methanococci Methanoco...                                \n",
      "21   Archaea \"Euryarchaeota\" Methanopyri Methanopyr...                                \n",
      "22   Archaea \"Euryarchaeota\" Thermoplasmata Thermop...                                \n",
      "23   Bacteria \"Acidobacteria\" Holophagae Holophagal...                                \n",
      "24   Bacteria \"Actinobacteria\" Actinobacteria  Acid...                                \n",
      "25   Bacteria \"Actinobacteria\" Actinobacteria Acidi...                                \n",
      "26   Bacteria \"Actinobacteria\" Actinobacteria Acidi...                                \n",
      "27   Bacteria \"Actinobacteria\" Actinobacteria Acidi...                                \n",
      "28   Bacteria \"Actinobacteria\" Actinobacteria Actin...                                \n",
      "29   Bacteria \"Actinobacteria\" Actinobacteria Actin...                                \n",
      "..                                                 ...                                \n",
      "364  Bacteria \"Proteobacteria\" Gammaproteobacteria ...                                \n",
      "365  Bacteria \"Proteobacteria\" Gammaproteobacteria ...                                \n",
      "366  Bacteria \"Proteobacteria\" Gammaproteobacteria ...                                \n",
      "367  Bacteria \"Proteobacteria\" Gammaproteobacteria ...                                \n",
      "368  Bacteria \"Proteobacteria\" Gammaproteobacteria ...                                \n",
      "369  Bacteria \"Proteobacteria\" Gammaproteobacteria ...                                \n",
      "370  Bacteria \"Proteobacteria\" Gammaproteobacteria ...                                \n",
      "371  Bacteria \"Proteobacteria\" Gammaproteobacteria ...                                \n",
      "372  Bacteria \"Proteobacteria\" Gammaproteobacteria ...                                \n",
      "373  Bacteria \"Proteobacteria\" Gammaproteobacteria ...                                \n",
      "374  Bacteria \"Proteobacteria\" Gammaproteobacteria ...                                \n",
      "375  Bacteria \"Proteobacteria\" Gammaproteobacteria ...                                \n",
      "376  Bacteria \"Proteobacteria\" Gammaproteobacteria ...                                \n",
      "377  Bacteria \"Proteobacteria\" Gammaproteobacteria ...                                \n",
      "378  Bacteria \"Synergistetes\" Synergistia Synergist...                                \n",
      "379  Bacteria \"Synergistetes\" Synergistia Synergist...                                \n",
      "380  Bacteria \"Tenericutes\" Mollicutes Haloplasmata...                                \n",
      "381  Bacteria \"Thermodesulfobacteria\" Thermodesulfo...                                \n",
      "382  Bacteria \"Thermodesulfobacteria\" Thermodesulfo...                                \n",
      "383  Bacteria \"Thermotogae\" Thermotogae Thermotogal...                                \n",
      "384  Bacteria \"Thermotogae\" Thermotogae Thermotogal...                                \n",
      "385  Bacteria \"Verrucomicrobia\" Opitutae Opitutales...                                \n",
      "386  Bacteria \"Verrucomicrobia\" Opitutae Opitutales...                                \n",
      "387  Bacteria \"Verrucomicrobia\" Opitutae Puniceicoc...                                \n",
      "388  Bacteria \"Verrucomicrobia\" Opitutae Puniceicoc...                                \n",
      "389  Bacteria \"Verrucomicrobia\" Subdivision3   Subd...                                \n",
      "390  Bacteria \"Verrucomicrobia\" Verrucomicrobiae Ve...                                \n",
      "391  Bacteria \"Verrucomicrobia\" Verrucomicrobiae Ve...                                \n",
      "392  Bacteria Cyanobacteria Cyanobacteria  Chloropl...                                \n",
      "393  Bacteria Cyanobacteria Cyanobacteria  Chloropl...                                \n",
      "\n",
      "       1  \n",
      "0      8  \n",
      "1      2  \n",
      "2      1  \n",
      "3      1  \n",
      "4      1  \n",
      "5      5  \n",
      "6      3  \n",
      "7      5  \n",
      "8     18  \n",
      "9      1  \n",
      "10     1  \n",
      "11     2  \n",
      "12     2  \n",
      "13     9  \n",
      "14     2  \n",
      "15     3  \n",
      "16     2  \n",
      "17     6  \n",
      "18     4  \n",
      "19     1  \n",
      "20     1  \n",
      "21    59  \n",
      "22    10  \n",
      "23     1  \n",
      "24   102  \n",
      "25     1  \n",
      "26     5  \n",
      "27     3  \n",
      "28     3  \n",
      "29     1  \n",
      "..   ...  \n",
      "364    4  \n",
      "365    2  \n",
      "366    1  \n",
      "367    1  \n",
      "368    5  \n",
      "369   17  \n",
      "370    7  \n",
      "371    1  \n",
      "372    1  \n",
      "373   10  \n",
      "374    5  \n",
      "375   80  \n",
      "376  133  \n",
      "377    1  \n",
      "378    1  \n",
      "379    8  \n",
      "380    2  \n",
      "381    1  \n",
      "382    3  \n",
      "383   15  \n",
      "384   16  \n",
      "385    2  \n",
      "386  126  \n",
      "387   39  \n",
      "388    2  \n",
      "389    4  \n",
      "390    9  \n",
      "391   39  \n",
      "392    1  \n",
      "393    2  \n",
      "\n",
      "[394 rows x 2 columns]\n",
      "   Archaea \"Crenarchaeota\" Thermoprotei Sulfolobales Sulfolobaceae Stygiolobus  \\\n",
      "0   Archaea \"Euryarchaeota\" Methanopyri Methanopyr...                            \n",
      "1   Bacteria \"Actinobacteria\" Actinobacteria Nitri...                            \n",
      "2   Bacteria \"Aquificae\" Aquificae Aquificales Aqu...                            \n",
      "3   Bacteria \"Bacteroidetes\"   Bacteroidetes_incer...                            \n",
      "4   Bacteria \"Bacteroidetes\" \"Bacteroidia\" \"Bacter...                            \n",
      "5   Bacteria \"Bacteroidetes\" \"Bacteroidia\" \"Bacter...                            \n",
      "6   Bacteria \"Bacteroidetes\" \"Bacteroidia\" \"Bacter...                            \n",
      "7   Bacteria \"Bacteroidetes\" \"Bacteroidia\" \"Bacter...                            \n",
      "8   Bacteria \"Bacteroidetes\" \"Bacteroidia\" \"Bacter...                            \n",
      "9   Bacteria \"Bacteroidetes\" \"Bacteroidia\" \"Bacter...                            \n",
      "10  Bacteria \"Bacteroidetes\" \"Bacteroidia\" \"Bacter...                            \n",
      "11  Bacteria \"Bacteroidetes\" \"Bacteroidia\" \"Bacter...                            \n",
      "12  Bacteria \"Bacteroidetes\" \"Bacteroidia\" \"Bacter...                            \n",
      "13  Bacteria \"Bacteroidetes\" \"Bacteroidia\" \"Bacter...                            \n",
      "14  Bacteria \"Bacteroidetes\" \"Bacteroidia\" \"Bacter...                            \n",
      "15  Bacteria \"Bacteroidetes\" \"Bacteroidia\" \"Bacter...                            \n",
      "16  Bacteria \"Bacteroidetes\" \"Sphingobacteria\" \"Sp...                            \n",
      "17  Bacteria \"Bacteroidetes\" \"Sphingobacteria\" \"Sp...                            \n",
      "18  Bacteria \"Bacteroidetes\" \"Sphingobacteria\" \"Sp...                            \n",
      "19  Bacteria \"Bacteroidetes\" \"Sphingobacteria\" \"Sp...                            \n",
      "20  Bacteria \"Bacteroidetes\" \"Sphingobacteria\" \"Sp...                            \n",
      "21  Bacteria \"Bacteroidetes\" \"Sphingobacteria\" \"Sp...                            \n",
      "22  Bacteria \"Bacteroidetes\" \"Sphingobacteria\" \"Sp...                            \n",
      "23  Bacteria \"Bacteroidetes\" \"Sphingobacteria\" \"Sp...                            \n",
      "24  Bacteria \"Bacteroidetes\" Flavobacteria \"Flavob...                            \n",
      "25  Bacteria \"Bacteroidetes\" Flavobacteria \"Flavob...                            \n",
      "26  Bacteria \"Bacteroidetes\" Flavobacteria \"Flavob...                            \n",
      "27  Bacteria \"Bacteroidetes\" Flavobacteria \"Flavob...                            \n",
      "28  Bacteria \"Bacteroidetes\" Flavobacteria \"Flavob...                            \n",
      "29  Bacteria \"Bacteroidetes\" Flavobacteria \"Flavob...                            \n",
      "..                                                ...                            \n",
      "68  Bacteria \"Firmicutes\" \"Clostridia\" Clostridial...                            \n",
      "69  Bacteria \"Firmicutes\" \"Clostridia\" Clostridial...                            \n",
      "70  Bacteria \"Firmicutes\" \"Clostridia\" Clostridial...                            \n",
      "71  Bacteria \"Firmicutes\" \"Clostridia\" Clostridial...                            \n",
      "72  Bacteria \"Firmicutes\" \"Clostridia\" Clostridial...                            \n",
      "73  Bacteria \"Firmicutes\" \"Erysipelotrichi\" \"Erysi...                            \n",
      "74  Bacteria \"Fusobacteria\" \"Fusobacteria\" \"Fusoba...                            \n",
      "75  Bacteria \"Nitrospira\" \"Nitrospira\" \"Nitrospira...                            \n",
      "76  Bacteria \"Planctomycetes\" \"Planctomycetacia\" P...                            \n",
      "77  Bacteria \"Proteobacteria\" Alphaproteobacteria ...                            \n",
      "78  Bacteria \"Proteobacteria\" Betaproteobacteria B...                            \n",
      "79  Bacteria \"Proteobacteria\" Betaproteobacteria B...                            \n",
      "80  Bacteria \"Proteobacteria\" Betaproteobacteria H...                            \n",
      "81  Bacteria \"Proteobacteria\" Deltaproteobacteria ...                            \n",
      "82  Bacteria \"Proteobacteria\" Deltaproteobacteria ...                            \n",
      "83  Bacteria \"Proteobacteria\" Deltaproteobacteria ...                            \n",
      "84  Bacteria \"Proteobacteria\" Deltaproteobacteria ...                            \n",
      "85  Bacteria \"Proteobacteria\" Gammaproteobacteria ...                            \n",
      "86  Bacteria \"Proteobacteria\" Gammaproteobacteria ...                            \n",
      "87  Bacteria \"Proteobacteria\" Gammaproteobacteria ...                            \n",
      "88  Bacteria \"Proteobacteria\" Gammaproteobacteria ...                            \n",
      "89  Bacteria \"Proteobacteria\" Gammaproteobacteria ...                            \n",
      "90  Bacteria \"Proteobacteria\" Gammaproteobacteria ...                            \n",
      "91  Bacteria \"Proteobacteria\" Gammaproteobacteria ...                            \n",
      "92  Bacteria \"Proteobacteria\" Gammaproteobacteria ...                            \n",
      "93  Bacteria \"Thermodesulfobacteria\" Thermodesulfo...                            \n",
      "94  Bacteria \"Thermotogae\" Thermotogae Thermotogal...                            \n",
      "95  Bacteria \"Thermotogae\" Thermotogae Thermotogal...                            \n",
      "96  Bacteria Cyanobacteria Cyanobacteria  Chloropl...                            \n",
      "97  Bacteria Cyanobacteria Cyanobacteria  Chloropl...                            \n",
      "\n",
      "       1  \n",
      "0      9  \n",
      "1      1  \n",
      "2      1  \n",
      "3      2  \n",
      "4     20  \n",
      "5      9  \n",
      "6    116  \n",
      "7    302  \n",
      "8     17  \n",
      "9     44  \n",
      "10    69  \n",
      "11    20  \n",
      "12    82  \n",
      "13     2  \n",
      "14  6445  \n",
      "15   647  \n",
      "16     4  \n",
      "17     6  \n",
      "18     1  \n",
      "19     1  \n",
      "20     3  \n",
      "21     4  \n",
      "22     1  \n",
      "23     3  \n",
      "24     1  \n",
      "25     8  \n",
      "26     2  \n",
      "27     4  \n",
      "28     1  \n",
      "29     1  \n",
      "..   ...  \n",
      "68     6  \n",
      "69    15  \n",
      "70     6  \n",
      "71     1  \n",
      "72   616  \n",
      "73     1  \n",
      "74     1  \n",
      "75     2  \n",
      "76     3  \n",
      "77     1  \n",
      "78     1  \n",
      "79     1  \n",
      "80     3  \n",
      "81     1  \n",
      "82     1  \n",
      "83     1  \n",
      "84     2  \n",
      "85    22  \n",
      "86     1  \n",
      "87     8  \n",
      "88     1  \n",
      "89     1  \n",
      "90     3  \n",
      "91     1  \n",
      "92     3  \n",
      "93     1  \n",
      "94     4  \n",
      "95     2  \n",
      "96     1  \n",
      "97     4  \n",
      "\n",
      "[98 rows x 2 columns]\n",
      "    Archaea \"Crenarchaeota\" Thermoprotei Acidilobales Caldisphaeraceae Caldisphaera  \\\n",
      "0    Archaea \"Crenarchaeota\" Thermoprotei Desulfuro...                                \n",
      "1    Archaea \"Crenarchaeota\" Thermoprotei Desulfuro...                                \n",
      "2    Archaea \"Crenarchaeota\" Thermoprotei Desulfuro...                                \n",
      "3    Archaea \"Crenarchaeota\" Thermoprotei Sulfoloba...                                \n",
      "4    Archaea \"Crenarchaeota\" Thermoprotei Sulfoloba...                                \n",
      "5    Archaea \"Crenarchaeota\" Thermoprotei Thermopro...                                \n",
      "6    Archaea \"Crenarchaeota\" Thermoprotei Thermopro...                                \n",
      "7    Archaea \"Euryarchaeota\" \"Methanomicrobia\" Meth...                                \n",
      "8    Archaea \"Euryarchaeota\" \"Methanomicrobia\" Meth...                                \n",
      "9    Archaea \"Euryarchaeota\" \"Methanomicrobia\" Meth...                                \n",
      "10   Archaea \"Euryarchaeota\" \"Methanomicrobia\" Meth...                                \n",
      "11   Archaea \"Euryarchaeota\" \"Methanomicrobia\" Meth...                                \n",
      "12   Archaea \"Euryarchaeota\" \"Methanomicrobia\" Meth...                                \n",
      "13   Archaea \"Euryarchaeota\" Archaeoglobi Archaeogl...                                \n",
      "14   Archaea \"Euryarchaeota\" Archaeoglobi Archaeogl...                                \n",
      "15   Archaea \"Euryarchaeota\" Halobacteria Halobacte...                                \n",
      "16   Archaea \"Euryarchaeota\" Halobacteria Halobacte...                                \n",
      "17   Archaea \"Euryarchaeota\" Halobacteria Halobacte...                                \n",
      "18   Archaea \"Euryarchaeota\" Halobacteria Halobacte...                                \n",
      "19   Archaea \"Euryarchaeota\" Halobacteria Halobacte...                                \n",
      "20   Archaea \"Euryarchaeota\" Halobacteria Halobacte...                                \n",
      "21   Archaea \"Euryarchaeota\" Methanobacteria Methan...                                \n",
      "22   Archaea \"Euryarchaeota\" Methanopyri Methanopyr...                                \n",
      "23   Archaea \"Euryarchaeota\" Thermoplasmata Thermop...                                \n",
      "24   Bacteria \"Acidobacteria\" Holophagae Holophagal...                                \n",
      "25   Bacteria \"Actinobacteria\" Actinobacteria Actin...                                \n",
      "26   Bacteria \"Actinobacteria\" Actinobacteria Actin...                                \n",
      "27   Bacteria \"Actinobacteria\" Actinobacteria Actin...                                \n",
      "28   Bacteria \"Actinobacteria\" Actinobacteria Actin...                                \n",
      "29   Bacteria \"Actinobacteria\" Actinobacteria Actin...                                \n",
      "..                                                 ...                                \n",
      "250  Bacteria \"Proteobacteria\" Gammaproteobacteria ...                                \n",
      "251  Bacteria \"Proteobacteria\" Gammaproteobacteria ...                                \n",
      "252  Bacteria \"Proteobacteria\" Gammaproteobacteria ...                                \n",
      "253  Bacteria \"Proteobacteria\" Gammaproteobacteria ...                                \n",
      "254  Bacteria \"Proteobacteria\" Gammaproteobacteria ...                                \n",
      "255  Bacteria \"Proteobacteria\" Gammaproteobacteria ...                                \n",
      "256  Bacteria \"Proteobacteria\" Gammaproteobacteria ...                                \n",
      "257  Bacteria \"Proteobacteria\" Gammaproteobacteria ...                                \n",
      "258  Bacteria \"Proteobacteria\" Gammaproteobacteria ...                                \n",
      "259  Bacteria \"Proteobacteria\" Gammaproteobacteria ...                                \n",
      "260  Bacteria \"Proteobacteria\" Gammaproteobacteria ...                                \n",
      "261  Bacteria \"Proteobacteria\" Gammaproteobacteria ...                                \n",
      "262  Bacteria \"Proteobacteria\" Gammaproteobacteria ...                                \n",
      "263  Bacteria \"Proteobacteria\" Gammaproteobacteria ...                                \n",
      "264  Bacteria \"Proteobacteria\" Gammaproteobacteria ...                                \n",
      "265  Bacteria \"Proteobacteria\" Gammaproteobacteria ...                                \n",
      "266  Bacteria \"Proteobacteria\" Gammaproteobacteria ...                                \n",
      "267  Bacteria \"Proteobacteria\" Gammaproteobacteria ...                                \n",
      "268  Bacteria \"Proteobacteria\" Gammaproteobacteria ...                                \n",
      "269  Bacteria \"Proteobacteria\" Gammaproteobacteria ...                                \n",
      "270  Bacteria \"Synergistetes\" Synergistia Synergist...                                \n",
      "271  Bacteria \"Tenericutes\" Mollicutes Anaeroplasma...                                \n",
      "272  Bacteria \"Tenericutes\" Mollicutes Haloplasmata...                                \n",
      "273  Bacteria \"Thermodesulfobacteria\" Thermodesulfo...                                \n",
      "274  Bacteria \"Thermodesulfobacteria\" Thermodesulfo...                                \n",
      "275  Bacteria \"Thermotogae\" Thermotogae Thermotogal...                                \n",
      "276  Bacteria \"Thermotogae\" Thermotogae Thermotogal...                                \n",
      "277  Bacteria \"Verrucomicrobia\" Opitutae Opitutales...                                \n",
      "278  Bacteria Cyanobacteria Cyanobacteria  Chloropl...                                \n",
      "279  Bacteria Cyanobacteria Cyanobacteria  Chloropl...                                \n",
      "\n",
      "        1  \n",
      "0      16  \n",
      "1       2  \n",
      "2       5  \n",
      "3       6  \n",
      "4       2  \n",
      "5       5  \n",
      "6       3  \n",
      "7      14  \n",
      "8       1  \n",
      "9       2  \n",
      "10      1  \n",
      "11      6  \n",
      "12      3  \n",
      "13      3  \n",
      "14      3  \n",
      "15      4  \n",
      "16      1  \n",
      "17      2  \n",
      "18      1  \n",
      "19      4  \n",
      "20      2  \n",
      "21      1  \n",
      "22     50  \n",
      "23     16  \n",
      "24      2  \n",
      "25      1  \n",
      "26      3  \n",
      "27      1  \n",
      "28      1  \n",
      "29      1  \n",
      "..    ...  \n",
      "250    10  \n",
      "251     1  \n",
      "252     1  \n",
      "253     1  \n",
      "254    12  \n",
      "255     4  \n",
      "256   805  \n",
      "257   862  \n",
      "258    12  \n",
      "259  3534  \n",
      "260     4  \n",
      "261     1  \n",
      "262    25  \n",
      "263     2  \n",
      "264     3  \n",
      "265     2  \n",
      "266     1  \n",
      "267     3  \n",
      "268     2  \n",
      "269     1  \n",
      "270     3  \n",
      "271     1  \n",
      "272    11  \n",
      "273     1  \n",
      "274     1  \n",
      "275    43  \n",
      "276    16  \n",
      "277     1  \n",
      "278     1  \n",
      "279    10  \n",
      "\n",
      "[280 rows x 2 columns]\n"
     ]
    }
   ],
   "source": [
    "# Write solution here\n",
    "import glob\n",
    "import pandas as pd \n",
    "path =r'Data/microbiome'\n",
    "\n",
    "frame = pd.DataFrame(columns=header)\n",
    "header = pd.read_excel(path+\"/\"+\"metadata.xls\")\n",
    "header_header = ['BARCODE','GROUP','SAMPLE']\n",
    "for file_ in header.BARCODE:\n",
    "    df = pd.read_excel(path+\"/\"+file_+\".xls\")\n",
    "    df\n",
    "\n",
    "    \n"
   ]
  },
  {
   "cell_type": "code",
   "execution_count": null,
   "metadata": {
    "collapsed": true
   },
   "outputs": [],
   "source": []
  },
  {
   "cell_type": "code",
   "execution_count": null,
   "metadata": {
    "collapsed": true
   },
   "outputs": [],
   "source": []
  },
  {
   "cell_type": "code",
   "execution_count": null,
   "metadata": {
    "collapsed": true
   },
   "outputs": [],
   "source": []
  },
  {
   "cell_type": "code",
   "execution_count": null,
   "metadata": {
    "collapsed": true
   },
   "outputs": [],
   "source": []
  },
  {
   "cell_type": "code",
   "execution_count": null,
   "metadata": {
    "collapsed": true
   },
   "outputs": [],
   "source": []
  },
  {
   "cell_type": "code",
   "execution_count": null,
   "metadata": {
    "collapsed": true
   },
   "outputs": [],
   "source": []
  },
  {
   "cell_type": "code",
   "execution_count": null,
   "metadata": {
    "collapsed": true
   },
   "outputs": [],
   "source": []
  },
  {
   "cell_type": "code",
   "execution_count": null,
   "metadata": {
    "collapsed": true
   },
   "outputs": [],
   "source": []
  },
  {
   "cell_type": "code",
   "execution_count": null,
   "metadata": {
    "collapsed": true
   },
   "outputs": [],
   "source": []
  },
  {
   "cell_type": "code",
   "execution_count": null,
   "metadata": {
    "collapsed": true
   },
   "outputs": [],
   "source": []
  },
  {
   "cell_type": "code",
   "execution_count": null,
   "metadata": {
    "collapsed": true
   },
   "outputs": [],
   "source": []
  },
  {
   "cell_type": "code",
   "execution_count": null,
   "metadata": {
    "collapsed": true
   },
   "outputs": [],
   "source": []
  },
  {
   "cell_type": "code",
   "execution_count": null,
   "metadata": {
    "collapsed": true
   },
   "outputs": [],
   "source": []
  },
  {
   "cell_type": "markdown",
   "metadata": {},
   "source": [
    "## Reshaping DataFrame objects\n",
    "\n",
    "In the context of a single DataFrame, we are often interested in re-arranging the layout of our data. "
   ]
  },
  {
   "cell_type": "markdown",
   "metadata": {},
   "source": [
    "This dataset is from Table 6.9 of [Statistical Methods for the Analysis of Repeated Measurements](http://www.amazon.com/Statistical-Methods-Analysis-Repeated-Measurements/dp/0387953701) by Charles S. Davis, pp. 161-163 (Springer, 2002). These data are from a multicenter, randomized controlled trial of botulinum toxin type B (BotB) in patients with cervical dystonia from nine U.S. sites.\n",
    "\n",
    "* Randomized to placebo (N=36), 5000 units of BotB (N=36), 10,000 units of BotB (N=37)\n",
    "* Response variable: total score on Toronto Western Spasmodic Torticollis Rating Scale (TWSTRS), measuring severity, pain, and disability of cervical dystonia (high scores mean more impairment)\n",
    "* TWSTRS measured at baseline (week 0) and weeks 2, 4, 8, 12, 16 after treatment began"
   ]
  },
  {
   "cell_type": "code",
   "execution_count": null,
   "metadata": {
    "collapsed": false
   },
   "outputs": [],
   "source": [
    "cdystonia = pd.read_csv(\"Data/cdystonia.csv\", index_col=None)\n",
    "cdystonia.head()"
   ]
  },
  {
   "cell_type": "markdown",
   "metadata": {},
   "source": [
    "This dataset includes repeated measurements of the same individuals (longitudinal data). Its possible to present such information in (at least) two ways: showing each repeated measurement in their own row, or in multiple columns representing multiple measurements.\n"
   ]
  },
  {
   "cell_type": "markdown",
   "metadata": {},
   "source": [
    "The `stack` method rotates the data frame so that columns are represented in rows:"
   ]
  },
  {
   "cell_type": "code",
   "execution_count": null,
   "metadata": {
    "collapsed": false
   },
   "outputs": [],
   "source": [
    "stacked = cdystonia.stack()\n",
    "stacked"
   ]
  },
  {
   "cell_type": "markdown",
   "metadata": {},
   "source": [
    "To complement this, `unstack` pivots from rows back to columns."
   ]
  },
  {
   "cell_type": "code",
   "execution_count": null,
   "metadata": {
    "collapsed": false
   },
   "outputs": [],
   "source": [
    "stacked.unstack().head()"
   ]
  },
  {
   "cell_type": "markdown",
   "metadata": {},
   "source": [
    "For this dataset, it makes sense to create a hierarchical index based on the patient and observation:"
   ]
  },
  {
   "cell_type": "code",
   "execution_count": null,
   "metadata": {
    "collapsed": false
   },
   "outputs": [],
   "source": [
    "cdystonia2 = cdystonia.set_index(['patient','obs'])\n",
    "cdystonia2.head()"
   ]
  },
  {
   "cell_type": "code",
   "execution_count": null,
   "metadata": {
    "collapsed": false
   },
   "outputs": [],
   "source": [
    "cdystonia2.index.is_unique"
   ]
  },
  {
   "cell_type": "markdown",
   "metadata": {},
   "source": [
    "If we want to transform this data so that repeated measurements are in columns, we can `unstack` the `twstrs` measurements according to `obs`."
   ]
  },
  {
   "cell_type": "code",
   "execution_count": null,
   "metadata": {
    "collapsed": false
   },
   "outputs": [],
   "source": [
    "twstrs_wide = cdystonia2['twstrs'].unstack('obs')\n",
    "twstrs_wide.head()"
   ]
  },
  {
   "cell_type": "code",
   "execution_count": null,
   "metadata": {
    "collapsed": false
   },
   "outputs": [],
   "source": [
    "cdystonia_wide = (cdystonia[['patient','site','id','treat','age','sex']]\n",
    "                  .drop_duplicates()\n",
    "                  .merge(twstrs_wide, right_index=True, left_on='patient', how='inner')\n",
    "                  .head())\n",
    "cdystonia_wide"
   ]
  },
  {
   "cell_type": "markdown",
   "metadata": {},
   "source": [
    "A slightly cleaner way of doing this is to set the patient-level information as an index before unstacking:"
   ]
  },
  {
   "cell_type": "code",
   "execution_count": null,
   "metadata": {
    "collapsed": false
   },
   "outputs": [],
   "source": [
    "(cdystonia.set_index(['patient','site','id','treat','age','sex','week'])['twstrs']\n",
    "     .unstack('week').head())"
   ]
  },
  {
   "cell_type": "markdown",
   "metadata": {},
   "source": [
    "To convert our \"wide\" format back to long, we can use the `melt` function, appropriately parameterized. This function is useful for `DataFrame`s where one\n",
    "or more columns are identifier variables (`id_vars`), with the remaining columns being measured variables (`value_vars`). The measured variables are \"unpivoted\" to\n",
    "the row axis, leaving just two non-identifier columns, a *variable* and its corresponding *value*, which can both be renamed using optional arguments."
   ]
  },
  {
   "cell_type": "code",
   "execution_count": null,
   "metadata": {
    "collapsed": false
   },
   "outputs": [],
   "source": [
    "pd.melt(cdystonia_wide, id_vars=['patient','site','id','treat','age','sex'], \n",
    "        var_name='obs', value_name='twsters').head()"
   ]
  },
  {
   "cell_type": "markdown",
   "metadata": {},
   "source": [
    "This illustrates the two formats for longitudinal data: **long** and **wide** formats. Its typically better to store data in long format because additional data can be included as additional rows in the database, while wide format requires that the entire database schema be altered by adding columns to every row as data are collected.\n",
    "\n",
    "The preferable format for analysis depends entirely on what is planned for the data, so it is imporant to be able to move easily between them."
   ]
  },
  {
   "cell_type": "markdown",
   "metadata": {},
   "source": [
    "## Pivoting\n",
    "\n",
    "The `pivot` method allows a DataFrame to be transformed easily between long and wide formats in the same way as a pivot table is created in a spreadsheet. It takes three arguments: `index`, `columns` and `values`, corresponding to the DataFrame index (the row headers), columns and cell values, respectively.\n",
    "\n",
    "For example, we may want the `twstrs` variable (the response variable) in wide format according to patient, as we saw with the unstacking method above:"
   ]
  },
  {
   "cell_type": "code",
   "execution_count": null,
   "metadata": {
    "collapsed": false
   },
   "outputs": [],
   "source": [
    "cdystonia.pivot(index='patient', columns='obs', values='twstrs').head()"
   ]
  },
  {
   "cell_type": "markdown",
   "metadata": {},
   "source": [
    "If we omit the `values` argument, we get a `DataFrame` with hierarchical columns, just as when we applied `unstack` to the hierarchically-indexed table:"
   ]
  },
  {
   "cell_type": "code",
   "execution_count": null,
   "metadata": {
    "collapsed": false
   },
   "outputs": [],
   "source": [
    "cdystonia.pivot('patient', 'obs')"
   ]
  },
  {
   "cell_type": "markdown",
   "metadata": {},
   "source": [
    "A related method, `pivot_table`, creates a spreadsheet-like table with a hierarchical index, and allows the values of the table to be populated using an arbitrary aggregation function."
   ]
  },
  {
   "cell_type": "code",
   "execution_count": null,
   "metadata": {
    "collapsed": false
   },
   "outputs": [],
   "source": [
    "cdystonia.pivot_table(index=['site', 'treat'], columns='week', values='twstrs', \n",
    "                      aggfunc=max).head(20)"
   ]
  },
  {
   "cell_type": "markdown",
   "metadata": {},
   "source": [
    "For a simple cross-tabulation of group frequencies, the `crosstab` function (not a method) aggregates counts of data according to factors in rows and columns. The factors may be hierarchical if desired."
   ]
  },
  {
   "cell_type": "code",
   "execution_count": null,
   "metadata": {
    "collapsed": false
   },
   "outputs": [],
   "source": [
    "pd.crosstab(cdystonia.sex, cdystonia.site)"
   ]
  },
  {
   "cell_type": "markdown",
   "metadata": {},
   "source": [
    "## Data transformation\n",
    "\n",
    "There are a slew of additional operations for DataFrames that we would collectively refer to as \"transformations\" which include tasks such as removing duplicate values, replacing values, and grouping values."
   ]
  },
  {
   "cell_type": "markdown",
   "metadata": {},
   "source": [
    "### Dealing with duplicates\n",
    "\n",
    "We can easily identify and remove duplicate values from `DataFrame` objects. For example, say we want to removed ships from our `vessels` dataset that have the same name:"
   ]
  },
  {
   "cell_type": "code",
   "execution_count": null,
   "metadata": {
    "collapsed": false
   },
   "outputs": [],
   "source": [
    "vessels.duplicated(subset='names')"
   ]
  },
  {
   "cell_type": "code",
   "execution_count": null,
   "metadata": {
    "collapsed": false,
    "scrolled": true
   },
   "outputs": [],
   "source": [
    "vessels.drop_duplicates(['names'])"
   ]
  },
  {
   "cell_type": "markdown",
   "metadata": {},
   "source": [
    "### Value replacement\n",
    "\n",
    "Frequently, we get data columns that are encoded as strings that we wish to represent numerically for the purposes of including it in a quantitative analysis. For example, consider the treatment variable in the cervical dystonia dataset:"
   ]
  },
  {
   "cell_type": "code",
   "execution_count": null,
   "metadata": {
    "collapsed": false
   },
   "outputs": [],
   "source": [
    "cdystonia.treat.value_counts()"
   ]
  },
  {
   "cell_type": "markdown",
   "metadata": {},
   "source": [
    "A logical way to specify these numerically is to change them to integer values, perhaps using \"Placebo\" as a baseline value. If we create a dict with the original values as keys and the replacements as values, we can pass it to the `map` method to implement the changes."
   ]
  },
  {
   "cell_type": "code",
   "execution_count": null,
   "metadata": {
    "collapsed": false
   },
   "outputs": [],
   "source": [
    "treatment_map = {'Placebo': 0, '5000U': 1, '10000U': 2}"
   ]
  },
  {
   "cell_type": "code",
   "execution_count": null,
   "metadata": {
    "collapsed": false
   },
   "outputs": [],
   "source": [
    "cdystonia['treatment'] = cdystonia.treat.map(treatment_map)\n",
    "cdystonia.treatment"
   ]
  },
  {
   "cell_type": "markdown",
   "metadata": {},
   "source": [
    "Alternately, if we simply want to replace particular values in a `Series` or `DataFrame`, we can use the `replace` method. \n",
    "\n",
    "An example where replacement is useful is dealing with zeros in certain transformations. For example, if we try to take the log of a set of values:"
   ]
  },
  {
   "cell_type": "code",
   "execution_count": null,
   "metadata": {
    "collapsed": false
   },
   "outputs": [],
   "source": [
    "vals = pd.Series([float(i)**10 for i in range(10)])\n",
    "vals"
   ]
  },
  {
   "cell_type": "code",
   "execution_count": null,
   "metadata": {
    "collapsed": false
   },
   "outputs": [],
   "source": [
    "np.log(vals)"
   ]
  },
  {
   "cell_type": "markdown",
   "metadata": {},
   "source": [
    "In such situations, we can replace the zero with a value so small that it makes no difference to the ensuing analysis. We can do this with `replace`."
   ]
  },
  {
   "cell_type": "code",
   "execution_count": null,
   "metadata": {
    "collapsed": false
   },
   "outputs": [],
   "source": [
    "vals = vals.replace(0, 1e-6)\n",
    "np.log(vals)"
   ]
  },
  {
   "cell_type": "markdown",
   "metadata": {},
   "source": [
    "We can also perform the same replacement that we used `map` for with `replace`:"
   ]
  },
  {
   "cell_type": "code",
   "execution_count": null,
   "metadata": {
    "collapsed": false
   },
   "outputs": [],
   "source": [
    "cdystonia2.treat.replace({'Placebo': 0, '5000U': 1, '10000U': 2})"
   ]
  },
  {
   "cell_type": "markdown",
   "metadata": {},
   "source": [
    "### Inidcator variables\n",
    "\n",
    "For some statistical analyses (*e.g.* regression models or analyses of variance), categorical or group variables need to be converted into columns of indicators--zeros and ones--to create a so-called **design matrix**. The Pandas function `get_dummies` (indicator variables are also known as *dummy variables*) makes this transformation straightforward.\n",
    "\n",
    "Let's consider the DataFrame containing the ships corresponding to the transit segments on the eastern seaboard. The `type` variable denotes the class of vessel; we can create a matrix of indicators for this. For simplicity, lets filter out the 5 most common types of ships:\n"
   ]
  },
  {
   "cell_type": "code",
   "execution_count": null,
   "metadata": {
    "collapsed": false
   },
   "outputs": [],
   "source": [
    "top5 = vessels.type.isin(vessels.type.value_counts().index[:5])\n",
    "top5.head(10)"
   ]
  },
  {
   "cell_type": "code",
   "execution_count": null,
   "metadata": {
    "collapsed": true
   },
   "outputs": [],
   "source": [
    "vessels5 = vessels[top5]"
   ]
  },
  {
   "cell_type": "code",
   "execution_count": null,
   "metadata": {
    "collapsed": false
   },
   "outputs": [],
   "source": [
    "pd.get_dummies(vessels5.type).head(10)"
   ]
  },
  {
   "cell_type": "markdown",
   "metadata": {},
   "source": [
    "## Categorical Data\n",
    "\n",
    "Pandas provides a convenient `dtype` for reprsenting categorical (factor) data, called `category`. \n",
    "\n",
    "For example, the `treat` column in the cervical dystonia dataset represents three treatment levels in a clinical trial, and is imported by default as an `object` type, since it is a mixture of string characters."
   ]
  },
  {
   "cell_type": "code",
   "execution_count": null,
   "metadata": {
    "collapsed": false
   },
   "outputs": [],
   "source": [
    "cdystonia.treat.head()"
   ]
  },
  {
   "cell_type": "markdown",
   "metadata": {},
   "source": [
    "We can convert this to a `category` type either by the `Categorical` constructor, or casting the column using `astype`:"
   ]
  },
  {
   "cell_type": "code",
   "execution_count": null,
   "metadata": {
    "collapsed": false
   },
   "outputs": [],
   "source": [
    "pd.Categorical(cdystonia.treat)"
   ]
  },
  {
   "cell_type": "code",
   "execution_count": null,
   "metadata": {
    "collapsed": false
   },
   "outputs": [],
   "source": [
    "cdystonia['treat'] = cdystonia.treat.astype('category')"
   ]
  },
  {
   "cell_type": "code",
   "execution_count": null,
   "metadata": {
    "collapsed": false
   },
   "outputs": [],
   "source": [
    "cdystonia.treat.describe()"
   ]
  },
  {
   "cell_type": "markdown",
   "metadata": {},
   "source": [
    "By default the Categorical type represents an unordered categorical."
   ]
  },
  {
   "cell_type": "code",
   "execution_count": null,
   "metadata": {
    "collapsed": false
   },
   "outputs": [],
   "source": [
    "cdystonia.treat.cat.categories"
   ]
  },
  {
   "cell_type": "markdown",
   "metadata": {},
   "source": [
    "However, an ordering can be imposed. The order is lexical by default, but will assume the order of the listed categories to be the desired order."
   ]
  },
  {
   "cell_type": "code",
   "execution_count": null,
   "metadata": {
    "collapsed": false
   },
   "outputs": [],
   "source": [
    "cdystonia.treat.cat.categories = ['Placebo', '5000U', '10000U']"
   ]
  },
  {
   "cell_type": "code",
   "execution_count": null,
   "metadata": {
    "collapsed": false
   },
   "outputs": [],
   "source": [
    "cdystonia.treat.cat.as_ordered().head()"
   ]
  },
  {
   "cell_type": "markdown",
   "metadata": {},
   "source": [
    "The important difference between the `category` type and the `object` type is that `category` is represented by an underlying array of integers, which is then mapped to character labels."
   ]
  },
  {
   "cell_type": "code",
   "execution_count": null,
   "metadata": {
    "collapsed": false
   },
   "outputs": [],
   "source": [
    "cdystonia.treat.cat.codes"
   ]
  },
  {
   "cell_type": "markdown",
   "metadata": {},
   "source": [
    "Notice that these are 8-bit integers, which are essentially single bytes of data, making memory usage lower.\n",
    "\n",
    "There is also a performance benefit. Consider an operation such as calculating the total segment lengths for each ship in the `segments` table (this is also a preview of pandas' `groupby` operation!):"
   ]
  },
  {
   "cell_type": "code",
   "execution_count": null,
   "metadata": {
    "collapsed": false
   },
   "outputs": [],
   "source": [
    "%time segments.groupby(segments.name).seg_length.sum().sort_values(ascending=False, inplace=False).head()"
   ]
  },
  {
   "cell_type": "code",
   "execution_count": null,
   "metadata": {
    "collapsed": true
   },
   "outputs": [],
   "source": [
    "segments['name'] = segments.name.astype('category')"
   ]
  },
  {
   "cell_type": "code",
   "execution_count": null,
   "metadata": {
    "collapsed": false
   },
   "outputs": [],
   "source": [
    "%time segments.groupby(segments.name).seg_length.sum().sort_values(ascending=False, inplace=False).head()"
   ]
  },
  {
   "cell_type": "markdown",
   "metadata": {},
   "source": [
    "Hence, we get a considerable speedup simply by using the appropriate `dtype` for our data."
   ]
  },
  {
   "cell_type": "markdown",
   "metadata": {},
   "source": [
    "### Discretization\n",
    "\n",
    "Pandas' `cut` function can be used to group continuous or countable data in to bins. Discretization is generally a very **bad idea** for statistical analysis, so use this function responsibly!\n",
    "\n",
    "Lets say we want to bin the ages of the cervical dystonia patients into a smaller number of groups:"
   ]
  },
  {
   "cell_type": "code",
   "execution_count": null,
   "metadata": {
    "collapsed": false
   },
   "outputs": [],
   "source": [
    "cdystonia.age.describe()"
   ]
  },
  {
   "cell_type": "markdown",
   "metadata": {},
   "source": [
    "Let's transform these data into decades, beginnnig with individuals in their 20's and ending with those in their 80's:"
   ]
  },
  {
   "cell_type": "code",
   "execution_count": null,
   "metadata": {
    "collapsed": false
   },
   "outputs": [],
   "source": [
    "pd.cut(cdystonia.age, [20,30,40,50,60,70,80,90])[:30]"
   ]
  },
  {
   "cell_type": "markdown",
   "metadata": {},
   "source": [
    "The parentheses indicate an open interval, meaning that the interval includes values up to but *not including* the endpoint, whereas the square bracket is a closed interval, where the endpoint is included in the interval. We can switch the closure to the left side by setting the `right` flag to `False`:"
   ]
  },
  {
   "cell_type": "code",
   "execution_count": null,
   "metadata": {
    "collapsed": false
   },
   "outputs": [],
   "source": [
    "pd.cut(cdystonia.age, [20,30,40,50,60,70,80,90], right=False)[:30]"
   ]
  },
  {
   "cell_type": "markdown",
   "metadata": {},
   "source": [
    "Since the data are now **ordinal**, rather than numeric, we can give them labels:"
   ]
  },
  {
   "cell_type": "code",
   "execution_count": null,
   "metadata": {
    "collapsed": false
   },
   "outputs": [],
   "source": [
    "pd.cut(cdystonia.age, [20,40,60,80,90], labels=['young','middle-aged','old','really old'])[:30]"
   ]
  },
  {
   "cell_type": "markdown",
   "metadata": {},
   "source": [
    "A related function `qcut` uses empirical quantiles to divide the data. If, for example, we want the quartiles -- (0-25%], (25-50%], (50-70%], (75-100%] -- we can just specify 4 intervals, which will be equally-spaced by default:"
   ]
  },
  {
   "cell_type": "code",
   "execution_count": null,
   "metadata": {
    "collapsed": false
   },
   "outputs": [],
   "source": [
    "pd.qcut(cdystonia.age, 4)[:30]"
   ]
  },
  {
   "cell_type": "markdown",
   "metadata": {},
   "source": [
    "Alternatively, one can specify custom quantiles to act as cut points:"
   ]
  },
  {
   "cell_type": "code",
   "execution_count": null,
   "metadata": {
    "collapsed": false
   },
   "outputs": [],
   "source": [
    "quantiles = pd.qcut(segments.seg_length, [0, 0.01, 0.05, 0.95, 0.99, 1])\n",
    "quantiles[:30]"
   ]
  },
  {
   "cell_type": "markdown",
   "metadata": {},
   "source": [
    "Note that you can easily combine discretiztion with the generation of indicator variables shown above:"
   ]
  },
  {
   "cell_type": "code",
   "execution_count": null,
   "metadata": {
    "collapsed": false
   },
   "outputs": [],
   "source": [
    "pd.get_dummies(quantiles).head(10)"
   ]
  },
  {
   "cell_type": "markdown",
   "metadata": {},
   "source": [
    "### Permutation and sampling\n",
    "\n",
    "For some data analysis tasks, such as simulation, we need to be able to randomly reorder our data, or draw random values from it. Calling NumPy's `permutation` function with the length of the sequence you want to permute generates an array with a permuted sequence of integers, which can be used to re-order the sequence."
   ]
  },
  {
   "cell_type": "code",
   "execution_count": null,
   "metadata": {
    "collapsed": false
   },
   "outputs": [],
   "source": [
    "new_order = np.random.permutation(len(segments))\n",
    "new_order[:30]"
   ]
  },
  {
   "cell_type": "markdown",
   "metadata": {},
   "source": [
    "Using this sequence as an argument to the `take` method results in a reordered DataFrame:"
   ]
  },
  {
   "cell_type": "code",
   "execution_count": null,
   "metadata": {
    "collapsed": false
   },
   "outputs": [],
   "source": [
    "segments.take(new_order).head()"
   ]
  },
  {
   "cell_type": "markdown",
   "metadata": {},
   "source": [
    "Compare this ordering with the original:"
   ]
  },
  {
   "cell_type": "code",
   "execution_count": null,
   "metadata": {
    "collapsed": false
   },
   "outputs": [],
   "source": [
    "segments.head()"
   ]
  },
  {
   "cell_type": "markdown",
   "metadata": {},
   "source": [
    "For random sampling, `DataFrame` and `Series` objects have a `sample` method that can be used to draw samples, with or without replacement:"
   ]
  },
  {
   "cell_type": "code",
   "execution_count": null,
   "metadata": {
    "collapsed": false
   },
   "outputs": [],
   "source": [
    "vessels.sample(n=10)"
   ]
  },
  {
   "cell_type": "code",
   "execution_count": null,
   "metadata": {
    "collapsed": false
   },
   "outputs": [],
   "source": [
    "vessels.sample(n=10, replace=True)"
   ]
  },
  {
   "cell_type": "markdown",
   "metadata": {},
   "source": [
    "## Data aggregation and GroupBy operations\n",
    "\n",
    "One of the most powerful features of Pandas is its **GroupBy** functionality. On occasion we may want to perform operations on *groups* of observations within a dataset. For exmaple:\n",
    "\n",
    "* **aggregation**, such as computing the sum of mean of each group, which involves applying a function to each group and returning the aggregated results\n",
    "* **slicing** the DataFrame into groups and then doing something with the resulting slices (*e.g.* plotting)\n",
    "* group-wise **transformation**, such as standardization/normalization"
   ]
  },
  {
   "cell_type": "code",
   "execution_count": null,
   "metadata": {
    "collapsed": false
   },
   "outputs": [],
   "source": [
    "cdystonia_grouped = cdystonia.groupby(cdystonia.patient)"
   ]
  },
  {
   "cell_type": "markdown",
   "metadata": {},
   "source": [
    "This *grouped* dataset is hard to visualize\n",
    "\n"
   ]
  },
  {
   "cell_type": "code",
   "execution_count": null,
   "metadata": {
    "collapsed": false
   },
   "outputs": [],
   "source": [
    "cdystonia_grouped"
   ]
  },
  {
   "cell_type": "markdown",
   "metadata": {},
   "source": [
    "However, the grouping is only an intermediate step; for example, we may want to **iterate** over each of the patient groups:"
   ]
  },
  {
   "cell_type": "code",
   "execution_count": null,
   "metadata": {
    "collapsed": false
   },
   "outputs": [],
   "source": [
    "for patient, group in cdystonia_grouped:\n",
    "    print('patient', patient)\n",
    "    print('group', group)"
   ]
  },
  {
   "cell_type": "markdown",
   "metadata": {},
   "source": [
    "A common data analysis procedure is the **split-apply-combine** operation, which groups subsets of data together, applies a function to each of the groups, then recombines them into a new data table.\n",
    "\n",
    "For example, we may want to aggregate our data with with some function.\n",
    "\n",
    "![split-apply-combine](http://f.cl.ly/items/0s0Z252j0X0c3k3P1M47/Screen%20Shot%202013-06-02%20at%203.04.04%20PM.png)\n",
    "\n",
    "<div align=\"right\">*(figure taken from \"Python for Data Analysis\", p.251)*</div>"
   ]
  },
  {
   "cell_type": "markdown",
   "metadata": {},
   "source": [
    "We can aggregate in Pandas using the `aggregate` (or `agg`, for short) method:"
   ]
  },
  {
   "cell_type": "code",
   "execution_count": null,
   "metadata": {
    "collapsed": false
   },
   "outputs": [],
   "source": [
    "cdystonia_grouped.agg(np.mean).head()"
   ]
  },
  {
   "cell_type": "markdown",
   "metadata": {},
   "source": [
    "Notice that the `treat` and `sex` variables are not included in the aggregation. Since it does not make sense to aggregate non-string variables, these columns are simply ignored by the method.\n",
    "\n",
    "Some aggregation functions are so common that Pandas has a convenience method for them, such as `mean`:"
   ]
  },
  {
   "cell_type": "code",
   "execution_count": null,
   "metadata": {
    "collapsed": false
   },
   "outputs": [],
   "source": [
    "cdystonia_grouped.mean().head()"
   ]
  },
  {
   "cell_type": "markdown",
   "metadata": {},
   "source": [
    "The `add_prefix` and `add_suffix` methods can be used to give the columns of the resulting table labels that reflect the transformation:"
   ]
  },
  {
   "cell_type": "code",
   "execution_count": null,
   "metadata": {
    "collapsed": false
   },
   "outputs": [],
   "source": [
    "cdystonia_grouped.mean().add_suffix('_mean').head()"
   ]
  },
  {
   "cell_type": "code",
   "execution_count": null,
   "metadata": {
    "collapsed": false
   },
   "outputs": [],
   "source": [
    "# The median of the `twstrs` variable\n",
    "cdystonia_grouped['twstrs'].quantile(0.5)"
   ]
  },
  {
   "cell_type": "markdown",
   "metadata": {},
   "source": [
    "If we wish, we can easily aggregate according to multiple keys:"
   ]
  },
  {
   "cell_type": "code",
   "execution_count": null,
   "metadata": {
    "collapsed": false
   },
   "outputs": [],
   "source": [
    "cdystonia.groupby(['week','site']).mean().head()"
   ]
  },
  {
   "cell_type": "markdown",
   "metadata": {},
   "source": [
    "Alternately, we can **transform** the data, using a function of our choice with the `transform` method:"
   ]
  },
  {
   "cell_type": "code",
   "execution_count": null,
   "metadata": {
    "collapsed": false
   },
   "outputs": [],
   "source": [
    "normalize = lambda x: (x - x.mean())/x.std()\n",
    "\n",
    "cdystonia_grouped.transform(normalize).head()"
   ]
  },
  {
   "cell_type": "markdown",
   "metadata": {},
   "source": [
    "It is easy to do column selection within `groupby` operations, if we are only interested split-apply-combine operations on a subset of columns:"
   ]
  },
  {
   "cell_type": "code",
   "execution_count": null,
   "metadata": {
    "collapsed": false
   },
   "outputs": [],
   "source": [
    "cdystonia_grouped['twstrs'].mean().head()"
   ]
  },
  {
   "cell_type": "code",
   "execution_count": null,
   "metadata": {
    "collapsed": false
   },
   "outputs": [],
   "source": [
    "# This gives the same result as a DataFrame\n",
    "cdystonia_grouped[['twstrs']].mean().head()"
   ]
  },
  {
   "cell_type": "markdown",
   "metadata": {},
   "source": [
    "If you simply want to divide your DataFrame into chunks for later use, its easy to convert them into a dict so that they can be easily indexed out as needed:"
   ]
  },
  {
   "cell_type": "code",
   "execution_count": null,
   "metadata": {
    "collapsed": false
   },
   "outputs": [],
   "source": [
    "chunks = dict(list(cdystonia_grouped))"
   ]
  },
  {
   "cell_type": "code",
   "execution_count": null,
   "metadata": {
    "collapsed": false
   },
   "outputs": [],
   "source": [
    "chunks[4]"
   ]
  },
  {
   "cell_type": "markdown",
   "metadata": {},
   "source": [
    "By default, `groupby` groups by row, but we can specify the `axis` argument to change this. For example, we can group our columns by `dtype` this way:"
   ]
  },
  {
   "cell_type": "code",
   "execution_count": null,
   "metadata": {
    "collapsed": false
   },
   "outputs": [],
   "source": [
    "grouped_by_type = cdystonia.groupby(cdystonia.dtypes, axis=1)\n",
    "{g:grouped_by_type.get_group(g) for g in grouped_by_type.groups}"
   ]
  },
  {
   "cell_type": "markdown",
   "metadata": {},
   "source": [
    "Its also possible to group by one or more levels of a hierarchical index. Recall `cdystonia2`, which we created with a hierarchical index:"
   ]
  },
  {
   "cell_type": "code",
   "execution_count": null,
   "metadata": {
    "collapsed": false,
    "scrolled": true
   },
   "outputs": [],
   "source": [
    "cdystonia2.head(10)"
   ]
  },
  {
   "cell_type": "code",
   "execution_count": null,
   "metadata": {
    "collapsed": false
   },
   "outputs": [],
   "source": [
    "cdystonia2.groupby(level='obs', axis=0)['twstrs'].mean()"
   ]
  },
  {
   "cell_type": "markdown",
   "metadata": {},
   "source": [
    "### Apply\n",
    "\n",
    "We can generalize the split-apply-combine methodology by using `apply` function. This allows us to invoke any function we wish on a grouped dataset and recombine them into a DataFrame."
   ]
  },
  {
   "cell_type": "markdown",
   "metadata": {},
   "source": [
    "The function below takes a DataFrame and a column name, sorts by the column, and takes the `n` largest values of that column. We can use this with `apply` to return the largest values from every group in a DataFrame in a single call. "
   ]
  },
  {
   "cell_type": "code",
   "execution_count": null,
   "metadata": {
    "collapsed": false
   },
   "outputs": [],
   "source": [
    "def top(df, column, n=5):\n",
    "    return df.sort_values(by=column, ascending=False)[:n]"
   ]
  },
  {
   "cell_type": "markdown",
   "metadata": {},
   "source": [
    "To see this in action, consider the vessel transit segments dataset (which we merged with the vessel information to yield `segments_merged`). Say we wanted to return the 3 longest segments travelled by each ship:"
   ]
  },
  {
   "cell_type": "code",
   "execution_count": null,
   "metadata": {
    "collapsed": false
   },
   "outputs": [],
   "source": [
    "top3segments = segments_merged.groupby('mmsi').apply(top, column='seg_length', n=3)[['names', 'seg_length']]\n",
    "top3segments.head(15)"
   ]
  },
  {
   "cell_type": "markdown",
   "metadata": {},
   "source": [
    "Notice that additional arguments for the applied function can be passed via `apply` after the function name. It assumes that the DataFrame is the first argument."
   ]
  },
  {
   "cell_type": "markdown",
   "metadata": {},
   "source": [
    "Recall the microbiome data sets that we used previously for the concatenation example. Suppose that we wish to aggregate the data at a higher biological classification than genus. For example, we can identify samples down to *class*, which is the 3rd level of organization in each index."
   ]
  },
  {
   "cell_type": "code",
   "execution_count": null,
   "metadata": {
    "collapsed": false
   },
   "outputs": [],
   "source": [
    "mb1.index[:3]"
   ]
  },
  {
   "cell_type": "markdown",
   "metadata": {},
   "source": [
    "Using the string methods `split` and `join` we can create an index that just uses the first three classifications: domain, phylum and class."
   ]
  },
  {
   "cell_type": "code",
   "execution_count": null,
   "metadata": {
    "collapsed": false
   },
   "outputs": [],
   "source": [
    "class_index = mb1.index.map(lambda x: ' '.join(x.split(' ')[:3]))"
   ]
  },
  {
   "cell_type": "code",
   "execution_count": null,
   "metadata": {
    "collapsed": false
   },
   "outputs": [],
   "source": [
    "mb_class = mb1.copy()\n",
    "mb_class.index = class_index"
   ]
  },
  {
   "cell_type": "markdown",
   "metadata": {},
   "source": [
    "However, since there are multiple taxonomic units with the same class, our index is no longer unique:"
   ]
  },
  {
   "cell_type": "code",
   "execution_count": null,
   "metadata": {
    "collapsed": false
   },
   "outputs": [],
   "source": [
    "mb_class.head()"
   ]
  },
  {
   "cell_type": "markdown",
   "metadata": {},
   "source": [
    "We can re-establish a unique index by summing all rows with the same class, using `groupby`:"
   ]
  },
  {
   "cell_type": "code",
   "execution_count": null,
   "metadata": {
    "collapsed": false
   },
   "outputs": [],
   "source": [
    "mb_class.groupby(level=0).sum().head(10)"
   ]
  },
  {
   "cell_type": "markdown",
   "metadata": {},
   "source": [
    "## Exercise\n",
    "\n",
    "Load the dataset in `titanic.xls`. It contains data on all the passengers that travelled on the Titanic."
   ]
  },
  {
   "cell_type": "code",
   "execution_count": null,
   "metadata": {
    "collapsed": false
   },
   "outputs": [],
   "source": [
    "from IPython.core.display import HTML\n",
    "HTML(filename='Data/titanic.html')"
   ]
  },
  {
   "cell_type": "markdown",
   "metadata": {},
   "source": [
    "Women and children first?\n",
    "\n",
    "1. Describe each attribute, both with basic statistics and plots. State clearly your assumptions and discuss your findings.\n",
    "2. Use the `groupby` method to calculate the proportion of passengers that survived by sex.\n",
    "3. Calculate the same proportion, but by class and sex.\n",
    "4. Create age categories: children (under 14 years), adolescents (14-20), adult (21-64), and senior(65+), and calculate survival proportions by age category, class and sex."
   ]
  },
  {
   "cell_type": "markdown",
   "metadata": {},
   "source": [
    "## References\n",
    "\n",
    "[Python for Data Analysis](http://shop.oreilly.com/product/0636920023784.do) Wes McKinney"
   ]
  }
 ],
 "metadata": {
  "anaconda-cloud": {},
  "kernelspec": {
   "display_name": "Python 2",
   "language": "python",
   "name": "python2"
  },
  "language_info": {
   "codemirror_mode": {
    "name": "ipython",
    "version": 2
   },
   "file_extension": ".py",
   "mimetype": "text/x-python",
   "name": "python",
   "nbconvert_exporter": "python",
   "pygments_lexer": "ipython2",
   "version": "2.7.11"
  },
  "nav_menu": {},
  "toc": {
   "navigate_menu": true,
   "number_sections": false,
   "sideBar": false,
   "threshold": "3",
   "toc_cell": true,
   "toc_section_display": "block",
   "toc_window_display": false
  }
 },
 "nbformat": 4,
 "nbformat_minor": 1
}
