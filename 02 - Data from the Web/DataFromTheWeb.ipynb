{
 "cells": [
  {
   "cell_type": "code",
   "execution_count": 14,
   "metadata": {
    "collapsed": true
   },
   "outputs": [],
   "source": [
    "import requests\n",
    "from bs4 import BeautifulSoup"
   ]
  },
  {
   "cell_type": "code",
   "execution_count": 8,
   "metadata": {
    "collapsed": true
   },
   "outputs": [],
   "source": [
    "r = requests.get('http://isa.epfl.ch/imoniteur_ISAP/%21gedpublicreports.htm?ww_i_reportmodel=133685247')"
   ]
  },
  {
   "cell_type": "code",
   "execution_count": 9,
   "metadata": {
    "collapsed": false
   },
   "outputs": [
    {
     "data": {
      "text/plain": [
       "200"
      ]
     },
     "execution_count": 9,
     "metadata": {},
     "output_type": "execute_result"
    }
   ],
   "source": [
    "r.status_code"
   ]
  },
  {
   "cell_type": "code",
   "execution_count": 10,
   "metadata": {
    "collapsed": false
   },
   "outputs": [
    {
     "data": {
      "text/plain": [
       "'text/html; charset=ISO-8859-15'"
      ]
     },
     "execution_count": 10,
     "metadata": {},
     "output_type": "execute_result"
    }
   ],
   "source": [
    "r.headers['content-type']"
   ]
  },
  {
   "cell_type": "code",
   "execution_count": 11,
   "metadata": {
    "collapsed": false
   },
   "outputs": [
    {
     "data": {
      "text/plain": [
       "'ISO-8859-15'"
      ]
     },
     "execution_count": 11,
     "metadata": {},
     "output_type": "execute_result"
    }
   ],
   "source": [
    "r.encoding"
   ]
  },
  {
   "cell_type": "code",
   "execution_count": 12,
   "metadata": {
    "collapsed": false
   },
   "outputs": [
    {
     "data": {
      "text/plain": [
       "u'<html>\\n   <head>\\n      <META http-equiv=\"Content-Type\" content=\"text/html; charset=iso-8859-1\">\\n      <title>IS-Academia</title>\\n      <link rel=\"stylesheet\" type=\"text/css\" href=\"gedpublicreports.css?ww_x_path=Gestac.Moniteur.Style\">\\n      <link rel=\"stylesheet\" type=\"text/css\" href=\"!ewxslsource.css?ww_x_path=Eqnx.Ajax.PageNL_css\"><script type=\"text/javascript\" src=\"gedpublicreports.txt?ww_x_path=Eqnx.Ajax.X.core\"></script><script type=\"text/javascript\" src=\"gedpublicreports.txt?ww_x_path=Eqnx.Ajax.X.drag\"></script><script type=\"text/javascript\" src=\"gedpublicreports.txt?ww_x_path=Eqnx.Ajax.X.event\"></script><script type=\"text/javascript\" src=\"gedpublicreports.txt?ww_x_path=Eqnx.Ajax.X.dom\"></script><script type=\"text/javascript\" src=\"gedpublicreports.txt?ww_x_path=Eqnx.Ajax.ewnet.namespace\"></script><script type=\"text/javascript\" src=\"gedpublicreports.txt?ww_x_path=Eqnx.Ajax.ewnet.core\"></script><script type=\"text/javascript\" src=\"gedpublicreports.txt?ww_x_path=Eqnx.Ajax.ewnet.uctrl\"></script><script type=\"text/javascript\" src=\"gedpublicreports.txt?ww_x_path=Eqnx.Ajax.ewnet.ucore\"></script><script type=\"text/javascript\" src=\"gedpublicreports.txt?ww_x_path=Eqnx.Ajax.ewnet.ctrl\"></script><script type=\"text/javascript\" src=\"gedpublicreports.txt?ww_x_path=Eqnx.Ajax.ewnet.autocomplete\"></script><script type=\"text/javascript\" src=\"gedpublicreports.txt?ww_x_path=Eqnx.Ajax.ewnet.toc\"></script><script type=\"text/javascript\" src=\"gedpublicreports.txt?ww_x_path=Eqnx.Ajax.ewnet.ruban\"></script><script type=\"text/javascript\" src=\"gedpublicreports.txt?ww_x_path=Eqnx.Ajax.ewnet.info\"></script>\\n   </head>\\n   <frameset border=\"0\" frameborder=\"0\" rows=\"113,*\">\\n      <frame name=\"entete\" scrolling=\"no\" noresize src=\"!GEDPUBLICREPORTS.entete?ww_i_reportModel=133685247\">\\n      <frameset border=\"0\" frameborder=\"0\" cols=\"25%,*\">\\n         <frame name=\"toc\" src=\"!GEDPUBLICREPORTS.filter?ww_i_reportModel=133685247\">\\n         <frame name=\"principal\" src=\"GEDPUBLICREPORTS.empty\">\\n      </frameset>\\n   </frameset>\\n</html>\\n<!-- OpenXml:0.01s  agent ctrl:0.00s  xml:0.00s  xsl clob before parse:0.00s  xsl extr&stylesheet:0.00s  xsl clob before parse:0.00s  xsl after parsing:0.00s  xsl ctrl data:0.00s  transform 2:0.02s  xsl process:0.00s  -->'"
      ]
     },
     "execution_count": 12,
     "metadata": {},
     "output_type": "execute_result"
    }
   ],
   "source": [
    "r.text"
   ]
  },
  {
   "cell_type": "code",
   "execution_count": 13,
   "metadata": {
    "collapsed": false
   },
   "outputs": [
    {
     "ename": "JSONDecodeError",
     "evalue": "Expecting value: line 1 column 1 (char 0)",
     "output_type": "error",
     "traceback": [
      "\u001b[1;31m---------------------------------------------------------------------------\u001b[0m",
      "\u001b[1;31mJSONDecodeError\u001b[0m                           Traceback (most recent call last)",
      "\u001b[1;32m<ipython-input-13-9c78734cbfe1>\u001b[0m in \u001b[0;36m<module>\u001b[1;34m()\u001b[0m\n\u001b[1;32m----> 1\u001b[1;33m \u001b[0mr\u001b[0m\u001b[1;33m.\u001b[0m\u001b[0mjson\u001b[0m\u001b[1;33m(\u001b[0m\u001b[1;33m)\u001b[0m\u001b[1;33m\u001b[0m\u001b[0m\n\u001b[0m",
      "\u001b[1;32m/home/meryem/miniconda2/lib/python2.7/site-packages/requests/models.pyc\u001b[0m in \u001b[0;36mjson\u001b[1;34m(self, **kwargs)\u001b[0m\n\u001b[0;32m    824\u001b[0m                     \u001b[1;31m# used.\u001b[0m\u001b[1;33m\u001b[0m\u001b[1;33m\u001b[0m\u001b[0m\n\u001b[0;32m    825\u001b[0m                     \u001b[1;32mpass\u001b[0m\u001b[1;33m\u001b[0m\u001b[0m\n\u001b[1;32m--> 826\u001b[1;33m         \u001b[1;32mreturn\u001b[0m \u001b[0mcomplexjson\u001b[0m\u001b[1;33m.\u001b[0m\u001b[0mloads\u001b[0m\u001b[1;33m(\u001b[0m\u001b[0mself\u001b[0m\u001b[1;33m.\u001b[0m\u001b[0mtext\u001b[0m\u001b[1;33m,\u001b[0m \u001b[1;33m**\u001b[0m\u001b[0mkwargs\u001b[0m\u001b[1;33m)\u001b[0m\u001b[1;33m\u001b[0m\u001b[0m\n\u001b[0m\u001b[0;32m    827\u001b[0m \u001b[1;33m\u001b[0m\u001b[0m\n\u001b[0;32m    828\u001b[0m     \u001b[1;33m@\u001b[0m\u001b[0mproperty\u001b[0m\u001b[1;33m\u001b[0m\u001b[0m\n",
      "\u001b[1;32m/home/meryem/miniconda2/lib/python2.7/site-packages/simplejson/__init__.pyc\u001b[0m in \u001b[0;36mloads\u001b[1;34m(s, encoding, cls, object_hook, parse_float, parse_int, parse_constant, object_pairs_hook, use_decimal, **kw)\u001b[0m\n\u001b[0;32m    514\u001b[0m             \u001b[0mparse_constant\u001b[0m \u001b[1;32mis\u001b[0m \u001b[0mNone\u001b[0m \u001b[1;32mand\u001b[0m \u001b[0mobject_pairs_hook\u001b[0m \u001b[1;32mis\u001b[0m \u001b[0mNone\u001b[0m\u001b[1;33m\u001b[0m\u001b[0m\n\u001b[0;32m    515\u001b[0m             and not use_decimal and not kw):\n\u001b[1;32m--> 516\u001b[1;33m         \u001b[1;32mreturn\u001b[0m \u001b[0m_default_decoder\u001b[0m\u001b[1;33m.\u001b[0m\u001b[0mdecode\u001b[0m\u001b[1;33m(\u001b[0m\u001b[0ms\u001b[0m\u001b[1;33m)\u001b[0m\u001b[1;33m\u001b[0m\u001b[0m\n\u001b[0m\u001b[0;32m    517\u001b[0m     \u001b[1;32mif\u001b[0m \u001b[0mcls\u001b[0m \u001b[1;32mis\u001b[0m \u001b[0mNone\u001b[0m\u001b[1;33m:\u001b[0m\u001b[1;33m\u001b[0m\u001b[0m\n\u001b[0;32m    518\u001b[0m         \u001b[0mcls\u001b[0m \u001b[1;33m=\u001b[0m \u001b[0mJSONDecoder\u001b[0m\u001b[1;33m\u001b[0m\u001b[0m\n",
      "\u001b[1;32m/home/meryem/miniconda2/lib/python2.7/site-packages/simplejson/decoder.pyc\u001b[0m in \u001b[0;36mdecode\u001b[1;34m(self, s, _w, _PY3)\u001b[0m\n\u001b[0;32m    368\u001b[0m         \u001b[1;32mif\u001b[0m \u001b[0m_PY3\u001b[0m \u001b[1;32mand\u001b[0m \u001b[0misinstance\u001b[0m\u001b[1;33m(\u001b[0m\u001b[0ms\u001b[0m\u001b[1;33m,\u001b[0m \u001b[0mbinary_type\u001b[0m\u001b[1;33m)\u001b[0m\u001b[1;33m:\u001b[0m\u001b[1;33m\u001b[0m\u001b[0m\n\u001b[0;32m    369\u001b[0m             \u001b[0ms\u001b[0m \u001b[1;33m=\u001b[0m \u001b[0ms\u001b[0m\u001b[1;33m.\u001b[0m\u001b[0mdecode\u001b[0m\u001b[1;33m(\u001b[0m\u001b[0mself\u001b[0m\u001b[1;33m.\u001b[0m\u001b[0mencoding\u001b[0m\u001b[1;33m)\u001b[0m\u001b[1;33m\u001b[0m\u001b[0m\n\u001b[1;32m--> 370\u001b[1;33m         \u001b[0mobj\u001b[0m\u001b[1;33m,\u001b[0m \u001b[0mend\u001b[0m \u001b[1;33m=\u001b[0m \u001b[0mself\u001b[0m\u001b[1;33m.\u001b[0m\u001b[0mraw_decode\u001b[0m\u001b[1;33m(\u001b[0m\u001b[0ms\u001b[0m\u001b[1;33m)\u001b[0m\u001b[1;33m\u001b[0m\u001b[0m\n\u001b[0m\u001b[0;32m    371\u001b[0m         \u001b[0mend\u001b[0m \u001b[1;33m=\u001b[0m \u001b[0m_w\u001b[0m\u001b[1;33m(\u001b[0m\u001b[0ms\u001b[0m\u001b[1;33m,\u001b[0m \u001b[0mend\u001b[0m\u001b[1;33m)\u001b[0m\u001b[1;33m.\u001b[0m\u001b[0mend\u001b[0m\u001b[1;33m(\u001b[0m\u001b[1;33m)\u001b[0m\u001b[1;33m\u001b[0m\u001b[0m\n\u001b[0;32m    372\u001b[0m         \u001b[1;32mif\u001b[0m \u001b[0mend\u001b[0m \u001b[1;33m!=\u001b[0m \u001b[0mlen\u001b[0m\u001b[1;33m(\u001b[0m\u001b[0ms\u001b[0m\u001b[1;33m)\u001b[0m\u001b[1;33m:\u001b[0m\u001b[1;33m\u001b[0m\u001b[0m\n",
      "\u001b[1;32m/home/meryem/miniconda2/lib/python2.7/site-packages/simplejson/decoder.pyc\u001b[0m in \u001b[0;36mraw_decode\u001b[1;34m(self, s, idx, _w, _PY3)\u001b[0m\n\u001b[0;32m    398\u001b[0m             \u001b[1;32melif\u001b[0m \u001b[0mord0\u001b[0m \u001b[1;33m==\u001b[0m \u001b[1;36m0xef\u001b[0m \u001b[1;32mand\u001b[0m \u001b[0ms\u001b[0m\u001b[1;33m[\u001b[0m\u001b[0midx\u001b[0m\u001b[1;33m:\u001b[0m\u001b[0midx\u001b[0m \u001b[1;33m+\u001b[0m \u001b[1;36m3\u001b[0m\u001b[1;33m]\u001b[0m \u001b[1;33m==\u001b[0m \u001b[1;34m'\\xef\\xbb\\xbf'\u001b[0m\u001b[1;33m:\u001b[0m\u001b[1;33m\u001b[0m\u001b[0m\n\u001b[0;32m    399\u001b[0m                 \u001b[0midx\u001b[0m \u001b[1;33m+=\u001b[0m \u001b[1;36m3\u001b[0m\u001b[1;33m\u001b[0m\u001b[0m\n\u001b[1;32m--> 400\u001b[1;33m         \u001b[1;32mreturn\u001b[0m \u001b[0mself\u001b[0m\u001b[1;33m.\u001b[0m\u001b[0mscan_once\u001b[0m\u001b[1;33m(\u001b[0m\u001b[0ms\u001b[0m\u001b[1;33m,\u001b[0m \u001b[0midx\u001b[0m\u001b[1;33m=\u001b[0m\u001b[0m_w\u001b[0m\u001b[1;33m(\u001b[0m\u001b[0ms\u001b[0m\u001b[1;33m,\u001b[0m \u001b[0midx\u001b[0m\u001b[1;33m)\u001b[0m\u001b[1;33m.\u001b[0m\u001b[0mend\u001b[0m\u001b[1;33m(\u001b[0m\u001b[1;33m)\u001b[0m\u001b[1;33m)\u001b[0m\u001b[1;33m\u001b[0m\u001b[0m\n\u001b[0m",
      "\u001b[1;31mJSONDecodeError\u001b[0m: Expecting value: line 1 column 1 (char 0)"
     ]
    }
   ],
   "source": [
    "r.json()"
   ]
  },
  {
   "cell_type": "markdown",
   "metadata": {},
   "source": [
    "Good Resource for Beautiful soup: https://www.crummy.com/software/BeautifulSoup/bs4/doc/"
   ]
  },
  {
   "cell_type": "code",
   "execution_count": 16,
   "metadata": {
    "collapsed": false
   },
   "outputs": [
    {
     "name": "stdout",
     "output_type": "stream",
     "text": [
      "<html>\n",
      " <head>\n",
      "  <meta content=\"text/html; charset=utf-8\" http-equiv=\"Content-Type\">\n",
      "   <title>\n",
      "    IS-Academia\n",
      "   </title>\n",
      "   <link href=\"gedpublicreports.css?ww_x_path=Gestac.Moniteur.Style\" rel=\"stylesheet\" type=\"text/css\">\n",
      "    <link href=\"!ewxslsource.css?ww_x_path=Eqnx.Ajax.PageNL_css\" rel=\"stylesheet\" type=\"text/css\">\n",
      "     <script src=\"gedpublicreports.txt?ww_x_path=Eqnx.Ajax.X.core\" type=\"text/javascript\">\n",
      "     </script>\n",
      "     <script src=\"gedpublicreports.txt?ww_x_path=Eqnx.Ajax.X.drag\" type=\"text/javascript\">\n",
      "     </script>\n",
      "     <script src=\"gedpublicreports.txt?ww_x_path=Eqnx.Ajax.X.event\" type=\"text/javascript\">\n",
      "     </script>\n",
      "     <script src=\"gedpublicreports.txt?ww_x_path=Eqnx.Ajax.X.dom\" type=\"text/javascript\">\n",
      "     </script>\n",
      "     <script src=\"gedpublicreports.txt?ww_x_path=Eqnx.Ajax.ewnet.namespace\" type=\"text/javascript\">\n",
      "     </script>\n",
      "     <script src=\"gedpublicreports.txt?ww_x_path=Eqnx.Ajax.ewnet.core\" type=\"text/javascript\">\n",
      "     </script>\n",
      "     <script src=\"gedpublicreports.txt?ww_x_path=Eqnx.Ajax.ewnet.uctrl\" type=\"text/javascript\">\n",
      "     </script>\n",
      "     <script src=\"gedpublicreports.txt?ww_x_path=Eqnx.Ajax.ewnet.ucore\" type=\"text/javascript\">\n",
      "     </script>\n",
      "     <script src=\"gedpublicreports.txt?ww_x_path=Eqnx.Ajax.ewnet.ctrl\" type=\"text/javascript\">\n",
      "     </script>\n",
      "     <script src=\"gedpublicreports.txt?ww_x_path=Eqnx.Ajax.ewnet.autocomplete\" type=\"text/javascript\">\n",
      "     </script>\n",
      "     <script src=\"gedpublicreports.txt?ww_x_path=Eqnx.Ajax.ewnet.toc\" type=\"text/javascript\">\n",
      "     </script>\n",
      "     <script src=\"gedpublicreports.txt?ww_x_path=Eqnx.Ajax.ewnet.ruban\" type=\"text/javascript\">\n",
      "     </script>\n",
      "     <script src=\"gedpublicreports.txt?ww_x_path=Eqnx.Ajax.ewnet.info\" type=\"text/javascript\">\n",
      "     </script>\n",
      "    </link>\n",
      "   </link>\n",
      "  </meta>\n",
      " </head>\n",
      " <frameset border=\"0\" frameborder=\"0\" rows=\"113,*\">\n",
      "  <frame name=\"entete\" noresize=\"\" scrolling=\"no\" src=\"!GEDPUBLICREPORTS.entete?ww_i_reportModel=133685247\">\n",
      "   <frameset border=\"0\" cols=\"25%,*\" frameborder=\"0\">\n",
      "    <frame name=\"toc\" src=\"!GEDPUBLICREPORTS.filter?ww_i_reportModel=133685247\">\n",
      "     <frame name=\"principal\" src=\"GEDPUBLICREPORTS.empty\">\n",
      "     </frame>\n",
      "    </frame>\n",
      "   </frameset>\n",
      "  </frame>\n",
      " </frameset>\n",
      "</html>\n",
      "<!-- OpenXml:0.01s  agent ctrl:0.00s  xml:0.00s  xsl clob before parse:0.00s  xsl extr&stylesheet:0.00s  xsl clob before parse:0.00s  xsl after parsing:0.00s  xsl ctrl data:0.00s  transform 2:0.02s  xsl process:0.00s  -->\n",
      "\n"
     ]
    }
   ],
   "source": [
    "soup = BeautifulSoup(r.text, 'html.parser')\n",
    "print(soup.prettify())"
   ]
  },
  {
   "cell_type": "code",
   "execution_count": 17,
   "metadata": {
    "collapsed": false
   },
   "outputs": [
    {
     "data": {
      "text/plain": [
       "<title>IS-Academia</title>"
      ]
     },
     "execution_count": 17,
     "metadata": {},
     "output_type": "execute_result"
    }
   ],
   "source": [
    "soup.title"
   ]
  },
  {
   "cell_type": "code",
   "execution_count": 19,
   "metadata": {
    "collapsed": false
   },
   "outputs": [
    {
     "ename": "TypeError",
     "evalue": "'NoneType' object has no attribute '__getitem__'",
     "output_type": "error",
     "traceback": [
      "\u001b[1;31m---------------------------------------------------------------------------\u001b[0m",
      "\u001b[1;31mTypeError\u001b[0m                                 Traceback (most recent call last)",
      "\u001b[1;32m<ipython-input-19-cc6e3b9e58d0>\u001b[0m in \u001b[0;36m<module>\u001b[1;34m()\u001b[0m\n\u001b[0;32m     13\u001b[0m \u001b[1;33m\u001b[0m\u001b[0m\n\u001b[0;32m     14\u001b[0m \u001b[1;33m\u001b[0m\u001b[0m\n\u001b[1;32m---> 15\u001b[1;33m \u001b[0msoup\u001b[0m\u001b[1;33m.\u001b[0m\u001b[0mp\u001b[0m\u001b[1;33m[\u001b[0m\u001b[1;34m'class'\u001b[0m\u001b[1;33m]\u001b[0m\u001b[1;33m\u001b[0m\u001b[0m\n\u001b[0m\u001b[0;32m     16\u001b[0m \u001b[1;33m\u001b[0m\u001b[0m\n\u001b[0;32m     17\u001b[0m \u001b[1;33m\u001b[0m\u001b[0m\n",
      "\u001b[1;31mTypeError\u001b[0m: 'NoneType' object has no attribute '__getitem__'"
     ]
    }
   ],
   "source": [
    "soup.title\n",
    "\n",
    "soup.title.name\n",
    "\n",
    "\n",
    "soup.title.string\n",
    "\n",
    "\n",
    "soup.title.parent.name\n",
    "\n",
    "\n",
    "soup.p\n",
    "\n",
    "\n",
    "soup.p['class']\n",
    "\n",
    "\n",
    "soup.a\n",
    "\n",
    "\n",
    "soup.find_all('a')\n",
    "\n",
    "\n"
   ]
  },
  {
   "cell_type": "code",
   "execution_count": null,
   "metadata": {
    "collapsed": true
   },
   "outputs": [],
   "source": []
  }
 ],
 "metadata": {
  "kernelspec": {
   "display_name": "Python 2",
   "language": "python",
   "name": "python2"
  },
  "language_info": {
   "codemirror_mode": {
    "name": "ipython",
    "version": 2
   },
   "file_extension": ".py",
   "mimetype": "text/x-python",
   "name": "python",
   "nbconvert_exporter": "python",
   "pygments_lexer": "ipython2",
   "version": "2.7.11"
  }
 },
 "nbformat": 4,
 "nbformat_minor": 0
}
