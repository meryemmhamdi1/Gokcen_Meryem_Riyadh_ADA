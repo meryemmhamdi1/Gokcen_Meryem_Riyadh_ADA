{
 "cells": [
  {
   "cell_type": "markdown",
   "metadata": {},
   "source": [
    "Let's first get the content of the page that has the ACTUAL form. Which is: http://isa.epfl.ch/imoniteur_ISAP/!GEDPUBLICREPORTS.filter?ww_i_reportModel=133685247 This form is loaded on the actual page using AJAX - which we will not be using at all."
   ]
  },
  {
   "cell_type": "code",
   "execution_count": 1,
   "metadata": {
    "collapsed": false
   },
   "outputs": [],
   "source": [
    "from bs4 import BeautifulSoup\n",
    "import requests\n",
    "import pandas as pd\n",
    "%matplotlib inline  \n",
    "import seaborn as sns\n",
    "import matplotlib.pyplot as plt\n",
    "import scipy.stats as stats\n",
    "import numpy"
   ]
  },
  {
   "cell_type": "code",
   "execution_count": 2,
   "metadata": {
    "collapsed": false
   },
   "outputs": [
    {
     "data": {
      "text/plain": [
       "200"
      ]
     },
     "execution_count": 2,
     "metadata": {},
     "output_type": "execute_result"
    }
   ],
   "source": [
    "resp = requests.get('http://isa.epfl.ch/imoniteur_ISAP/!GEDPUBLICREPORTS.filter?ww_i_reportModel=133685247')\n",
    "resp.status_code"
   ]
  },
  {
   "cell_type": "markdown",
   "metadata": {},
   "source": [
    "Good Resource for Beautiful soup: https://www.crummy.com/software/BeautifulSoup/bs4/doc/\n",
    "### Getting available parameters from the form\n",
    "We will need them later. Let's extract them from the HTML using beautifulsoup."
   ]
  },
  {
   "cell_type": "code",
   "execution_count": 3,
   "metadata": {
    "collapsed": false
   },
   "outputs": [
    {
     "name": "stdout",
     "output_type": "stream",
     "text": [
      "Year Options:\n",
      "[('355925344', 2016),\n",
      " ('213638028', 2015),\n",
      " ('213637922', 2014),\n",
      " ('213637754', 2013),\n",
      " ('123456101', 2012),\n",
      " ('123455150', 2011),\n",
      " ('39486325', 2010),\n",
      " ('978195', 2009),\n",
      " ('978187', 2008),\n",
      " ('978181', 2007)]\n",
      "Semester Options:\n",
      "[('249108', 'Bachelor semestre 1'),\n",
      " ('249114', 'Bachelor semestre 2'),\n",
      " ('942155', 'Bachelor semestre 3'),\n",
      " ('942163', 'Bachelor semestre 4'),\n",
      " ('942120', 'Bachelor semestre 5'),\n",
      " ('2226768', 'Bachelor semestre 5b'),\n",
      " ('942175', 'Bachelor semestre 6'),\n",
      " ('2226785', 'Bachelor semestre 6b'),\n",
      " ('2230106', 'Master semestre 1'),\n",
      " ('942192', 'Master semestre 2'),\n",
      " ('2230128', 'Master semestre 3'),\n",
      " ('2230140', 'Master semestre 4'),\n",
      " ('2335667', 'Mineur semestre 1'),\n",
      " ('2335676', 'Mineur semestre 2'),\n",
      " ('2063602308', 'Mise à niveau'),\n",
      " ('249127', 'Projet Master automne'),\n",
      " ('3781783', 'Projet Master printemps'),\n",
      " ('953159', 'Semestre automne'),\n",
      " ('2754553', 'Semestre printemps'),\n",
      " ('953137', 'Stage automne 3ème année'),\n",
      " ('2226616', 'Stage automne 4ème année'),\n",
      " ('983606', 'Stage printemps 3ème année'),\n",
      " ('2226626', 'Stage printemps 4ème année'),\n",
      " ('2227132', 'Stage printemps master')]\n"
     ]
    }
   ],
   "source": [
    "from bs4 import BeautifulSoup\n",
    "from pprint import pprint as pp\n",
    "intro_page_soup = BeautifulSoup(resp.text, 'html.parser')\n",
    "\n",
    "# We examined the html page that includes the form by doing some requests and inspecting the query\n",
    "# Parameters using Postman and google chrome's debugger, and we realized that we only need \n",
    "# ww_x_PERIODE_ACAD, ww_x_PERIODE_PEDAGO\n",
    "\n",
    "\n",
    "year_options_soups = intro_page_soup.find('select', {'name': 'ww_x_PERIODE_ACAD'}).find_all('option')\n",
    "year_options = [\n",
    "    (option['value'], int(option.text.split('-')[0])) for option in year_options_soups if option.text\n",
    "]\n",
    "\n",
    "semester_options_soups = intro_page_soup.find('select', {'name': 'ww_x_PERIODE_PEDAGO'}).find_all('option')\n",
    "semester_options = [\n",
    "    (option['value'], option.text) for option in semester_options_soups if option.text\n",
    "]\n",
    "\n",
    "print(\"Year Options:\")\n",
    "pp(year_options)\n",
    "\n",
    "print(\"Semester Options:\")\n",
    "pp(semester_options)"
   ]
  },
  {
   "cell_type": "code",
   "execution_count": 4,
   "metadata": {
    "collapsed": true
   },
   "outputs": [],
   "source": [
    "\n",
    "base_payload = {\n",
    "    'ww_x_GPS': -1,\n",
    "    'ww_i_reportModel': 133685247,\n",
    "    'ww_i_reportModelXsl': 133685270,\n",
    "    'ww_x_UNITE_ACAD': 249847, #ID of Informatique Department\n",
    "    'ww_x_PERIODE_ACAD': 213637754, # we will change this (Using YEARS options)\n",
    "    'ww_x_PERIODE_PEDAGO': 249108, #we will change this (Using SEMESTERS options)\n",
    "    'ww_x_HIVERETE': 'null' #? well this was there - better not touch - works fine like this..\n",
    "}"
   ]
  },
  {
   "cell_type": "markdown",
   "metadata": {},
   "source": [
    "# Exercise 1: Bachelor Students"
   ]
  },
  {
   "cell_type": "markdown",
   "metadata": {},
   "source": [
    "## 1.1. Extracting Bachelor Data and Computing Duration: "
   ]
  },
  {
   "cell_type": "markdown",
   "metadata": {},
   "source": [
    "In what follows, we load the data for all students registered in Bachelor Semester 1, Bachelor Semester 5 and Bachelor Semester 6 from 2007 to 2016. We include Bachelor Semester 5 here because it is possible to have students who take semester 5 and fail it but can do semester 6 and redo courses from semester 5 next year without redoing semester 6, which doesn't apply if students fail Semester 1 or 2 as they need to repeat the whole year ( both Semester 1 and 2) and same thing holds for failing semester 3 or 4 which implies repeating the whole year. For each student, we keep a record of years in which he/she did or redid Bachelor Semester 1, Bachelor Semester 5 and Bachelor Semester 6. At this stage, we don't remove duplicates yet."
   ]
  },
  {
   "cell_type": "code",
   "execution_count": 5,
   "metadata": {
    "collapsed": false,
    "scrolled": false
   },
   "outputs": [
    {
     "name": "stdout",
     "output_type": "stream",
     "text": [
      "Semester 1 2009 done\n",
      "Semester 1 2007 done\n",
      "Semester 1 2008 done\n",
      "Semester 1 2011 done\n",
      "Semester 1 2015 done\n",
      "Semester 1 2010 done\n",
      "Semester 1 2016 done\n",
      "Semester 1 2012 done\n",
      "Semester 1 2013 done\n",
      "Semester 1 2014 done\n",
      "Semester 5 2016 done\n",
      "Semester 5 2013 done\n",
      "Semester 5 2015 done\n",
      "Semester 5 2014 done\n",
      "Semester 5 2010 done\n",
      "Semester 5 2008 done\n",
      "Semester 5 2007 done\n",
      "Semester 5 2009 done\n",
      "Semester 5 2012 done\n",
      "Semester 6 2013 done\n",
      "Semester 6 2014 done\n",
      "Semester 6 2011 done\n",
      "Semester 6 2015 done\n",
      "Semester 6 2010 done\n",
      "Semester 6 2008 done\n",
      "Semester 6 2007 done\n",
      "Semester 6 2009 done\n",
      "Semester 6 2012 done\n",
      "Semester 5 2011 done\n",
      "Semester 6 2016 done\n",
      "Finished\n"
     ]
    },
    {
     "data": {
      "text/html": [
       "<div>\n",
       "<table border=\"1\" class=\"dataframe\">\n",
       "  <thead>\n",
       "    <tr style=\"text-align: right;\">\n",
       "      <th></th>\n",
       "      <th>Civilité</th>\n",
       "      <th>Nom Prénom</th>\n",
       "      <th>Statut</th>\n",
       "      <th>No Sciper</th>\n",
       "      <th>Spécialisation</th>\n",
       "      <th>Semester 6</th>\n",
       "      <th>Semester 5</th>\n",
       "      <th>Semester 1</th>\n",
       "    </tr>\n",
       "  </thead>\n",
       "  <tbody>\n",
       "    <tr>\n",
       "      <th>0</th>\n",
       "      <td>Monsieur</td>\n",
       "      <td>Barras Florian</td>\n",
       "      <td>Présent</td>\n",
       "      <td>170220</td>\n",
       "      <td>NaN</td>\n",
       "      <td>2007.0</td>\n",
       "      <td>NaN</td>\n",
       "      <td>NaN</td>\n",
       "    </tr>\n",
       "    <tr>\n",
       "      <th>1</th>\n",
       "      <td>Monsieur</td>\n",
       "      <td>Beuret Thibaut</td>\n",
       "      <td>Présent</td>\n",
       "      <td>166701</td>\n",
       "      <td>NaN</td>\n",
       "      <td>2007.0</td>\n",
       "      <td>NaN</td>\n",
       "      <td>NaN</td>\n",
       "    </tr>\n",
       "    <tr>\n",
       "      <th>2</th>\n",
       "      <td>Monsieur</td>\n",
       "      <td>Biollay Jean Isaac Jamal Pachacutec</td>\n",
       "      <td>Présent</td>\n",
       "      <td>161279</td>\n",
       "      <td>NaN</td>\n",
       "      <td>2007.0</td>\n",
       "      <td>NaN</td>\n",
       "      <td>NaN</td>\n",
       "    </tr>\n",
       "    <tr>\n",
       "      <th>3</th>\n",
       "      <td>Monsieur</td>\n",
       "      <td>Blatter Jérémy</td>\n",
       "      <td>Présent</td>\n",
       "      <td>166344</td>\n",
       "      <td>NaN</td>\n",
       "      <td>2007.0</td>\n",
       "      <td>NaN</td>\n",
       "      <td>NaN</td>\n",
       "    </tr>\n",
       "    <tr>\n",
       "      <th>4</th>\n",
       "      <td>Monsieur</td>\n",
       "      <td>Boksanyi Michael</td>\n",
       "      <td>Présent</td>\n",
       "      <td>161634</td>\n",
       "      <td>NaN</td>\n",
       "      <td>2007.0</td>\n",
       "      <td>NaN</td>\n",
       "      <td>NaN</td>\n",
       "    </tr>\n",
       "  </tbody>\n",
       "</table>\n",
       "</div>"
      ],
      "text/plain": [
       "   Civilité                           Nom Prénom   Statut No Sciper  \\\n",
       "0  Monsieur                       Barras Florian  Présent    170220   \n",
       "1  Monsieur                       Beuret Thibaut  Présent    166701   \n",
       "2  Monsieur  Biollay Jean Isaac Jamal Pachacutec  Présent    161279   \n",
       "3  Monsieur                       Blatter Jérémy  Présent    166344   \n",
       "4  Monsieur                     Boksanyi Michael  Présent    161634   \n",
       "\n",
       "   Spécialisation  Semester 6  Semester 5  Semester 1  \n",
       "0             NaN      2007.0         NaN         NaN  \n",
       "1             NaN      2007.0         NaN         NaN  \n",
       "2             NaN      2007.0         NaN         NaN  \n",
       "3             NaN      2007.0         NaN         NaN  \n",
       "4             NaN      2007.0         NaN         NaN  "
      ]
     },
     "execution_count": 5,
     "metadata": {},
     "output_type": "execute_result"
    }
   ],
   "source": [
    "import pandas as pd\n",
    "import concurrent.futures\n",
    "import itertools\n",
    "\n",
    "\n",
    "bachelors_final_table = None # The data frame that holds the data for student registrations for all years and the 3 semesters\n",
    "\n",
    "# This function takes as argument semester_tuple (both name and numerical value to be passed as value of http request parameter ww_x_PERIODE_PEDAGO ) \n",
    "# and year_tuple (both name and numerical value to be passed as value of http request parameter ww_x_PERIODE_ACAD)\n",
    "# and gives as a result the name of the table with all registrations corresponding to those \n",
    "# year and semester values\n",
    "def grab_table(semester_tuple, year_tuple):\n",
    "    year_value,year_int = year_tuple\n",
    "    semester_value, semester_col = semester_tuple\n",
    "    payload = dict(base_payload) # we load the static parameters filled in previous parts needed to make the http request\n",
    "    payload['ww_x_PERIODE_ACAD'] = year_value \n",
    "    payload['ww_x_PERIODE_PEDAGO'] = semester_value \n",
    "    # we pass the payload as parameters to the http request\n",
    "    resp = requests.get('http://isa.epfl.ch/imoniteur_ISAP/!GEDPUBLICREPORTS.html', params = payload)\n",
    "    try:\n",
    "        # We get the corresponding html table using read_html function\n",
    "        table = pd.read_html(resp.text, header=1)[0][['Civilité', 'Nom Prénom', 'Statut', 'No Sciper', 'Spécialisation']]\n",
    "    except:\n",
    "        return None\n",
    "    table[semester_col] = year_int\n",
    "    table['No Sciper'] = table['No Sciper'].astype(str)\n",
    "    table.set_index(['No Sciper'], inplace=True, drop=False)\n",
    "    print(semester_col, year_int,\"done\")\n",
    "    return table\n",
    "    \n",
    "semester_tuples = [('249108', 'Semester 1'), ('942120', 'Semester 5'),('942175', 'Semester 6')]\n",
    "year_tuples = year_options\n",
    "\n",
    "# Here we make use of threads to enable concurrent reading and filling of data corresponding \n",
    "# to each semester and year and we itertools to automatically iterate over all possible \n",
    "# combination of semesters and years\n",
    "with concurrent.futures.ThreadPoolExecutor(max_workers=10) as executor:\n",
    "    frames = executor.map(lambda x: grab_table(*x), itertools.product(semester_tuples, year_tuples))\n",
    "    \n",
    "print(\"Finished\")\n",
    "\n",
    "# We filter out empty frames\n",
    "frames = filter(lambda x : x is not None, frames)\n",
    "# We merge all frames into one data frame \n",
    "for frame in frames:\n",
    "    if bachelors_final_table is None:\n",
    "        bachelors_final_table = frame\n",
    "    else:\n",
    "        bachelors_final_table = pd.merge(frame, bachelors_final_table, how='outer')\n",
    "\n",
    "bachelors_final_table.head()"
   ]
  },
  {
   "cell_type": "markdown",
   "metadata": {},
   "source": [
    "In this part, we compute the durations for each student identified by a unique Sciper number. We start by doing some data cleaning by removing students for which there is no entry for Bachelor Semester 6 and Bachelor Semester 1. We chose not to deal with students who started their Bachelor recently in which case no entry for Bachelor Semester 6 is provided, and same for students who did their Bachelor a long time ago (took Bachelor Semester 1 before 2007) and for which we don't have complete data. \n",
    "We compute the starting year by looking at the first entry of Bachelor Semester 1 (in case the student repeated) which is the smallest year of the year values for Bachelor Semester 1.\n",
    "We compute the ending year by looking at the last entry of Bachelor Semester 6 (in case the student repeated) which is the smallest year of the year values for Bachelor Semester 1. Now, we cover the edge case for which data for Bachelor Semester 5 will be used. In case a student takes Bachelor Semester 5, fails it, still takes Bachelor Semester 6 and passes it. Then to be able to graduate, he only needs to take Bachelor Semester 5 in which case we just add 6 extra months. The total duration is the number of years between the first Bachelor Semester 1 and the last Bachelor Semester 6 * 12 to convert to months + extra for the edge case."
   ]
  },
  {
   "cell_type": "code",
   "execution_count": 6,
   "metadata": {
    "collapsed": false,
    "scrolled": false
   },
   "outputs": [
    {
     "name": "stdout",
     "output_type": "stream",
     "text": [
      "                    No Sciper  duration    gender\n",
      "No Sciper                                        \n",
      "147008    No Sciper    147008      36.0  Monsieur\n",
      "169569    No Sciper    169569      36.0  Monsieur\n",
      "169731    No Sciper    169731      48.0  Monsieur\n",
      "169795    No Sciper    169795      54.0  Monsieur\n",
      "171195    No Sciper    171195      36.0  Monsieur\n",
      "         duration\n",
      "count  397.000000\n",
      "mean    42.725441\n",
      "std      9.372089\n",
      "min     36.000000\n",
      "25%     36.000000\n",
      "50%     36.000000\n",
      "75%     48.000000\n",
      "max     84.000000\n"
     ]
    }
   ],
   "source": [
    "def get_merged_(group):\n",
    "    #Drop the groups (enrollment record of a single person) which doesn't include Semester 6 and Semester 1\n",
    "    if len(group) > 1 and len(group.dropna(subset=['Semester 6'])) > 0 and len(group.dropna(subset=['Semester 1'])) > 0:\n",
    "        ending = max(group[['Semester 6']].max(axis=0)) # ending year\n",
    "        starting = min(group[['Semester 1']].min(axis=0)) # starting year\n",
    "        \n",
    "        semester_5_year = max(group[['Semester 5']].max(axis=0)) # edge case\n",
    "        \n",
    "        extra = 6 if semester_5_year > ending else 0 # add extra for edge case  \n",
    "        return pd.DataFrame({\n",
    "            \"No Sciper\": group.iloc[0]['No Sciper'],\n",
    "            \"duration\": (ending-starting+1)*12 + extra, #months\n",
    "            \"gender\": group.iloc[0]['Civilité']\n",
    "        }, index=['No Sciper'])\n",
    "    return pd.DataFrame([])\n",
    "\n",
    "grouped = bachelors_final_table.groupby('No Sciper') \n",
    "filtered = grouped.apply(get_merged_) # We apply our function to add duration and gender columns for each sciper number\n",
    "\n",
    "print(filtered.head()) # return first 5 rows for visualization \n",
    "print(filtered.describe()) #Here, we calculate count, mean, standard deviation, min, max and quartiles "
   ]
  },
  {
   "cell_type": "markdown",
   "metadata": {},
   "source": [
    "## 1.2. Partitioning Data Between Male and Female Students and Computing the Average"
   ]
  },
  {
   "cell_type": "markdown",
   "metadata": {},
   "source": [
    "Now, we calculate count, mean, standard deviation, min, max and quartiles for males and females durations."
   ]
  },
  {
   "cell_type": "code",
   "execution_count": 7,
   "metadata": {
    "collapsed": false,
    "scrolled": true
   },
   "outputs": [
    {
     "data": {
      "text/html": [
       "<div>\n",
       "<table border=\"1\" class=\"dataframe\">\n",
       "  <thead>\n",
       "    <tr style=\"text-align: right;\">\n",
       "      <th></th>\n",
       "      <th></th>\n",
       "      <th>duration</th>\n",
       "    </tr>\n",
       "    <tr>\n",
       "      <th>gender</th>\n",
       "      <th></th>\n",
       "      <th></th>\n",
       "    </tr>\n",
       "  </thead>\n",
       "  <tbody>\n",
       "    <tr>\n",
       "      <th rowspan=\"8\" valign=\"top\">Madame</th>\n",
       "      <th>count</th>\n",
       "      <td>29.000000</td>\n",
       "    </tr>\n",
       "    <tr>\n",
       "      <th>mean</th>\n",
       "      <td>40.758621</td>\n",
       "    </tr>\n",
       "    <tr>\n",
       "      <th>std</th>\n",
       "      <td>8.078433</td>\n",
       "    </tr>\n",
       "    <tr>\n",
       "      <th>min</th>\n",
       "      <td>36.000000</td>\n",
       "    </tr>\n",
       "    <tr>\n",
       "      <th>25%</th>\n",
       "      <td>36.000000</td>\n",
       "    </tr>\n",
       "    <tr>\n",
       "      <th>50%</th>\n",
       "      <td>36.000000</td>\n",
       "    </tr>\n",
       "    <tr>\n",
       "      <th>75%</th>\n",
       "      <td>48.000000</td>\n",
       "    </tr>\n",
       "    <tr>\n",
       "      <th>max</th>\n",
       "      <td>66.000000</td>\n",
       "    </tr>\n",
       "    <tr>\n",
       "      <th rowspan=\"8\" valign=\"top\">Monsieur</th>\n",
       "      <th>count</th>\n",
       "      <td>368.000000</td>\n",
       "    </tr>\n",
       "    <tr>\n",
       "      <th>mean</th>\n",
       "      <td>42.880435</td>\n",
       "    </tr>\n",
       "    <tr>\n",
       "      <th>std</th>\n",
       "      <td>9.458750</td>\n",
       "    </tr>\n",
       "    <tr>\n",
       "      <th>min</th>\n",
       "      <td>36.000000</td>\n",
       "    </tr>\n",
       "    <tr>\n",
       "      <th>25%</th>\n",
       "      <td>36.000000</td>\n",
       "    </tr>\n",
       "    <tr>\n",
       "      <th>50%</th>\n",
       "      <td>36.000000</td>\n",
       "    </tr>\n",
       "    <tr>\n",
       "      <th>75%</th>\n",
       "      <td>48.000000</td>\n",
       "    </tr>\n",
       "    <tr>\n",
       "      <th>max</th>\n",
       "      <td>84.000000</td>\n",
       "    </tr>\n",
       "  </tbody>\n",
       "</table>\n",
       "</div>"
      ],
      "text/plain": [
       "                  duration\n",
       "gender                    \n",
       "Madame   count   29.000000\n",
       "         mean    40.758621\n",
       "         std      8.078433\n",
       "         min     36.000000\n",
       "         25%     36.000000\n",
       "         50%     36.000000\n",
       "         75%     48.000000\n",
       "         max     66.000000\n",
       "Monsieur count  368.000000\n",
       "         mean    42.880435\n",
       "         std      9.458750\n",
       "         min     36.000000\n",
       "         25%     36.000000\n",
       "         50%     36.000000\n",
       "         75%     48.000000\n",
       "         max     84.000000"
      ]
     },
     "execution_count": 7,
     "metadata": {},
     "output_type": "execute_result"
    }
   ],
   "source": [
    "filtered.groupby('gender').apply(lambda x: x.describe())"
   ]
  },
  {
   "cell_type": "markdown",
   "metadata": {},
   "source": [
    "Now, we visualize the histogram distributions for all students."
   ]
  },
  {
   "cell_type": "code",
   "execution_count": 8,
   "metadata": {
    "collapsed": false
   },
   "outputs": [
    {
     "data": {
      "image/png": "[encoded data removed]",
      "text/plain": [
       "<matplotlib.figure.Figure at 0x7f30be3a15c0>"
      ]
     },
     "metadata": {},
     "output_type": "display_data"
    }
   ],
   "source": [
    "filtered.hist(column='duration', figsize=(15,8), color = 'blue')\n",
    "plt.title('bachelor student duration distribution', fontsize=18)\n",
    "plt.xlabel('duration in months', fontsize=18)\n",
    "plt.ylabel('Frequency', fontsize=18)\n",
    "plt.tick_params(axis='x', labelsize=18)\n",
    "plt.tick_params(axis='y', labelsize=18)"
   ]
  },
  {
   "cell_type": "code",
   "execution_count": 9,
   "metadata": {
    "collapsed": true
   },
   "outputs": [],
   "source": [
    "madames_durations = filtered[filtered['gender'] == 'Madame']['duration']\n",
    "monsieur_durations = filtered[filtered['gender'] == 'Monsieur']['duration']"
   ]
  },
  {
   "cell_type": "markdown",
   "metadata": {},
   "source": [
    "We visualize the histogram distributions for all females and males."
   ]
  },
  {
   "cell_type": "code",
   "execution_count": 10,
   "metadata": {
    "collapsed": false
   },
   "outputs": [
    {
     "data": {
      "image/png": "[encoded data removed]",
      "text/plain": [
       "<matplotlib.figure.Figure at 0x7f30bd1fbf28>"
      ]
     },
     "metadata": {},
     "output_type": "display_data"
    }
   ],
   "source": [
    "madames_durations.hist(figsize=(15,8), color = 'blue')\n",
    "plt.title('females bachelor student duration distribution', fontsize=18)\n",
    "plt.xlabel('duration in months', fontsize=18)\n",
    "plt.ylabel('Frequency', fontsize=18)\n",
    "plt.tick_params(axis='x', labelsize=18)\n",
    "plt.tick_params(axis='y', labelsize=18)"
   ]
  },
  {
   "cell_type": "code",
   "execution_count": 11,
   "metadata": {
    "collapsed": false
   },
   "outputs": [
    {
     "data": {
      "image/png": "[encoded data removed]",
      "text/plain": [
       "<matplotlib.figure.Figure at 0x7f30bd2c5048>"
      ]
     },
     "metadata": {},
     "output_type": "display_data"
    }
   ],
   "source": [
    "monsieur_durations.hist(figsize=(15,8), color = 'blue')\n",
    "plt.title('males bachelor student duration distribution', fontsize=18)\n",
    "plt.xlabel('duration in months', fontsize=18)\n",
    "plt.ylabel('Frequency', fontsize=18)\n",
    "plt.tick_params(axis='x', labelsize=18)\n",
    "plt.tick_params(axis='y', labelsize=18)"
   ]
  },
  {
   "cell_type": "markdown",
   "metadata": {},
   "source": [
    "This plot compares the mean for females and males. "
   ]
  },
  {
   "cell_type": "code",
   "execution_count": 12,
   "metadata": {
    "collapsed": false,
    "scrolled": true
   },
   "outputs": [
    {
     "data": {
      "image/png": "[encoded data removed]",
      "text/plain": [
       "<matplotlib.figure.Figure at 0x7f30bd2bcf28>"
      ]
     },
     "metadata": {},
     "output_type": "display_data"
    }
   ],
   "source": [
    "filtered.groupby('gender').duration.mean().plot(kind='bar', color='blue',figsize=(15,8))\n",
    "plt.title('females and males bachelor student duration mean', fontsize=18)\n",
    "plt.xlabel('gender', fontsize=18)\n",
    "plt.ylabel('duration mean', fontsize=18)\n",
    "plt.tick_params(axis='x', labelsize=18)\n",
    "plt.tick_params(axis='y', labelsize=18)"
   ]
  },
  {
   "cell_type": "markdown",
   "metadata": {},
   "source": [
    "## 1.3. Evaluating the Statistical Significance of the Difference between the two averages for males and females:"
   ]
  },
  {
   "cell_type": "markdown",
   "metadata": {},
   "source": [
    "### Data Normalization and Standardization:\n",
    "Normalization refers to rescaling real valued numeric attributes into the range 0 and 1 and standardization refers to shifting the distribution of each attribute to have a mean of zero and a standard deviation of one (unit variance). We need this to perform K-S test since this test checks whether a distribution is normal by comparing it to a standardized normalized distribution."
   ]
  },
  {
   "cell_type": "code",
   "execution_count": 13,
   "metadata": {
    "collapsed": false
   },
   "outputs": [],
   "source": [
    "def normalize_standardize(distribution):\n",
    "    distribution_norm = (distribution - distribution.mean()) / (distribution.max() - distribution.min())\n",
    "    distribution_norm_stand = (distribution_norm - distribution_norm.mean()) / distribution_norm.std()\n",
    "    return distribution_norm_stand\n",
    "\n",
    "madames_norm_stand = normalize_standardize(madames_durations)\n",
    "monsieur_norm_stand = normalize_standardize(monsieur_durations)"
   ]
  },
  {
   "cell_type": "markdown",
   "metadata": {},
   "source": [
    "### Plotting distributions for Normalized, Standardized Data"
   ]
  },
  {
   "cell_type": "code",
   "execution_count": 14,
   "metadata": {
    "collapsed": false,
    "scrolled": true
   },
   "outputs": [
    {
     "data": {
      "image/png": "[encoded data removed]",
      "text/plain": [
       "<matplotlib.figure.Figure at 0x7f30bd0a6828>"
      ]
     },
     "metadata": {},
     "output_type": "display_data"
    }
   ],
   "source": [
    "madames_norm_stand.hist(figsize=(15,8), color = 'blue')\n",
    "plt.title('Madames Bachelor student duration distribution', fontsize=18)\n",
    "plt.xlabel('duration in months', fontsize=18)\n",
    "plt.ylabel('Frequency', fontsize=18)\n",
    "plt.tick_params(axis='x', labelsize=18)\n",
    "plt.tick_params(axis='y', labelsize=18)"
   ]
  },
  {
   "cell_type": "code",
   "execution_count": 15,
   "metadata": {
    "collapsed": false
   },
   "outputs": [
    {
     "data": {
      "image/png": "[encoded data removed]",
      "text/plain": [
       "<matplotlib.figure.Figure at 0x7f30bd1d5e80>"
      ]
     },
     "metadata": {},
     "output_type": "display_data"
    }
   ],
   "source": [
    "monsieur_norm_stand.hist(figsize=(15,8), color = 'blue')\n",
    "plt.title('Monsieur Bachelor student duration distribution', fontsize=18)\n",
    "plt.xlabel('duration in months', fontsize=18)\n",
    "plt.ylabel('Frequency', fontsize=18)\n",
    "plt.tick_params(axis='x', labelsize=18)\n",
    "plt.tick_params(axis='y', labelsize=18)"
   ]
  },
  {
   "cell_type": "markdown",
   "metadata": {},
   "source": [
    "### K-S (Kolmorogorov-Smirnov) test to check for Normal Distribution"
   ]
  },
  {
   "cell_type": "code",
   "execution_count": 16,
   "metadata": {
    "collapsed": false
   },
   "outputs": [
    {
     "data": {
      "text/plain": [
       "KstestResult(statistic=0.41174211903114533, pvalue=5.8119180432525397e-05)"
      ]
     },
     "execution_count": 16,
     "metadata": {},
     "output_type": "execute_result"
    }
   ],
   "source": [
    "stats.kstest(madames_norm_stand,'norm')"
   ]
  },
  {
   "cell_type": "markdown",
   "metadata": {},
   "source": [
    "Since the kstest returns a pvalue=5.8119180432525397e-05 (extremely smaller than 5%), we can reject with high confidence the null hypothesis that says that the bachelor duration for madames is a normal distribution => madames_norm_stand is not normal."
   ]
  },
  {
   "cell_type": "code",
   "execution_count": 17,
   "metadata": {
    "collapsed": false
   },
   "outputs": [
    {
     "data": {
      "text/plain": [
       "KstestResult(statistic=0.31814448768829573, pvalue=0.0)"
      ]
     },
     "execution_count": 17,
     "metadata": {},
     "output_type": "execute_result"
    }
   ],
   "source": [
    "stats.kstest(monsieur_norm_stand,'norm')"
   ]
  },
  {
   "cell_type": "markdown",
   "metadata": {},
   "source": [
    "Since the kstest returns a pvalue=0.0 (extremely smaller than 5%),we can reject with high confidence the null hypothesis that says that the bachelor duration for monsieur is a normal distribution => monsieur_norm_stand is not normal."
   ]
  },
  {
   "cell_type": "markdown",
   "metadata": {},
   "source": [
    "Since the two samples are not normal, and we have unpaired independent samples (since we want to compare two different subjects and there is no correlation between males and females the duration that it takes for males to graduate doesn't make the duration for females to graduate), the most adequate to apply here is Mann-Whitney test. We choose two tailed since we don't have any preference for a direction of the difference between the two samples (smaller/greater)."
   ]
  },
  {
   "cell_type": "code",
   "execution_count": null,
   "metadata": {
    "collapsed": false
   },
   "outputs": [
    {
     "data": {
      "text/plain": [
       "MannwhitneyuResult(statistic=6876.0, pvalue=0.0052675951752590502)"
      ]
     },
     "execution_count": 18,
     "metadata": {},
     "output_type": "execute_result"
    }
   ],
   "source": [
    "stats.mannwhitneyu(madames_norm_stand, monsieur_norm_stand, use_continuity=True, alternative='two-sided')"
   ]
  },
  {
   "cell_type": "markdown",
   "metadata": {},
   "source": [
    "Since pvalue=0.0052675951752590502 is less than the threshold of 5%, we can with a confidence greater than 95% reject the null hypothesis that says that the two samples have the same mean. So there is a significant statistical difference between males duration to graduate and females duration to graduate."
   ]
  },
  {
   "cell_type": "markdown",
   "metadata": {
    "collapsed": true
   },
   "source": [
    "# Exercise 2: Masters Students"
   ]
  },
  {
   "cell_type": "markdown",
   "metadata": {},
   "source": [
    "## 2.1. Extracting Master Data and Computing Duration"
   ]
  },
  {
   "cell_type": "markdown",
   "metadata": {},
   "source": [
    "To prepare the big table for master's students, we fetch the following tables for each year.\n",
    "* Semester 1\n",
    "* Semester 2\n",
    "* Semester 3\n",
    "* Semester 4\n",
    "* Master's Project autumn\n",
    "* Master's Project spring"
   ]
  },
  {
   "cell_type": "code",
   "execution_count": null,
   "metadata": {
    "collapsed": false
   },
   "outputs": [
    {
     "name": "stdout",
     "output_type": "stream",
     "text": [
      "Master semestre 1 2009 done\n",
      "Master semestre 1 2007 done\n",
      "Master semestre 1 2010 done\n",
      "Master semestre 1 2012 done\n",
      "Master semestre 2 2016 done\n",
      "Master semestre 1 2011 done\n",
      "Master semestre 1 2014 done\n",
      "Master semestre 1 2015 done\n",
      "Master semestre 1 2016 done\n",
      "Master semestre 1 2008 done\n",
      "Master semestre 1 2013 done\n",
      "Master semestre 2 2015 done\n",
      "Master semestre 2 2009 done\n",
      "Master semestre 2 2008 done\n",
      "Master semestre 2 2007 done\n",
      "Master semestre 2 2010 done\n",
      "Master semestre 2 2011 done\n",
      "Master semestre 2 2013 done\n",
      "Master semestre 2 2012 done\n",
      "Master semestre 3 2013 done\n"
     ]
    }
   ],
   "source": [
    "master_semesters = [\n",
    "    ('2230106', 'Master semestre 1'),\n",
    "    ('942192', 'Master semestre 2'),\n",
    "    ('2230128', 'Master semestre 3'),\n",
    "    ('2230140', 'Master semestre 4'),\n",
    "    ('249127', 'Projet Master automne'),\n",
    "    ('3781783', 'Projet Master printemps'),\n",
    "]\n",
    "\n",
    "masters_final_table = None\n",
    "\n",
    "#frames = map(lambda x: grab_table(*x), itertools.product(master_semesters, year_tuples))\n",
    "with concurrent.futures.ThreadPoolExecutor(max_workers=10) as executor:\n",
    "    master_frames = executor.map(lambda x: grab_table(*x), itertools.product(master_semesters, year_tuples))\n",
    "print(\"Finished\")\n",
    "master_frames = filter(lambda x : x is not None, master_frames)\n",
    "for frame in master_frames:\n",
    "    if masters_final_table is None:\n",
    "        masters_final_table = frame\n",
    "    else:\n",
    "        #bachelors_final_table = pd.merge(table[['No Sciper', semester_col]], bachelors_final_table, left_on='No Sciper', right_on='No Sciper', how='outer')\n",
    "        masters_final_table = pd.merge(frame, masters_final_table, how='outer')"
   ]
  },
  {
   "cell_type": "markdown",
   "metadata": {},
   "source": [
    "Finally, we have a big table with following columns"
   ]
  },
  {
   "cell_type": "code",
   "execution_count": null,
   "metadata": {
    "collapsed": false
   },
   "outputs": [],
   "source": [
    "masters_final_table.columns"
   ]
  },
  {
   "cell_type": "markdown",
   "metadata": {},
   "source": [
    "We have several entries for each students. For example: if a student had his Master semester 1 in 2007, he/she has a row where only the column \"Master semestre 1\" is not NaN, and others are NaN. If she/he had more than one Master semester 1, there can be more than one records, with different values of course."
   ]
  },
  {
   "cell_type": "code",
   "execution_count": null,
   "metadata": {
    "collapsed": false
   },
   "outputs": [],
   "source": [
    "from pprint import pprint as pp\n",
    "\n",
    "def masters_get_merged_(group):\n",
    "    # Here, in 'group' object, we have all the entries for a specific students and we will try to return a single record for \n",
    "    # him/her.\n",
    "    \n",
    "    # To not count the students that only have entries in 'Project', we first temporarly have the table with MA1, MA2 and MA3\n",
    "    # columns\n",
    "    ma1_ma2_ma3 = group[['No Sciper', 'Master semestre 1', 'Master semestre 2', 'Master semestre 3']]\n",
    "    ma1_ma2_ma3 = ma1_ma2_ma3.dropna(subset=['Master semestre 1', 'Master semestre 2', 'Master semestre 3'], how='all')\n",
    "    \n",
    "    #We also create the table of Project related entries - this might be an empty table.\n",
    "    project_entries = group[['No Sciper','Projet Master printemps', 'Projet Master automne']]\n",
    "    project_entries = project_entries.dropna(subset=['Projet Master printemps', 'Projet Master automne'], how='all')\n",
    "    project_entries = project_entries.drop_duplicates(subset=['Projet Master printemps', 'Projet Master automne'])\n",
    "    \n",
    "    #We try to determine the Specialisation if student has any.\n",
    "    spec_table = group[['Spécialisation']].dropna(subset=['Spécialisation'])\n",
    "    \n",
    "    if len(spec_table) > 0:\n",
    "        spec = spec_table.iloc[0]['Spécialisation']\n",
    "    else:\n",
    "        spec = None\n",
    "    \n",
    "    \n",
    "    #Drop the groups (enrollment record of a single person) which doesn't include Master Semester 1\n",
    "    if len(group.dropna(subset=['Master semestre 1'])) > 0 and len(ma1_ma2_ma3) > 1:\n",
    "    \n",
    "        \n",
    "        #Student can sometimes start from Master semestre 2 if they repeated their 5th semestre of bachelor.\n",
    "        #We need the minimum value from those columns\n",
    "        starting = min(group[['Master semestre 1', 'Master semestre 2']].min(axis=0))\n",
    "        \n",
    "        \n",
    "        #Number of records in this ma1_ma2_ma3 gives us the number of semestre the student spent.\n",
    "        duration = len(ma1_ma2_ma3)\n",
    "        \n",
    "        #If student has entries in project table, we count the entries there as number of semester spent for project.\n",
    "        #If non, we add +6 automatically.\n",
    "        project_time = max(6,len(project_entries)*6)\n",
    "        \n",
    "        return pd.DataFrame({\n",
    "            \"No Sciper\": group.iloc[0]['No Sciper'],\n",
    "            \"duration\": duration*6,\n",
    "            'project_time': project_time,\n",
    "            'start_year': starting,\n",
    "            'total_duration': project_time+duration*6,\n",
    "            \"gender\": group.iloc[0]['Civilité'],\n",
    "            'specialization': spec\n",
    "        }, index=['No Sciper'])\n",
    "    return pd.DataFrame([])\n",
    "\n",
    "masters_grouped = masters_final_table.groupby('No Sciper')\n",
    "masters_filtered = masters_grouped.apply(masters_get_merged_)\n",
    "\n",
    "masters_filtered.head() # Visualizing the first 5 rows"
   ]
  },
  {
   "cell_type": "markdown",
   "metadata": {},
   "source": [
    "## 2.2. Computing the Average Stay of Master Students at EPFL:"
   ]
  },
  {
   "cell_type": "code",
   "execution_count": null,
   "metadata": {
    "collapsed": true
   },
   "outputs": [],
   "source": [
    "aa=masters_filtered"
   ]
  },
  {
   "cell_type": "code",
   "execution_count": null,
   "metadata": {
    "collapsed": false
   },
   "outputs": [],
   "source": [
    "len(aa)"
   ]
  },
  {
   "cell_type": "code",
   "execution_count": null,
   "metadata": {
    "collapsed": false
   },
   "outputs": [],
   "source": [
    "aa.describe()"
   ]
  },
  {
   "cell_type": "markdown",
   "metadata": {},
   "source": [
    "From the below boxplot, we can see the distribution of the duration for the total dataframe (including all specializations) after excluding outliers which has min 18 and maximum 30 and mean 24. "
   ]
  },
  {
   "cell_type": "code",
   "execution_count": null,
   "metadata": {
    "collapsed": false,
    "scrolled": true
   },
   "outputs": [],
   "source": [
    "sns.boxplot(aa.total_duration, showfliers=False, color = 'blue')"
   ]
  },
  {
   "cell_type": "markdown",
   "metadata": {},
   "source": [
    "## 2.3. Extract all the students with a Spécialisation and compute the \"average stay\" per each category of that attribute"
   ]
  },
  {
   "cell_type": "code",
   "execution_count": null,
   "metadata": {
    "collapsed": false
   },
   "outputs": [],
   "source": [
    "aa['specialization'].unique()"
   ]
  },
  {
   "cell_type": "markdown",
   "metadata": {},
   "source": [
    "We create dataframe for each specialization:"
   ]
  },
  {
   "cell_type": "code",
   "execution_count": null,
   "metadata": {
    "collapsed": false
   },
   "outputs": [],
   "source": [
    "df_Signals=aa[aa['specialization']=='Signals, Images and Interfaces']\n",
    "df_Internetcomputing=aa[aa['specialization']=='Internet computing']\n",
    "df_Biocomputing=aa[aa['specialization']=='Biocomputing']\n",
    "df_FoundationsofSoftware=aa[aa['specialization']=='Foundations of Software']\n",
    "df_ComputerEngineering=aa[aa['specialization']=='Computer Engineering - SP']\n",
    "df_Servicescience=aa[aa['specialization']=='Service science']\n",
    "df_SoftwareSystems=aa[aa['specialization']=='Software Systems']\n",
    "df_InformationSecurity=aa[aa['specialization']=='Information Security - SP']\n",
    "df_DataAnalytics=aa[aa['specialization']=='Data Analytics']\n",
    "df_InternetInformationSystems=aa[aa['specialization']=='Internet Information Systems']\n",
    "df_ComputerScienceTheory=aa[aa['specialization']=='Computer Science Theory']"
   ]
  },
  {
   "cell_type": "markdown",
   "metadata": {},
   "source": [
    "We create dataframe for each specialization duration"
   ]
  },
  {
   "cell_type": "code",
   "execution_count": null,
   "metadata": {
    "collapsed": false
   },
   "outputs": [],
   "source": [
    "general_dur = aa['total_duration']\n",
    "df_Signals_dur = df_Signals['total_duration']\n",
    "df_Internetcomputing_dur = df_Internetcomputing['total_duration']\n",
    "df_Biocomputing_dur = df_Biocomputing['total_duration']\n",
    "df_FoundationsofSoftware_dur = df_FoundationsofSoftware['total_duration']\n",
    "df_ComputerEngineering_dur = df_ComputerEngineering['total_duration']\n",
    "df_Servicescience_dur = df_Servicescience['total_duration']\n",
    "df_SoftwareSystems_dur = df_SoftwareSystems['total_duration']\n",
    "df_InformationSecurity_dur = df_InformationSecurity['total_duration']\n",
    "df_DataAnalytics_dur = df_DataAnalytics['total_duration']\n",
    "df_InternetInformationSystems_dur = df_InternetInformationSystems['total_duration']\n",
    "df_ComputerScienceTheory_dur = df_ComputerScienceTheory['total_duration']"
   ]
  },
  {
   "cell_type": "markdown",
   "metadata": {},
   "source": [
    "We plot the general histogram distribution:"
   ]
  },
  {
   "cell_type": "code",
   "execution_count": null,
   "metadata": {
    "collapsed": false,
    "scrolled": true
   },
   "outputs": [],
   "source": [
    "aa.hist(column='total_duration',figsize=(15,8), color = 'blue')\n",
    "plt.title('master student duration distribution', fontsize=18)\n",
    "plt.xlabel('duration in months', fontsize=18)\n",
    "plt.ylabel('Frequency', fontsize=18)\n",
    "plt.tick_params(axis='x', labelsize=18)\n",
    "plt.tick_params(axis='y', labelsize=18)"
   ]
  },
  {
   "cell_type": "code",
   "execution_count": null,
   "metadata": {
    "collapsed": false
   },
   "outputs": [],
   "source": [
    "general_dur.mean()"
   ]
  },
  {
   "cell_type": "code",
   "execution_count": null,
   "metadata": {
    "collapsed": false,
    "scrolled": false
   },
   "outputs": [],
   "source": [
    "aa1=aa.reset_index(drop=True)\n",
    "aa1"
   ]
  },
  {
   "cell_type": "markdown",
   "metadata": {},
   "source": [
    "## 2.4. Evaluating the Statistical Significance of the Different Spécializations compared to the whole Master Data:"
   ]
  },
  {
   "cell_type": "markdown",
   "metadata": {},
   "source": [
    "### Data Normalization and Standardization\n",
    "Here we normalize and standardize all dataframes for spécializations in addition to the sample (whole dataframe - spécialization) against which they going to be compared. So, for example sample of durations of all students doing the mean of Signals, Interfaces and Images Spécialization will compared with the mean of durations of all students doing no spécialization or all other spécializations except Signals, Interfaces and Images Spécialization. This is based on a corollary that we explain below (comparing subset with the whole has the same effect as comparing subset to whole - subset). We need normalization and standardization for the same reasons as for Bachelor Data in exercise 1 (to be able to compare the distributions with normal gaussian distribution using K-S test). "
   ]
  },
  {
   "cell_type": "code",
   "execution_count": null,
   "metadata": {
    "collapsed": false
   },
   "outputs": [],
   "source": [
    "general_dur_stand = normalize_standardize(general_dur)\n",
    "\n",
    "df_Signals_dur_stand = normalize_standardize(df_Signals_dur)\n",
    "general_without_signals = aa[aa['specialization']!='Signals, Images and Interfaces']['duration']\n",
    "general_without_signals_stand = normalize_standardize(general_without_signals)\n",
    "\n",
    "df_Internetcomputing_dur_stand = normalize_standardize(df_Internetcomputing_dur)\n",
    "general_without_internet_comp = aa[aa['specialization']!='Internet computing']['duration']\n",
    "general_without_internet_comp_stand = normalize_standardize(general_without_internet_comp)\n",
    "\n",
    "df_Biocomputing_dur_stand = normalize_standardize(df_Biocomputing_dur)\n",
    "general_without_Biocomputing = aa[aa['specialization']!='Biocomputing']['duration']\n",
    "general_without_Biocomputing_stand = normalize_standardize(general_without_Biocomputing)\n",
    "\n",
    "df_FoundationsofSoftware_dur_stand = normalize_standardize(df_FoundationsofSoftware_dur)\n",
    "general_without_found_sof = aa[aa['specialization']!='Foundations of Software']['duration']\n",
    "general_without_found_sof_stand = normalize_standardize(general_without_found_sof)\n",
    "\n",
    "df_ComputerEngineering_dur_stand = normalize_standardize(df_ComputerEngineering_dur)\n",
    "general_without_comp_eng = aa[aa['specialization']!='Computer Engineering - SP']['duration']\n",
    "general_without_comp_eng_stand = normalize_standardize(general_without_comp_eng)\n",
    "\n",
    "df_Servicescience_dur_stand = normalize_standardize(df_Servicescience_dur)\n",
    "general_without_service_science = aa[aa['specialization']!='Service science']['duration']\n",
    "general_without_service_science_stand = normalize_standardize(general_without_service_science)\n",
    "\n",
    "df_SoftwareSystems_dur_stand = normalize_standardize(df_SoftwareSystems_dur)\n",
    "general_without_soft_sys = aa[aa['specialization']!='Software Systems']['duration']\n",
    "general_without_soft_sys_stand = normalize_standardize(general_without_soft_sys)\n",
    "\n",
    "df_InformationSecurity_dur_stand = normalize_standardize(df_InformationSecurity_dur)\n",
    "general_without_inf_sec = aa[aa['specialization']!='Information Security - SP']['duration']\n",
    "general_without_inf_sec_stand = normalize_standardize(general_without_inf_sec)\n",
    "\n",
    "df_DataAnalytics_dur_stand = normalize_standardize(df_DataAnalytics_dur)\n",
    "general_without_data_ana = aa[aa['specialization']!='Data Analytics']['duration']\n",
    "general_without_data_ana_stand = normalize_standardize(general_without_data_ana)\n",
    "\n",
    "df_InternetInformationSystems_dur_stand = normalize_standardize(df_InternetInformationSystems_dur)\n",
    "general_without_internet_info = aa[aa['specialization']!='Internet Information Systems']['duration']\n",
    "general_without_internet_info_stand = normalize_standardize(general_without_internet_info)\n",
    "\n",
    "df_ComputerScienceTheory_dur_stand = normalize_standardize(df_ComputerScienceTheory_dur)\n",
    "general_without_comp_theory = aa[aa['specialization']!='Computer Science Theory']['duration']\n",
    "general_without_comp_theory_stand = normalize_standardize(general_without_comp_theory)\n"
   ]
  },
  {
   "cell_type": "markdown",
   "metadata": {},
   "source": [
    "### Plotting distributions for Normalized, Standardized Data"
   ]
  },
  {
   "cell_type": "markdown",
   "metadata": {},
   "source": [
    "We visualize whole and each spécialization histogram, and (whole - each specialization) distributions in the following plots"
   ]
  },
  {
   "cell_type": "code",
   "execution_count": null,
   "metadata": {
    "collapsed": false
   },
   "outputs": [],
   "source": [
    "general_dur_stand.hist(figsize=(15,8), color = 'blue')\n",
    "plt.title('General Master student duration distribution', fontsize=18)\n",
    "plt.xlabel('duration in months', fontsize=18)\n",
    "plt.ylabel('Frequency', fontsize=18)\n",
    "plt.tick_params(axis='x', labelsize=18)\n",
    "plt.tick_params(axis='y', labelsize=18)"
   ]
  },
  {
   "cell_type": "code",
   "execution_count": null,
   "metadata": {
    "collapsed": false
   },
   "outputs": [],
   "source": [
    "df_Signals_dur_stand.hist(figsize=(15,8), color = 'blue')\n",
    "plt.title('Signals, Images and Interfaces Specialization Master student duration distribution', fontsize=18)\n",
    "plt.xlabel('duration in months', fontsize=18)\n",
    "plt.ylabel('Frequency', fontsize=18)\n",
    "plt.tick_params(axis='x', labelsize=18)\n",
    "plt.tick_params(axis='y', labelsize=18)"
   ]
  },
  {
   "cell_type": "code",
   "execution_count": null,
   "metadata": {
    "collapsed": false
   },
   "outputs": [],
   "source": [
    "general_without_signals_stand.hist(figsize=(15,8), color = 'blue')\n",
    "plt.title('Whole without Signals Specialization Master student duration distribution', fontsize=18)\n",
    "plt.xlabel('duration in months', fontsize=18)\n",
    "plt.ylabel('Frequency', fontsize=18)\n",
    "plt.tick_params(axis='x', labelsize=18)\n",
    "plt.tick_params(axis='y', labelsize=18)"
   ]
  },
  {
   "cell_type": "code",
   "execution_count": null,
   "metadata": {
    "collapsed": false
   },
   "outputs": [],
   "source": [
    "df_Internetcomputing_dur_stand.hist(figsize=(15,8), color = 'blue')\n",
    "plt.title('Internet Computing Specialization Master student duration distribution', fontsize=18)\n",
    "plt.xlabel('duration in months', fontsize=18)\n",
    "plt.ylabel('Frequency', fontsize=18)\n",
    "plt.tick_params(axis='x', labelsize=18)\n",
    "plt.tick_params(axis='y', labelsize=18)"
   ]
  },
  {
   "cell_type": "code",
   "execution_count": null,
   "metadata": {
    "collapsed": false
   },
   "outputs": [],
   "source": [
    "general_without_internet_comp_stand.hist(figsize=(15,8), color = 'blue')\n",
    "plt.title('Whole without Internet Computing Specialization Master student duration distribution', fontsize=18)\n",
    "plt.xlabel('duration in months', fontsize=18)\n",
    "plt.ylabel('Frequency', fontsize=18)\n",
    "plt.tick_params(axis='x', labelsize=18)\n",
    "plt.tick_params(axis='y', labelsize=18)"
   ]
  },
  {
   "cell_type": "code",
   "execution_count": null,
   "metadata": {
    "collapsed": false
   },
   "outputs": [],
   "source": [
    "df_Biocomputing_dur_stand.hist(figsize=(15,8), color = 'blue')\n",
    "plt.title('Bio Computing Specialization Master student duration distribution', fontsize=18)\n",
    "plt.xlabel('duration in months', fontsize=18)\n",
    "plt.ylabel('Frequency', fontsize=18)\n",
    "plt.tick_params(axis='x', labelsize=18)\n",
    "plt.tick_params(axis='y', labelsize=18)"
   ]
  },
  {
   "cell_type": "code",
   "execution_count": null,
   "metadata": {
    "collapsed": false
   },
   "outputs": [],
   "source": [
    "general_without_Biocomputing_stand.hist(figsize=(15,8), color = 'blue')\n",
    "plt.title('Whole without Bio Computing Specialization Master student duration distribution', fontsize=18)\n",
    "plt.xlabel('duration in months', fontsize=18)\n",
    "plt.ylabel('Frequency', fontsize=18)\n",
    "plt.tick_params(axis='x', labelsize=18)\n",
    "plt.tick_params(axis='y', labelsize=18)"
   ]
  },
  {
   "cell_type": "code",
   "execution_count": null,
   "metadata": {
    "collapsed": false
   },
   "outputs": [],
   "source": [
    "df_FoundationsofSoftware_dur_stand.hist(figsize=(15,8), color = 'blue')\n",
    "plt.title('Foundation of Software Specialization Master student duration distribution', fontsize=18)\n",
    "plt.xlabel('duration in months', fontsize=18)\n",
    "plt.ylabel('Frequency', fontsize=18)\n",
    "plt.tick_params(axis='x', labelsize=18)\n",
    "plt.tick_params(axis='y', labelsize=18)"
   ]
  },
  {
   "cell_type": "code",
   "execution_count": null,
   "metadata": {
    "collapsed": false
   },
   "outputs": [],
   "source": [
    "general_without_found_sof_stand.hist(figsize=(15,8), color = 'blue')\n",
    "plt.title('Whole without Foundations of Software Specialization Master student duration distribution', fontsize=18)\n",
    "plt.xlabel('duration in months', fontsize=18)\n",
    "plt.ylabel('Frequency', fontsize=18)\n",
    "plt.tick_params(axis='x', labelsize=18)\n",
    "plt.tick_params(axis='y', labelsize=18)"
   ]
  },
  {
   "cell_type": "code",
   "execution_count": null,
   "metadata": {
    "collapsed": false
   },
   "outputs": [],
   "source": [
    "df_ComputerEngineering_dur_stand.hist(figsize=(15,8), color = 'blue')\n",
    "plt.title('Computer Engineering Specialization Master student duration distribution', fontsize=18)\n",
    "plt.xlabel('duration in months', fontsize=18)\n",
    "plt.ylabel('Frequency', fontsize=18)\n",
    "plt.tick_params(axis='x', labelsize=18)\n",
    "plt.tick_params(axis='y', labelsize=18)"
   ]
  },
  {
   "cell_type": "code",
   "execution_count": null,
   "metadata": {
    "collapsed": false
   },
   "outputs": [],
   "source": [
    "general_without_comp_eng_stand.hist(figsize=(15,8), color = 'blue')\n",
    "plt.title('Whole without Computer Engineering Specialization Master student duration distribution', fontsize=18)\n",
    "plt.xlabel('duration in months', fontsize=18)\n",
    "plt.ylabel('Frequency', fontsize=18)\n",
    "plt.tick_params(axis='x', labelsize=18)\n",
    "plt.tick_params(axis='y', labelsize=18)"
   ]
  },
  {
   "cell_type": "code",
   "execution_count": null,
   "metadata": {
    "collapsed": false
   },
   "outputs": [],
   "source": [
    "df_Servicescience_dur_stand.hist(figsize=(15,8), color = 'blue')\n",
    "plt.title('Service Science Master Specialization student duration distribution', fontsize=18)\n",
    "plt.xlabel('duration in months', fontsize=18)\n",
    "plt.ylabel('Frequency', fontsize=18)\n",
    "plt.tick_params(axis='x', labelsize=18)\n",
    "plt.tick_params(axis='y', labelsize=18)"
   ]
  },
  {
   "cell_type": "code",
   "execution_count": null,
   "metadata": {
    "collapsed": false
   },
   "outputs": [],
   "source": [
    "general_without_service_science_stand.hist(figsize=(15,8), color = 'blue')\n",
    "plt.title('Whole without Service Science Specialization Master student duration distribution', fontsize=18)\n",
    "plt.xlabel('duration in months', fontsize=18)\n",
    "plt.ylabel('Frequency', fontsize=18)\n",
    "plt.tick_params(axis='x', labelsize=18)\n",
    "plt.tick_params(axis='y', labelsize=18)"
   ]
  },
  {
   "cell_type": "code",
   "execution_count": null,
   "metadata": {
    "collapsed": false
   },
   "outputs": [],
   "source": [
    "df_SoftwareSystems_dur_stand.hist(figsize=(15,8), color = 'blue')\n",
    "plt.title('Software Systems Master Specialization student duration distribution', fontsize=18)\n",
    "plt.xlabel('duration in months', fontsize=18)\n",
    "plt.ylabel('Frequency', fontsize=18)\n",
    "plt.tick_params(axis='x', labelsize=18)\n",
    "plt.tick_params(axis='y', labelsize=18)"
   ]
  },
  {
   "cell_type": "code",
   "execution_count": null,
   "metadata": {
    "collapsed": false
   },
   "outputs": [],
   "source": [
    "general_without_soft_sys_stand.hist(figsize=(15,8), color = 'blue')\n",
    "plt.title('Whole without Software Systems Specialization Master student duration distribution', fontsize=18)\n",
    "plt.xlabel('duration in months', fontsize=18)\n",
    "plt.ylabel('Frequency', fontsize=18)\n",
    "plt.tick_params(axis='x', labelsize=18)\n",
    "plt.tick_params(axis='y', labelsize=18)"
   ]
  },
  {
   "cell_type": "code",
   "execution_count": null,
   "metadata": {
    "collapsed": false
   },
   "outputs": [],
   "source": [
    "df_InformationSecurity_dur_stand.hist(figsize=(15,8), color = 'blue')\n",
    "plt.title('Information Security Specialization Master student duration distribution', fontsize=18)\n",
    "plt.xlabel('duration in months', fontsize=18)\n",
    "plt.ylabel('Frequency', fontsize=18)\n",
    "plt.tick_params(axis='x', labelsize=18)\n",
    "plt.tick_params(axis='y', labelsize=18)"
   ]
  },
  {
   "cell_type": "code",
   "execution_count": null,
   "metadata": {
    "collapsed": false
   },
   "outputs": [],
   "source": [
    "general_without_inf_sec_stand.hist(figsize=(15,8), color = 'blue')\n",
    "plt.title('Whole without Information Security Specialization Master student duration distribution', fontsize=18)\n",
    "plt.xlabel('duration in months', fontsize=18)\n",
    "plt.ylabel('Frequency', fontsize=18)\n",
    "plt.tick_params(axis='x', labelsize=18)\n",
    "plt.tick_params(axis='y', labelsize=18)"
   ]
  },
  {
   "cell_type": "code",
   "execution_count": null,
   "metadata": {
    "collapsed": false
   },
   "outputs": [],
   "source": [
    "df_DataAnalytics_dur_stand.hist(figsize=(15,8), color = 'blue')\n",
    "plt.title('Data Analytics Specialization Master student duration distribution', fontsize=18)\n",
    "plt.xlabel('duration in months', fontsize=18)\n",
    "plt.ylabel('Frequency', fontsize=18)\n",
    "plt.tick_params(axis='x', labelsize=18)\n",
    "plt.tick_params(axis='y', labelsize=18)"
   ]
  },
  {
   "cell_type": "code",
   "execution_count": null,
   "metadata": {
    "collapsed": false
   },
   "outputs": [],
   "source": [
    "general_without_data_ana_stand.hist(figsize=(15,8), color = 'blue')\n",
    "plt.title('Whole without Data Analytics Specialization Master student duration distribution', fontsize=18)\n",
    "plt.xlabel('duration in months', fontsize=18)\n",
    "plt.ylabel('Frequency', fontsize=18)\n",
    "plt.tick_params(axis='x', labelsize=18)\n",
    "plt.tick_params(axis='y', labelsize=18)"
   ]
  },
  {
   "cell_type": "code",
   "execution_count": null,
   "metadata": {
    "collapsed": false,
    "scrolled": false
   },
   "outputs": [],
   "source": [
    "df_InternetInformationSystems_dur_stand.hist(figsize=(15,8), color = 'blue')\n",
    "plt.title('Internet Information Systems Specialization Master student duration distribution', fontsize=18)\n",
    "plt.xlabel('duration in months', fontsize=18)\n",
    "plt.ylabel('Frequency', fontsize=18)\n",
    "plt.tick_params(axis='x', labelsize=18)\n",
    "plt.tick_params(axis='y', labelsize=18)"
   ]
  },
  {
   "cell_type": "code",
   "execution_count": null,
   "metadata": {
    "collapsed": false
   },
   "outputs": [],
   "source": [
    "general_without_internet_info_stand.hist(figsize=(15,8), color = 'blue')\n",
    "plt.title('Whole without Internet Information Systems Specialization Master student duration distribution', fontsize=18)\n",
    "plt.xlabel('duration in months', fontsize=18)\n",
    "plt.ylabel('Frequency', fontsize=18)\n",
    "plt.tick_params(axis='x', labelsize=18)\n",
    "plt.tick_params(axis='y', labelsize=18)"
   ]
  },
  {
   "cell_type": "code",
   "execution_count": null,
   "metadata": {
    "collapsed": false
   },
   "outputs": [],
   "source": [
    "df_ComputerScienceTheory_dur_stand.hist(figsize=(15,8), color = 'blue')\n",
    "plt.title('Computer Science Theory Specialization Master student duration distribution', fontsize=18)\n",
    "plt.xlabel('duration in months', fontsize=18)\n",
    "plt.ylabel('Frequency', fontsize=18)\n",
    "plt.tick_params(axis='x', labelsize=18)\n",
    "plt.tick_params(axis='y', labelsize=18)"
   ]
  },
  {
   "cell_type": "code",
   "execution_count": null,
   "metadata": {
    "collapsed": false
   },
   "outputs": [],
   "source": [
    "general_without_comp_theory_stand.hist(figsize=(15,8), color = 'blue')\n",
    "plt.title('Whole without Computer Science Theory Specialization Master student duration distribution', fontsize=18)\n",
    "plt.xlabel('duration in months', fontsize=18)\n",
    "plt.ylabel('Frequency', fontsize=18)\n",
    "plt.tick_params(axis='x', labelsize=18)\n",
    "plt.tick_params(axis='y', labelsize=18)"
   ]
  },
  {
   "cell_type": "markdown",
   "metadata": {},
   "source": [
    "### Performing Kolmogorov-Smirnov Test to see whether Distribution is Normal"
   ]
  },
  {
   "cell_type": "code",
   "execution_count": null,
   "metadata": {
    "collapsed": false
   },
   "outputs": [],
   "source": [
    "stats.kstest(general_dur_stand,'norm')"
   ]
  },
  {
   "cell_type": "markdown",
   "metadata": {},
   "source": [
    "Since the p-value = 0, we can reject the null hypothesis which states that general duration is identical to a gaussian normal distribution. So, general duration is not normal distribution."
   ]
  },
  {
   "cell_type": "code",
   "execution_count": null,
   "metadata": {
    "collapsed": false
   },
   "outputs": [],
   "source": [
    "stats.kstest(df_Signals_dur_stand,'norm')"
   ]
  },
  {
   "cell_type": "markdown",
   "metadata": {},
   "source": [
    "Since the p-value = 0.3545204651001661, we cannot reject the null hypothesis which states that df_Signals_dur_stand is identical to a gaussian normal distribution. So, Signals, df_Signals_dur_stand is normal distribution."
   ]
  },
  {
   "cell_type": "code",
   "execution_count": null,
   "metadata": {
    "collapsed": false
   },
   "outputs": [],
   "source": [
    "stats.kstest(general_without_signals_stand,'norm')"
   ]
  },
  {
   "cell_type": "markdown",
   "metadata": {},
   "source": [
    "Since the p-value = 0, we can reject the null hypothesis which states that general_without_signals_stand is identical to a gaussian normal distribution. So, general_without_signals_stand is not normal distribution."
   ]
  },
  {
   "cell_type": "code",
   "execution_count": null,
   "metadata": {
    "collapsed": false
   },
   "outputs": [],
   "source": [
    "stats.kstest(df_Internetcomputing_dur_stand,'norm')"
   ]
  },
  {
   "cell_type": "markdown",
   "metadata": {},
   "source": [
    "Since the p-value = pvalue=4.4092634343240178e-05, we cannot reject the null hypothesis which states that general duration is identical to a gaussian normal distribution. So, Internet Computing duration is not normal distribution."
   ]
  },
  {
   "cell_type": "code",
   "execution_count": null,
   "metadata": {
    "collapsed": false
   },
   "outputs": [],
   "source": [
    "stats.kstest(general_without_internet_comp_stand,'norm')"
   ]
  },
  {
   "cell_type": "markdown",
   "metadata": {},
   "source": [
    "Since the p-value = 0, we can reject the null hypothesis which states that general_without_internet_comp_stand is identical to a gaussian normal distribution. So, general_without_internet_comp_stand is not normal distribution."
   ]
  },
  {
   "cell_type": "code",
   "execution_count": null,
   "metadata": {
    "collapsed": false
   },
   "outputs": [],
   "source": [
    "stats.kstest(df_Biocomputing_dur_stand,'norm')"
   ]
  },
  {
   "cell_type": "markdown",
   "metadata": {},
   "source": [
    "Since the p-value = pvalue=0.84588519025943321, we cannot reject the null hypothesis which states that general duration is identical to a gaussian normal distribution. So, Bio Computing duration is a normal distribution."
   ]
  },
  {
   "cell_type": "code",
   "execution_count": null,
   "metadata": {
    "collapsed": false
   },
   "outputs": [],
   "source": [
    "stats.kstest(general_without_Biocomputing_stand,'norm')"
   ]
  },
  {
   "cell_type": "markdown",
   "metadata": {},
   "source": [
    "Since the p-value = 0, we can reject the null hypothesis which states that general_without_Biocomputing_stand is identical to a gaussian normal distribution. So, general_without_Biocomputing_stand is not normal distribution."
   ]
  },
  {
   "cell_type": "code",
   "execution_count": null,
   "metadata": {
    "collapsed": false
   },
   "outputs": [],
   "source": [
    "stats.kstest(df_FoundationsofSoftware_dur_stand,'norm')"
   ]
  },
  {
   "cell_type": "markdown",
   "metadata": {},
   "source": [
    "Since the p-value = pvalue=0.0043856485510029852, we can safely reject the null hypothesis which states that general duration is identical to a gaussian normal distribution. So, Foundations of Software duration is a not normal distribution."
   ]
  },
  {
   "cell_type": "code",
   "execution_count": null,
   "metadata": {
    "collapsed": false
   },
   "outputs": [],
   "source": [
    "stats.kstest(general_without_found_sof_stand,'norm')"
   ]
  },
  {
   "cell_type": "markdown",
   "metadata": {},
   "source": [
    "Since the p-value = 0, we can reject the null hypothesis which states that general_without_found_sof_stand is identical to a gaussian normal distribution. So, general_without_found_sof_stand is not normal distribution."
   ]
  },
  {
   "cell_type": "code",
   "execution_count": null,
   "metadata": {
    "collapsed": false
   },
   "outputs": [],
   "source": [
    "stats.kstest(df_ComputerEngineering_dur_stand,'norm')"
   ]
  },
  {
   "cell_type": "markdown",
   "metadata": {},
   "source": [
    "Since the p-value = pvalue=0.069880855702021405, we cannot reject the null hypothesis which states that general duration is identical to a gaussian normal distribution. So, Computer Engineering duration is a normal distribution."
   ]
  },
  {
   "cell_type": "code",
   "execution_count": null,
   "metadata": {
    "collapsed": false
   },
   "outputs": [],
   "source": [
    "stats.kstest(general_without_comp_eng_stand,'norm')"
   ]
  },
  {
   "cell_type": "markdown",
   "metadata": {},
   "source": [
    "Since the p-value = 0, we can reject the null hypothesis which states that general_without_comp_eng_stand is identical to a gaussian normal distribution. So, general_without_comp_eng_stand is not normal distribution."
   ]
  },
  {
   "cell_type": "code",
   "execution_count": null,
   "metadata": {
    "collapsed": false
   },
   "outputs": [],
   "source": [
    "stats.kstest(df_Servicescience_dur_stand,'norm')"
   ]
  },
  {
   "cell_type": "markdown",
   "metadata": {},
   "source": [
    "Since the p-value = pvalue=0.47790658312647039, we cannot reject the null hypothesis which states that general duration is identical to a gaussian normal distribution. So, Service Science duration is a normal distribution."
   ]
  },
  {
   "cell_type": "code",
   "execution_count": null,
   "metadata": {
    "collapsed": false
   },
   "outputs": [],
   "source": [
    "stats.kstest(general_without_service_science_stand,'norm')"
   ]
  },
  {
   "cell_type": "markdown",
   "metadata": {},
   "source": [
    "Since the p-value = 0, we can reject the null hypothesis which states that general_without_service_science_stand is identical to a gaussian normal distribution. So, general_without_service_science_stand is not normal distribution."
   ]
  },
  {
   "cell_type": "code",
   "execution_count": null,
   "metadata": {
    "collapsed": false
   },
   "outputs": [],
   "source": [
    "stats.kstest(df_SoftwareSystems_dur_stand,'norm')"
   ]
  },
  {
   "cell_type": "markdown",
   "metadata": {},
   "source": [
    "Since the p-value = pvalue=0.3063845826512166, we cannot reject the null hypothesis which states that general duration is identical to a gaussian normal distribution. So, Software Systems duration is a normal distribution."
   ]
  },
  {
   "cell_type": "code",
   "execution_count": null,
   "metadata": {
    "collapsed": false
   },
   "outputs": [],
   "source": [
    "stats.kstest(general_without_soft_sys_stand,'norm')"
   ]
  },
  {
   "cell_type": "markdown",
   "metadata": {},
   "source": [
    "Since the p-value = 0, we can reject the null hypothesis which states that general_without_soft_sys_stand is identical to a gaussian normal distribution. So, general_without_soft_sys_stand is not normal distribution."
   ]
  },
  {
   "cell_type": "code",
   "execution_count": null,
   "metadata": {
    "collapsed": false
   },
   "outputs": [],
   "source": [
    "stats.kstest(df_InformationSecurity_dur_stand,'norm')"
   ]
  },
  {
   "cell_type": "markdown",
   "metadata": {},
   "source": [
    "Since the p-value = pvalue=0.10119881544670628, we cannot reject the null hypothesis which states that general duration is identical to a gaussian normal distribution. So, Information Security duration is a normal distribution."
   ]
  },
  {
   "cell_type": "code",
   "execution_count": null,
   "metadata": {
    "collapsed": false
   },
   "outputs": [],
   "source": [
    "stats.kstest(general_without_inf_sec_stand,'norm')"
   ]
  },
  {
   "cell_type": "markdown",
   "metadata": {},
   "source": [
    "Since the p-value = 0, we can reject the null hypothesis which states that general_without_inf_sec_stand is identical to a gaussian normal distribution. So, general_without_inf_sec_stand is not normal distribution."
   ]
  },
  {
   "cell_type": "code",
   "execution_count": null,
   "metadata": {
    "collapsed": false
   },
   "outputs": [],
   "source": [
    "stats.kstest(df_DataAnalytics_dur_stand,'norm')"
   ]
  },
  {
   "cell_type": "markdown",
   "metadata": {},
   "source": [
    "Since the p-value = pvalue=0.15289748833456063, we cannot reject the null hypothesis which states that general duration is identical to a gaussian normal distribution. So, Data Analytics duration is a normal distribution."
   ]
  },
  {
   "cell_type": "code",
   "execution_count": null,
   "metadata": {
    "collapsed": false
   },
   "outputs": [],
   "source": [
    "stats.kstest(general_without_data_ana_stand,'norm')"
   ]
  },
  {
   "cell_type": "markdown",
   "metadata": {},
   "source": [
    "Since the p-value = 0, we can reject the null hypothesis which states that general_without_data_ana_stand is identical to a gaussian normal distribution. So, general_without_data_ana_stand is not normal distribution."
   ]
  },
  {
   "cell_type": "code",
   "execution_count": null,
   "metadata": {
    "collapsed": false
   },
   "outputs": [],
   "source": [
    "stats.kstest(df_InternetInformationSystems_dur_stand,'norm')"
   ]
  },
  {
   "cell_type": "code",
   "execution_count": null,
   "metadata": {
    "collapsed": false
   },
   "outputs": [],
   "source": [
    "stats.kstest(general_without_internet_info_stand,'norm')"
   ]
  },
  {
   "cell_type": "markdown",
   "metadata": {},
   "source": [
    "Since the p-value = 0, we can reject the null hypothesis which states that general_without_internet_info_stand is identical to a gaussian normal distribution. So, general_without_internet_info_stand is not normal distribution."
   ]
  },
  {
   "cell_type": "code",
   "execution_count": null,
   "metadata": {
    "collapsed": false
   },
   "outputs": [],
   "source": [
    "stats.kstest(df_ComputerScienceTheory_dur_stand,'norm')"
   ]
  },
  {
   "cell_type": "code",
   "execution_count": null,
   "metadata": {
    "collapsed": false
   },
   "outputs": [],
   "source": [
    "stats.kstest(general_without_comp_theory_stand,'norm')"
   ]
  },
  {
   "cell_type": "markdown",
   "metadata": {},
   "source": [
    "Since the p-value = 0, we can reject the null hypothesis which states that general_without_comp_theory_stand is identical to a gaussian normal distribution. So, general_without_comp_theory_stand is not normal distribution."
   ]
  },
  {
   "cell_type": "markdown",
   "metadata": {},
   "source": [
    "### Testing Statistical Significance of Difference"
   ]
  },
  {
   "cell_type": "markdown",
   "metadata": {},
   "source": [
    "Now, let's investigate for statistical differences between the average of each specialization and the general average for all specializations. Since, students from each specialization also belong to the general duration dataframe (part of the whole relationship), they are not independent samples. So, tests used for unpaired samples cannot be used here. On the other hand, we cannot use tests for paired samples as the two samples would not have the same size. Since comparing a subset to the whole has the same effect of comparing a subset to the difference between the subset and the whole (for example, comparing Americans to the whole citizens of the world is the same as comparing Americans to non-Americans citizens in the world), it is safe to compare the subset to the whole by comparing each specialization to the difference between the general and the specialization. So, in that case, we will have two samples that are independent and a Mann-Whitney test can be used."
   ]
  },
  {
   "cell_type": "code",
   "execution_count": null,
   "metadata": {
    "collapsed": false
   },
   "outputs": [],
   "source": [
    "stats.mannwhitneyu(df_Signals_dur_stand, general_without_signals_stand, use_continuity=True, alternative='two-sided')"
   ]
  },
  {
   "cell_type": "code",
   "execution_count": null,
   "metadata": {
    "collapsed": false
   },
   "outputs": [],
   "source": [
    "stats.mannwhitneyu(df_Internetcomputing_dur_stand, general_without_internet_comp_stand, use_continuity=True, alternative='two-sided')"
   ]
  },
  {
   "cell_type": "code",
   "execution_count": null,
   "metadata": {
    "collapsed": false
   },
   "outputs": [],
   "source": [
    "stats.mannwhitneyu(df_Biocomputing_dur_stand, general_without_Biocomputing_stand, use_continuity=True, alternative='two-sided')"
   ]
  },
  {
   "cell_type": "code",
   "execution_count": null,
   "metadata": {
    "collapsed": false
   },
   "outputs": [],
   "source": [
    "stats.mannwhitneyu(df_FoundationsofSoftware_dur_stand, general_without_found_sof_stand, use_continuity=True, alternative='two-sided')"
   ]
  },
  {
   "cell_type": "code",
   "execution_count": null,
   "metadata": {
    "collapsed": false
   },
   "outputs": [],
   "source": [
    "stats.mannwhitneyu(df_SoftwareSystems_dur_stand, general_without_soft_sys_stand, use_continuity=True, alternative='two-sided')"
   ]
  },
  {
   "cell_type": "code",
   "execution_count": null,
   "metadata": {
    "collapsed": false
   },
   "outputs": [],
   "source": [
    "stats.mannwhitneyu(df_ComputerEngineering_dur_stand, general_without_service_science_stand, use_continuity=True, alternative='two-sided')"
   ]
  },
  {
   "cell_type": "code",
   "execution_count": null,
   "metadata": {
    "collapsed": false
   },
   "outputs": [],
   "source": [
    "stats.mannwhitneyu(df_Servicescience_dur_stand, general_without_signals_stand, use_continuity=True, alternative='two-sided')"
   ]
  },
  {
   "cell_type": "code",
   "execution_count": null,
   "metadata": {
    "collapsed": false
   },
   "outputs": [],
   "source": [
    "stats.mannwhitneyu(df_InformationSecurity_dur_stand, general_without_inf_sec_stand, use_continuity=True, alternative='two-sided')"
   ]
  },
  {
   "cell_type": "code",
   "execution_count": null,
   "metadata": {
    "collapsed": false
   },
   "outputs": [],
   "source": [
    "stats.mannwhitneyu(df_DataAnalytics_dur_stand, general_without_data_ana_stand, use_continuity=True, alternative='two-sided')"
   ]
  },
  {
   "cell_type": "code",
   "execution_count": null,
   "metadata": {
    "collapsed": false
   },
   "outputs": [],
   "source": [
    "stats.mannwhitneyu(df_InternetInformationSystems_dur_stand, general_without_internet_info_stand, use_continuity=False, alternative='two-sided')"
   ]
  },
  {
   "cell_type": "code",
   "execution_count": null,
   "metadata": {
    "collapsed": false
   },
   "outputs": [],
   "source": [
    "stats.mannwhitneyu(df_ComputerScienceTheory_dur_stand, general_without_comp_theory_stand, use_continuity=False, alternative='two-sided')"
   ]
  },
  {
   "cell_type": "markdown",
   "metadata": {},
   "source": [
    "For all specializations, if we pick a confidence percentage of 93%, we can say that there is a significant statistical difference between Computer Science Theory and the whole, between Internet Information Systems and the whole and between Foundations of Software and the whole. Other than that we cannot reject null hypothesis for any of the other specializations since their p-value is significantly big which means there is no significant statistical difference."
   ]
  },
  {
   "cell_type": "markdown",
   "metadata": {},
   "source": [
    "# Bonus Excercise:"
   ]
  },
  {
   "cell_type": "markdown",
   "metadata": {},
   "source": [
    "We store female and male data into two different data frames"
   ]
  },
  {
   "cell_type": "code",
   "execution_count": null,
   "metadata": {
    "collapsed": false
   },
   "outputs": [],
   "source": [
    "data_female = aa1[aa1['gender'] == 'Madame']\n",
    "data_male = aa1[aa1['gender'] == 'Monsieur']"
   ]
  },
  {
   "cell_type": "markdown",
   "metadata": {},
   "source": [
    "## Visualizing changes of durations for females and males over time:"
   ]
  },
  {
   "cell_type": "markdown",
   "metadata": {},
   "source": [
    "* Scatter Plot for duration versus starting year for female master students: "
   ]
  },
  {
   "cell_type": "code",
   "execution_count": null,
   "metadata": {
    "collapsed": false
   },
   "outputs": [],
   "source": [
    "fig = plt.figure(figsize=(4,4))\n",
    "ax = fig.add_subplot(111, title=\"females study duration by overtime\")\n",
    "ax.scatter(data_female['start_year'], data_female['total_duration'], s=100, color=\"red\", alpha=0.5)\n",
    "plt.xlabel('starting year', fontsize=12)\n",
    "plt.ylabel('duration in months', fontsize=12)"
   ]
  },
  {
   "cell_type": "markdown",
   "metadata": {},
   "source": [
    "* Scatter Plot for duration versus starting year for male master students: "
   ]
  },
  {
   "cell_type": "code",
   "execution_count": null,
   "metadata": {
    "collapsed": false
   },
   "outputs": [],
   "source": [
    "fig = plt.figure(figsize=(4,4))\n",
    "ax = fig.add_subplot(111, title=\"males study duration overtime\")\n",
    "ax.scatter(data_male['start_year'], data_male['total_duration'], s=100, color=\"blue\", alpha=0.07)\n",
    "plt.xlabel('starting year', fontsize=12)\n",
    "plt.ylabel('duration in months', fontsize=12)\n"
   ]
  },
  {
   "cell_type": "markdown",
   "metadata": {},
   "source": [
    "* Scatter Plot for duration versus starting year for female and male master students at the same time: "
   ]
  },
  {
   "cell_type": "code",
   "execution_count": null,
   "metadata": {
    "collapsed": false
   },
   "outputs": [],
   "source": [
    "import pylab\n",
    "import matplotlib\n",
    "\n",
    "x1=data_female['start_year']\n",
    "y1=data_female['total_duration']\n",
    "x2=data_male['start_year']\n",
    "y2=data_male['total_duration']\n",
    "\n",
    "\n",
    "# Blue Circle represents female\n",
    "def my_circle_scatter(axes, x_array, y_array, radius=0.5, **kwargs): \n",
    "    for x, y in zip(x_array, y_array):\n",
    "        circle = pylab.Circle((x,y), radius=radius, **kwargs)\n",
    "        axes.add_patch(circle)\n",
    "    return True\n",
    "\n",
    "# Red Square represents male\n",
    "def my_square_scatter(axes, x_array, y_array, size=0.5, **kwargs):\n",
    "    size = float(size)\n",
    "    for x, y in zip(x_array, y_array):\n",
    "        square = pylab.Rectangle((x-size/2,y-size/2), size, size, **kwargs)\n",
    "        axes.add_patch(square)\n",
    "    return True\n",
    "\n",
    "axes=pylab.axes()\n",
    "my_circle_scatter(axes, x1, y1, radius=.5, alpha=.5, color='b')\n",
    "my_square_scatter(axes, x2, y2, size=.5, alpha=.5, color='r')\n",
    "pylab.axis('scaled')\n",
    "plt.title('females and males study duration over time', fontsize=12)\n",
    "plt.xlabel('starting year', fontsize=12)\n",
    "plt.ylabel('duration in months', fontsize=12)\n",
    "plt.rcParams[\"figure.figsize\"] = (12,12)\n",
    "pylab.legend()\n",
    "\n",
    "pylab.show()\n"
   ]
  },
  {
   "cell_type": "markdown",
   "metadata": {},
   "source": [
    "For the above scatter plot, the blue circle represent females and the darker color the more density.. the red squared represent males, and the darker color the more density.\n",
    "we interestingly observe that females that start masters in computer science from 2007 to 2015 finish in a duration less than males exept for the year of 2010.. where we observre that females that started at this year tend to spend more time than usual.\n",
    "\n",
    "From 2007 to 2009, a few males spend more time to finish the masters, and in 2012 and 2013 we observe that the number is increasing. \n",
    "\n",
    "Lastly in 2014, females and males share almost similar behaviour in terms of time spent to finish the masters!\n",
    "\n",
    "But in general, in latter years, it takes on average less time for females to graduate than males."
   ]
  },
  {
   "cell_type": "markdown",
   "metadata": {},
   "source": [
    "## 3.2. Evaluating Statistical Significance of difference between male and female staying at EPFL durations: "
   ]
  },
  {
   "cell_type": "markdown",
   "metadata": {
    "collapsed": true
   },
   "source": [
    "### Data Normalization and Standardization:\n",
    " Normalize and standardize durations of females and males "
   ]
  },
  {
   "cell_type": "code",
   "execution_count": null,
   "metadata": {
    "collapsed": false,
    "scrolled": true
   },
   "outputs": [],
   "source": [
    "data_female_dur = data_female['total_duration']\n",
    "data_male_dur = data_male['total_duration']\n",
    "\n",
    "female_norm_stand = normalize_standardize(data_female_dur)\n",
    "male_norm_stand = normalize_standardize(data_male_dur)\n",
    "data_female"
   ]
  },
  {
   "cell_type": "markdown",
   "metadata": {},
   "source": [
    "* Normalize the starting year"
   ]
  },
  {
   "cell_type": "code",
   "execution_count": null,
   "metadata": {
    "collapsed": false
   },
   "outputs": [],
   "source": [
    "data_female_start = data_female['start_year']\n",
    "data_male_start = data_male['start_year']\n",
    "\n",
    "female_norm_start_stand = normalize_standardize(data_female_start)\n",
    "male_norm_start_stand = normalize_standardize(data_male_start)"
   ]
  },
  {
   "cell_type": "markdown",
   "metadata": {},
   "source": [
    "### Plotting distributions for Normalized, Standardized Data"
   ]
  },
  {
   "cell_type": "code",
   "execution_count": null,
   "metadata": {
    "collapsed": false
   },
   "outputs": [],
   "source": [
    "female_norm_stand.hist(figsize=(15,8), color = 'blue')\n",
    "plt.title('Madames Master student duration distribution', fontsize=18)\n",
    "plt.xlabel('duration in months', fontsize=18)\n",
    "plt.ylabel('Frequency', fontsize=18)\n",
    "plt.tick_params(axis='x', labelsize=18)\n",
    "plt.tick_params(axis='y', labelsize=18)"
   ]
  },
  {
   "cell_type": "code",
   "execution_count": null,
   "metadata": {
    "collapsed": false
   },
   "outputs": [],
   "source": [
    "male_norm_stand.hist(figsize=(15,8), color = 'blue')\n",
    "plt.title('Monsieur Master student duration distribution', fontsize=18)\n",
    "plt.xlabel('duration in months', fontsize=18)\n",
    "plt.ylabel('Frequency', fontsize=18)\n",
    "plt.tick_params(axis='x', labelsize=18)\n",
    "plt.tick_params(axis='y', labelsize=18)"
   ]
  },
  {
   "cell_type": "markdown",
   "metadata": {},
   "source": [
    "### K-S (Kolmorogorov-Smirnov) test to check for Normal Distribution"
   ]
  },
  {
   "cell_type": "code",
   "execution_count": null,
   "metadata": {
    "collapsed": false
   },
   "outputs": [],
   "source": [
    "stats.kstest(female_norm_stand,'norm')"
   ]
  },
  {
   "cell_type": "markdown",
   "metadata": {},
   "source": [
    "Since the kstest returns a pvalue=3.5002964422492511e-06 (extremely smaller than 5%), we can reject with high confidence the null hypothesis that says that the Master duration for madames is a normal distribution => female_norm_stand is not normal."
   ]
  },
  {
   "cell_type": "code",
   "execution_count": null,
   "metadata": {
    "collapsed": false
   },
   "outputs": [],
   "source": [
    "stats.kstest(male_norm_stand,'norm')"
   ]
  },
  {
   "cell_type": "markdown",
   "metadata": {},
   "source": [
    "Since the kstest returns a pvalue=0.0, we can reject with high confidence the null hypothesis that says that the Master duration for monsieur is a normal distribution => male_norm_stand is not normal."
   ]
  },
  {
   "cell_type": "markdown",
   "metadata": {},
   "source": [
    "Since the two samples are not normal, and we have unpaired independent samples (since we want to compare two different subjects and there is no correlation between males and females the duration that it takes for males to graduate doesn't make the duration for females to graduate), the most adequate to apply here is Mann-Whitney test."
   ]
  },
  {
   "cell_type": "code",
   "execution_count": null,
   "metadata": {
    "collapsed": false
   },
   "outputs": [],
   "source": [
    "stats.mannwhitneyu(female_norm_stand, male_norm_stand, use_continuity=True, alternative='two-sided')"
   ]
  },
  {
   "cell_type": "markdown",
   "metadata": {},
   "source": [
    "Since pvalue=7.214601150768051e-06 is extremly less than the threshold of 5%, we can with a very high confidence greater reject the null hypothesis that says that the two samples have the same mean. So there is a significant statistical difference between males duration to graduate and females duration to graduate."
   ]
  },
  {
   "cell_type": "code",
   "execution_count": null,
   "metadata": {
    "collapsed": false
   },
   "outputs": [],
   "source": [
    "stats.mannwhitneyu(female_norm_start_stand, male_norm_start_stand, use_continuity=True, alternative='two-sided')"
   ]
  },
  {
   "cell_type": "markdown",
   "metadata": {},
   "source": [
    "pvalue=0.83129807737994366 > 5% so there is no statistical significant difference between the distributions of the starting years for males and females."
   ]
  },
  {
   "cell_type": "code",
   "execution_count": null,
   "metadata": {
    "collapsed": false
   },
   "outputs": [],
   "source": [
    "combined_females = numpy.vstack((female_norm_start_stand, female_norm_stand)).T \n",
    "combined_males = numpy.vstack((male_norm_start_stand, male_norm_stand)).T "
   ]
  },
  {
   "cell_type": "code",
   "execution_count": null,
   "metadata": {
    "collapsed": false
   },
   "outputs": [],
   "source": [
    "stats.mannwhitneyu(combined_females, combined_males, use_continuity=False, alternative='greater')"
   ]
  },
  {
   "cell_type": "markdown",
   "metadata": {},
   "source": [
    "We use here a one sided MannWhitney to test the hypothesis we examining the trends found from the scatter plot: females are taking less and less time to graduate compared to males. We pick alternative argument 'greater' to test one sided. pvalue=3.8859224256393879e-20 which is less than 5%, so we can reject null hypothesis, which means that females are taking with high statistical significance less and less time to graduate compared to males as time evolves.  "
   ]
  }
 ],
 "metadata": {
  "anaconda-cloud": {},
  "kernelspec": {
   "display_name": "Python [conda env:py3k]",
   "language": "python",
   "name": "conda-env-py3k-py"
  },
  "language_info": {
   "codemirror_mode": {
    "name": "ipython",
    "version": 3
   },
   "file_extension": ".py",
   "mimetype": "text/x-python",
   "name": "python",
   "nbconvert_exporter": "python",
   "pygments_lexer": "ipython3",
   "version": "3.5.2"
  }
 },
 "nbformat": 4,
 "nbformat_minor": 0
}
