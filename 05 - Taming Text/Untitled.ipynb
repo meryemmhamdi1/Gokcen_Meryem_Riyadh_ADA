{
 "cells": [
  {
   "cell_type": "code",
   "execution_count": null,
   "metadata": {
    "collapsed": false
   },
   "outputs": [],
   "source": [
    "from gensim import corpora, models, similarities\n",
    "from gensim.models import hdpmodel, ldamodel\n",
    "from itertools import izip\n",
    "\n",
    "documents = [\"Human machine interface for lab abc computer applications\",\n",
    "              \"A survey of user opinion of computer system response time\",\n",
    "              \"The EPS user interface management system\",\n",
    "              \"System and human system engineering testing of EPS\",\n",
    "              \"Relation of user perceived response time to error measurement\",\n",
    "              \"The generation of random binary unordered trees\",\n",
    "              \"The intersection graph of paths in trees\",\n",
    "              \"Graph minors IV Widths of trees and well quasi ordering\",\n",
    "              \"Graph minors A survey\"]"
   ]
  },
  {
   "cell_type": "code",
   "execution_count": null,
   "metadata": {
    "collapsed": false
   },
   "outputs": [],
   "source": [
    "# remove common words and tokenize\n",
    "stoplist = set('for a of the and to in'.split())\n",
    "texts = [[word for word in document.lower().split() if word not in stoplist]\n",
    "         for document in documents]\n",
    "texts"
   ]
  },
  {
   "cell_type": "code",
   "execution_count": null,
   "metadata": {
    "collapsed": false
   },
   "outputs": [],
   "source": [
    "sep = ' '\n",
    "joined_emails = []\n",
    "for email in texts:\n",
    "    joined_emails.append(sep.join(email))\n",
    "joined_emails"
   ]
  },
  {
   "cell_type": "code",
   "execution_count": null,
   "metadata": {
    "collapsed": false
   },
   "outputs": [],
   "source": [
    "# remove words that appear only once\n",
    "all_tokens = sum(texts, [])\n",
    "tokens_once = set(word for word in set(all_tokens) if all_tokens.count(word) == 1)\n",
    "texts = [[word for word in text if word not in tokens_once]\n",
    "         for text in texts]\n",
    "texts"
   ]
  },
  {
   "cell_type": "code",
   "execution_count": null,
   "metadata": {
    "collapsed": false
   },
   "outputs": [],
   "source": [
    "dictionary = corpora.Dictionary(texts)\n",
    "corpus = [dictionary.doc2bow(text) for text in texts]\n",
    "dictionary\n",
    "corpus"
   ]
  },
  {
   "cell_type": "code",
   "execution_count": null,
   "metadata": {
    "collapsed": false
   },
   "outputs": [],
   "source": [
    "lda = ldamodel.LdaModel(corpus, id2word=dictionary, num_topics=50)\n",
    "corpus_lda = lda[corpus]\n",
    "\n",
    "for l,t in izip(corpus_lda,corpus):\n",
    "    print l,\"#\",t\n",
    "print\n",
    "\n",
    "for top in lda.print_topics(10):\n",
    "    print top"
   ]
  },
  {
   "cell_type": "code",
   "execution_count": null,
   "metadata": {
    "collapsed": true
   },
   "outputs": [],
   "source": []
  },
  {
   "cell_type": "code",
   "execution_count": null,
   "metadata": {
    "collapsed": false
   },
   "outputs": [],
   "source": [
    "from nltk.classify import NaiveBayesClassifier\n",
    "from nltk.corpus import subjectivity\n",
    "from nltk.sentiment import SentimentAnalyzer\n",
    "from nltk.sentiment.util import *\n",
    "\n",
    "n_instances = 100\n",
    "subj_docs = [(sent, 'subj') for sent in subjectivity.sents(categories='subj')[:n_instances]]\n",
    "obj_docs = [(sent, 'obj') for sent in subjectivity.sents(categories='obj')[:n_instances]]\n",
    "len(subj_docs), len(obj_docs)"
   ]
  },
  {
   "cell_type": "code",
   "execution_count": 55,
   "metadata": {
    "collapsed": false
   },
   "outputs": [
    {
     "data": {
      "text/plain": [
       "{'compound': 0.5719, 'neg': 0.0, 'neu': 0.213, 'pos': 0.787}"
      ]
     },
     "execution_count": 55,
     "metadata": {},
     "output_type": "execute_result"
    }
   ],
   "source": [
    "from nltk.sentiment.vader import SentimentIntensityAnalyzer\n",
    "sid = SentimentIntensityAnalyzer()\n",
    "sentence = \"I am happy\"\n",
    "ss = sid.polarity_scores(sentence)\n",
    "ss"
   ]
  },
  {
   "cell_type": "code",
   "execution_count": 56,
   "metadata": {
    "collapsed": false
   },
   "outputs": [
    {
     "data": {
      "text/plain": [
       "{'compound': 0.5719, 'neg': 0.0, 'neu': 0.213, 'pos': 0.787}"
      ]
     },
     "execution_count": 56,
     "metadata": {},
     "output_type": "execute_result"
    }
   ],
   "source": []
  },
  {
   "cell_type": "code",
   "execution_count": null,
   "metadata": {
    "collapsed": true
   },
   "outputs": [],
   "source": [
    "from nltk.sentiment.vader import SentimentIntensityAnalyzer as SIA\n",
    "sentences=[\"hello\",\"why is it not working?!\"]\n",
    "sid = SIA()\n",
    "for sentence in sentences:\n",
    "    ss = sid.polarity_scores(sentence) "
   ]
  },
  {
   "cell_type": "code",
   "execution_count": null,
   "metadata": {
    "collapsed": false
   },
   "outputs": [],
   "source": [
    "from nltk.sentiment.util import *\n",
    "sentence = \"The movie was not good\"\n",
    "#demo_subjectivity()\n",
    "#demo_liu_hu_lexicon(sentence)\n",
    "demo_vader_instance(sentence)\n",
    "#demo_sent_subjectivity(sentence)\n",
    "#timer(demo_vader_instance(sentence))\n",
    "something = {'neg': 0.376, 'neu': 0.624, 'pos': 0.0, 'compound': -0.3412}\n",
    "type(something)"
   ]
  },
  {
   "cell_type": "code",
   "execution_count": null,
   "metadata": {
    "collapsed": false
   },
   "outputs": [],
   "source": [
    "%matplotlib inline\n",
    "import seaborn as sns\n",
    "import pandas as pd\n",
    "\n",
    "countries_emotions = {\n",
    "    'Morocco':1.5,\n",
    "    'Guinea':2,\n",
    "    'usa':3\n",
    "}\n",
    "countries_tracked = pd.DataFrame.from_dict(countries_emotions, orient='index')\n",
    "countries_tracked.columns = ['Emotion Score']\n",
    "palette = sns.color_palette(\"RdBu\", n_colors=len(countries_tracked))\n",
    "countries_tracked.plot(kind='bar', figsize=(14,4), color= palette)"
   ]
  },
  {
   "cell_type": "code",
   "execution_count": null,
   "metadata": {
    "collapsed": false
   },
   "outputs": [],
   "source": [
    "countries_tracked"
   ]
  },
  {
   "cell_type": "code",
   "execution_count": 6,
   "metadata": {
    "collapsed": false
   },
   "outputs": [
    {
     "data": {
      "image/png": "[encoded data removed]",
      "text/plain": [
       "<matplotlib.figure.Figure at 0x7fb3436f1e10>"
      ]
     },
     "metadata": {},
     "output_type": "display_data"
    }
   ],
   "source": [
    "%matplotlib inline\n",
    "import community\n",
    "import networkx as nx\n",
    "import matplotlib.pyplot as plt\n",
    "\n",
    "#better with karate_graph() as defined in networkx example.\n",
    "#erdos renyi don't have true community structure\n",
    "G = nx.erdos_renyi_graph(30, 0.05)\n",
    "\n",
    "#first compute the best partition\n",
    "partition = community.best_partition(G)\n",
    "\n",
    "#drawing\n",
    "size = float(len(set(partition.values())))\n",
    "pos = nx.spring_layout(G)\n",
    "count = 0.\n",
    "for com in set(partition.values()) :\n",
    "    count = count + 1.\n",
    "    list_nodes = [nodes for nodes in partition.keys()\n",
    "                                if partition[nodes] == com]\n",
    "    nx.draw_networkx_nodes(G, pos, list_nodes, node_size = 20,\n",
    "                                node_color = str(count / size))\n",
    "\n",
    "\n",
    "nx.draw_networkx_edges(G,pos, alpha=0.5)\n",
    "plt.show()"
   ]
  },
  {
   "cell_type": "code",
   "execution_count": 7,
   "metadata": {
    "collapsed": false
   },
   "outputs": [
    {
     "data": {
      "text/plain": [
       "<networkx.classes.graph.Graph at 0x7fb34572d510>"
      ]
     },
     "execution_count": 7,
     "metadata": {},
     "output_type": "execute_result"
    }
   ],
   "source": [
    "G"
   ]
  },
  {
   "cell_type": "code",
   "execution_count": null,
   "metadata": {
    "collapsed": false
   },
   "outputs": [],
   "source": [
    "import networkx as nx\n",
    "print nx.__version__\n",
    "G = nx.complete_graph(4)\n",
    "print nx.all_simple_paths(G, source=0, target=3, cutoff=2)"
   ]
  },
  {
   "cell_type": "code",
   "execution_count": 5,
   "metadata": {
    "collapsed": false
   },
   "outputs": [
    {
     "data": {
      "text/html": [
       "<div>\n",
       "<table border=\"1\" class=\"dataframe\">\n",
       "  <thead>\n",
       "    <tr style=\"text-align: right;\">\n",
       "      <th></th>\n",
       "      <th>Id</th>\n",
       "      <th>DocNumber</th>\n",
       "      <th>MetadataSubject</th>\n",
       "      <th>MetadataTo</th>\n",
       "      <th>MetadataFrom</th>\n",
       "      <th>SenderPersonId</th>\n",
       "      <th>MetadataDateSent</th>\n",
       "      <th>MetadataDateReleased</th>\n",
       "      <th>MetadataPdfLink</th>\n",
       "      <th>MetadataCaseNumber</th>\n",
       "      <th>...</th>\n",
       "      <th>ExtractedTo</th>\n",
       "      <th>ExtractedFrom</th>\n",
       "      <th>ExtractedCc</th>\n",
       "      <th>ExtractedDateSent</th>\n",
       "      <th>ExtractedCaseNumber</th>\n",
       "      <th>ExtractedDocNumber</th>\n",
       "      <th>ExtractedDateReleased</th>\n",
       "      <th>ExtractedReleaseInPartOrFull</th>\n",
       "      <th>ExtractedBodyText</th>\n",
       "      <th>RawText</th>\n",
       "    </tr>\n",
       "  </thead>\n",
       "  <tbody>\n",
       "    <tr>\n",
       "      <th>0</th>\n",
       "      <td>1</td>\n",
       "      <td>C05739545</td>\n",
       "      <td>WOW</td>\n",
       "      <td>H</td>\n",
       "      <td>Sullivan, Jacob J</td>\n",
       "      <td>87.0</td>\n",
       "      <td>2012-09-12T04:00:00+00:00</td>\n",
       "      <td>2015-05-22T04:00:00+00:00</td>\n",
       "      <td>DOCUMENTS/HRC_Email_1_296/HRCH2/DOC_0C05739545...</td>\n",
       "      <td>F-2015-04841</td>\n",
       "      <td>...</td>\n",
       "      <td>NaN</td>\n",
       "      <td>Sullivan, Jacob J &lt;Sullivan11@state.gov&gt;</td>\n",
       "      <td>NaN</td>\n",
       "      <td>Wednesday, September 12, 2012 10:16 AM</td>\n",
       "      <td>F-2015-04841</td>\n",
       "      <td>C05739545</td>\n",
       "      <td>05/13/2015</td>\n",
       "      <td>RELEASE IN FULL</td>\n",
       "      <td>NaN</td>\n",
       "      <td>UNCLASSIFIED\\nU.S. Department of State\\nCase N...</td>\n",
       "    </tr>\n",
       "    <tr>\n",
       "      <th>1</th>\n",
       "      <td>2</td>\n",
       "      <td>C05739546</td>\n",
       "      <td>H: LATEST: HOW SYRIA IS AIDING QADDAFI AND MOR...</td>\n",
       "      <td>H</td>\n",
       "      <td>NaN</td>\n",
       "      <td>NaN</td>\n",
       "      <td>2011-03-03T05:00:00+00:00</td>\n",
       "      <td>2015-05-22T04:00:00+00:00</td>\n",
       "      <td>DOCUMENTS/HRC_Email_1_296/HRCH1/DOC_0C05739546...</td>\n",
       "      <td>F-2015-04841</td>\n",
       "      <td>...</td>\n",
       "      <td>NaN</td>\n",
       "      <td>NaN</td>\n",
       "      <td>NaN</td>\n",
       "      <td>NaN</td>\n",
       "      <td>F-2015-04841</td>\n",
       "      <td>C05739546</td>\n",
       "      <td>05/13/2015</td>\n",
       "      <td>RELEASE IN PART</td>\n",
       "      <td>B6\\nThursday, March 3, 2011 9:45 PM\\nH: Latest...</td>\n",
       "      <td>UNCLASSIFIED\\nU.S. Department of State\\nCase N...</td>\n",
       "    </tr>\n",
       "    <tr>\n",
       "      <th>2</th>\n",
       "      <td>3</td>\n",
       "      <td>C05739547</td>\n",
       "      <td>CHRIS STEVENS</td>\n",
       "      <td>;H</td>\n",
       "      <td>Mills, Cheryl D</td>\n",
       "      <td>32.0</td>\n",
       "      <td>2012-09-12T04:00:00+00:00</td>\n",
       "      <td>2015-05-22T04:00:00+00:00</td>\n",
       "      <td>DOCUMENTS/HRC_Email_1_296/HRCH2/DOC_0C05739547...</td>\n",
       "      <td>F-2015-04841</td>\n",
       "      <td>...</td>\n",
       "      <td>B6</td>\n",
       "      <td>Mills, Cheryl D &lt;MillsCD@state.gov&gt;</td>\n",
       "      <td>Abedin, Huma</td>\n",
       "      <td>Wednesday, September 12, 2012 11:52 AM</td>\n",
       "      <td>F-2015-04841</td>\n",
       "      <td>C05739547</td>\n",
       "      <td>05/14/2015</td>\n",
       "      <td>RELEASE IN PART</td>\n",
       "      <td>Thx</td>\n",
       "      <td>UNCLASSIFIED\\nU.S. Department of State\\nCase N...</td>\n",
       "    </tr>\n",
       "    <tr>\n",
       "      <th>3</th>\n",
       "      <td>4</td>\n",
       "      <td>C05739550</td>\n",
       "      <td>CAIRO CONDEMNATION - FINAL</td>\n",
       "      <td>H</td>\n",
       "      <td>Mills, Cheryl D</td>\n",
       "      <td>32.0</td>\n",
       "      <td>2012-09-12T04:00:00+00:00</td>\n",
       "      <td>2015-05-22T04:00:00+00:00</td>\n",
       "      <td>DOCUMENTS/HRC_Email_1_296/HRCH2/DOC_0C05739550...</td>\n",
       "      <td>F-2015-04841</td>\n",
       "      <td>...</td>\n",
       "      <td>NaN</td>\n",
       "      <td>Mills, Cheryl D &lt;MillsCD@state.gov&gt;</td>\n",
       "      <td>Mitchell, Andrew B</td>\n",
       "      <td>Wednesday, September 12,2012 12:44 PM</td>\n",
       "      <td>F-2015-04841</td>\n",
       "      <td>C05739550</td>\n",
       "      <td>05/13/2015</td>\n",
       "      <td>RELEASE IN PART</td>\n",
       "      <td>NaN</td>\n",
       "      <td>UNCLASSIFIED\\nU.S. Department of State\\nCase N...</td>\n",
       "    </tr>\n",
       "    <tr>\n",
       "      <th>4</th>\n",
       "      <td>5</td>\n",
       "      <td>C05739554</td>\n",
       "      <td>H: LATEST: HOW SYRIA IS AIDING QADDAFI AND MOR...</td>\n",
       "      <td>Abedin, Huma</td>\n",
       "      <td>H</td>\n",
       "      <td>80.0</td>\n",
       "      <td>2011-03-11T05:00:00+00:00</td>\n",
       "      <td>2015-05-22T04:00:00+00:00</td>\n",
       "      <td>DOCUMENTS/HRC_Email_1_296/HRCH1/DOC_0C05739554...</td>\n",
       "      <td>F-2015-04841</td>\n",
       "      <td>...</td>\n",
       "      <td>NaN</td>\n",
       "      <td>NaN</td>\n",
       "      <td>NaN</td>\n",
       "      <td>NaN</td>\n",
       "      <td>F-2015-04841</td>\n",
       "      <td>C05739554</td>\n",
       "      <td>05/13/2015</td>\n",
       "      <td>RELEASE IN PART</td>\n",
       "      <td>H &lt;hrod17@clintonemail.com&gt;\\nFriday, March 11,...</td>\n",
       "      <td>B6\\nUNCLASSIFIED\\nU.S. Department of State\\nCa...</td>\n",
       "    </tr>\n",
       "  </tbody>\n",
       "</table>\n",
       "<p>5 rows × 22 columns</p>\n",
       "</div>"
      ],
      "text/plain": [
       "   Id  DocNumber                                    MetadataSubject  \\\n",
       "0   1  C05739545                                                WOW   \n",
       "1   2  C05739546  H: LATEST: HOW SYRIA IS AIDING QADDAFI AND MOR...   \n",
       "2   3  C05739547                                      CHRIS STEVENS   \n",
       "3   4  C05739550                         CAIRO CONDEMNATION - FINAL   \n",
       "4   5  C05739554  H: LATEST: HOW SYRIA IS AIDING QADDAFI AND MOR...   \n",
       "\n",
       "     MetadataTo       MetadataFrom  SenderPersonId           MetadataDateSent  \\\n",
       "0             H  Sullivan, Jacob J            87.0  2012-09-12T04:00:00+00:00   \n",
       "1             H                NaN             NaN  2011-03-03T05:00:00+00:00   \n",
       "2            ;H    Mills, Cheryl D            32.0  2012-09-12T04:00:00+00:00   \n",
       "3             H    Mills, Cheryl D            32.0  2012-09-12T04:00:00+00:00   \n",
       "4  Abedin, Huma                  H            80.0  2011-03-11T05:00:00+00:00   \n",
       "\n",
       "        MetadataDateReleased  \\\n",
       "0  2015-05-22T04:00:00+00:00   \n",
       "1  2015-05-22T04:00:00+00:00   \n",
       "2  2015-05-22T04:00:00+00:00   \n",
       "3  2015-05-22T04:00:00+00:00   \n",
       "4  2015-05-22T04:00:00+00:00   \n",
       "\n",
       "                                     MetadataPdfLink MetadataCaseNumber  \\\n",
       "0  DOCUMENTS/HRC_Email_1_296/HRCH2/DOC_0C05739545...       F-2015-04841   \n",
       "1  DOCUMENTS/HRC_Email_1_296/HRCH1/DOC_0C05739546...       F-2015-04841   \n",
       "2  DOCUMENTS/HRC_Email_1_296/HRCH2/DOC_0C05739547...       F-2015-04841   \n",
       "3  DOCUMENTS/HRC_Email_1_296/HRCH2/DOC_0C05739550...       F-2015-04841   \n",
       "4  DOCUMENTS/HRC_Email_1_296/HRCH1/DOC_0C05739554...       F-2015-04841   \n",
       "\n",
       "                         ...                         ExtractedTo  \\\n",
       "0                        ...                                 NaN   \n",
       "1                        ...                                 NaN   \n",
       "2                        ...                                  B6   \n",
       "3                        ...                                 NaN   \n",
       "4                        ...                                 NaN   \n",
       "\n",
       "                              ExtractedFrom         ExtractedCc  \\\n",
       "0  Sullivan, Jacob J <Sullivan11@state.gov>                 NaN   \n",
       "1                                       NaN                 NaN   \n",
       "2       Mills, Cheryl D <MillsCD@state.gov>        Abedin, Huma   \n",
       "3       Mills, Cheryl D <MillsCD@state.gov>  Mitchell, Andrew B   \n",
       "4                                       NaN                 NaN   \n",
       "\n",
       "                        ExtractedDateSent ExtractedCaseNumber  \\\n",
       "0  Wednesday, September 12, 2012 10:16 AM        F-2015-04841   \n",
       "1                                     NaN        F-2015-04841   \n",
       "2  Wednesday, September 12, 2012 11:52 AM        F-2015-04841   \n",
       "3   Wednesday, September 12,2012 12:44 PM        F-2015-04841   \n",
       "4                                     NaN        F-2015-04841   \n",
       "\n",
       "  ExtractedDocNumber ExtractedDateReleased ExtractedReleaseInPartOrFull  \\\n",
       "0          C05739545            05/13/2015              RELEASE IN FULL   \n",
       "1          C05739546            05/13/2015              RELEASE IN PART   \n",
       "2          C05739547            05/14/2015              RELEASE IN PART   \n",
       "3          C05739550            05/13/2015              RELEASE IN PART   \n",
       "4          C05739554            05/13/2015              RELEASE IN PART   \n",
       "\n",
       "                                   ExtractedBodyText  \\\n",
       "0                                                NaN   \n",
       "1  B6\\nThursday, March 3, 2011 9:45 PM\\nH: Latest...   \n",
       "2                                                Thx   \n",
       "3                                                NaN   \n",
       "4  H <hrod17@clintonemail.com>\\nFriday, March 11,...   \n",
       "\n",
       "                                             RawText  \n",
       "0  UNCLASSIFIED\\nU.S. Department of State\\nCase N...  \n",
       "1  UNCLASSIFIED\\nU.S. Department of State\\nCase N...  \n",
       "2  UNCLASSIFIED\\nU.S. Department of State\\nCase N...  \n",
       "3  UNCLASSIFIED\\nU.S. Department of State\\nCase N...  \n",
       "4  B6\\nUNCLASSIFIED\\nU.S. Department of State\\nCa...  \n",
       "\n",
       "[5 rows x 22 columns]"
      ]
     },
     "execution_count": 5,
     "metadata": {},
     "output_type": "execute_result"
    }
   ],
   "source": [
    "import pandas as pd\n",
    "emails = pd.read_csv('hillary-clinton-emails/Emails.csv',encoding=\"utf-8\")\n",
    "emails.head()"
   ]
  },
  {
   "cell_type": "code",
   "execution_count": 8,
   "metadata": {
    "collapsed": false
   },
   "outputs": [
    {
     "data": {
      "text/plain": [
       "Index([u'Id', u'DocNumber', u'MetadataSubject', u'MetadataTo', u'MetadataFrom',\n",
       "       u'SenderPersonId', u'MetadataDateSent', u'MetadataDateReleased',\n",
       "       u'MetadataPdfLink', u'MetadataCaseNumber', u'MetadataDocumentClass',\n",
       "       u'ExtractedSubject', u'ExtractedTo', u'ExtractedFrom', u'ExtractedCc',\n",
       "       u'ExtractedDateSent', u'ExtractedCaseNumber', u'ExtractedDocNumber',\n",
       "       u'ExtractedDateReleased', u'ExtractedReleaseInPartOrFull',\n",
       "       u'ExtractedBodyText', u'RawText'],\n",
       "      dtype='object')"
      ]
     },
     "execution_count": 8,
     "metadata": {},
     "output_type": "execute_result"
    }
   ],
   "source": [
    "emails.columns"
   ]
  },
  {
   "cell_type": "code",
   "execution_count": 44,
   "metadata": {
    "collapsed": false,
    "scrolled": true
   },
   "outputs": [
    {
     "data": {
      "text/plain": [
       "290"
      ]
     },
     "execution_count": 44,
     "metadata": {},
     "output_type": "execute_result"
    }
   ],
   "source": [
    "vertices = set(emails['MetadataFrom']).union(set(emails['MetadataFrom']))\n",
    "len(vertices)"
   ]
  },
  {
   "cell_type": "code",
   "execution_count": 24,
   "metadata": {
    "collapsed": true
   },
   "outputs": [],
   "source": [
    "edges = []\n",
    "for i in range(0,len(emails)):\n",
    "    edges.append([emails.iloc[i]['MetadataFrom'],emails.iloc[i]['MetadataTo']])"
   ]
  },
  {
   "cell_type": "code",
   "execution_count": 30,
   "metadata": {
    "collapsed": false,
    "scrolled": true
   },
   "outputs": [
    {
     "data": {
      "text/plain": [
       "7945"
      ]
     },
     "execution_count": 30,
     "metadata": {},
     "output_type": "execute_result"
    }
   ],
   "source": [
    "len(edges)"
   ]
  },
  {
   "cell_type": "code",
   "execution_count": 19,
   "metadata": {
    "collapsed": true
   },
   "outputs": [],
   "source": [
    "import networkx as nx\n",
    "G=nx.Graph()"
   ]
  },
  {
   "cell_type": "code",
   "execution_count": 20,
   "metadata": {
    "collapsed": true
   },
   "outputs": [],
   "source": [
    "G.add_node(1)"
   ]
  },
  {
   "cell_type": "code",
   "execution_count": 26,
   "metadata": {
    "collapsed": false
   },
   "outputs": [],
   "source": [
    "for edge in edges:\n",
    "    G.add_nodes_from(edge)"
   ]
  },
  {
   "cell_type": "code",
   "execution_count": 27,
   "metadata": {
    "collapsed": false
   },
   "outputs": [
    {
     "data": {
      "image/png": "[encoded data removed]",
      "text/plain": [
       "<matplotlib.figure.Figure at 0x7fb322b82fd0>"
      ]
     },
     "metadata": {},
     "output_type": "display_data"
    }
   ],
   "source": [
    "#first compute the best partition\n",
    "partition = community.best_partition(G)\n",
    "\n",
    "#drawing\n",
    "size = float(len(set(partition.values())))\n",
    "pos = nx.spring_layout(G)\n",
    "count = 0.\n",
    "for com in set(partition.values()) :\n",
    "    count = count + 1.\n",
    "    list_nodes = [nodes for nodes in partition.keys()\n",
    "                                if partition[nodes] == com]\n",
    "    nx.draw_networkx_nodes(G, pos, list_nodes, node_size = 20,\n",
    "                                node_color = str(count / size))\n",
    "\n",
    "\n",
    "nx.draw_networkx_edges(G,pos, alpha=0.5)\n",
    "plt.show()"
   ]
  },
  {
   "cell_type": "code",
   "execution_count": 48,
   "metadata": {
    "collapsed": false,
    "scrolled": true
   },
   "outputs": [
    {
     "data": {
      "text/plain": [
       "472"
      ]
     },
     "execution_count": 48,
     "metadata": {},
     "output_type": "execute_result"
    }
   ],
   "source": [
    "len(set(partition.values())) #  is a dictionary where keys are their nodes and values the communities"
   ]
  },
  {
   "cell_type": "code",
   "execution_count": 47,
   "metadata": {
    "collapsed": false,
    "scrolled": true
   },
   "outputs": [
    {
     "name": "stdout",
     "output_type": "stream",
     "text": [
      "nan\n",
      "1\n",
      "2\n",
      "3\n",
      "sulllivanjj@state.gov\n",
      "NEA/IPA:Knopf, Payton\n",
      "Politico - Drew, Elizabeth\n",
      "Crowley, Phillip J\n",
      "Garten, David (Lautenberg)\n",
      "Baer, Daniel B\n",
      "Baer, Daniel D\n",
      "SID\n",
      "EAP/J:Green, Christopher\n",
      "Richards, Cecile\n",
      "Abedin, Huma\n",
      "Cheryl Mills\n",
      "Muscantine, LIssa\n",
      "Crowley, Philip J\n",
      "Chelsea\n",
      "rrh.interiors\n",
      "Jones, Paul W\n",
      "Rice, Susan E.\n",
      "SBerger\n",
      "Hanley, Monica R\n",
      "Daniel, Joshua J\n",
      "verveerms@state.gov\n",
      "Collier, Paul\n",
      "wburns\n",
      "kohhh@state.gov\n",
      "AP\n",
      "tauschereo@state.gov\n",
      "lynn\n",
      "Iscol, Zachary\n",
      "H\n",
      "Duk-soo, Han\n",
      "Olver, John\n",
      "Howe, Rosemarie\n",
      "Sherman, Wendy R\n",
      "Secretary\n",
      "Inonye, Daniel\n",
      "Jiloty, Lauren CD\n",
      "Sherman, Wendy\n",
      "carsonj@state.gov\n",
      "Estados Unidos Da America\n",
      "Bond, Michele T\n",
      "Sullivan, Jacob\n",
      "Tauscher, Ellen O\n",
      "Quam, Lois\n",
      "Cheryl Mills, COS\n",
      "brimmere@state.gov\n",
      "Laszczych, Joanne\n",
      "JilotyLC@state.gov\n",
      "Lissa, Muscatine\n",
      "Shannon, Thomas A\n",
      "Sandy\n",
      "Hill\n",
      "marshallcp@state.gov\n",
      "Muscantine, Lissa\n",
      "Jacobs, Janice L\n",
      "Govenman Etazini\n",
      "Obama, Barack\n",
      "VerveerMS@state.gov\n",
      "CrowleyPJ@state.gov\n",
      "FINCA International\n",
      "Pelton, E\n",
      "Muscatine, Lisa\n",
      "PRM/MCE:Wills, G\n",
      "Clinton, Hillary Rodham\n",
      "JilotylC@state.gov\n",
      "H2\n",
      "Posner, Michael H\n",
      "daniel.baer\n",
      "jacobjlew\n",
      "NidesTR@state.gov\n",
      "Alec\n",
      "capriciamarshall@\n",
      "williamsbarrett\n",
      "United States of America\n",
      "SteinbertJB@state.gov\n",
      "Mills. Cheryl D\n",
      "muscatinel@state.gov\n",
      "ValmmoroLJ@state.gov\n",
      "sbwhoop\n",
      "Huma, Abedin\n",
      "abedinh@state.gov\n",
      "Beale, Courtney A Kramer\n",
      "Secretary Clinton\n",
      "Mikulski,BAM (Mikulski)\n",
      "bealeca@state.gov\n",
      "cheryl.mills\n",
      "Koh, Harold Hongju\n",
      "Axelrod_D\n",
      "Valmorolj@state.gov\n",
      "Sullivan, Jacob H\n",
      "burnswj@state.gov\n",
      "Sullivan, Jacob J\n",
      "Reines, Phillippe I\n",
      "Mills, Cherlyl D\n",
      "mtorrey\n",
      "Clinton, Hillary\n",
      "Feltman, Jeffrey D\n",
      "KPK\n",
      "Kabul LGF Request\n",
      "postmaster@state.gov\n",
      "NEA/PI/CE:Kiamie, Charles\n",
      "C:Mills, Cheryl\n",
      "shannonta@state.gov\n",
      "Shah, Rajiv\n",
      "reinesp@state.gov\n",
      "Sullivan, Jake\n",
      "Burnswj@state.gov\n",
      "PRM/MCE:Wills,G\n",
      "Stern, Todd D\n",
      "Jilotylc@state.gov\n",
      "Crowley, Philip\n",
      "reines@state.gov\n",
      "PosnerMH@state.gov\n",
      "sgration\n",
      "Dewan, Linda L\n",
      "Capricia Marshall\n",
      "G/TIP:CdeBaca, Luis\n",
      "Russo, Robert  V\n",
      "Verma, Richard R\n",
      "Mills, Cheryl D\n",
      "H;preines\n",
      "Balderston, Kris M\n",
      "AF/PDPA:Scott, Marianne\n",
      "Button, Case\n",
      "Verma, Richard\n",
      "Faleomavaega, Eni F\n",
      "lmuscatine\n",
      "ASUNCION\n",
      "Woodard, Eric W\n",
      "KellyC@state.gov\n",
      "Jiloty. Lauren C\n",
      "wsherman\n",
      "Abendin, Huma\n",
      "Ilic, Werner X\n",
      "Rines, Philippe I\n",
      "bam@mikulski.senate.gov\n",
      "SteinbergJB@state.gov\n",
      "MuscatineL@state.gov\n",
      "Reines, Philippe \n",
      "WHA: Shannon, Thomas A\n",
      "Edwards, Christopher\n",
      "MillsCD@state.gov\n",
      "Ki-moon, Ban\n",
      "McHale, Judith A\n",
      "Huma Abedin\n",
      "Feinstein, Lee\n",
      "mchaleja@state.gov\n",
      "Rice, Susan E\n",
      "glantz.\n",
      "ValmoroLJ@state.gov\n",
      "Jiloty, Cheryl D\n",
      "Reines, Philippe I\n",
      "STATE\n",
      "stallbott\n",
      "Tanden, Neera\n",
      "jilotyLC@state.gov\n",
      "stalbott\n",
      "Mikulski, Bam (Mitkulski)\n",
      "Rooneym@state.gov\n",
      "HanleyMR@state.gov\n",
      "Daily Sun\n",
      "caputol\n",
      "Lewis, Reta Jo\n",
      "jpiercy\n",
      "Fuchs, Michael H\n",
      "KohHH@state.gov\n",
      "Etats-Unis D'Amerique\n",
      "Schwerin, Daniel B\n",
      "Jake.sullivan\n",
      "sbwhoeop@\n",
      "Mill, Cheryl\n",
      "ECA:Pally, Maura\n",
      "Verveer, Melanne E\n",
      "Jiloty, Lauren\n",
      "Brown, Lee R\n",
      "Washington Post\n",
      "Hill, Christopher R (Baghdad)\n",
      "cholletdh@state.gov\n",
      "Albright, M K\n",
      "Band, Doug\n",
      "Philippe, Reines\n",
      "Valmoro, Lona J\n",
      "Blake, Robert O\n",
      "gordonph@state.gov\n",
      "Robinson, Peter\n",
      "Donilon, Thomas E\n",
      "Tandem, Neera\n",
      "Calivis, Maria\n",
      "Marshall, Capricia\n",
      "McGovern, James P\n",
      "valmoroLJ@state.gov\n",
      "mhcaleja@state.gov\n",
      "LGraham\n",
      "sberger\n",
      "Sanchez, Oscar Arias\n",
      "Russo, Robert V\n",
      "SlaughterA@state.gov\n",
      "Baucus, Max\n",
      "Betsy.Ebeling\n",
      "PVervee\n",
      "BaldersonKM@state.gov\n",
      "ValmoroLI@state.gov\n",
      "Chollet, Derek H\n",
      "Brimmer, Esther D\n",
      "Tillemann, Tomicah\n",
      "mh.interiors\n",
      "Sullivan, Jake J\n",
      "Kennedy, Patrick F\n",
      "Abein, Huma\n",
      "sullivanjj@state.gov\n",
      "Steinberg, James B\n",
      "Neera, Tanden\n",
      "Lake, Anthony\n",
      "wburns66@\n",
      "Mayock, Andrew\n",
      "abendinh@state.gov\n",
      "BAM@Mikulski.senate.gov\n",
      "Smith, James E\n",
      "cherieblair\n",
      "nancy\n",
      "balderstonkm@state.gov\n",
      "Opinion Research\n",
      "Dupuy, Alex\n",
      "betsyebeling1050\n",
      "White House\n",
      "hanleymr@state.gov\n",
      "Norman, Nicholas\n",
      "ValmoroLj@state.gov\n",
      "Hormats, Robert D\n",
      "EAP/K:Rosenberger, L\n",
      "Daniel\n",
      "Butzgy, Christopher H\n",
      "Otero, Maria\n",
      "Terry.Duffy\n",
      "Mills, Cheryl\n",
      "Walmoro, Lona J\n",
      "Valenzuela, Arturo A\n",
      "FuchsMH@state.gov\n",
      "Brian, Danielle\n",
      "hrod17@clintonemail.com\n",
      "toivnf@state.gov\n",
      "Cheryl.mills\n",
      "cmarshall\n",
      "Hillary Rodham Clinton\n",
      "hormatsrd@state.gov\n",
      "cb\n",
      "PIR\n",
      "BLAIR CHERIE\n",
      "Campbell, Piper\n",
      "Reines, Philippe\n",
      "Heintz\n",
      "Kelly, Ian\n",
      "Carson, Johnnie\n",
      "Muscatine. Lissa\n",
      "Etat-Unis D'Amerique\n",
      "Slaughter, Anne- Marie\n",
      "President\n",
      "Gordon. Philip H\n",
      "Colin Powell\n",
      "Jiloty, Lauren c\n",
      "HRC\n",
      "lewjj@state.gov\n",
      "baer.daniel\n",
      "Farrow, Jeffrey L\n",
      "adedinh@state.gov\n",
      "l\n",
      "Marshall, Capricia P\n",
      "Department of State\n",
      "Muscatine Lissa\n",
      "Lou de Bac, G/TIP\n",
      "latimes.com\n",
      "shapiroa@state.gov\n",
      "Coleman, Claire L\n",
      "jake. sullivan\n",
      "brian\n",
      "cheryl.mills ;H\n",
      "Jiloty, Lauren C\n",
      "Balderstone, Kris M\n",
      "New York Times\n",
      "AGNA USEMB Kabul Afghanistan\n",
      "Huma@clintonemail.com\n",
      "H; Mills, Cheryl D\n",
      "Farrow, Jeffrey\n",
      "Mills,Cheryl D\n",
      "RooneyM@state.gov\n",
      "Jjiloty, Lauren C\n",
      "Kelly, Craig A\n",
      "preines; H\n",
      "jfarrow\n",
      "Newmyer, Jackie\n",
      "crowleypj@state.gov\n",
      "Valmoro, Lona\n",
      "donald\n",
      "TFlourno\n",
      "doug\n",
      "Preval, Rene\n",
      "jake.sullivan\n",
      "hillcr@state.gov\n",
      "Mike\n",
      "Berger, Samuel\n",
      "BStrider\n",
      "Lew, Jacob\n",
      "rosemarie.howe ;H\n",
      "Kennedy, Jim\n",
      "rshah\n",
      "Adedin, Huma\n",
      "JAMA\n",
      "Lew\n",
      "Elbegdori, Tsakina\n",
      "Hyde, Dana\n",
      ";H\n",
      "Estados Unidos De NorteAmerica\n",
      "captuol\n",
      "McHaleJA@state.gov\n",
      "capriciamarshall\n",
      "LewJJ@state.gov\n",
      "AbedinH@state.gov\n",
      "Sullivan, Jack\n",
      "michele.flournoy\n",
      "Mills, Chery D\n",
      "Jonathan Prince\n",
      "VermaRR@state.gov\n",
      "preines\n",
      "Beale, Courtney A Karamer\n",
      "Berger, Samuel R\n",
      "Zaidi, S Akbar\n",
      "Crocker, Chester A\n",
      "CampbellKM@state.gov\n",
      "Gordon, Philip H\n",
      "Clinton\n",
      "SchwerinDB@state.gov\n",
      "Foreign Affairs Magazine\n",
      "Jilloty, Lauren C\n",
      "Hoagland, Jim\n",
      "David_Garten@lautenberg.senate.gov\n",
      "Mikulski, BAM\n",
      "McHale, Judith\n",
      "vermarr@state.gov\n",
      "abedin@state.gov\n",
      "S/SRGIA\n",
      "jpodesta\n",
      "JjilotyLC@state.gov\n",
      "Campbell, Kurt M\n",
      "cheryl.mills@\n",
      "HolbrookeRC@state.gov\n",
      "markjpenn\n",
      "DS/PA:Finkle, J\n",
      "Dad\n",
      "Podesta, John\n",
      "Talbott, Strobe\n",
      "Lew, Jacob J\n",
      "Blair, Cherie\n",
      "Strider, Burns\n",
      "Albright, Madeleine\n",
      "mark\n",
      "Madam Secretary\n",
      "ntanden\n",
      "TillemannTS@state.gov\n",
      "Clinton, Hillary R\n",
      "M:Kennedy, Patrick F\n",
      "Muscatine,Lissa\n",
      "Hillary\n",
      "sbwhoeop\n",
      "bstrider\n",
      "Shapiro, Andrew J\n",
      "Burns, William J\n",
      "Imuscatine\n",
      "INL:Johnson, David T\n",
      "slaughtera@state.gov\n",
      "Haiti\n",
      "NHLA\n",
      "Kieffer, Judith\n",
      "Stern, Todd\n",
      "Nuland, Victoria J\n",
      "U.S. Global Leadership Coalition\n",
      "Sullivan, Jake; H\n",
      "Ebelling, Voda\n",
      "Reynolds, Diane\n",
      "Adler, Caroline E\n",
      "Luzzatto\n",
      "Grantham, Suzanne L\n",
      "Tov, Nora F\n",
      "Pally, Maura M\n",
      "Glantz, Gina\n",
      "Hattaway, Doug\n",
      "CHERIE BLAIR\n",
      "Danford, Robert A\n",
      "Blair Cherie\n",
      "Clinton, William J\n",
      "Ebeling, Voda\n",
      "SullivanJJ@state.gov\n",
      "Conrad, Kent\n",
      "Robinson, Jennifer\n",
      "111th Congress\n",
      "Verveer, Melanne S\n",
      "PVerveer\n",
      "hr15@mycingular.blackberry.net\n",
      "State\n",
      "American Beverage Association\n",
      "Mikulski, BAM (Mikulski)\n",
      "Lores, Oscar\n",
      "pverveer\n",
      "ValMoro, Lona J\n",
      "Biography\n",
      "Sir\n",
      "Nides, Thomas R\n",
      "Williamsbarrett\n",
      "rooneym@state.gov\n",
      "Klehr, Bonnie\n",
      "Prime Minister\n",
      "Rodriguez, Miguel E\n",
      "Abedin, Huma; H\n",
      "Sullivan JJ@state.gov\n",
      "EUR/RUS:Weson, Chad\n",
      "Flores, Oscar\n",
      "Toiv, Nora F\n",
      "Sid\n",
      "Blumenthal, Sidney\n",
      "Stern, Todd D (S/SECC)\n",
      "STALBOTT\n",
      "Sullivan, Jacbo J\n",
      "Cheryl\n",
      "aclb\n",
      "Slaughter, Anne-Marie\n",
      "Brock, David\n",
      "Russorv@state.gov\n",
      "newmyer\n",
      "wburns66\n",
      "Cue, Lourdes C\n",
      "Diamond, Louise\n",
      "Clinton Hillary R\n",
      "rodriguezme@state.gov\n",
      "Eikenberry, Karl W\n",
      "Long Term Strategy Group\n",
      "d.gunners2010\n",
      "Rubiner, Laurie\n",
      "Secretary of State\n",
      "Slaughter, Ann-Marie\n",
      "Baer, Daniel\n",
      "muscantinel@state.gov\n",
      "Reines, Philipe I\n",
      "valenzuelaaa@state.gov\n",
      "Rooney, Megan\n",
      "jake.sullivan@\n",
      "alcb\n",
      "Axelrod, David M\n",
      "rsloan\n",
      "Recos\n",
      "millscd@state.gov\n",
      "Council on Foreign Relations\n",
      "Jake.Sullivan\n",
      "Cooper, Justin\n",
      "Pascual, Carlos\n",
      "Mills. Cherl D\n",
      "Mitchell, George\n",
      "Mills, cheryl\n",
      "Hubbard, William\n",
      "Muscatine, Lissa\n",
      "betsyebeling\n",
      "oterom2@state.gov\n",
      "Tillemann, Tomicah S\n",
      "feltmanjd@state.gov\n",
      "Ebeling, Betsy\n",
      "sterntd@state.gov\n",
      "WHADP\n",
      "Mikulski, Bam (Mikulski)\n",
      "Lauren Jiloty\n",
      "Vereer, Melanne S\n"
     ]
    }
   ],
   "source": [
    "#Print the most frequent 20 words used by the email authors of each community\n",
    "for community in partition.values():\n",
    "    print community"
   ]
  },
  {
   "cell_type": "code",
   "execution_count": null,
   "metadata": {
    "collapsed": true
   },
   "outputs": [],
   "source": []
  }
 ],
 "metadata": {
  "kernelspec": {
   "display_name": "Python 2",
   "language": "python",
   "name": "python2"
  },
  "language_info": {
   "codemirror_mode": {
    "name": "ipython",
    "version": 2
   },
   "file_extension": ".py",
   "mimetype": "text/x-python",
   "name": "python",
   "nbconvert_exporter": "python",
   "pygments_lexer": "ipython2",
   "version": "2.7.12"
  }
 },
 "nbformat": 4,
 "nbformat_minor": 0
}
